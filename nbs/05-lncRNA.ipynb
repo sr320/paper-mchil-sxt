{
 "cells": [
  {
   "cell_type": "markdown",
   "metadata": {
    "button": false,
    "deletable": true,
    "new_sheet": false,
    "run_control": {
     "read_only": false
    }
   },
   "source": [
    "# lncRNA pipeline"
   ]
  },
  {
   "cell_type": "code",
   "execution_count": null,
   "metadata": {
    "collapsed": true
   },
   "outputs": [],
   "source": [
    "Files needed.."
   ]
  },
  {
   "cell_type": "code",
   "execution_count": 2,
   "metadata": {
    "button": false,
    "collapsed": true,
    "deletable": true,
    "new_sheet": false,
    "run_control": {
     "read_only": false
    }
   },
   "outputs": [],
   "source": [
    "blastout=\"analyses/Myt-sxt-trinity2_blastx_sp.out\"\n",
    "fasta=\"../data/Mytilus-SXT.trimmed.trinity.fa\""
   ]
  },
  {
   "cell_type": "code",
   "execution_count": 3,
   "metadata": {
    "button": false,
    "collapsed": false,
    "deletable": true,
    "new_sheet": false,
    "run_control": {
     "read_only": false
    }
   },
   "outputs": [
    {
     "name": "stdout",
     "output_type": "stream",
     "text": [
      "   29486 analyses/Myt-sxt-trinity2_blastx_sp.out\n",
      "TR4_c0_g1_i1\tsp|Q8R151|ZNFX1_MOUSE\t53.25\t77\t35\t1\t2\t229\t1462\t1538\t1e-16\t78.2\n",
      "TR7_c0_g1_i1\tsp|Q8VHI5|VITRN_MOUSE\t40.32\t62\t37\t0\t170\t355\t60\t121\t4e-07\t52.0\n",
      "TR11_c0_g1_i1\tsp|Q16674|MIA_HUMAN\t39.60\t101\t47\t3\t36\t296\t10\t110\t3e-11\t62.0\n"
     ]
    }
   ],
   "source": [
    "#all with evalue <1e-5\n",
    "!wc -l {blastout}\n",
    "!head -3 {blastout}\n"
   ]
  },
  {
   "cell_type": "markdown",
   "metadata": {
    "run_control": {}
   },
   "source": [
    "## sort blast table for joining"
   ]
  },
  {
   "cell_type": "code",
   "execution_count": 5,
   "metadata": {
    "button": false,
    "collapsed": false,
    "deletable": true,
    "new_sheet": false,
    "run_control": {
     "read_only": false
    }
   },
   "outputs": [
    {
     "name": "stdout",
     "output_type": "stream",
     "text": [
      "TR10000_c0_g2_i1\tsp|Q5RCP3|NAA38_PONAB\t76.04\t96\t23\t0\t30\t317\t1\t96\t1e-45\t  159\r\n",
      "TR10004_c0_g1_i1\tsp|Q6P2X9|MOT12_XENTR\t42.57\t101\t58\t0\t367\t65\t95\t195\t2e-15\t75.5\r\n"
     ]
    }
   ],
   "source": [
    "!sort {blastout} \\\n",
    "> {blastout}.sorted\n",
    "!head -2 {blastout}.sorted"
   ]
  },
  {
   "cell_type": "markdown",
   "metadata": {
    "run_control": {}
   },
   "source": [
    "## create tab file from transcriptome"
   ]
  },
  {
   "cell_type": "code",
   "execution_count": 6,
   "metadata": {
    "button": false,
    "collapsed": false,
    "deletable": true,
    "new_sheet": false,
    "run_control": {
     "read_only": false
    }
   },
   "outputs": [
    {
     "name": "stdout",
     "output_type": "stream",
     "text": [
      ">TR1_c0_g1_i1\r\n",
      "GGCTTATCTGTCATAGTCCGCGGAAATACTTTATTTAGAATTTCAACCTGAAAACATGCG\r\n",
      "AAACAATACTATACATGCATTATGTATCAAGTGCATAAAACAGCAGTGGGGAAACAACAA\r\n",
      "AAGAAAAATGCATTAAACAGAATAAAAATAAATTGCATAAACAAAACTGTATACTTACTT\r\n",
      "AAACACTAAAATAATTGAAAAAAGATAATTGAACCTGCATTGGTTGCAACGTAAACATGT\r\n",
      "ACTTACCAG\r\n",
      ">TR2_c0_g1_i1\r\n",
      "CAATAAGTCCTTACGTAAAAATTAAATTGATGCCGCGTTCCAAAATGGGACATAAAAGGC\r\n",
      "TTCTCTTTTAGTGAATAATTTGTTGTTACAGCATTAAAAAAAAAATCACTCACTTATAAC\r\n",
      "TATATATTTATTAAAGTATATTTCTAAGGAAAATGTTCTATCATAGCAAAATATCAGAAA\r\n"
     ]
    }
   ],
   "source": [
    "#clean up fasta ID to just be contig id\n",
    "#MIGHT not be needed\n",
    "!cut -d' ' -f1 {fasta} \\\n",
    "> {fasta}IDonly\n",
    "!head {fasta}IDonly"
   ]
  },
  {
   "cell_type": "code",
   "execution_count": 7,
   "metadata": {
    "button": false,
    "collapsed": false,
    "deletable": true,
    "new_sheet": false,
    "run_control": {
     "read_only": false
    }
   },
   "outputs": [
    {
     "name": "stdout",
     "output_type": "stream",
     "text": [
      "Can't open {fasta}IDonly: No such file or directory at -e line 1.\r\n",
      "\r\n",
      "Converted 0 FASTA records in 0 lines to tabular format\r\n",
      "Total sequence length: 0\r\n",
      "\r\n"
     ]
    }
   ],
   "source": [
    "#create tab-delimited file\n",
    "!perl -e '$count=0; $len=0; while(<>) {s/\\r?\\n//; s/\\t/ /g; if (s/^>//) { if ($. != 1) {print \"\\n\"} s/ |$/\\t/; $count++; $_ .= \"\\t\";} else {s/ //g; $len += length($_)} print $_;} print \"\\n\"; warn \"\\nConverted $count FASTA records in $. lines to tabular format\\nTotal sequence length: $len\\n\\n\";' \\\n",
    "{fasta}IDonly  \\\n",
    "| sort > {fasta}IDonly.tab"
   ]
  },
  {
   "cell_type": "code",
   "execution_count": 24,
   "metadata": {
    "button": false,
    "collapsed": false,
    "deletable": true,
    "new_sheet": false,
    "run_control": {
     "read_only": false
    },
    "scrolled": true
   },
   "outputs": [
    {
     "name": "stdout",
     "output_type": "stream",
     "text": [
      "TR10000_c0_g1_i1\t\tCTCATCTTGATTTATCTTAATCTTTGAAAATGGCTTCAGCATTGGAATCGTATGTGAATCGTACAGTTTCTATAGTCACAGCAGATGGAAGAATAATTGTGGGAACATTGAAAGGATTTGATCAAACAATCAACTTAATTCTAGACGAGAGCCATGAGAGGGTATATAGTGCTACACAAGGAGTAGAACAAGTCATTTTGGGACTATACATCATCAGGGGAGATAATGTAGCTTTGATAGGAGAGATAGATGATGAAGCTGACCAGAGATTAGATTTTAATGACATTAAGGCTGAACCTTTGAATTCAGTTTTACATTGATGTAAAGGATAAAAAGACATGTTATGGCTTGGAAATAAATCTCAGCTTAGTTGAATTACAGGAATTTTAGGACTTACAACCAAAGAGAATGTACATTTAATTACATAAATAAATGCAAGCTGATCAAGAGAGAGAGGGAGATTTTCAATACTTGTGTATGGTTTTGTGCTTAATTAACATTTTTAAAGTGTTAAAAGTGTCATAATATATTTTGAAGAATGCCTCCCTAACCTGTAAAGGAAGATTGATTATTTATAGCAATTACTTAAGGAAAAATAATAAATATTCAACATGTTCAAACTAAATTCATTTTTATTAAGTTAAGATAATTGAATGAGATGTTTGATTGTTTCTGTTGGTTCACAATTCCATGTCTAGGTTCAACTGACCTAGACATGGAATTGTGAA\r\n",
      "TR10000_c0_g2_i1\t\tCTCATCTTGATTTATCTTAATCTTTGAAAATGGCTTCAGCATTGGAATCGTATGTGAATCGTACAGTTTCTATAGTCACAGCAGATGGAAGAATAATTGTGGGAACATTGAAAGGATTTGATCAAACAATCAACTTAATTCTAGACGAGAGCCATGAGAGGGTATATAGTGCTACACAAGGAGTAGAACAAGTCATTTTGGGACTATACATCATCAGGGGAGATAATGTAGCTTTGATAGGAGAGATAGATGATGAAGCTGACCAGAGATTAGATTTTAATGACATTAAGGCTGAACCTTTGAATTCAGTTTTACATTGATGTAAAGGATAAAAAGACATGTTATGGCTTGGAAATAAATCTCAGCTTAGTTGAATTACAGGAATTTTAGGACTTACAACCAAAGAGAATGTACATTTAATTACATAAATAAATGCAAGCTGATCAAGAGAGAGAGGGAGATTTTCAATACTTGTGTATGGTTTTGTGCTTAATTAACATTTTTAAAGTGTTAAAAGTGTCATAATATATTTTGAAGAATGCCTCCCTAACCTGTAAAGGAAGATTGATTATTTATAGCAATTACTTAAGGAAAAATAATAAATATTCAACATGTTCAAACTAAATTCATTTTTATTAAGTTAAGATAATTGAATGAGATGTTTGATTGTTTCTGTTGGTTCACAATTCCATGTCTAGGTTCAACTGACCTAGAAAGAGAAAGCGTATGTGCATCATTTCATAAATATTCTTATTTGAACTTTAGATGTCTAATTTAGTCAACTAGCCTGATGGGTTCAATTGCTGTCTCATTGACCTTACTTTTTCCTTTTATTCTTTCTGCAATTAATTAAGAAATATTTTATTTCTATAGAAATATTGAAAGTGATAAATAAAAGTTGAAATAAAAGCATGACACATAATTTAGACAACTAGAGTTTAAAATACTTTTTCACAATAGGAAATTTTTAAATAATCAAACATCTAAAAAATTAGTCCACTAGTACTTTGTGTAATGACCTATAAAACAGATTCCAAGAAAATTTATTGTCAATTGAGTCAAGTCTGAAAGAAAATTAGTTCGTTCATTTCTACTTCATTAATTTTCAGATTTCATTTGTTTGGTTAACTAAAATTTGTTGTTTCGCACATCCTATAGAAAAGTCAAATGAACTAATGCATTCCATATAATATATGTAAAAAAATTAGTTTGTATTCACGACAAAATTGATTAGTATTCATGGAAACTTGTAACTCAGGACTGAAATCACTTCCATAGTTCATACTGATCCCACATACAGAGAAGCATGGTGTATTTATCTTCTTACCCAAAGTACAATTTGCACTTGTCATTTTATCATGTTTTAATTCATAAATGTACAAAGACACACG\r\n",
      "TR10001_c0_g1_i1\t\tATAATAAAATCAAATTTGGTTATCAAACTTATTTATCCTAATATCAATACTAAATTTAATTACTATTGCTTAGAGGTGTGGAATAAATTGTCAAGCTCGATATCGACAAACAACATCCTAAACCACAAGAAATGCGCAATATGTATTAAAATACCAGACGACATAGTATAGGGATTATCTAATGCATGCATCATGATTTAATTAGAACGCATTAATTATTTCGGTTAACCAGATGTCTGTATGTCATAAGATGATAAAAGCATGGGATTGGTTGTATTTGGATACCAAACTTTAGTATCAAAACATGTTTCAATGTATAACTTCAACCGTCATTTTTTTACACCTAAGTATCTTCTAAATATTTGACAACTGTCTCCGACAGGTTACAGGGCTAACACCATAACTGTTCTATACGTCATCGCAAATTGATCCCAACAGTGTTGTTCCTAACGCGGGAATCTAACCCATGTACCTATAGGTGTATTGATTCTTGCCTTATTGCTTAGGGTTTCATCAAATTTGAATTTGAATATTTGTTTTATCTTAATTAAAACACATGACTCGTTTACAACTCTTCAAATTCCATGGGACACATATGATGCCTCCGCTTGTATTAAGCATGAAAAAGGGATATTATCTTAATCTGTACTTAATCTGAGTTTTTTGGTAATAAGCATTGAGGATAAATTTCATAAAGTGGCGTTCACAAAGTGTCGATTATTGCTCCCGTTTGAGATCAGACTGCGCTAAGACTCGAAAAGTTAAAAAGTCGGA\r\n",
      "TR10002_c0_g1_i1\t\tTTATCCGGGTAGCTGGATTACGAAATATTTAGTCATACATGAGTAAAGAGTCATTATCCGGGTAGCTGGATTACGACTTATTTAGTCATACATTAGTATAGAGTTATTATCCGGGTAGCTGGATAACGACTTATTTAGTCATACATAAGAATAGAGTCATTATCCGGGTAGCTGGATAACGACTTATTTAGTCATACATGAGTAGAGTCATTATCCGGGTAGCTGGATAACGACTTATTTTGTCATACATAAGAAT\r\n",
      "TR10002_c0_g1_i2\t\tTTATCCGGGTAGCTGGATTACGAAATATTTAGTCATACATGAGTAAAGAGTCATTATCCGGGTAGCTGGATTACGACTTATTTAGTCATACATTAGTATAGAGTTATTATCCGGGTAGCTGGATAACGACTTATTTAGTCATACATAAGAATAGAGTCATTATCCGAGTAGCTGGATAACTACTTATTTAGTCATACATGAGTAAAGAGTCATTATCCGGGTAGCTGGATAACGACTTATTTAGTCATACATGAGTAGAGTCATTATCCGGGTAGCTGGATTACGAAATATTTAGTCATAC\r\n",
      "TR10002_c0_g1_i3\t\tTATTTAGTCATACATGAGTAAAGAGTCATTATCCGGGTAGCTGGATTACGACTTATTTAGTCATACATTAGCATAGAGTCATTATCCGGGTAGCTGGATAACGACTTATTTAGTCATACATAAGAATAGAGTCATTATCCGGGTAGCTGGATAACGACTTATTTAGTCATACATGAGTAGAGTCATTATCCGGGTAGCTGGATTACGACTTATTTAGTCATACATTAG\r\n",
      "TR10003_c0_g1_i1\t\tGTATTTCCAGTAGAGAGAGCAGAATAAATCATTCCAAGTCTACAGATTTGGGGGACAGCATTATATTTGATTCTCATGTTAAATTTGACAATGACTATTCAATGGACAACAACCCCAGCAGCCTACCTAAACTGGTTGAATTAACTGACGGTTGGGAACCAGTTGAAATCATGTCACAGTCAGATTACTGTGAAGCATGTGAAATGCTCAGAGGCAAAGAAAGTAAATACACAAACAGTGGA\r\n",
      "TR10004_c0_g1_i1\t\tGCGGTGTCATTTTCTCACTAACTTTTTTTCCTTTACTTTTCTTAATGGGATAATTCTTATGTGATCTGAGCAAACAAGCAAATACACATATGTTGTACAAGATACCAGCAAAAATCATCATACATCCTTTAAGTGACATTACATCAATCAGATATCTCATCACATATGGAAGTACTACTGCACCTAATCCTCCTCCTGCAGTAACAATGCCATTAGCTAGTGCTCGTTTCTTGTGGAAATAATGTACAAAGCTCACCACACAGGGACTGAATGATAAACCATAACCAATTCCTGTAAGACAACCATATGTCAGATAATAGTAGTCCAAAGATGGAGCAAAAGCTGTCAATAAAAATCCTGTCCCCCCG\r\n",
      "TR10004_c1_g1_i1\t\tGAAAATGACACCGTCTGTAGATCAACAAAGTATGATACTTTTAGATGCTAGTGACCTCATTCATTGTGATGATAAAAGTTATATGTCGGTAGATGACGGCAGAAGTCAGAATAGTTATGTTTCAGAGGGAGAATATCTATTAAGACATGCACAGAAGAAATCCAAACGAGGAAACAAAATGGCTAATGCTTCTATTGTTAGTCTGAAATCTTTCAATCCTTCTTTGTATACAAATCCAGAAAATATGACAAG\r\n",
      "TR10005_c0_g1_i1\t\tTTTGGACAATTATCAAAAGGTTACAACAATATCTCCATCTCTATCATCTTTTTATTTTTGTTTAGTCTCAAAATGAGTAAAGTGTGAGTGAAATTCAAATAAGTTGCTAGGAAATACTTGCAACAAAAAAACTATTTAAAGAAAACGTGTGGTTATGTATTTCATGCCTCTTACAAATCCAATTCAATGCAGACTTAAACAAGAGTAAAAAGATGTTCTCCATTTAAAAAAAAATCAAAATACAATATCCAGTTTTTATCTTTTAACACAAAAAAAGGCATGTGACAAACAAAACTACTTCAGTATCCCTAGAAATTTTCCAATCCATGAACAAAAGTATATATACATCAGGTACAACAATATTTTATATACTTGTCTATTATATAGTTCTACACATTTTTCCAAATCTAGTCAGTTTCTTGT\r\n"
     ]
    }
   ],
   "source": [
    "!head analyses/Mytilus-SXT.trimmed.trinityIDonly.TAB"
   ]
  },
  {
   "cell_type": "code",
   "execution_count": 25,
   "metadata": {
    "button": false,
    "collapsed": false,
    "deletable": true,
    "new_sheet": false,
    "run_control": {
     "read_only": false
    }
   },
   "outputs": [
    {
     "name": "stdout",
     "output_type": "stream",
     "text": [
      "  184834 analyses/Mytilus-SXT.trimmed.trinityIDonly.TAB\r\n"
     ]
    }
   ],
   "source": [
    "!wc -l analyses/Mytilus-SXT.trimmed.trinityIDonly.TAB"
   ]
  },
  {
   "cell_type": "code",
   "execution_count": 29,
   "metadata": {
    "button": false,
    "collapsed": false,
    "deletable": true,
    "new_sheet": false,
    "run_control": {
     "read_only": false
    },
    "scrolled": true
   },
   "outputs": [],
   "source": [
    "!join -v 1 analyses/Mytilus-SXT.trimmed.trinityIDonly.TAB \\\n",
    "analyses/Myt-sxt-trinity2_blastx_sp.sorted > analyses/Mytilus-SXT.trimmed.trinityIDonly.noblast"
   ]
  },
  {
   "cell_type": "code",
   "execution_count": 7,
   "metadata": {
    "button": false,
    "collapsed": false,
    "deletable": true,
    "new_sheet": false,
    "run_control": {
     "read_only": false
    }
   },
   "outputs": [
    {
     "name": "stdout",
     "output_type": "stream",
     "text": [
      "TR10000_c0_g1_i1 CTCATCTTGATTTATCTTAATCTTTGAAAATGGCTTCAGCATTGGAATCGTATGTGAATCGTACAGTTTCTATAGTCACAGCAGATGGAAGAATAATTGTGGGAACATTGAAAGGATTTGATCAAACAATCAACTTAATTCTAGACGAGAGCCATGAGAGGGTATATAGTGCTACACAAGGAGTAGAACAAGTCATTTTGGGACTATACATCATCAGGGGAGATAATGTAGCTTTGATAGGAGAGATAGATGATGAAGCTGACCAGAGATTAGATTTTAATGACATTAAGGCTGAACCTTTGAATTCAGTTTTACATTGATGTAAAGGATAAAAAGACATGTTATGGCTTGGAAATAAATCTCAGCTTAGTTGAATTACAGGAATTTTAGGACTTACAACCAAAGAGAATGTACATTTAATTACATAAATAAATGCAAGCTGATCAAGAGAGAGAGGGAGATTTTCAATACTTGTGTATGGTTTTGTGCTTAATTAACATTTTTAAAGTGTTAAAAGTGTCATAATATATTTTGAAGAATGCCTCCCTAACCTGTAAAGGAAGATTGATTATTTATAGCAATTACTTAAGGAAAAATAATAAATATTCAACATGTTCAAACTAAATTCATTTTTATTAAGTTAAGATAATTGAATGAGATGTTTGATTGTTTCTGTTGGTTCACAATTCCATGTCTAGGTTCAACTGACCTAGACATGGAATTGTGAA\n",
      "TR10001_c0_g1_i1 ATAATAAAATCAAATTTGGTTATCAAACTTATTTATCCTAATATCAATACTAAATTTAATTACTATTGCTTAGAGGTGTGGAATAAATTGTCAAGCTCGATATCGACAAACAACATCCTAAACCACAAGAAATGCGCAATATGTATTAAAATACCAGACGACATAGTATAGGGATTATCTAATGCATGCATCATGATTTAATTAGAACGCATTAATTATTTCGGTTAACCAGATGTCTGTATGTCATAAGATGATAAAAGCATGGGATTGGTTGTATTTGGATACCAAACTTTAGTATCAAAACATGTTTCAATGTATAACTTCAACCGTCATTTTTTTACACCTAAGTATCTTCTAAATATTTGACAACTGTCTCCGACAGGTTACAGGGCTAACACCATAACTGTTCTATACGTCATCGCAAATTGATCCCAACAGTGTTGTTCCTAACGCGGGAATCTAACCCATGTACCTATAGGTGTATTGATTCTTGCCTTATTGCTTAGGGTTTCATCAAATTTGAATTTGAATATTTGTTTTATCTTAATTAAAACACATGACTCGTTTACAACTCTTCAAATTCCATGGGACACATATGATGCCTCCGCTTGTATTAAGCATGAAAAAGGGATATTATCTTAATCTGTACTTAATCTGAGTTTTTTGGTAATAAGCATTGAGGATAAATTTCATAAAGTGGCGTTCACAAAGTGTCGATTATTGCTCCCGTTTGAGATCAGACTGCGCTAAGACTCGAAAAGTTAAAAAGTCGGA\n",
      "TR10002_c0_g1_i1 TTATCCGGGTAGCTGGATTACGAAATATTTAGTCATACATGAGTAAAGAGTCATTATCCGGGTAGCTGGATTACGACTTATTTAGTCATACATTAGTATAGAGTTATTATCCGGGTAGCTGGATAACGACTTATTTAGTCATACATAAGAATAGAGTCATTATCCGGGTAGCTGGATAACGACTTATTTAGTCATACATGAGTAGAGTCATTATCCGGGTAGCTGGATAACGACTTATTTTGTCATACATAAGAAT\n",
      "  155348 analyses/Mytilus-SXT.trimmed.trinityIDonly.noblast\n"
     ]
    }
   ],
   "source": [
    "!head -3 analyses/Mytilus-SXT.trimmed.trinityIDonly.noblast\n",
    "!wc -l analyses/Mytilus-SXT.trimmed.trinityIDonly.noblast"
   ]
  },
  {
   "cell_type": "code",
   "execution_count": 8,
   "metadata": {
    "button": false,
    "collapsed": false,
    "deletable": true,
    "new_sheet": false,
    "run_control": {
     "read_only": false
    }
   },
   "outputs": [
    {
     "name": "stdout",
     "output_type": "stream",
     "text": [
      ">TR10000_c0_g1_i1\n",
      "CTCATCTTGATTTATCTTAATCTTTGAAAATGGCTTCAGCATTGGAATCGTATGTGAATCGTACAGTTTCTATAGTCACAGCAGATGGAAGAATAATTGTGGGAACATTGAAAGGATTTGATCAAACAATCAACTTAATTCTAGACGAGAGCCATGAGAGGGTATATAGTGCTACACAAGGAGTAGAACAAGTCATTTTGGGACTATACATCATCAGGGGAGATAATGTAGCTTTGATAGGAGAGATAGATGATGAAGCTGACCAGAGATTAGATTTTAATGACATTAAGGCTGAACCTTTGAATTCAGTTTTACATTGATGTAAAGGATAAAAAGACATGTTATGGCTTGGAAATAAATCTCAGCTTAGTTGAATTACAGGAATTTTAGGACTTACAACCAAAGAGAATGTACATTTAATTACATAAATAAATGCAAGCTGATCAAGAGAGAGAGGGAGATTTTCAATACTTGTGTATGGTTTTGTGCTTAATTAACATTTTTAAAGTGTTAAAAGTGTCATAATATATTTTGAAGAATGCCTCCCTAACCTGTAAAGGAAGATTGATTATTTATAGCAATTACTTAAGGAAAAATAATAAATATTCAACATGTTCAAACTAAATTCATTTTTATTAAGTTAAGATAATTGAATGAGATGTTTGATTGTTTCTGTTGGTTCACAATTCCATGTCTAGGTTCAACTGACCTAGACATGGAATTGTGAA\n",
      ">TR10001_c0_g1_i1\n",
      "ATAATAAAATCAAATTTGGTTATCAAACTTATTTATCCTAATATCAATACTAAATTTAATTACTATTGCTTAGAGGTGTGGAATAAATTGTCAAGCTCGATATCGACAAACAACATCCTAAACCACAAGAAATGCGCAATATGTATTAAAATACCAGACGACATAGTATAGGGATTATCTAATGCATGCATCATGATTTAATTAGAACGCATTAATTATTTCGGTTAACCAGATGTCTGTATGTCATAAGATGATAAAAGCATGGGATTGGTTGTATTTGGATACCAAACTTTAGTATCAAAACATGTTTCAATGTATAACTTCAACCGTCATTTTTTTACACCTAAGTATCTTCTAAATATTTGACAACTGTCTCCGACAGGTTACAGGGCTAACACCATAACTGTTCTATACGTCATCGCAAATTGATCCCAACAGTGTTGTTCCTAACGCGGGAATCTAACCCATGTACCTATAGGTGTATTGATTCTTGCCTTATTGCTTAGGGTTTCATCAAATTTGAATTTGAATATTTGTTTTATCTTAATTAAAACACATGACTCGTTTACAACTCTTCAAATTCCATGGGACACATATGATGCCTCCGCTTGTATTAAGCATGAAAAAGGGATATTATCTTAATCTGTACTTAATCTGAGTTTTTTGGTAATAAGCATTGAGGATAAATTTCATAAAGTGGCGTTCACAAAGTGTCGATTATTGCTCCCGTTTGAGATCAGACTGCGCTAAGACTCGAAAAGTTAAAAAGTCGGA\n",
      ">TR10002_c0_g1_i1\n",
      "TTATCCGGGTAGCTGGATTACGAAATATTTAGTCATACATGAGTAAAGAGTCATTATCCGGGTAGCTGGATTACGACTTATTTAGTCATACATTAGTATAGAGTTATTATCCGGGTAGCTGGATAACGACTTATTTAGTCATACATAAGAATAGAGTCATTATCCGGGTAGCTGGATAACGACTTATTTAGTCATACATGAGTAGAGTCATTATCCGGGTAGCTGGATAACGACTTATTTTGTCATACATAAGAAT\n",
      ">TR10002_c0_g1_i2\n",
      "TTATCCGGGTAGCTGGATTACGAAATATTTAGTCATACATGAGTAAAGAGTCATTATCCGGGTAGCTGGATTACGACTTATTTAGTCATACATTAGTATAGAGTTATTATCCGGGTAGCTGGATAACGACTTATTTAGTCATACATAAGAATAGAGTCATTATCCGAGTAGCTGGATAACTACTTATTTAGTCATACATGAGTAAAGAGTCATTATCCGGGTAGCTGGATAACGACTTATTTAGTCATACATGAGTAGAGTCATTATCCGGGTAGCTGGATTACGAAATATTTAGTCATAC\n",
      ">TR10002_c0_g1_i3\n",
      "TATTTAGTCATACATGAGTAAAGAGTCATTATCCGGGTAGCTGGATTACGACTTATTTAGTCATACATTAGCATAGAGTCATTATCCGGGTAGCTGGATAACGACTTATTTAGTCATACATAAGAATAGAGTCATTATCCGGGTAGCTGGATAACGACTTATTTAGTCATACATGAGTAGAGTCATTATCCGGGTAGCTGGATTACGACTTATTTAGTCATACATTAG\n",
      "  310696 analyses/Mytilus-SXT.trimmed.trinityNOHIT.fa\n"
     ]
    }
   ],
   "source": [
    "!awk '{print \">\"$1\"\\n\"$2}' \\\n",
    "analyses/Mytilus-SXT.trimmed.trinityIDonly.noblast \\\n",
    "> analyses/Mytilus-SXT.trimmed.trinityNOHIT.fa\n",
    "!head analyses/Mytilus-SXT.trimmed.trinityNOHIT.fa\n"
   ]
  },
  {
   "cell_type": "code",
   "execution_count": 9,
   "metadata": {
    "button": false,
    "collapsed": false,
    "deletable": true,
    "new_sheet": false,
    "run_control": {
     "read_only": false
    }
   },
   "outputs": [
    {
     "name": "stdout",
     "output_type": "stream",
     "text": [
      "155348\r\n"
     ]
    }
   ],
   "source": [
    "!fgrep -c \">\" analyses/Mytilus-SXT.trimmed.trinityNOHIT.fa"
   ]
  },
  {
   "cell_type": "markdown",
   "metadata": {
    "button": false,
    "collapsed": true,
    "deletable": true,
    "new_sheet": false,
    "run_control": {
     "read_only": false
    }
   },
   "source": [
    "# Gigas ncRNA Comparison"
   ]
  },
  {
   "cell_type": "code",
   "execution_count": 10,
   "metadata": {
    "collapsed": false,
    "run_control": {}
   },
   "outputs": [],
   "source": [
    "blastloc=\"/Applications/transrate-1.0.1-osx/lib/app/ruby/2.2.0/bin/\""
   ]
  },
  {
   "cell_type": "code",
   "execution_count": 12,
   "metadata": {
    "collapsed": false,
    "run_control": {}
   },
   "outputs": [
    {
     "name": "stdout",
     "output_type": "stream",
     "text": [
      "\n",
      "\n",
      "Building a new DB, current time: 12/11/2015 13:00:37\n",
      "New DB name:   analyses/Mytilus-SXT.trimmed.trinity.v3\n",
      "New DB title:  ../data/Mytilus-SXT.trimmed.trinity.v3.fa\n",
      "Sequence type: Nucleotide\n",
      "Keep Linkouts: T\n",
      "Keep MBits: T\n",
      "Maximum file size: 1000000000B\n",
      "Adding sequences from FASTA; added 184166 sequences in 27.9305 seconds.\n"
     ]
    }
   ],
   "source": [
    "!{blastloc}makeblastdb \\\n",
    "-dbtype nucl \\\n",
    "-in ../data/Mytilus-SXT.trimmed.trinity.v3.fa \\\n",
    "-out analyses/Mytilus-SXT.trimmed.trinity.v3"
   ]
  },
  {
   "cell_type": "code",
   "execution_count": 15,
   "metadata": {
    "collapsed": false,
    "run_control": {}
   },
   "outputs": [],
   "source": [
    "!{blastloc}blastn \\\n",
    "-task blastn \\\n",
    "-query ../data/Crassostrea_gigas.GCA_000297895.1.29.ncrna.fa \\\n",
    "-db analyses/Mytilus-SXT.trimmed.trinity.v3 \\\n",
    "-evalue 1e-5 \\\n",
    "-outfmt 6 \\\n",
    "-num_threads 2 \\\n",
    "-out analyses/Cgigas-ncrna-blastn-Mytv3.out \\\n",
    "2> analyses/err_Cgigas-ncrna-blastn-Mytv3"
   ]
  },
  {
   "cell_type": "code",
   "execution_count": 16,
   "metadata": {
    "collapsed": false,
    "run_control": {}
   },
   "outputs": [
    {
     "name": "stdout",
     "output_type": "stream",
     "text": [
      "     525 analyses/Cgigas-ncrna-blastn-Mytv3.out\r\n"
     ]
    }
   ],
   "source": [
    "!wc -l analyses/Cgigas-ncrna-blastn-Mytv3.out"
   ]
  },
  {
   "cell_type": "code",
   "execution_count": 17,
   "metadata": {
    "collapsed": true,
    "run_control": {}
   },
   "outputs": [],
   "source": [
    "!{blastloc}blastn \\\n",
    "-task blastn \\\n",
    "-query ../data/Crassostrea_gigas.GCA_000297895.1.29.ncrna.fa \\\n",
    "-db analyses/Mytilus-SXT.trimmed.trinity.v3 \\\n",
    "-evalue 1e-20 \\\n",
    "-outfmt 6 \\\n",
    "-num_threads 2 \\\n",
    "-out analyses/Cgigas-ncrna-blastn-Mytv3-20.out\n"
   ]
  },
  {
   "cell_type": "code",
   "execution_count": 18,
   "metadata": {
    "collapsed": false,
    "run_control": {}
   },
   "outputs": [
    {
     "name": "stdout",
     "output_type": "stream",
     "text": [
      "     397 analyses/Cgigas-ncrna-blastn-Mytv3-20.out\r\n"
     ]
    }
   ],
   "source": [
    "!wc -l analyses/Cgigas-ncrna-blastn-Mytv3-20.out"
   ]
  },
  {
   "cell_type": "code",
   "execution_count": null,
   "metadata": {
    "collapsed": true,
    "run_control": {}
   },
   "outputs": [],
   "source": []
  }
 ],
 "metadata": {
  "kernelspec": {
   "display_name": "Python 3",
   "language": "python",
   "name": "python3"
  },
  "language_info": {
   "codemirror_mode": {
    "name": "ipython",
    "version": 3
   },
   "file_extension": ".py",
   "mimetype": "text/x-python",
   "name": "python",
   "nbconvert_exporter": "python",
   "pygments_lexer": "ipython3",
   "version": "3.5.0"
  }
 },
 "nbformat": 4,
 "nbformat_minor": 0
}
