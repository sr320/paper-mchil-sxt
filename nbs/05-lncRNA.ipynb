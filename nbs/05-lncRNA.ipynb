{
 "cells": [
  {
   "cell_type": "markdown",
   "metadata": {
    "button": false,
    "deletable": true,
    "new_sheet": false,
    "run_control": {
     "read_only": false
    }
   },
   "source": [
    "# lncRNA"
   ]
  },
  {
   "cell_type": "code",
   "execution_count": 1,
   "metadata": {
    "collapsed": false,
    "run_control": {}
   },
   "outputs": [
    {
     "name": "stdout",
     "output_type": "stream",
     "text": [
      "TR4_c0_g1_i1\tsp|Q8R151|ZNFX1_MOUSE\t53.25\t77\t35\t1\t2\t229\t1462\t1538\t1e-16\t78.2\r\n",
      "TR7_c0_g1_i1\tsp|Q8VHI5|VITRN_MOUSE\t40.32\t62\t37\t0\t170\t355\t60\t121\t4e-07\t52.0\r\n",
      "TR11_c0_g1_i1\tsp|Q16674|MIA_HUMAN\t39.60\t101\t47\t3\t36\t296\t10\t110\t3e-11\t62.0\r\n",
      "TR36_c0_g1_i1\tsp|P39057|DYHC_ANTCR\t72.00\t75\t21\t0\t1\t225\t2386\t2460\t1e-31\t  121\r\n",
      "TR46_c0_g1_i1\tsp|Q28178|TSP1_BOVIN\t55.26\t76\t33\t1\t228\t1\t441\t515\t4e-15\t73.9\r\n",
      "TR50_c0_g1_i1\tsp|Q03348|PTPRA_RAT\t59.46\t74\t28\t2\t6\t224\t262\t334\t1e-19\t86.7\r\n",
      "TR60_c0_g1_i1\tsp|Q460N5|PAR14_HUMAN\t38.24\t102\t62\t1\t623\t928\t797\t897\t2e-18\t90.1\r\n",
      "TR64_c0_g2_i1\tsp|Q80UU1|ANKZ1_MOUSE\t46.00\t50\t27\t0\t49\t198\t92\t141\t1e-10\t60.8\r\n",
      "TR65_c0_g1_i1\tsp|O75592|MYCB2_HUMAN\t54.79\t73\t23\t2\t50\t241\t3852\t3923\t5e-15\t74.3\r\n",
      "TR79_c0_g1_i1\tsp|P62278|RS13_RAT\t92.72\t151\t11\t0\t9\t461\t1\t151\t6e-100\t  291\r\n"
     ]
    }
   ],
   "source": [
    "#all with evalue <1e-5\n",
    "!head analyses/Myt-sxt-trinity2_blastx_sp.out"
   ]
  },
  {
   "cell_type": "code",
   "execution_count": 2,
   "metadata": {
    "collapsed": false,
    "run_control": {}
   },
   "outputs": [
    {
     "name": "stdout",
     "output_type": "stream",
     "text": [
      ">TR1_c0_g1_i1 len=249 path=[453:0-248] [-1, 453, -2]\r\n",
      "GGCTTATCTGTCATAGTCCGCGGAAATACTTTATTTAGAATTTCAACCTGAAAACATGCG\r\n",
      "AAACAATACTATACATGCATTATGTATCAAGTGCATAAAACAGCAGTGGGGAAACAACAA\r\n",
      "AAGAAAAATGCATTAAACAGAATAAAAATAAATTGCATAAACAAAACTGTATACTTACTT\r\n",
      "AAACACTAAAATAATTGAAAAAAGATAATTGAACCTGCATTGGTTGCAACGTAAACATGT\r\n",
      "ACTTACCAG\r\n",
      ">TR2_c0_g1_i1 len=243 path=[457:0-118 458:119-242] [-1, 457, 458, -2]\r\n",
      "CAATAAGTCCTTACGTAAAAATTAAATTGATGCCGCGTTCCAAAATGGGACATAAAAGGC\r\n",
      "TTCTCTTTTAGTGAATAATTTGTTGTTACAGCATTAAAAAAAAAATCACTCACTTATAAC\r\n",
      "TATATATTTATTAAAGTATATTTCTAAGGAAAATGTTCTATCATAGCAAAATATCAGAAA\r\n"
     ]
    }
   ],
   "source": [
    "#tab file of all contigs..\n",
    "!head ../data/Mytilus-SXT.trimmed.trinity.fa"
   ]
  },
  {
   "cell_type": "code",
   "execution_count": 3,
   "metadata": {
    "collapsed": false
   },
   "outputs": [
    {
     "name": "stdout",
     "output_type": "stream",
     "text": [
      "\r\n",
      "TR1_c0_g1_i1 len=249 path=[453:0-248] [-1, 453, -2]\t249\r\n",
      "TR2_c0_g1_i1 len=243 path=[457:0-118 458:119-242] [-1, 457, 458, -2]\t243\r\n",
      "TR3_c0_g1_i1 len=225 path=[203:0-224] [-1, 203, -2]\t225\r\n",
      "TR4_c0_g1_i1 len=230 path=[208:0-229] [-1, 208, -2]\t230\r\n",
      "TR5_c0_g1_i1 len=359 path=[742:0-305 743:306-329 744:330-334 745:335-358] [-1, 742, 743, 744, 745, -\t359\r\n",
      "TR5_c0_g2_i1 len=355 path=[746:0-305 747:306-329 748:330-334 749:335-354] [-1, 746, 747, 748, 749, -\t355\r\n",
      "TR6_c0_g1_i1 len=284 path=[523:0-283] [-1, 523, -2]\t284\r\n",
      "TR7_c0_g1_i1 len=444 path=[868:0-320 869:321-344 870:345-443] [-1, 868, 869, 870, -2]\t444\r\n",
      "TR8_c0_g1_i1 len=267 path=[489:0-266] [-1, 489, -2]\t267\r\n"
     ]
    }
   ],
   "source": [
    "!cat ../data/Mytilus-SXT.trimmed.trinity.fa \\\n",
    "| awk '$0 ~ \">\" {print c; c=0;printf substr($0,2,100) \"\\t\"; } $0 !~ \">\" {c+=length($0);} END { print c; }' \\\n",
    "> /Users/sr320/Desktop/test2\n",
    "!head /Users/sr320/Desktop/test2"
   ]
  },
  {
   "cell_type": "code",
   "execution_count": null,
   "metadata": {
    "collapsed": true,
    "run_control": {}
   },
   "outputs": [],
   "source": [
    "!perl -e '$count=0; $len=0; while(<>) {s/\\r?\\n//; s/\\t/ /g; if (s/^>//) { if ($. != 1) {print \"\\n\"} s/ |$/\\t/; $count++; $_ .= \"\\t\";} else {s/ //g; $len += length($_)} print $_;} print \"\\n\"; warn \"\\nConverted $count FASTA records in $. lines to tabular format\\nTotal sequence length: $len\\n\\n\";' \\\n",
    "analyses/Geoduck-transcriptome-v2_IDonly.fasta > analyses/Geoduck-transcriptome-v2.tab"
   ]
  }
 ],
 "metadata": {
  "kernelspec": {
   "display_name": "Python 3",
   "language": "python",
   "name": "python3"
  },
  "language_info": {
   "codemirror_mode": {
    "name": "ipython",
    "version": 3
   },
   "file_extension": ".py",
   "mimetype": "text/x-python",
   "name": "python",
   "nbconvert_exporter": "python",
   "pygments_lexer": "ipython3",
   "version": "3.5.0"
  }
 },
 "nbformat": 4,
 "nbformat_minor": 0
}
