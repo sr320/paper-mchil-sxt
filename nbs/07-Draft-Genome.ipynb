{
 "cells": [
  {
   "cell_type": "markdown",
   "metadata": {
    "button": false,
    "deletable": true,
    "new_sheet": false,
    "run_control": {
     "read_only": false
    }
   },
   "source": [
    "<img src=\"http://eagle.fish.washington.edu/cnidarian/skitch/Mytilus_-_SRA_-_NCBI_1C21BE5F.png\" alt=\"Mytilus_-_SRA_-_NCBI_1C21BE5F.png\"/>"
   ]
  },
  {
   "cell_type": "code",
   "execution_count": null,
   "metadata": {
    "button": false,
    "collapsed": true,
    "deletable": true,
    "new_sheet": false,
    "run_control": {
     "read_only": false
    }
   },
   "outputs": [],
   "source": [
    "ftp://ftp-trace.ncbi.nih.gov/sra/sra-instant/reads/BySample/sra/SRS/SRS716/SRS716282/"
   ]
  },
  {
   "cell_type": "code",
   "execution_count": 1,
   "metadata": {
    "button": false,
    "collapsed": false,
    "deletable": true,
    "new_sheet": false,
    "run_control": {
     "read_only": false
    }
   },
   "outputs": [
    {
     "name": "stdout",
     "output_type": "stream",
     "text": [
      "/Volumes/Monarch/mchil-stx\n"
     ]
    }
   ],
   "source": [
    "cd /Volumes/Monarch/mchil-stx"
   ]
  },
  {
   "cell_type": "code",
   "execution_count": 2,
   "metadata": {
    "button": false,
    "collapsed": false,
    "deletable": true,
    "new_sheet": false,
    "run_control": {
     "read_only": false
    }
   },
   "outputs": [
    {
     "name": "stdout",
     "output_type": "stream",
     "text": [
      "  % Total    % Received % Xferd  Average Speed   Time    Time     Time  Current\n",
      "                                 Dload  Upload   Total   Spent    Left  Speed\n",
      "100 3602M  100 3602M    0     0   371k      0  2:45:39  2:45:39 --:--:--  362k\n"
     ]
    }
   ],
   "source": [
    "!curl -O ftp://ftp-trace.ncbi.nih.gov/sra/sra-instant/reads/BySample/sra/SRS/SRS716/SRS716282/SRR1598943/SRR1598943.sra"
   ]
  },
  {
   "cell_type": "markdown",
   "metadata": {
    "button": false,
    "collapsed": true,
    "deletable": true,
    "new_sheet": false,
    "run_control": {
     "read_only": false
    }
   },
   "source": [
    "# Blast sequences against draft genome ()"
   ]
  },
  {
   "cell_type": "code",
   "execution_count": 7,
   "metadata": {
    "button": false,
    "collapsed": false,
    "deletable": true,
    "new_sheet": false,
    "run_control": {
     "read_only": false
    }
   },
   "outputs": [
    {
     "name": "stdout",
     "output_type": "stream",
     "text": [
      "/Users/sr320/git-repos/paper-mchil-sxt/nbs\n"
     ]
    }
   ],
   "source": [
    "cd nbs"
   ]
  },
  {
   "cell_type": "code",
   "execution_count": 8,
   "metadata": {
    "button": false,
    "collapsed": false,
    "deletable": true,
    "new_sheet": false,
    "run_control": {
     "read_only": false
    }
   },
   "outputs": [
    {
     "name": "stdout",
     "output_type": "stream",
     "text": [
      ">SRR1598943_1_(paired)_contig_1\r\n",
      "GTCCTTCAAGTATTAAATATTGTTTTGGATGGTATTTTTTTAGTGTACATGTAGGTAAAT\r\n",
      "CAGTCTTTCTATGATTGTTTCAGGCAATCAAAGGATATTGCTTGTAGGAAAATTGTTAAT\r\n",
      "ATTTACACCACATCATCATTTTCTCGAACAATAATAACCATGATAACAGTAATTTTTTTT\r\n",
      "AAAATGTACATTATGTTTTTTGCATACACCTAAGAGAAGTTTAGGGCAATTCCAAGTCTG\r\n",
      "AAGTAATTGTCCATAAGCATGGGAAGGGTAATTCAATCAAGCAAGGGGGATGGAACACTG\r\n",
      "GGTTTACTCCTAGCTAACACCAATTAAGATATAGTAACACTAGTAACCCGAATTTANNNN\r\n",
      "NNNNNNNNNNNNNNNNNNNNNNNNNNNNNNNNNNNNNNNNNNNNNNNNNNNNNNNNNNNN\r\n",
      "NNNNNNNNNNNNNNNNNNNNNNNNNNNNNNNNNNNNNNNNNNNNNNNNNNNNNNNNNNNN\r\n",
      "NNNNNNNNNNNNNNNNNNNNNNNNNNNNNNNNNNNNNNNNNNNNNNNNNNNNNNNNNNNN\r\n"
     ]
    }
   ],
   "source": [
    "!head ../data/SRR1598943.fa"
   ]
  },
  {
   "cell_type": "code",
   "execution_count": 9,
   "metadata": {
    "button": false,
    "collapsed": true,
    "deletable": true,
    "new_sheet": false,
    "run_control": {
     "read_only": false
    }
   },
   "outputs": [],
   "source": [
    "bbin=\"/Applications/ncbi-blast-2.2.31+/bin/\""
   ]
  },
  {
   "cell_type": "code",
   "execution_count": 10,
   "metadata": {
    "button": false,
    "collapsed": false,
    "deletable": true,
    "new_sheet": false,
    "run_control": {
     "read_only": false
    }
   },
   "outputs": [
    {
     "name": "stdout",
     "output_type": "stream",
     "text": [
      "\n",
      "\n",
      "Building a new DB, current time: 12/17/2015 13:14:11\n",
      "New DB name:   /Users/sr320/git-repos/paper-mchil-sxt/data/SRR1598943\n",
      "New DB title:  ../data/SRR1598943.fa\n",
      "Sequence type: Nucleotide\n",
      "Keep Linkouts: T\n",
      "Keep MBits: T\n",
      "Maximum file size: 1000000000B\n",
      "Adding sequences from FASTA; added 41 sequences in 0.0388579 seconds.\n"
     ]
    }
   ],
   "source": [
    "!{bbin}makeblastdb \\\n",
    "-in ../data/SRR1598943.fa \\\n",
    "-out ../data/SRR1598943 \\\n",
    "-dbtype nucl"
   ]
  },
  {
   "cell_type": "code",
   "execution_count": 11,
   "metadata": {
    "button": false,
    "collapsed": true,
    "deletable": true,
    "new_sheet": false,
    "run_control": {
     "read_only": false
    }
   },
   "outputs": [],
   "source": [
    "!{bbin}blastn \\\n",
    "-task blastn \\\n",
    "-evalue 1e-20 \\\n",
    "-outfmt 6 \\\n",
    "-query ../data/Mytilus-SXT.trimmed.trinity.v3.fa \\\n",
    "-db ../data/SRR1598943 \\\n",
    "-out analyses/Myt-sxt-v3_blastn_SRR1598943-20.out"
   ]
  },
  {
   "cell_type": "code",
   "execution_count": 23,
   "metadata": {
    "button": false,
    "collapsed": false,
    "deletable": true,
    "new_sheet": false,
    "run_control": {
     "read_only": false
    }
   },
   "outputs": [
    {
     "name": "stdout",
     "output_type": "stream",
     "text": [
      "    3698 analyses/Myt-sxt-v3_blastn_SRR1598943-20-10-0-4.out\r\n"
     ]
    }
   ],
   "source": [
    "!{bbin}blastn \\\n",
    "-task blastn \\\n",
    "-evalue 1e-20 \\\n",
    "-word_size 10 \\\n",
    "-gapopen 0 \\\n",
    "-gapextend 4 \\\n",
    "-num_threads 4 \\\n",
    "-outfmt 6 \\\n",
    "-query ../data/Mytilus-SXT.trimmed.trinity.v3.fa \\\n",
    "-db ../data/SRR1598943 \\\n",
    "-out analyses/Myt-sxt-v3_blastn_SRR1598943-20-10-0-4.out\n",
    "!wc -l analyses/Myt-sxt-v3_blastn_SRR1598943-20-10-0-4.out"
   ]
  },
  {
   "cell_type": "code",
   "execution_count": null,
   "metadata": {
    "button": false,
    "collapsed": true,
    "deletable": true,
    "new_sheet": false,
    "run_control": {
     "read_only": false
    }
   },
   "outputs": [],
   "source": []
  },
  {
   "cell_type": "code",
   "execution_count": 12,
   "metadata": {
    "button": false,
    "collapsed": false,
    "deletable": true,
    "new_sheet": false,
    "run_control": {
     "read_only": false
    }
   },
   "outputs": [
    {
     "name": "stdout",
     "output_type": "stream",
     "text": [
      "TR10033_c0_g1_i1\tSRR1598943_1_(paired)_contig_11\t92.86\t84\t5\t1\t1\t84\t11898\t11816\t5e-29\t122\r\n",
      "TR10065_c0_g1_i1\tSRR1598943_1_(paired)_contig_17\t89.53\t86\t9\t0\t142\t227\t1569\t1654\t3e-27\t114\r\n",
      "TR10105_c0_g2_i1\tSRR1598943_1_(paired)_contig_1\t73.86\t176\t34\t6\t1\t167\t8718\t8890\t7e-21\t95.1\r\n",
      "TR1028_c0_g1_i1\tSRR1598943_1_(paired)_contig_1\t75.40\t187\t36\t4\t110\t293\t8894\t8715\t3e-29\t122\r\n",
      "TR10615_c1_g1_i1\tSRR1598943_1_(paired)_contig_11\t98.44\t64\t1\t0\t2\t65\t11821\t11884\t6e-26\t111\r\n",
      "TR10674_c1_g1_i1\tSRR1598943_1_(paired)_contig_15\t78.52\t135\t16\t2\t124\t246\t8787\t8654\t8e-28\t116\r\n",
      "TR10701_c3_g1_i1\tSRR1598943_1_(paired)_contig_1\t88.10\t84\t10\t0\t315\t398\t8710\t8793\t7e-25\t107\r\n",
      "TR10701_c4_g1_i1\tSRR1598943_1_(paired)_contig_17\t84.21\t95\t14\t1\t109\t202\t1547\t1641\t6e-23\t100\r\n",
      "TR10712_c0_g1_i1\tSRR1598943_1_(paired)_contig_4\t74.12\t170\t40\t2\t39\t207\t10022\t9856\t6e-24\t104\r\n",
      "TR10824_c0_g1_i1\tSRR1598943_1_(paired)_contig_15\t83.78\t111\t10\t4\t5\t114\t14157\t14260\t1e-25\t109\r\n"
     ]
    }
   ],
   "source": [
    "!head analyses/Myt-sxt-v3_blastn_SRR1598943-20.out"
   ]
  },
  {
   "cell_type": "code",
   "execution_count": 36,
   "metadata": {
    "button": false,
    "collapsed": true,
    "deletable": true,
    "new_sheet": false,
    "run_control": {
     "read_only": false
    }
   },
   "outputs": [],
   "source": [
    "!sort analyses/Myt-sxt-v3_blastn_SRR1598943-20.out \\\n",
    "> analyses/Myt-sxt-v3_blastn_SRR1598943-20.sorted"
   ]
  },
  {
   "cell_type": "code",
   "execution_count": 35,
   "metadata": {
    "button": false,
    "collapsed": true,
    "deletable": true,
    "new_sheet": false,
    "run_control": {
     "read_only": false
    }
   },
   "outputs": [],
   "source": [
    "!fgrep \"TR43257_c13\" analyses/Myt-sxt-v3_blastn_SRR1598943-20.out"
   ]
  },
  {
   "cell_type": "code",
   "execution_count": 14,
   "metadata": {
    "button": false,
    "collapsed": false,
    "deletable": true,
    "new_sheet": false,
    "run_control": {
     "read_only": false
    }
   },
   "outputs": [
    {
     "name": "stdout",
     "output_type": "stream",
     "text": [
      "    4591 analyses/Myt-sxt-v3_blastn_SRR1598943-20.out\r\n"
     ]
    }
   ],
   "source": [
    "!wc -l analyses/Myt-sxt-v3_blastn_SRR1598943-20.out"
   ]
  },
  {
   "cell_type": "code",
   "execution_count": 19,
   "metadata": {
    "button": false,
    "collapsed": false,
    "deletable": true,
    "new_sheet": false,
    "run_control": {
     "read_only": false
    }
   },
   "outputs": [],
   "source": [
    "!perl /Users/sr320/git-repos/LabDocs/code/script-box/2_Blast2Gff.pl \\\n",
    "-i analyses/Myt-sxt-v3_blastn_SRR1598943-20.out \\\n",
    "-s \"something\" -o analyses/Myt-sxt-v3_blastn_SRR1598943-20.gff -p \"gene-blast\" -d \"SRR1598943\"\n",
    "\n"
   ]
  },
  {
   "cell_type": "code",
   "execution_count": 20,
   "metadata": {
    "button": false,
    "collapsed": false,
    "deletable": true,
    "new_sheet": false,
    "run_control": {
     "read_only": false
    }
   },
   "outputs": [
    {
     "name": "stdout",
     "output_type": "stream",
     "text": [
      "SRR1598943_1_(paired)_contig_11\tblastn:SRR1598943\tblastn\t11898\t11816\t5e-29\t-\t.\tTR10033_c0_g1_i1\t\r\n",
      "SRR1598943_1_(paired)_contig_17\tblastn:SRR1598943\tblastn\t1569\t1654\t3e-27\t+\t.\tTR10065_c0_g1_i1\t\r\n",
      "SRR1598943_1_(paired)_contig_1\tblastn:SRR1598943\tblastn\t8718\t8890\t7e-21\t+\t.\tTR10105_c0_g2_i1\t\r\n",
      "SRR1598943_1_(paired)_contig_1\tblastn:SRR1598943\tblastn\t8894\t8715\t3e-29\t-\t.\tTR1028_c0_g1_i1\t\r\n",
      "SRR1598943_1_(paired)_contig_11\tblastn:SRR1598943\tblastn\t11821\t11884\t6e-26\t+\t.\tTR10615_c1_g1_i1\t\r\n",
      "SRR1598943_1_(paired)_contig_15\tblastn:SRR1598943\tblastn\t8787\t8654\t8e-28\t-\t.\tTR10674_c1_g1_i1\t\r\n",
      "SRR1598943_1_(paired)_contig_1\tblastn:SRR1598943\tblastn\t8710\t8793\t7e-25\t+\t.\tTR10701_c3_g1_i1\t\r\n",
      "SRR1598943_1_(paired)_contig_17\tblastn:SRR1598943\tblastn\t1547\t1641\t6e-23\t+\t.\tTR10701_c4_g1_i1\t\r\n",
      "SRR1598943_1_(paired)_contig_4\tblastn:SRR1598943\tblastn\t10022\t9856\t6e-24\t-\t.\tTR10712_c0_g1_i1\t\r\n",
      "SRR1598943_1_(paired)_contig_15\tblastn:SRR1598943\tblastn\t14157\t14260\t1e-25\t+\t.\tTR10824_c0_g1_i1\t\r\n"
     ]
    }
   ],
   "source": [
    "!head analyses/Myt-sxt-v3_blastn_SRR1598943-20.gff"
   ]
  },
  {
   "cell_type": "code",
   "execution_count": 22,
   "metadata": {
    "button": false,
    "collapsed": false,
    "deletable": true,
    "new_sheet": false,
    "run_control": {
     "read_only": false
    }
   },
   "outputs": [
    {
     "name": "stdout",
     "output_type": "stream",
     "text": [
      "    4591 analyses/Myt-sxt-v3_blastn_SRR1598943-20.gff\r\n"
     ]
    }
   ],
   "source": [
    "!wc -l analyses/Myt-sxt-v3_blastn_SRR1598943-20.gff"
   ]
  },
  {
   "cell_type": "code",
   "execution_count": 24,
   "metadata": {
    "button": false,
    "collapsed": true,
    "deletable": true,
    "new_sheet": false,
    "run_control": {
     "read_only": false
    }
   },
   "outputs": [],
   "source": [
    "#sorting indexing BAM"
   ]
  },
  {
   "cell_type": "code",
   "execution_count": null,
   "metadata": {
    "button": false,
    "collapsed": true,
    "deletable": true,
    "new_sheet": false,
    "run_control": {
     "read_only": false
    }
   },
   "outputs": [],
   "source": []
  },
  {
   "cell_type": "code",
   "execution_count": 30,
   "metadata": {
    "button": false,
    "collapsed": false,
    "deletable": true,
    "new_sheet": false,
    "run_control": {
     "read_only": false
    }
   },
   "outputs": [
    {
     "name": "stdout",
     "output_type": "stream",
     "text": [
      "[bam_sort_core] merging from 20 files...\r\n"
     ]
    }
   ],
   "source": [
    "!/Applications/samtools-1.2/samtools sort \\\n",
    "/Volumes/Monarch/mchil-stx/C0g.bam /Volumes/Monarch/mchil-stx/C0gsorted"
   ]
  },
  {
   "cell_type": "code",
   "execution_count": 32,
   "metadata": {
    "button": false,
    "collapsed": false,
    "deletable": true,
    "new_sheet": false,
    "run_control": {
     "read_only": false
    }
   },
   "outputs": [],
   "source": [
    "!/Applications/samtools-1.2/samtools index \\\n",
    "/Volumes/Monarch/mchil-stx/C0gsorted.bam"
   ]
  },
  {
   "cell_type": "markdown",
   "metadata": {
    "button": false,
    "collapsed": true,
    "deletable": true,
    "new_sheet": false,
    "run_control": {
     "read_only": false
    }
   },
   "source": [
    "# join Deg with those on genome"
   ]
  },
  {
   "cell_type": "code",
   "execution_count": 52,
   "metadata": {
    "button": false,
    "collapsed": false,
    "deletable": true,
    "new_sheet": false,
    "run_control": {
     "read_only": false
    }
   },
   "outputs": [
    {
     "name": "stdout",
     "output_type": "stream",
     "text": [
      "ID\tC0\tD1\tD2\tD3\tD4\tD5\tProtein names\tEvalue\tEntry\tEntry name\tGene ontology IDs\tInteracts with\tCross-reference (GO)\tGene ontology (GO)\tInterPro\tPathway\tGene names\tOrganism\tLength\tCluster\r",
      "\r\n",
      "TR10256_c0_g1_i1\t0\t0.052\t66.858\t0\t0.415\t0\t\t\t\t\t\t\t\t\t\t\t\t\t\tH8 Elevated\r",
      "\r\n",
      "TR10300_c0_g2_i1\t0\t0\t152.732\t0\t0\t0\t\t\t\t\t\t\t\t\t\t\t\t\t\tH8 Elevated\r",
      "\r\n",
      "TR10414_c0_g1_i1\t0.019\t22.862\t0.672\t0\t0\t0\t\t\t\t\t\t\t\t\t\t\t\t\t\tH4 Elevated\r",
      "\r\n",
      "TR12864_c0_g1_i1\t0.072\t1.158\t156.859\t0\t1.083\t1.679\t\t\t\t\t\t\t\t\t\t\t\t\t\tH8 Elevated\r",
      "\r\n",
      "TR14083_c0_g1_i1\t0.026\t49.814\t0.29\t0\t0.223\t0.129\t\t\t\t\t\t\t\t\t\t\t\t\t\tH4 Elevated\r",
      "\r\n",
      "TR14217_c0_g1_i1\t0\t73.027\t2.617\t0\t0\t0\t\t\t\t\t\t\t\t\t\t\t\t\t\tH4 Elevated\r",
      "\r\n",
      "TR1447_c0_g2_i1\t0\t0\t0\t0\t0\t57.185\t\t\t\t\t\t\t\t\t\t\t\t\t\th48 Elevated\r",
      "\r\n",
      "TR14920_c0_g1_i1\t0\t23.895\t1.342\t24.983\t47.379\t1.694\t\t\t\t\t\t\t\t\t\t\t\t\t\t\r",
      "\r\n",
      "TR15455_c0_g1_i1\t3.51\t13.946\t8.716\t0.014\t0.196\t0.169\t\t\t\t\t\t\t\t\t\t\t\t\t\tH8 Elevated\r",
      "\r\n"
     ]
    }
   ],
   "source": [
    "!head /Users/sr320/git-repos/paper-mchil-sxt/data/S2-Myt-sxt-Diffexp888-Clusters.sorted.tab"
   ]
  },
  {
   "cell_type": "code",
   "execution_count": 48,
   "metadata": {
    "button": false,
    "collapsed": false,
    "deletable": true,
    "new_sheet": false,
    "run_control": {
     "read_only": false
    }
   },
   "outputs": [
    {
     "name": "stdout",
     "output_type": "stream",
     "text": [
      "TR10033_c0_g1_i1\tSRR1598943_1_(paired)_contig_11\t92.86\t84\t5\t1\t1\t84\t11898\t11816\t5e-29\t122\r\n",
      "TR10065_c0_g1_i1\tSRR1598943_1_(paired)_contig_17\t89.53\t86\t9\t0\t142\t227\t1569\t1654\t3e-27\t114\r\n",
      "TR10105_c0_g2_i1\tSRR1598943_1_(paired)_contig_1\t73.86\t176\t34\t6\t1\t167\t8718\t8890\t7e-21\t95.1\r\n",
      "TR1028_c0_g1_i1\tSRR1598943_1_(paired)_contig_1\t75.40\t187\t36\t4\t110\t293\t8894\t8715\t3e-29\t122\r\n",
      "TR10615_c1_g1_i1\tSRR1598943_1_(paired)_contig_11\t98.44\t64\t1\t0\t2\t65\t11821\t11884\t6e-26\t111\r\n",
      "TR10674_c1_g1_i1\tSRR1598943_1_(paired)_contig_15\t78.52\t135\t16\t2\t124\t246\t8787\t8654\t8e-28\t116\r\n",
      "TR10701_c3_g1_i1\tSRR1598943_1_(paired)_contig_1\t88.10\t84\t10\t0\t315\t398\t8710\t8793\t7e-25\t107\r\n",
      "TR10701_c4_g1_i1\tSRR1598943_1_(paired)_contig_17\t84.21\t95\t14\t1\t109\t202\t1547\t1641\t6e-23\t100\r\n",
      "TR10712_c0_g1_i1\tSRR1598943_1_(paired)_contig_4\t74.12\t170\t40\t2\t39\t207\t10022\t9856\t6e-24\t104\r\n",
      "TR10824_c0_g1_i1\tSRR1598943_1_(paired)_contig_15\t83.78\t111\t10\t4\t5\t114\t14157\t14260\t1e-25\t109\r\n"
     ]
    }
   ],
   "source": [
    "!head /Users/sr320/git-repos/paper-mchil-sxt/nbs/analyses/Myt-sxt-v3_blastn_SRR1598943-20.sorted"
   ]
  },
  {
   "cell_type": "code",
   "execution_count": 67,
   "metadata": {
    "button": false,
    "collapsed": false,
    "deletable": true,
    "new_sheet": false,
    "run_control": {
     "read_only": false
    }
   },
   "outputs": [
    {
     "name": "stdout",
     "output_type": "stream",
     "text": [
      "TR16672_c0_g1_i1 SRR1598943_1_(paired)_contig_7 83.65 104 17 0 181 284 6055 6158 8e-26 111 17.769 5.959 45.587 0 2.752 36.48 lncRNA H4 Elevated\r",
      "\r\n",
      "TR30429_c0_g4_i1 SRR1598943_1_(paired)_contig_1 91.51 106 9 0 1281 1386 8717 8822 3e-37 150 0 0 0 0.62 17.858 0 h16-24 Elevated\r",
      "\r\n",
      "TR30429_c0_g4_i1 SRR1598943_1_(paired)_contig_19 80.29 137 17 4 1262 1388 9323 9187 6e-27 116 0 0 0 0.62 17.858 0 h16-24 Elevated\r",
      "\r\n",
      "TR30429_c0_g4_i1 SRR1598943_1_(paired)_contig_4 82.83 99 16 1 1281 1379 7876 7973 2e-21 98.7 0 0 0 0.62 17.858 0 h16-24 Elevated\r",
      "\r\n",
      "TR30866_c0_g1_i1 SRR1598943_1_(paired)_contig_7 74.73 182 30 2 1 166 1640 1459 9e-31 127 1.814 0.857 62.372 0.729 0 0 Putative uncharacterized protein ART2 (Antisense to ribosomal RNA transcript protein 2) 4.00E-30 Q8TGM7 ART2_YEAST ART2 YLR154W-A YLR154W-C Saccharomyces cerevisiae (strain ATCC 204508 / S288c) (Baker's yeast) 61 H8 Elevated\r",
      "\r\n",
      "TR31699_c4_g3_i4 SRR1598943_1_(paired)_contig_7 73.80 229 40 8 57 266 11190 10963 7e-30 125 0.805 0.957 51.369 0.299 0 0.154 lncRNA H8 Elevated\r",
      "\r\n",
      "TR31699_c4_g3_i4 SRR1598943_1_(paired)_contig_7 77.96 304 58 7 628 924 10225 9924 3e-59 223 0.805 0.957 51.369 0.299 0 0.154 lncRNA H8 Elevated\r",
      "\r\n",
      "TR31991_c1_g1_i4 SRR1598943_1_(paired)_contig_6 75.82 182 27 4 90 255 12473 12293 4e-30 127 0.185 0.032 13.184 1.62 5.773 0 h16-24 Elevated\r",
      "\r\n",
      "TR34327_c4_g1_i2 SRR1598943_1_(paired)_contig_7 80.18 111 22 0 204 314 6167 6057 4e-23 102 0 0 0.575 0.035 0 30.725 lncRNA h48 Elevated\r",
      "\r\n",
      "TR36844_c1_g1_i7 SRR1598943_1_(paired)_contig_1 84.06 207 33 0 1735 1941 8916 8710 2e-59 224 0 0.005 0.058 5.799 7.223 0.022 h16-24 Elevated\r",
      "\r\n",
      "TR36844_c1_g1_i7 SRR1598943_1_(paired)_contig_15 75.57 176 33 6 1775 1941 10431 10605 2e-23 105 0 0.005 0.058 5.799 7.223 0.022 h16-24 Elevated\r",
      "\r\n",
      "TR36844_c1_g1_i7 SRR1598943_1_(paired)_contig_19 75.80 157 30 3 1788 1936 9145 9301 2e-23 105 0 0.005 0.058 5.799 7.223 0.022 h16-24 Elevated\r",
      "\r\n",
      "TR36844_c1_g1_i7 SRR1598943_1_(paired)_contig_19 83.06 124 20 1 1746 1868 4831 4954 2e-29 125 0 0.005 0.058 5.799 7.223 0.022 h16-24 Elevated\r",
      "\r\n",
      "TR38399_c2_g2_i5 SRR1598943_1_(paired)_contig_20 73.53 170 37 3 2952 3116 6565 6399 3e-21 98.7 2.199 0.273 5.922 0 0.497 14.482 \r",
      "\r\n",
      "TR38555_c2_g3_i2 SRR1598943_1_(paired)_contig_6 73.51 185 33 7 522 694 12473 12293 7e-21 96.9 0.196 0.036 0 4.702 0.221 0 Mitochondrial dicarboxylate carrier (Solute carrier family 25 member 10) 5.00E-52 Q9UBX3 DIC_HUMAN GO:0015297; GO:0034641; GO:0005310; GO:0006094; GO:0016021; GO:0015140; GO:0005743; GO:0006839; GO:0005634; GO:0015114; GO:0015141; GO:0015116; GO:0008272; GO:0070221; GO:0000098; GO:0015117; GO:0015709 Q99750 \"\"\"antiporter activity; cellular nitrogen compound metabolic process; dicarboxylic acid transmembrane transporter activity; gluconeogenesis; integral to membrane; malate transmembrane transporter activity; mitochondrial inner membrane; mitochondrial transport; nucleus; phosphate ion transmembrane transporter activity; succinate transmembrane transporter activity; sulfate transmembrane transporter activity; sulfate transport; sulfide oxidation using sulfide:quinone oxidoreductase; sulfur amino acid catabolic process; thiosulfate transmembrane transporter activity; thiosulfate transport\"\"\" IPR002030; IPR018108; IPR023395; SLC25A10 DIC Homo sapiens (Human) 287 h16-24 Elevated\r",
      "\r\n",
      "TR40209_c8_g1_i5 SRR1598943_1_(paired)_contig_20 78.81 118 25 0 130 247 5427 5310 2e-22 100 0.676 837.171 632.554 1.448 59.461 4.375 Putative tubulin-like protein alpha-4B (Alpha-tubulin 4B) 4.00E-83 Q9H853 TBA4B_HUMAN GO:0005525; GO:0005737; GO:0005874; GO:0007017; GO:0005200 GTP binding; cytoplasm; microtubule; microtubule-based process; structural constituent of cytoskeleton IPR002452; IPR000217; IPR003008; TUBA4B TUBA4 Homo sapiens (Human) 241 \r",
      "\r\n",
      "TR40986_c1_g2_i1 SRR1598943_1_(paired)_contig_1 91.25 80 7 0 1 80 8773 8852 8e-26 113 2.267 1.406 4.596 11.594 6.286 0 h16-24 Elevated\r",
      "\r\n",
      "TR42248_c1_g1_i2 SRR1598943_1_(paired)_contig_4 70.87 381 99 8 256 628 10167 9791 2e-40 161 0 1.391 5.728 0.581 0.411 0.01 H8 Elevated\r",
      "\r\n",
      "TR42798_c0_g1_i2 SRR1598943_1_(paired)_contig_14 94.75 1067 56 0 1 1067 11971 10905 0.0 1673 0.094 0.671 0.075 215.943 300.239 0.147 h16-24 Elevated\r",
      "\r\n"
     ]
    }
   ],
   "source": [
    "!join \\\n",
    "/Users/sr320/git-repos/paper-mchil-sxt/nbs/analyses/Myt-sxt-v3_blastn_SRR1598943-20.sorted \\\n",
    "/Users/sr320/git-repos/paper-mchil-sxt/data/S2-Myt-sxt-Diffexp888-Clusters.sorted.tab \\\n",
    "| cat"
   ]
  },
  {
   "cell_type": "code",
   "execution_count": 71,
   "metadata": {
    "button": false,
    "collapsed": false,
    "deletable": true,
    "new_sheet": false,
    "run_control": {
     "read_only": false
    }
   },
   "outputs": [],
   "source": [
    "!join \\\n",
    "/Users/sr320/git-repos/paper-mchil-sxt/data/S2-Myt-sxt-Diffexp888-Clusters.sorted.tab \\\n",
    "/Users/sr320/git-repos/paper-mchil-sxt/nbs/analyses/Myt-sxt-v3_blastn_SRR1598943-20.sorted \\\n",
    "> nalyses/Diffexp-on-draft-genome.txt\n",
    "\n",
    "\n",
    "\n",
    "\n",
    "\n"
   ]
  },
  {
   "cell_type": "code",
   "execution_count": 74,
   "metadata": {
    "button": false,
    "collapsed": false,
    "deletable": true,
    "new_sheet": false,
    "run_control": {
     "read_only": false
    }
   },
   "outputs": [
    {
     "name": "stdout",
     "output_type": "stream",
     "text": [
      "      19 analyses/Diffexp-on-draft-genome.txt\r\n"
     ]
    }
   ],
   "source": [
    "!wc -l analyses/Diffexp-on-draft-genome.txt"
   ]
  },
  {
   "cell_type": "code",
   "execution_count": 81,
   "metadata": {
    "button": false,
    "collapsed": false,
    "deletable": true,
    "new_sheet": false,
    "run_control": {
     "read_only": false
    }
   },
   "outputs": [
    {
     "name": "stdout",
     "output_type": "stream",
     "text": [
      "TR16672_c0_g1_i1 17.769 5.959 45.587 0 2.752 36.48 lncRNA H4 Elevated\r",
      " SRR1598943_1_(paired)_contig_7 83.65 104 17 0 181 284 6055 6158 8e-26 111\r\n",
      "TR30429_c0_g4_i1 0 0 0 0.62 17.858 0 h16-24 Elevated\r",
      " SRR1598943_1_(paired)_contig_1 91.51 106 9 0 1281 1386 8717 8822 3e-37 150\r\n",
      "TR30429_c0_g4_i1 0 0 0 0.62 17.858 0 h16-24 Elevated\r",
      " SRR1598943_1_(paired)_contig_19 80.29 137 17 4 1262 1388 9323 9187 6e-27 116\r\n",
      "TR30429_c0_g4_i1 0 0 0 0.62 17.858 0 h16-24 Elevated\r",
      " SRR1598943_1_(paired)_contig_4 82.83 99 16 1 1281 1379 7876 7973 2e-21 98.7\r\n",
      "TR30866_c0_g1_i1 1.814 0.857 62.372 0.729 0 0 Putative uncharacterized protein ART2 (Antisense to ribosomal RNA transcript protein 2) 4.00E-30 Q8TGM7 ART2_YEAST ART2 YLR154W-A YLR154W-C Saccharomyces cerevisiae (strain ATCC 204508 / S288c) (Baker's yeast) 61 H8 Elevated\r",
      " SRR1598943_1_(paired)_contig_7 74.73 182 30 2 1 166 1640 1459 9e-31 127\r\n",
      "TR31699_c4_g3_i4 0.805 0.957 51.369 0.299 0 0.154 lncRNA H8 Elevated\r",
      " SRR1598943_1_(paired)_contig_7 73.80 229 40 8 57 266 11190 10963 7e-30 125\r\n",
      "TR31699_c4_g3_i4 0.805 0.957 51.369 0.299 0 0.154 lncRNA H8 Elevated\r",
      " SRR1598943_1_(paired)_contig_7 77.96 304 58 7 628 924 10225 9924 3e-59 223\r\n",
      "TR31991_c1_g1_i4 0.185 0.032 13.184 1.62 5.773 0 h16-24 Elevated\r",
      " SRR1598943_1_(paired)_contig_6 75.82 182 27 4 90 255 12473 12293 4e-30 127\r\n",
      "TR34327_c4_g1_i2 0 0 0.575 0.035 0 30.725 lncRNA h48 Elevated\r",
      " SRR1598943_1_(paired)_contig_7 80.18 111 22 0 204 314 6167 6057 4e-23 102\r\n",
      "TR36844_c1_g1_i7 0 0.005 0.058 5.799 7.223 0.022 h16-24 Elevated\r",
      " SRR1598943_1_(paired)_contig_1 84.06 207 33 0 1735 1941 8916 8710 2e-59 224\r\n"
     ]
    }
   ],
   "source": [
    "!head analyses/Diffexp-on-draft-genome.txt"
   ]
  },
  {
   "cell_type": "code",
   "execution_count": 77,
   "metadata": {
    "button": false,
    "collapsed": true,
    "deletable": true,
    "new_sheet": false,
    "run_control": {
     "read_only": false
    }
   },
   "outputs": [],
   "source": [
    "!sort analyses/Diffexp-on-draft-genome.txt > analyses/Diffexp-on-draft-genome.sorted"
   ]
  },
  {
   "cell_type": "code",
   "execution_count": 76,
   "metadata": {
    "button": false,
    "collapsed": false,
    "deletable": true,
    "new_sheet": false,
    "run_control": {
     "read_only": false
    }
   },
   "outputs": [
    {
     "name": "stdout",
     "output_type": "stream",
     "text": [
      "TR10033_c0_g1_i1\tSRR1598943_1_(paired)_contig_11\t92.86\t84\t5\t1\t1\t84\t11898\t11816\t5e-29\t122\r\n",
      "TR10065_c0_g1_i1\tSRR1598943_1_(paired)_contig_17\t89.53\t86\t9\t0\t142\t227\t1569\t1654\t3e-27\t114\r\n",
      "TR10105_c0_g2_i1\tSRR1598943_1_(paired)_contig_1\t73.86\t176\t34\t6\t1\t167\t8718\t8890\t7e-21\t95.1\r\n",
      "TR1028_c0_g1_i1\tSRR1598943_1_(paired)_contig_1\t75.40\t187\t36\t4\t110\t293\t8894\t8715\t3e-29\t122\r\n",
      "TR10615_c1_g1_i1\tSRR1598943_1_(paired)_contig_11\t98.44\t64\t1\t0\t2\t65\t11821\t11884\t6e-26\t111\r\n",
      "TR10674_c1_g1_i1\tSRR1598943_1_(paired)_contig_15\t78.52\t135\t16\t2\t124\t246\t8787\t8654\t8e-28\t116\r\n",
      "TR10701_c3_g1_i1\tSRR1598943_1_(paired)_contig_1\t88.10\t84\t10\t0\t315\t398\t8710\t8793\t7e-25\t107\r\n",
      "TR10701_c4_g1_i1\tSRR1598943_1_(paired)_contig_17\t84.21\t95\t14\t1\t109\t202\t1547\t1641\t6e-23\t100\r\n",
      "TR10712_c0_g1_i1\tSRR1598943_1_(paired)_contig_4\t74.12\t170\t40\t2\t39\t207\t10022\t9856\t6e-24\t104\r\n",
      "TR10824_c0_g1_i1\tSRR1598943_1_(paired)_contig_15\t83.78\t111\t10\t4\t5\t114\t14157\t14260\t1e-25\t109\r\n"
     ]
    }
   ],
   "source": [
    "!head analyses/Myt-sxt-v3_blastn_SRR1598943-20.sorted"
   ]
  },
  {
   "cell_type": "code",
   "execution_count": 80,
   "metadata": {
    "button": false,
    "collapsed": false,
    "deletable": true,
    "new_sheet": false,
    "run_control": {
     "read_only": false
    }
   },
   "outputs": [
    {
     "name": "stdout",
     "output_type": "stream",
     "text": [
      "      39\r\n"
     ]
    }
   ],
   "source": [
    "!join \\\n",
    "analyses/Diffexp-on-draft-genome.sorted \\\n",
    "analyses/Myt-sxt-v3_blastn_SRR1598943-20.sorted \\\n",
    " | wc -l "
   ]
  },
  {
   "cell_type": "code",
   "execution_count": null,
   "metadata": {
    "button": false,
    "collapsed": true,
    "deletable": true,
    "new_sheet": false,
    "run_control": {
     "read_only": false
    }
   },
   "outputs": [],
   "source": []
  },
  {
   "cell_type": "code",
   "execution_count": 64,
   "metadata": {
    "button": false,
    "collapsed": false,
    "deletable": true,
    "new_sheet": false,
    "run_control": {
     "read_only": false
    }
   },
   "outputs": [
    {
     "name": "stdout",
     "output_type": "stream",
     "text": [
      "TR12914_c0_g1_i1\t\u001b[01;31m\u001b[KSRR1598943_1_(paired)_contig_7\u001b[m\u001b[K\t77.32\t388\t83\t5\t200\t582\t10225\t9838\t2e-78\t286\r\n",
      "TR16329_c0_g1_i1\t\u001b[01;31m\u001b[KSRR1598943_1_(paired)_contig_7\u001b[m\u001b[K\t89.47\t76\t8\t0\t406\t481\t2469\t2394\t5e-23\t102\r\n",
      "TR16478_c0_g1_i1\t\u001b[01;31m\u001b[KSRR1598943_1_(paired)_contig_7\u001b[m\u001b[K\t76.02\t171\t31\t2\t357\t517\t1475\t1645\t1e-29\t123\r\n",
      "TR16478_c0_g1_i1\t\u001b[01;31m\u001b[KSRR1598943_1_(paired)_contig_7\u001b[m\u001b[K\t81.37\t161\t30\t0\t91\t251\t791\t951\t2e-39\t156\r\n",
      "TR16672_c0_g1_i1\t\u001b[01;31m\u001b[KSRR1598943_1_(paired)_contig_7\u001b[m\u001b[K\t83.65\t104\t17\t0\t181\t284\t6055\t6158\t8e-26\t111\r\n",
      "TR16672_c0_g1_i2\t\u001b[01;31m\u001b[KSRR1598943_1_(paired)_contig_7\u001b[m\u001b[K\t83.65\t104\t17\t0\t181\t284\t6055\t6158\t6e-26\t111\r\n",
      "TR25458_c0_g1_i2\t\u001b[01;31m\u001b[KSRR1598943_1_(paired)_contig_7\u001b[m\u001b[K\t86.00\t100\t10\t3\t146\t244\t8506\t8410\t4e-25\t107\r\n",
      "TR25458_c0_g1_i5\t\u001b[01;31m\u001b[KSRR1598943_1_(paired)_contig_7\u001b[m\u001b[K\t86.00\t100\t10\t3\t146\t244\t8506\t8410\t4e-25\t107\r\n",
      "TR25458_c0_g1_i7\t\u001b[01;31m\u001b[KSRR1598943_1_(paired)_contig_7\u001b[m\u001b[K\t80.95\t126\t23\t1\t146\t271\t8506\t8382\t1e-27\t116\r\n",
      "TR27970_c0_g1_i1\t\u001b[01;31m\u001b[KSRR1598943_1_(paired)_contig_7\u001b[m\u001b[K\t86.21\t87\t11\t1\t158\t243\t4162\t4076\t7e-23\t100\r\n",
      "TR27970_c0_g2_i1\t\u001b[01;31m\u001b[KSRR1598943_1_(paired)_contig_7\u001b[m\u001b[K\t79.10\t134\t27\t1\t230\t362\t4209\t4076\t2e-26\t113\r\n",
      "TR27970_c0_g2_i2\t\u001b[01;31m\u001b[KSRR1598943_1_(paired)_contig_7\u001b[m\u001b[K\t79.10\t134\t27\t1\t126\t258\t4209\t4076\t2e-26\t113\r\n",
      "TR27970_c0_g2_i3\t\u001b[01;31m\u001b[KSRR1598943_1_(paired)_contig_7\u001b[m\u001b[K\t79.10\t134\t27\t1\t230\t362\t4209\t4076\t2e-26\t113\r\n",
      "TR27970_c0_g2_i4\t\u001b[01;31m\u001b[KSRR1598943_1_(paired)_contig_7\u001b[m\u001b[K\t79.10\t134\t27\t1\t49\t181\t4209\t4076\t1e-26\t113\r\n",
      "TR27970_c0_g3_i1\t\u001b[01;31m\u001b[KSRR1598943_1_(paired)_contig_7\u001b[m\u001b[K\t79.85\t134\t25\t2\t141\t272\t4209\t4076\t1e-26\t113\r\n",
      "TR30866_c0_g1_i1\t\u001b[01;31m\u001b[KSRR1598943_1_(paired)_contig_7\u001b[m\u001b[K\t74.73\t182\t30\t2\t1\t166\t1640\t1459\t9e-31\t127\r\n",
      "TR30866_c0_g2_i1\t\u001b[01;31m\u001b[KSRR1598943_1_(paired)_contig_7\u001b[m\u001b[K\t72.50\t200\t55\t0\t202\t401\t951\t752\t2e-26\t113\r\n",
      "TR30866_c0_g2_i2\t\u001b[01;31m\u001b[KSRR1598943_1_(paired)_contig_7\u001b[m\u001b[K\t72.00\t200\t56\t0\t248\t447\t951\t752\t2e-25\t109\r\n",
      "TR30866_c0_g2_i2\t\u001b[01;31m\u001b[KSRR1598943_1_(paired)_contig_7\u001b[m\u001b[K\t82.69\t104\t18\t0\t1\t104\t1640\t1537\t8e-25\t107\r\n",
      "TR30866_c0_g2_i3\t\u001b[01;31m\u001b[KSRR1598943_1_(paired)_contig_7\u001b[m\u001b[K\t72.00\t200\t56\t0\t246\t445\t951\t752\t2e-25\t109\r\n",
      "TR30866_c0_g2_i3\t\u001b[01;31m\u001b[KSRR1598943_1_(paired)_contig_7\u001b[m\u001b[K\t82.69\t104\t18\t0\t1\t104\t1640\t1537\t8e-25\t107\r\n",
      "TR30866_c0_g4_i1\t\u001b[01;31m\u001b[KSRR1598943_1_(paired)_contig_7\u001b[m\u001b[K\t82.69\t104\t18\t0\t1\t104\t1640\t1537\t7e-25\t107\r\n",
      "TR3128_c0_g1_i1\t\u001b[01;31m\u001b[KSRR1598943_1_(paired)_contig_7\u001b[m\u001b[K\t79.33\t179\t33\t2\t1\t179\t8332\t8506\t4e-38\t150\r\n",
      "TR31699_c4_g1_i1\t\u001b[01;31m\u001b[KSRR1598943_1_(paired)_contig_7\u001b[m\u001b[K\t81.06\t264\t48\t2\t7\t269\t10184\t9922\t4e-66\t244\r\n",
      "TR31699_c4_g3_i1\t\u001b[01;31m\u001b[KSRR1598943_1_(paired)_contig_7\u001b[m\u001b[K\t75.13\t390\t86\t9\t420\t800\t10225\t9838\t4e-63\t235\r\n",
      "TR31699_c4_g3_i10\t\u001b[01;31m\u001b[KSRR1598943_1_(paired)_contig_7\u001b[m\u001b[K\t74.36\t390\t89\t8\t415\t795\t10225\t9838\t2e-60\t226\r\n",
      "TR31699_c4_g3_i11\t\u001b[01;31m\u001b[KSRR1598943_1_(paired)_contig_7\u001b[m\u001b[K\t73.40\t312\t73\t7\t415\t718\t10225\t9916\t2e-42\t167\r\n",
      "TR31699_c4_g3_i2\t\u001b[01;31m\u001b[KSRR1598943_1_(paired)_contig_7\u001b[m\u001b[K\t73.40\t312\t73\t8\t415\t718\t10225\t9916\t7e-41\t161\r\n",
      "TR31699_c4_g3_i3\t\u001b[01;31m\u001b[KSRR1598943_1_(paired)_contig_7\u001b[m\u001b[K\t77.45\t306\t59\t8\t530\t827\t10225\t9922\t2e-56\t214\r\n",
      "TR31699_c4_g3_i3\t\u001b[01;31m\u001b[KSRR1598943_1_(paired)_contig_7\u001b[m\u001b[K\t88.89\t81\t9\t0\t78\t158\t11043\t10963\t6e-24\t105\r\n",
      "TR31699_c4_g3_i4\t\u001b[01;31m\u001b[KSRR1598943_1_(paired)_contig_7\u001b[m\u001b[K\t73.80\t229\t40\t8\t57\t266\t11190\t10963\t7e-30\t125\r\n",
      "TR31699_c4_g3_i4\t\u001b[01;31m\u001b[KSRR1598943_1_(paired)_contig_7\u001b[m\u001b[K\t77.96\t304\t58\t7\t628\t924\t10225\t9924\t3e-59\t223\r\n",
      "TR31699_c4_g3_i5\t\u001b[01;31m\u001b[KSRR1598943_1_(paired)_contig_7\u001b[m\u001b[K\t76.47\t306\t62\t7\t415\t712\t10225\t9922\t7e-54\t205\r\n",
      "TR31699_c4_g3_i6\t\u001b[01;31m\u001b[KSRR1598943_1_(paired)_contig_7\u001b[m\u001b[K\t77.45\t306\t59\t8\t415\t712\t10225\t9922\t1e-56\t214\r\n",
      "TR31699_c4_g3_i7\t\u001b[01;31m\u001b[KSRR1598943_1_(paired)_contig_7\u001b[m\u001b[K\t73.80\t229\t40\t8\t57\t266\t11190\t10963\t7e-30\t125\r\n",
      "TR31699_c4_g3_i7\t\u001b[01;31m\u001b[KSRR1598943_1_(paired)_contig_7\u001b[m\u001b[K\t74.29\t389\t91\t8\t638\t1018\t10225\t9838\t3e-59\t223\r\n",
      "TR34327_c4_g1_i1\t\u001b[01;31m\u001b[KSRR1598943_1_(paired)_contig_7\u001b[m\u001b[K\t81.73\t104\t19\t0\t339\t442\t6160\t6057\t8e-23\t102\r\n",
      "TR34327_c4_g1_i1\t\u001b[01;31m\u001b[KSRR1598943_1_(paired)_contig_7\u001b[m\u001b[K\t83.87\t93\t15\t0\t80\t172\t6431\t6339\t3e-22\t100\r\n",
      "TR34327_c4_g1_i2\t\u001b[01;31m\u001b[KSRR1598943_1_(paired)_contig_7\u001b[m\u001b[K\t80.18\t111\t22\t0\t204\t314\t6167\t6057\t4e-23\t102\r\n",
      "TR34327_c4_g1_i5\t\u001b[01;31m\u001b[KSRR1598943_1_(paired)_contig_7\u001b[m\u001b[K\t82.35\t102\t18\t0\t74\t175\t6158\t6057\t9e-24\t104\r\n",
      "TR34327_c4_g1_i8\t\u001b[01;31m\u001b[KSRR1598943_1_(paired)_contig_7\u001b[m\u001b[K\t81.65\t109\t20\t0\t254\t362\t6165\t6057\t1e-24\t107\r\n",
      "TR34327_c4_g1_i8\t\u001b[01;31m\u001b[KSRR1598943_1_(paired)_contig_7\u001b[m\u001b[K\t87.65\t81\t9\t1\t11\t90\t6419\t6339\t5e-22\t98.7\r\n",
      "TR34327_c4_g2_i1\t\u001b[01;31m\u001b[KSRR1598943_1_(paired)_contig_7\u001b[m\u001b[K\t88.00\t75\t9\t0\t1\t75\t6413\t6339\t8e-21\t95.1\r\n",
      "TR34327_c4_g3_i1\t\u001b[01;31m\u001b[KSRR1598943_1_(paired)_contig_7\u001b[m\u001b[K\t81.55\t103\t19\t0\t226\t328\t6159\t6057\t9e-23\t100\r\n",
      "TR34327_c4_g5_i1\t\u001b[01;31m\u001b[KSRR1598943_1_(paired)_contig_7\u001b[m\u001b[K\t82.35\t102\t18\t0\t253\t354\t6158\t6057\t8e-24\t104\r\n",
      "TR34327_c4_g5_i1\t\u001b[01;31m\u001b[KSRR1598943_1_(paired)_contig_7\u001b[m\u001b[K\t91.46\t82\t7\t0\t2\t83\t6420\t6339\t1e-27\t116\r\n",
      "TR43142_c0_g1_i1\t\u001b[01;31m\u001b[KSRR1598943_1_(paired)_contig_7\u001b[m\u001b[K\t82.79\t122\t21\t0\t11\t132\t830\t951\t2e-30\t125\r\n",
      "TR43142_c2_g1_i1\t\u001b[01;31m\u001b[KSRR1598943_1_(paired)_contig_7\u001b[m\u001b[K\t74.47\t235\t50\t5\t125\t356\t11190\t10963\t4e-34\t140\r\n",
      "TR43142_c2_g1_i1\t\u001b[01;31m\u001b[KSRR1598943_1_(paired)_contig_7\u001b[m\u001b[K\t79.91\t428\t79\t6\t696\t1117\t10264\t9838\t2e-101\t363\r\n",
      "TR43142_c2_g1_i2\t\u001b[01;31m\u001b[KSRR1598943_1_(paired)_contig_7\u001b[m\u001b[K\t74.47\t235\t50\t5\t125\t356\t11190\t10963\t7e-34\t140\r\n",
      "TR43142_c2_g1_i2\t\u001b[01;31m\u001b[KSRR1598943_1_(paired)_contig_7\u001b[m\u001b[K\t79.91\t428\t79\t6\t696\t1117\t10264\t9838\t3e-101\t363\r\n",
      "TR43142_c2_g1_i2\t\u001b[01;31m\u001b[KSRR1598943_1_(paired)_contig_7\u001b[m\u001b[K\t84.30\t242\t33\t4\t1413\t1653\t8506\t8269\t2e-67\t251\r\n",
      "TR43142_c2_g1_i4\t\u001b[01;31m\u001b[KSRR1598943_1_(paired)_contig_7\u001b[m\u001b[K\t74.47\t235\t50\t5\t125\t356\t11190\t10963\t7e-34\t140\r\n",
      "TR43142_c2_g1_i4\t\u001b[01;31m\u001b[KSRR1598943_1_(paired)_contig_7\u001b[m\u001b[K\t79.91\t428\t79\t6\t697\t1118\t10264\t9838\t3e-101\t363\r\n",
      "TR43142_c2_g1_i4\t\u001b[01;31m\u001b[KSRR1598943_1_(paired)_contig_7\u001b[m\u001b[K\t84.30\t242\t33\t4\t1414\t1654\t8506\t8269\t1e-67\t251\r\n",
      "TR43142_c2_g1_i6\t\u001b[01;31m\u001b[KSRR1598943_1_(paired)_contig_7\u001b[m\u001b[K\t79.91\t428\t79\t6\t352\t773\t10264\t9838\t1e-101\t363\r\n",
      "TR43142_c3_g2_i1\t\u001b[01;31m\u001b[KSRR1598943_1_(paired)_contig_7\u001b[m\u001b[K\t77.19\t171\t23\t2\t525\t679\t1475\t1645\t1e-33\t138\r\n",
      "TR43142_c3_g2_i1\t\u001b[01;31m\u001b[KSRR1598943_1_(paired)_contig_7\u001b[m\u001b[K\t83.00\t200\t34\t0\t221\t420\t752\t951\t8e-55\t208\r\n",
      "TR43142_c3_g2_i11\t\u001b[01;31m\u001b[KSRR1598943_1_(paired)_contig_7\u001b[m\u001b[K\t77.19\t171\t23\t2\t679\t833\t1475\t1645\t3e-33\t138\r\n",
      "TR43142_c3_g2_i11\t\u001b[01;31m\u001b[KSRR1598943_1_(paired)_contig_7\u001b[m\u001b[K\t83.00\t200\t34\t0\t375\t574\t752\t951\t2e-54\t208\r\n",
      "TR43142_c3_g2_i11\t\u001b[01;31m\u001b[KSRR1598943_1_(paired)_contig_7\u001b[m\u001b[K\t83.70\t135\t19\t3\t2015\t2147\t4076\t4209\t4e-32\t134\r\n",
      "TR43142_c3_g2_i11\t\u001b[01;31m\u001b[KSRR1598943_1_(paired)_contig_7\u001b[m\u001b[K\t91.30\t69\t6\t0\t1326\t1394\t2749\t2817\t3e-21\t98.7\r\n",
      "TR43142_c3_g2_i12\t\u001b[01;31m\u001b[KSRR1598943_1_(paired)_contig_7\u001b[m\u001b[K\t85.32\t109\t16\t0\t3\t111\t1537\t1645\t2e-30\t125\r\n",
      "TR43142_c3_g2_i2\t\u001b[01;31m\u001b[KSRR1598943_1_(paired)_contig_7\u001b[m\u001b[K\t88.99\t109\t12\t0\t11\t119\t1537\t1645\t6e-36\t143\r\n",
      "TR43142_c3_g2_i5\t\u001b[01;31m\u001b[KSRR1598943_1_(paired)_contig_7\u001b[m\u001b[K\t90.54\t74\t7\t0\t186\t259\t752\t825\t2e-23\t102\r\n",
      "TR43142_c3_g2_i6\t\u001b[01;31m\u001b[KSRR1598943_1_(paired)_contig_7\u001b[m\u001b[K\t76.34\t131\t31\t0\t104\t234\t752\t882\t7e-22\t96.9\r\n",
      "TR43142_c3_g2_i8\t\u001b[01;31m\u001b[KSRR1598943_1_(paired)_contig_7\u001b[m\u001b[K\t77.19\t171\t23\t2\t679\t833\t1475\t1645\t3e-33\t138\r\n",
      "TR43142_c3_g2_i8\t\u001b[01;31m\u001b[KSRR1598943_1_(paired)_contig_7\u001b[m\u001b[K\t83.00\t200\t34\t0\t375\t574\t752\t951\t2e-54\t208\r\n",
      "TR43142_c3_g2_i8\t\u001b[01;31m\u001b[KSRR1598943_1_(paired)_contig_7\u001b[m\u001b[K\t83.70\t135\t19\t3\t2015\t2147\t4076\t4209\t4e-32\t134\r\n",
      "TR43142_c3_g2_i8\t\u001b[01;31m\u001b[KSRR1598943_1_(paired)_contig_7\u001b[m\u001b[K\t91.30\t69\t6\t0\t1326\t1394\t2749\t2817\t3e-21\t98.7\r\n",
      "TR43142_c3_g2_i9\t\u001b[01;31m\u001b[KSRR1598943_1_(paired)_contig_7\u001b[m\u001b[K\t90.91\t66\t6\t0\t55\t120\t5769\t5704\t9e-21\t93.3\r\n",
      "TR43142_c3_g3_i1\t\u001b[01;31m\u001b[KSRR1598943_1_(paired)_contig_7\u001b[m\u001b[K\t80.88\t136\t22\t3\t17\t152\t7282\t7151\t1e-27\t118\r\n",
      "TR43142_c3_g3_i1\t\u001b[01;31m\u001b[KSRR1598943_1_(paired)_contig_7\u001b[m\u001b[K\t83.65\t104\t17\t0\t846\t949\t6158\t6055\t2e-25\t111\r\n",
      "TR43939_c0_g1_i1\t\u001b[01;31m\u001b[KSRR1598943_1_(paired)_contig_7\u001b[m\u001b[K\t73.21\t224\t55\t3\t49\t270\t2971\t2751\t2e-30\t125\r\n",
      "TR5274_c0_g1_i1\t\u001b[01;31m\u001b[KSRR1598943_1_(paired)_contig_7\u001b[m\u001b[K\t73.53\t238\t50\t8\t34\t268\t10963\t11190\t3e-29\t122\r\n",
      "TR944_c0_g1_i1\t\u001b[01;31m\u001b[KSRR1598943_1_(paired)_contig_7\u001b[m\u001b[K\t76.03\t292\t63\t6\t3\t288\t10214\t9924\t7e-50\t190\r\n"
     ]
    }
   ],
   "source": [
    "!fgrep --color \"SRR1598943_1_(paired)_contig_7\" /Users/sr320/git-repos/paper-mchil-sxt/nbs/analyses/Myt-sxt-v3_blastn_SRR1598943-20.sorted"
   ]
  },
  {
   "cell_type": "markdown",
   "metadata": {
    "button": false,
    "deletable": true,
    "new_sheet": false,
    "run_control": {
     "read_only": false
    }
   },
   "source": [
    "# easier to just blastn degs"
   ]
  },
  {
   "cell_type": "code",
   "execution_count": null,
   "metadata": {
    "button": false,
    "collapsed": true,
    "deletable": true,
    "new_sheet": false,
    "run_control": {
     "read_only": false
    }
   },
   "outputs": [],
   "source": []
  },
  {
   "cell_type": "code",
   "execution_count": null,
   "metadata": {
    "button": false,
    "collapsed": true,
    "deletable": true,
    "new_sheet": false,
    "run_control": {
     "read_only": false
    }
   },
   "outputs": [],
   "source": []
  },
  {
   "cell_type": "code",
   "execution_count": 51,
   "metadata": {
    "button": false,
    "collapsed": false,
    "deletable": true,
    "new_sheet": false,
    "run_control": {
     "read_only": false
    }
   },
   "outputs": [],
   "source": [
    "!tr ',' \"\\t\" </Users/sr320/git-repos/paper-mchil-sxt/data/S2-Myt-sxt-Diffexp888-Clusters.sorted> \\\n",
    "/Users/sr320/git-repos/paper-mchil-sxt/data/S2-Myt-sxt-Diffexp888-Clusters.sorted.tab"
   ]
  },
  {
   "cell_type": "markdown",
   "metadata": {
    "button": false,
    "collapsed": true,
    "deletable": true,
    "new_sheet": false,
    "run_control": {
     "read_only": false
    }
   },
   "source": [
    "# Make Track for SP Annotated Genes"
   ]
  },
  {
   "cell_type": "code",
   "execution_count": 91,
   "metadata": {
    "collapsed": false,
    "run_control": {}
   },
   "outputs": [
    {
     "name": "stdout",
     "output_type": "stream",
     "text": [
      ">TR10000_c0_g2_i1\r\n",
      "CTCATCTTGATTTATCTTAATCTTTGAAAATGGCTTCAGCATTGGAATCGTATGTGAATCGTACAGTTTCTATAGTCACAGCAGATGGAAGAATAATTGTGGGAACATTGAAAGGATTTGATCAAACAATCAACTTAATTCTAGACGAGAGCCATGAGAGGGTATATAGTGCTACACAAGGAGTAGAACAAGTCATTTTGGGACTATACATCATCAGGGGAGATAATGTAGCTTTGATAGGAGAGATAGATGATGAAGCTGACCAGAGATTAGATTTTAATGACATTAAGGCTGAACCTTTGAATTCAGTTTTACATTGATGTAAAGGATAAAAAGACATGTTATGGCTTGGAAATAAATCTCAGCTTAGTTGAATTACAGGAATTTTAGGACTTACAACCAAAGAGAATGTACATTTAATTACATAAATAAATGCAAGCTGATCAAGAGAGAGAGGGAGATTTTCAATACTTGTGTATGGTTTTGTGCTTAATTAACATTTTTAAAGTGTTAAAAGTGTCATAATATATTTTGAAGAATGCCTCCCTAACCTGTAAAGGAAGATTGATTATTTATAGCAATTACTTAAGGAAAAATAATAAATATTCAACATGTTCAAACTAAATTCATTTTTATTAAGTTAAGATAATTGAATGAGATGTTTGATTGTTTCTGTTGGTTCACAATTCCATGTCTAGGTTCAACTGACCTAGAAAGAGAAAGCGTATGTGCATCATTTCATAAATATTCTTATTTGAACTTTAGATGTCTAATTTAGTCAACTAGCCTGATGGGTTCAATTGCTGTCTCATTGACCTTACTTTTTCCTTTTATTCTTTCTGCAATTAATTAAGAAATATTTTATTTCTATAGAAATATTGAAAGTGATAAATAAAAGTTGAAATAAAAGCATGACACATAATTTAGACAACTAGAGTTTAAAATACTTTTTCACAATAGGAAATTTTTAAATAATCAAACATCTAAAAAATTAGTCCACTAGTACTTTGTGTAATGACCTATAAAACAGATTCCAAGAAAATTTATTGTCAATTGAGTCAAGTCTGAAAGAAAATTAGTTCGTTCATTTCTACTTCATTAATTTTCAGATTTCATTTGTTTGGTTAACTAAAATTTGTTGTTTCGCACATCCTATAGAAAAGTCAAATGAACTAATGCATTCCATATAATATATGTAAAAAAATTAGTTTGTATTCACGACAAAATTGATTAGTATTCATGGAAACTTGTAACTCAGGACTGAAATCACTTCCATAGTTCATACTGATCCCACATACAGAGAAGCATGGTGTATTTATCTTCTTACCCAAAGTACAATTTGCACTTGTCATTTTATCATGTTTTAATTCATAAATGTACAAAGACACACG\r\n"
     ]
    }
   ],
   "source": [
    "!head  -2 analyses/Mytilus-SXT.trimmed.trinity.v3.ANNOT.fa"
   ]
  },
  {
   "cell_type": "code",
   "execution_count": 92,
   "metadata": {
    "collapsed": false,
    "run_control": {}
   },
   "outputs": [
    {
     "name": "stdout",
     "output_type": "stream",
     "text": [
      "29445\r\n"
     ]
    }
   ],
   "source": [
    "!fgrep -c \">\" analyses/Mytilus-SXT.trimmed.trinity.v3.ANNOT.fa"
   ]
  },
  {
   "cell_type": "code",
   "execution_count": null,
   "metadata": {
    "collapsed": true,
    "run_control": {}
   },
   "outputs": [],
   "source": [
    "#blast this against genome..."
   ]
  },
  {
   "cell_type": "code",
   "execution_count": 93,
   "metadata": {
    "collapsed": true
   },
   "outputs": [],
   "source": [
    "!{bbin}blastn \\\n",
    "-task blastn \\\n",
    "-evalue 1e-20 \\\n",
    "-outfmt 6 \\\n",
    "-query analyses/Mytilus-SXT.trimmed.trinity.v3.ANNOT.fa \\\n",
    "-db ../data/SRR1598943 \\\n",
    "-out analyses/Myt-sxt-v3ANNOT_blastn_SRR1598943-20.out"
   ]
  },
  {
   "cell_type": "code",
   "execution_count": 94,
   "metadata": {
    "collapsed": false
   },
   "outputs": [
    {
     "name": "stdout",
     "output_type": "stream",
     "text": [
      "     344 analyses/Myt-sxt-v3ANNOT_blastn_SRR1598943-20.out\r\n"
     ]
    }
   ],
   "source": [
    "!wc -l analyses/Myt-sxt-v3ANNOT_blastn_SRR1598943-20.out"
   ]
  },
  {
   "cell_type": "code",
   "execution_count": 95,
   "metadata": {
    "collapsed": true,
    "run_control": {}
   },
   "outputs": [],
   "source": [
    "!perl /Users/sr320/git-repos/LabDocs/code/script-box/2_Blast2Gff.pl \\\n",
    "-i analyses/Myt-sxt-v3ANNOT_blastn_SRR1598943-20.out \\\n",
    "-s \"something\" -o analyses/Myt-sxt-v3ANNOT_blastn_SRR1598943-20.gff -p \"ANNOT-blast\" -d \"SRR1598943\"\n",
    "\n",
    "\n"
   ]
  },
  {
   "cell_type": "code",
   "execution_count": null,
   "metadata": {
    "collapsed": true,
    "run_control": {}
   },
   "outputs": [],
   "source": []
  }
 ],
 "metadata": {
  "kernelspec": {
   "display_name": "Python 3",
   "language": "python",
   "name": "python3"
  },
  "language_info": {
   "codemirror_mode": {
    "name": "ipython",
    "version": 3
   },
   "file_extension": ".py",
   "mimetype": "text/x-python",
   "name": "python",
   "nbconvert_exporter": "python",
   "pygments_lexer": "ipython3",
   "version": "3.5.0"
  }
 },
 "nbformat": 4,
 "nbformat_minor": 0
}
