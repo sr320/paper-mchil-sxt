{
 "cells": [
  {
   "cell_type": "markdown",
   "metadata": {
    "button": false,
    "deletable": true,
    "new_sheet": false,
    "run_control": {
     "read_only": false
    }
   },
   "source": [
    "<img src=\"http://eagle.fish.washington.edu/cnidarian/skitch/Mytilus_-_SRA_-_NCBI_1C21BE5F.png\" alt=\"Mytilus_-_SRA_-_NCBI_1C21BE5F.png\"/>"
   ]
  },
  {
   "cell_type": "code",
   "execution_count": null,
   "metadata": {
    "button": false,
    "collapsed": true,
    "deletable": true,
    "new_sheet": false,
    "run_control": {
     "read_only": false
    }
   },
   "outputs": [],
   "source": [
    "ftp://ftp-trace.ncbi.nih.gov/sra/sra-instant/reads/BySample/sra/SRS/SRS716/SRS716282/"
   ]
  },
  {
   "cell_type": "code",
   "execution_count": 1,
   "metadata": {
    "button": false,
    "collapsed": false,
    "deletable": true,
    "new_sheet": false,
    "run_control": {
     "read_only": false
    }
   },
   "outputs": [
    {
     "name": "stdout",
     "output_type": "stream",
     "text": [
      "/Volumes/Monarch/mchil-stx\n"
     ]
    }
   ],
   "source": [
    "cd /Volumes/Monarch/mchil-stx"
   ]
  },
  {
   "cell_type": "code",
   "execution_count": 2,
   "metadata": {
    "button": false,
    "collapsed": false,
    "deletable": true,
    "new_sheet": false,
    "run_control": {
     "read_only": false
    }
   },
   "outputs": [
    {
     "name": "stdout",
     "output_type": "stream",
     "text": [
      "  % Total    % Received % Xferd  Average Speed   Time    Time     Time  Current\n",
      "                                 Dload  Upload   Total   Spent    Left  Speed\n",
      "100 3602M  100 3602M    0     0   371k      0  2:45:39  2:45:39 --:--:--  362k\n"
     ]
    }
   ],
   "source": [
    "!curl -O ftp://ftp-trace.ncbi.nih.gov/sra/sra-instant/reads/BySample/sra/SRS/SRS716/SRS716282/SRR1598943/SRR1598943.sra"
   ]
  },
  {
   "cell_type": "markdown",
   "metadata": {
    "button": false,
    "collapsed": true,
    "deletable": true,
    "new_sheet": false,
    "run_control": {
     "read_only": false
    }
   },
   "source": [
    "# Blast sequences against draft genome ()"
   ]
  },
  {
   "cell_type": "code",
   "execution_count": 7,
   "metadata": {
    "collapsed": false
   },
   "outputs": [
    {
     "name": "stdout",
     "output_type": "stream",
     "text": [
      "/Users/sr320/git-repos/paper-mchil-sxt/nbs\n"
     ]
    }
   ],
   "source": [
    "cd nbs"
   ]
  },
  {
   "cell_type": "code",
   "execution_count": 8,
   "metadata": {
    "collapsed": false,
    "run_control": {}
   },
   "outputs": [
    {
     "name": "stdout",
     "output_type": "stream",
     "text": [
      ">SRR1598943_1_(paired)_contig_1\r\n",
      "GTCCTTCAAGTATTAAATATTGTTTTGGATGGTATTTTTTTAGTGTACATGTAGGTAAAT\r\n",
      "CAGTCTTTCTATGATTGTTTCAGGCAATCAAAGGATATTGCTTGTAGGAAAATTGTTAAT\r\n",
      "ATTTACACCACATCATCATTTTCTCGAACAATAATAACCATGATAACAGTAATTTTTTTT\r\n",
      "AAAATGTACATTATGTTTTTTGCATACACCTAAGAGAAGTTTAGGGCAATTCCAAGTCTG\r\n",
      "AAGTAATTGTCCATAAGCATGGGAAGGGTAATTCAATCAAGCAAGGGGGATGGAACACTG\r\n",
      "GGTTTACTCCTAGCTAACACCAATTAAGATATAGTAACACTAGTAACCCGAATTTANNNN\r\n",
      "NNNNNNNNNNNNNNNNNNNNNNNNNNNNNNNNNNNNNNNNNNNNNNNNNNNNNNNNNNNN\r\n",
      "NNNNNNNNNNNNNNNNNNNNNNNNNNNNNNNNNNNNNNNNNNNNNNNNNNNNNNNNNNNN\r\n",
      "NNNNNNNNNNNNNNNNNNNNNNNNNNNNNNNNNNNNNNNNNNNNNNNNNNNNNNNNNNNN\r\n"
     ]
    }
   ],
   "source": [
    "!head ../data/SRR1598943.fa"
   ]
  },
  {
   "cell_type": "code",
   "execution_count": 9,
   "metadata": {
    "collapsed": true,
    "run_control": {}
   },
   "outputs": [],
   "source": [
    "bbin=\"/Applications/ncbi-blast-2.2.31+/bin/\""
   ]
  },
  {
   "cell_type": "code",
   "execution_count": 10,
   "metadata": {
    "collapsed": false,
    "run_control": {}
   },
   "outputs": [
    {
     "name": "stdout",
     "output_type": "stream",
     "text": [
      "\n",
      "\n",
      "Building a new DB, current time: 12/17/2015 13:14:11\n",
      "New DB name:   /Users/sr320/git-repos/paper-mchil-sxt/data/SRR1598943\n",
      "New DB title:  ../data/SRR1598943.fa\n",
      "Sequence type: Nucleotide\n",
      "Keep Linkouts: T\n",
      "Keep MBits: T\n",
      "Maximum file size: 1000000000B\n",
      "Adding sequences from FASTA; added 41 sequences in 0.0388579 seconds.\n"
     ]
    }
   ],
   "source": [
    "!{bbin}makeblastdb \\\n",
    "-in ../data/SRR1598943.fa \\\n",
    "-out ../data/SRR1598943 \\\n",
    "-dbtype nucl"
   ]
  },
  {
   "cell_type": "code",
   "execution_count": 11,
   "metadata": {
    "collapsed": true,
    "run_control": {}
   },
   "outputs": [],
   "source": [
    "!{bbin}blastn \\\n",
    "-task blastn \\\n",
    "-evalue 1e-20 \\\n",
    "-outfmt 6 \\\n",
    "-query ../data/Mytilus-SXT.trimmed.trinity.v3.fa \\\n",
    "-db ../data/SRR1598943 \\\n",
    "-out analyses/Myt-sxt-v3_blastn_SRR1598943-20.out"
   ]
  },
  {
   "cell_type": "code",
   "execution_count": 23,
   "metadata": {
    "collapsed": false
   },
   "outputs": [
    {
     "name": "stdout",
     "output_type": "stream",
     "text": [
      "    3698 analyses/Myt-sxt-v3_blastn_SRR1598943-20-10-0-4.out\r\n"
     ]
    }
   ],
   "source": [
    "!{bbin}blastn \\\n",
    "-task blastn \\\n",
    "-evalue 1e-20 \\\n",
    "-word_size 10 \\\n",
    "-gapopen 0 \\\n",
    "-gapextend 4 \\\n",
    "-num_threads 4 \\\n",
    "-outfmt 6 \\\n",
    "-query ../data/Mytilus-SXT.trimmed.trinity.v3.fa \\\n",
    "-db ../data/SRR1598943 \\\n",
    "-out analyses/Myt-sxt-v3_blastn_SRR1598943-20-10-0-4.out\n",
    "!wc -l analyses/Myt-sxt-v3_blastn_SRR1598943-20-10-0-4.out"
   ]
  },
  {
   "cell_type": "code",
   "execution_count": null,
   "metadata": {
    "collapsed": true
   },
   "outputs": [],
   "source": []
  },
  {
   "cell_type": "code",
   "execution_count": 12,
   "metadata": {
    "collapsed": false,
    "run_control": {}
   },
   "outputs": [
    {
     "name": "stdout",
     "output_type": "stream",
     "text": [
      "TR10033_c0_g1_i1\tSRR1598943_1_(paired)_contig_11\t92.86\t84\t5\t1\t1\t84\t11898\t11816\t5e-29\t122\r\n",
      "TR10065_c0_g1_i1\tSRR1598943_1_(paired)_contig_17\t89.53\t86\t9\t0\t142\t227\t1569\t1654\t3e-27\t114\r\n",
      "TR10105_c0_g2_i1\tSRR1598943_1_(paired)_contig_1\t73.86\t176\t34\t6\t1\t167\t8718\t8890\t7e-21\t95.1\r\n",
      "TR1028_c0_g1_i1\tSRR1598943_1_(paired)_contig_1\t75.40\t187\t36\t4\t110\t293\t8894\t8715\t3e-29\t122\r\n",
      "TR10615_c1_g1_i1\tSRR1598943_1_(paired)_contig_11\t98.44\t64\t1\t0\t2\t65\t11821\t11884\t6e-26\t111\r\n",
      "TR10674_c1_g1_i1\tSRR1598943_1_(paired)_contig_15\t78.52\t135\t16\t2\t124\t246\t8787\t8654\t8e-28\t116\r\n",
      "TR10701_c3_g1_i1\tSRR1598943_1_(paired)_contig_1\t88.10\t84\t10\t0\t315\t398\t8710\t8793\t7e-25\t107\r\n",
      "TR10701_c4_g1_i1\tSRR1598943_1_(paired)_contig_17\t84.21\t95\t14\t1\t109\t202\t1547\t1641\t6e-23\t100\r\n",
      "TR10712_c0_g1_i1\tSRR1598943_1_(paired)_contig_4\t74.12\t170\t40\t2\t39\t207\t10022\t9856\t6e-24\t104\r\n",
      "TR10824_c0_g1_i1\tSRR1598943_1_(paired)_contig_15\t83.78\t111\t10\t4\t5\t114\t14157\t14260\t1e-25\t109\r\n"
     ]
    }
   ],
   "source": [
    "!head analyses/Myt-sxt-v3_blastn_SRR1598943-20.out"
   ]
  },
  {
   "cell_type": "code",
   "execution_count": 14,
   "metadata": {
    "collapsed": false,
    "run_control": {}
   },
   "outputs": [
    {
     "name": "stdout",
     "output_type": "stream",
     "text": [
      "    4591 analyses/Myt-sxt-v3_blastn_SRR1598943-20.out\r\n"
     ]
    }
   ],
   "source": [
    "!wc -l analyses/Myt-sxt-v3_blastn_SRR1598943-20.out"
   ]
  },
  {
   "cell_type": "code",
   "execution_count": 19,
   "metadata": {
    "collapsed": false,
    "run_control": {}
   },
   "outputs": [],
   "source": [
    "!perl /Users/sr320/git-repos/LabDocs/code/script-box/2_Blast2Gff.pl \\\n",
    "-i analyses/Myt-sxt-v3_blastn_SRR1598943-20.out \\\n",
    "-s \"something\" -o analyses/Myt-sxt-v3_blastn_SRR1598943-20.gff -p \"gene-blast\" -d \"SRR1598943\"\n",
    "\n"
   ]
  },
  {
   "cell_type": "code",
   "execution_count": 20,
   "metadata": {
    "collapsed": false,
    "run_control": {}
   },
   "outputs": [
    {
     "name": "stdout",
     "output_type": "stream",
     "text": [
      "SRR1598943_1_(paired)_contig_11\tblastn:SRR1598943\tblastn\t11898\t11816\t5e-29\t-\t.\tTR10033_c0_g1_i1\t\r\n",
      "SRR1598943_1_(paired)_contig_17\tblastn:SRR1598943\tblastn\t1569\t1654\t3e-27\t+\t.\tTR10065_c0_g1_i1\t\r\n",
      "SRR1598943_1_(paired)_contig_1\tblastn:SRR1598943\tblastn\t8718\t8890\t7e-21\t+\t.\tTR10105_c0_g2_i1\t\r\n",
      "SRR1598943_1_(paired)_contig_1\tblastn:SRR1598943\tblastn\t8894\t8715\t3e-29\t-\t.\tTR1028_c0_g1_i1\t\r\n",
      "SRR1598943_1_(paired)_contig_11\tblastn:SRR1598943\tblastn\t11821\t11884\t6e-26\t+\t.\tTR10615_c1_g1_i1\t\r\n",
      "SRR1598943_1_(paired)_contig_15\tblastn:SRR1598943\tblastn\t8787\t8654\t8e-28\t-\t.\tTR10674_c1_g1_i1\t\r\n",
      "SRR1598943_1_(paired)_contig_1\tblastn:SRR1598943\tblastn\t8710\t8793\t7e-25\t+\t.\tTR10701_c3_g1_i1\t\r\n",
      "SRR1598943_1_(paired)_contig_17\tblastn:SRR1598943\tblastn\t1547\t1641\t6e-23\t+\t.\tTR10701_c4_g1_i1\t\r\n",
      "SRR1598943_1_(paired)_contig_4\tblastn:SRR1598943\tblastn\t10022\t9856\t6e-24\t-\t.\tTR10712_c0_g1_i1\t\r\n",
      "SRR1598943_1_(paired)_contig_15\tblastn:SRR1598943\tblastn\t14157\t14260\t1e-25\t+\t.\tTR10824_c0_g1_i1\t\r\n"
     ]
    }
   ],
   "source": [
    "!head analyses/Myt-sxt-v3_blastn_SRR1598943-20.gff"
   ]
  },
  {
   "cell_type": "code",
   "execution_count": 22,
   "metadata": {
    "collapsed": false,
    "run_control": {}
   },
   "outputs": [
    {
     "name": "stdout",
     "output_type": "stream",
     "text": [
      "    4591 analyses/Myt-sxt-v3_blastn_SRR1598943-20.gff\r\n"
     ]
    }
   ],
   "source": [
    "!wc -l analyses/Myt-sxt-v3_blastn_SRR1598943-20.gff"
   ]
  },
  {
   "cell_type": "code",
   "execution_count": 24,
   "metadata": {
    "collapsed": true,
    "run_control": {}
   },
   "outputs": [],
   "source": [
    "#sorting indexing BAM"
   ]
  },
  {
   "cell_type": "code",
   "execution_count": null,
   "metadata": {
    "collapsed": true,
    "run_control": {}
   },
   "outputs": [],
   "source": []
  },
  {
   "cell_type": "code",
   "execution_count": 30,
   "metadata": {
    "collapsed": false,
    "run_control": {}
   },
   "outputs": [
    {
     "name": "stdout",
     "output_type": "stream",
     "text": [
      "[bam_sort_core] merging from 20 files...\r\n"
     ]
    }
   ],
   "source": [
    "!/Applications/samtools-1.2/samtools sort \\\n",
    "/Volumes/Monarch/mchil-stx/C0g.bam /Volumes/Monarch/mchil-stx/C0gsorted"
   ]
  },
  {
   "cell_type": "code",
   "execution_count": 32,
   "metadata": {
    "collapsed": false,
    "run_control": {}
   },
   "outputs": [],
   "source": [
    "!/Applications/samtools-1.2/samtools index \\\n",
    "/Volumes/Monarch/mchil-stx/C0gsorted.bam"
   ]
  },
  {
   "cell_type": "code",
   "execution_count": null,
   "metadata": {
    "collapsed": true,
    "run_control": {}
   },
   "outputs": [],
   "source": []
  }
 ],
 "metadata": {
  "kernelspec": {
   "display_name": "Python 3",
   "language": "python",
   "name": "python3"
  },
  "language_info": {
   "codemirror_mode": {
    "name": "ipython",
    "version": 3
   },
   "file_extension": ".py",
   "mimetype": "text/x-python",
   "name": "python",
   "nbconvert_exporter": "python",
   "pygments_lexer": "ipython3",
   "version": "3.5.0"
  }
 },
 "nbformat": 4,
 "nbformat_minor": 0
}
