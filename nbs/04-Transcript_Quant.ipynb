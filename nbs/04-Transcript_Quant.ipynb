{
 "cells": [
  {
   "cell_type": "markdown",
   "metadata": {
    "button": false,
    "deletable": true,
    "new_sheet": false,
    "run_control": {
     "read_only": false
    }
   },
   "source": [
    "# Transcript Quantification"
   ]
  },
  {
   "cell_type": "code",
   "execution_count": 1,
   "metadata": {
    "button": false,
    "collapsed": true,
    "deletable": true,
    "new_sheet": false,
    "run_control": {
     "read_only": false
    }
   },
   "outputs": [],
   "source": [
    "TRINITY_HOME=\"/Volumes/air_clone/Applications/trinityrnaseq-2.1.1\""
   ]
  },
  {
   "cell_type": "code",
   "execution_count": 2,
   "metadata": {
    "button": false,
    "collapsed": false,
    "deletable": true,
    "new_sheet": false,
    "run_control": {
     "read_only": false
    }
   },
   "outputs": [
    {
     "name": "stdout",
     "output_type": "stream",
     "text": [
      "\r\n",
      "#########################################################################\r\n",
      "#\r\n",
      "#  --transcripts <string>           transcript fasta file\r\n",
      "#  --seqType <string>               fq|fa\r\n",
      "# \r\n",
      "#  If Paired-end:\r\n",
      "#\r\n",
      "#  --left <string>\r\n",
      "#  --right <string>\r\n",
      "#  \r\n",
      "#    or Single-end:\r\n",
      "#\r\n",
      "#  --single <string>\r\n",
      "#\r\n",
      "#  --est_method <string>           abundance estimation method.\r\n",
      "#                                        alignment_based:  RSEM|eXpress       \r\n",
      "#                                        alignment_free: kallisto\r\n",
      "#  \r\n",
      "# --output_dir <string>            write all files to output directory\r\n",
      "#  \r\n",
      "#\r\n",
      "#  if alignment_based est_method:\r\n",
      "#       --aln_method <string>            bowtie|bowtie2|(path to bam file) alignment method.  (note: RSEM requires bowtie)\r\n",
      "#                                       (if you already have a bam file, you can use it here instead of rerunning bowtie)\r\n",
      "#\r\n",
      "# Optional:\r\n",
      "# \r\n",
      "# --SS_lib_type <string>           strand-specific library type:  paired('RF' or 'FR'), single('F' or 'R').\r\n",
      "#\r\n",
      "# --thread_count                   number of threads to use (default = 4)\r\n",
      "#\r\n",
      "# --max_ins_size <int>             maximum insert size (bowtie -X parameter, default: 800)\r\n",
      "#\r\n",
      "# --debug                          retain intermediate files\r\n",
      "#\r\n",
      "#\r\n",
      "#  --gene_trans_map <string>        file containing 'gene(tab)transcript' identifiers per line.\r\n",
      "#     or  \r\n",
      "#  --trinity_mode                   Setting --trinity_mode will automatically generate the gene_trans_map and use it.\r\n",
      "#\r\n",
      "#\r\n",
      "#  --prep_reference                 prep reference set for eXpress (builds bowtie index, etc)\r\n",
      "#\r\n",
      "#  --output_prefix <string>         prefix for output files.  Defaults to --est_method setting.\r\n",
      "#\r\n",
      "#\r\n",
      "#  if alignment_based method:\r\n",
      "#        --coordsort_bam                  provide coord-sorted bam in addition to the default (unsorted) bam.\r\n",
      "#\r\n",
      "#  --show_full_usage_info           provide more detailed usage info for customizing the alignment or abundance estimation parameters.\r\n",
      "#\r\n",
      "#############################\r\n",
      "#  RSEM opts:\r\n",
      "#  --fragment_length <int>         optionally specify fragment length (not seq length, but frag size ie. 300) for SE reads.\r\n",
      "#\r\n",
      "#  --include_rsem_bam              provide the RSEM enhanced bam file including posterior probabilities of read assignments.\r\n",
      "#\r\n",
      "#########################################################################\r\n",
      "#\r\n",
      "#  Example usage:\r\n",
      "#\r\n",
      "#   ## Just prepare the reference for alignment and abundance estimation\r\n",
      "#\r\n",
      "#    /Volumes/air_clone/Applications/trinityrnaseq-2.1.1/util/align_and_estimate_abundance.pl --transcripts Trinity.fasta --est_method RSEM --aln_method bowtie --trinity_mode --prep_reference\r\n",
      "#\r\n",
      "#   ## Run the alignment and abundance estimation (assumes reference has already been prepped, errors-out if prepped reference not located.)\r\n",
      "#\r\n",
      "#    /Volumes/air_clone/Applications/trinityrnaseq-2.1.1/util/align_and_estimate_abundance.pl --transcripts Trinity.fasta --seqType fq --left reads_1.fq --right reads_2.fq --est_method RSEM --aln_method bowtie --trinity_mode \r\n",
      "#\r\n",
      "##  ## prep the reference and run the alignment/estimation\r\n",
      "#\r\n",
      "#    /Volumes/air_clone/Applications/trinityrnaseq-2.1.1/util/align_and_estimate_abundance.pl --transcripts Trinity.fasta --seqType fq --left reads_1.fq --right reads_2.fq --est_method RSEM --aln_method bowtie --trinity_mode --prep_reference\r\n",
      "#\r\n",
      "#########################################################################\r\n",
      "\r\n",
      "\r\n"
     ]
    }
   ],
   "source": [
    "!{TRINITY_HOME}/util/align_and_estimate_abundance.pl \n"
   ]
  },
  {
   "cell_type": "code",
   "execution_count": 8,
   "metadata": {
    "button": false,
    "collapsed": false,
    "deletable": true,
    "new_sheet": false,
    "run_control": {
     "read_only": false
    }
   },
   "outputs": [
    {
     "name": "stdout",
     "output_type": "stream",
     "text": [
      "ERROR, cannot find samtools in PATH setting: /Volumes/air_clone/Applications/trinityrnaseq-2.1.1/util/../trinity-plugins/rsem:/usr/bin:/bin:/usr/sbin:/sbin\r\n",
      "\r\n",
      "ERROR, cannot find kallisto in PATH setting: /Volumes/air_clone/Applications/trinityrnaseq-2.1.1/util/../trinity-plugins/rsem:/usr/bin:/bin:/usr/sbin:/sbin\r\n",
      "\r\n",
      "Please be sure bowtie and express are installed and the utilities samtools kallisto are available via your PATH setting.\r\n"
     ]
    }
   ],
   "source": [
    "#running in terminal\n",
    "\n",
    "/Volumes/air_clone/Applications/trinityrnaseq-2.1.1/util/align_and_estimate_abundance.pl \\\n",
    "--transcripts /Users/sr320/git-repos/paper-mchil-sxt/data/Mytilus-SXT.trimmed.trinity.fa \\\n",
    "--prep_reference \\\n",
    "--seqType fq \\\n",
    "--left /Volumes/Monarch/mchil-stx/fq/C0_1.fastq \\\n",
    "--right /Volumes/Monarch/mchil-stx/fq/C0_2.fastq \\\n",
    "--output_dir /Users/sr320/Desktop/align-est-C01 \\\n",
    "--est_method kallisto \n"
   ]
  },
  {
   "cell_type": "code",
   "execution_count": 6,
   "metadata": {
    "button": false,
    "collapsed": false,
    "deletable": true,
    "new_sheet": false,
    "run_control": {
     "read_only": false
    }
   },
   "outputs": [
    {
     "name": "stdout",
     "output_type": "stream",
     "text": [
      "\r\n",
      "Program: samtools (Tools for alignments in the SAM format)\r\n",
      "Version: 1.2 (using htslib 1.2.1)\r\n",
      "\r\n",
      "Usage:   samtools <command> [options]\r\n",
      "\r\n",
      "Commands:\r\n",
      "  -- indexing\r\n",
      "         faidx       index/extract FASTA\r\n",
      "         index       index alignment\r\n",
      "  -- editing\r\n",
      "         calmd       recalculate MD/NM tags and '=' bases\r\n",
      "         fixmate     fix mate information\r\n",
      "         reheader    replace BAM header\r\n",
      "         rmdup       remove PCR duplicates\r\n",
      "         targetcut   cut fosmid regions (for fosmid pool only)\r\n",
      "  -- file operations\r\n",
      "         bamshuf     shuffle and group alignments by name\r\n",
      "         cat         concatenate BAMs\r\n",
      "         merge       merge sorted alignments\r\n",
      "         mpileup     multi-way pileup\r\n",
      "         sort        sort alignment file\r\n",
      "         split       splits a file by read group\r\n",
      "         bam2fq      converts a BAM to a FASTQ\r\n",
      "  -- stats\r\n",
      "         bedcov      read depth per BED region\r\n",
      "         depth       compute the depth\r\n",
      "         flagstat    simple stats\r\n",
      "         idxstats    BAM index stats\r\n",
      "         phase       phase heterozygotes\r\n",
      "         stats       generate stats (former bamcheck)\r\n",
      "  -- viewing\r\n",
      "         flags       explain BAM flags\r\n",
      "         tview       text alignment viewer\r\n",
      "         view        SAM<->BAM<->CRAM conversion\r\n",
      "\r\n"
     ]
    }
   ],
   "source": [
    "!/Applications/samtools-1.2/samtools"
   ]
  },
  {
   "cell_type": "code",
   "execution_count": null,
   "metadata": {
    "button": false,
    "collapsed": true,
    "deletable": true,
    "new_sheet": false,
    "run_control": {
     "read_only": false
    }
   },
   "outputs": [],
   "source": []
  }
 ],
 "metadata": {
  "kernelspec": {
   "display_name": "Python 3",
   "language": "python",
   "name": "python3"
  },
  "language_info": {
   "codemirror_mode": {
    "name": "ipython",
    "version": 3
   },
   "file_extension": ".py",
   "mimetype": "text/x-python",
   "name": "python",
   "nbconvert_exporter": "python",
   "pygments_lexer": "ipython3",
   "version": "3.5.0"
  }
 },
 "nbformat": 4,
 "nbformat_minor": 0
}
