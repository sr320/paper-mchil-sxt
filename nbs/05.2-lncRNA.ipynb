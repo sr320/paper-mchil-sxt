{
 "cells": [
  {
   "cell_type": "markdown",
   "metadata": {
    "button": false,
    "deletable": true,
    "new_sheet": false,
    "run_control": {
     "read_only": false
    }
   },
   "source": [
    "# Comparing CLC lncRNA "
   ]
  },
  {
   "cell_type": "code",
   "execution_count": 2,
   "metadata": {
    "collapsed": false,
    "run_control": {}
   },
   "outputs": [
    {
     "name": "stdout",
     "output_type": "stream",
     "text": [
      ">Control_contig_1_(1)_consensus \r\n",
      "TTCATATATATTAAAAAGCATTAGTAAAAGATTTCGTGCGAATTTTCTGCAGTACTTGTT\r\n",
      "CATGCAAAGTGCATCGTTCTGTGTTTAAGATGTGAAATTATTTTGGTGCAATTATTAAGT\r\n",
      "AGATTTCTATCACTGATAATTAAACGCCAAGCATCAAATGGCATGGTTAATTCAGCTTAA\r\n",
      "ATTGGATATACAAAATGCAATTTTTATTGGAACATGAAGACTTTTAATACATACAAGTGA\r\n",
      "AAATGGTTGATGT\r\n",
      ">Control_contig_1_(2)_consensus \r\n",
      "TCGTGTTAGTAATTATTCTAGATAACTCCTTTACCCTTTAAACTGTTCGGTAAACAACTG\r\n",
      "AATTTCAATCATTCAACAAGTAACCAAAAATTGTGTATGAAAATTTTCAATTTTTCTGTG\r\n",
      "AAAAGGAAAAAGAAACAATCCGATTCAATTAGATGTAATTGACGTTAAATGTTTTAAAAA\r\n"
     ]
    }
   ],
   "source": [
    "!head ../data/lncRNA-mytilus-CLC.fa"
   ]
  },
  {
   "cell_type": "code",
   "execution_count": 3,
   "metadata": {
    "collapsed": false,
    "run_control": {}
   },
   "outputs": [
    {
     "name": "stdout",
     "output_type": "stream",
     "text": [
      "8505\r\n"
     ]
    }
   ],
   "source": [
    "!fgrep -c \">\" ../data/lncRNA-mytilus-CLC.fa"
   ]
  },
  {
   "cell_type": "code",
   "execution_count": 6,
   "metadata": {
    "collapsed": true
   },
   "outputs": [],
   "source": [
    "bbin=\"/Applications/ncbi-blast-2.2.31+/bin/\""
   ]
  },
  {
   "cell_type": "code",
   "execution_count": null,
   "metadata": {
    "collapsed": false,
    "run_control": {}
   },
   "outputs": [],
   "source": [
    "!{bbin}blastn \\\n",
    "-task blastn \\\n",
    "-evalue 1e-5 \\\n",
    "-outfmt 6 \\\n",
    "-num_threads 3 \\\n",
    "-query ../data/lncRNA-mytilus-CLC.fa \\\n",
    "-db analyses/transrate-Cgigas-pep/Mytilus-SXT.trimmed.trinity.v3/Mytilus-SXT.trimmed.trinity.v3 \\\n",
    "-out analyses/lncRNA-CLC-blastn-Trinity-v3-05.out"
   ]
  },
  {
   "cell_type": "code",
   "execution_count": null,
   "metadata": {
    "collapsed": true
   },
   "outputs": [],
   "source": [
    "!wc -l analyses/lncRNA-CLC-blastn-Trinity-v3-05.out"
   ]
  },
  {
   "cell_type": "code",
   "execution_count": null,
   "metadata": {
    "collapsed": true,
    "run_control": {}
   },
   "outputs": [],
   "source": [
    "!{bbin}blastn \\\n",
    "-task blastn \\\n",
    "-evalue 1e-60 \\\n",
    "-outfmt 6 \\\n",
    "-num_threads 3 \\\n",
    "-query ../data/lncRNA-mytilus-CLC.fa \\\n",
    "-db analyses/transrate-Cgigas-pep/Mytilus-SXT.trimmed.trinity.v3/Mytilus-SXT.trimmed.trinity.v3 \\\n",
    "-out analyses/lncRNA-CLC-blastn-Trinity-v3-60.out"
   ]
  },
  {
   "cell_type": "code",
   "execution_count": null,
   "metadata": {
    "collapsed": true,
    "run_control": {}
   },
   "outputs": [],
   "source": [
    "!wc -l analyses/lncRNA-CLC-blastn-Trinity-v3-60.out"
   ]
  },
  {
   "cell_type": "code",
   "execution_count": null,
   "metadata": {
    "collapsed": true,
    "run_control": {}
   },
   "outputs": [],
   "source": []
  }
 ],
 "metadata": {
  "kernelspec": {
   "display_name": "Python 3",
   "language": "python",
   "name": "python3"
  },
  "language_info": {
   "codemirror_mode": {
    "name": "ipython",
    "version": 3
   },
   "file_extension": ".py",
   "mimetype": "text/x-python",
   "name": "python",
   "nbconvert_exporter": "python",
   "pygments_lexer": "ipython3",
   "version": "3.5.0"
  }
 },
 "nbformat": 4,
 "nbformat_minor": 0
}
