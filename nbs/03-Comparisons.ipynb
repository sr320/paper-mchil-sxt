{
 "cells": [
  {
   "cell_type": "markdown",
   "metadata": {
    "button": false,
    "collapsed": true,
    "deletable": true,
    "new_sheet": false,
    "run_control": {
     "read_only": false
    }
   },
   "source": [
    "# Comparing with other transcriptomes"
   ]
  },
  {
   "cell_type": "markdown",
   "metadata": {
    "run_control": {}
   },
   "source": [
    "<img src=\"http://eagle.fish.washington.edu/cnidarian/skitch/BMC_Genomics___Full_text___RNA-Seq_in__it_Mytilus_galloprovincialis__it___comparative_transcriptomics_and_expression_profiles_among_different_tissues_1C11D3DC.png\" alt=\"BMC_Genomics___Full_text___RNA-Seq_in__it_Mytilus_galloprovincialis__it___comparative_transcriptomics_and_expression_profiles_among_different_tissues_1C11D3DC.png\"/>"
   ]
  },
  {
   "cell_type": "code",
   "execution_count": 1,
   "metadata": {
    "collapsed": false,
    "run_control": {}
   },
   "outputs": [
    {
     "name": "stdout",
     "output_type": "stream",
     "text": [
      ">CL1.Contig1_All    size  476    gap  0  0%\r\n",
      "GTGGCTGAAAAGTGTTAAAAAATCACATGGATCGGTGGAAGTTACTTCTC\r\n",
      "TGTCTCAAGCCGATGCTATTAATGAGATAGGCATCTACAAAATTGGAAAC\r\n",
      "TGGACAAAACGAAACATGAATGAAAACATGACAATTACAGACGTGTTGGA\r\n",
      "ACTGATCTTACCCGAAACGAAAGACGGTTCAATGAGGCGTTACACATTCC\r\n",
      "AGAAGCTTAATGACTTGCAGTCACGTTTAATGTTGGTAGCTGGCAAGGCA\r\n",
      "GATAAGGGAAAAGATAGTGTTGATAGATTTATGTTGATCCTCGATTCTGT\r\n",
      "TGTCCGTTTAGGCCAAATCTACATCAAACTGCTCACTGACGGTTGTGTAT\r\n",
      "TATTTTCAAAGTGGTATGTAAATTTACTCTGTGACAAAACAAGACCAGCA\r\n",
      "TGCGTTCATATTCACTTTGGGGAAGGAACAAACAAAGTAATATTGAAAGG\r\n"
     ]
    }
   ],
   "source": [
    "!head ../data/Moreira2015-Transcriptome.fa"
   ]
  },
  {
   "cell_type": "code",
   "execution_count": 2,
   "metadata": {
    "collapsed": false,
    "run_control": {}
   },
   "outputs": [
    {
     "name": "stdout",
     "output_type": "stream",
     "text": [
      "151320\r\n"
     ]
    }
   ],
   "source": [
    "!fgrep -c \">\" ../data/Moreira2015-Transcriptome.fa"
   ]
  },
  {
   "cell_type": "code",
   "execution_count": 3,
   "metadata": {
    "collapsed": false,
    "run_control": {}
   },
   "outputs": [
    {
     "name": "stdout",
     "output_type": "stream",
     "text": [
      "\r\n",
      "0:999 \t132168\r\n",
      "1000:1999 \t13534\r\n",
      "2000:2999 \t3559\r\n",
      "3000:3999 \t1178\r\n",
      "4000:4999 \t462\r\n",
      "5000:5999 \t193\r\n",
      "6000:6999 \t97\r\n",
      "7000:7999 \t50\r\n",
      "8000:8999 \t37\r\n",
      "9000:9999 \t17\r\n",
      "10000:10999 \t10\r\n",
      "11000:11999 \t5\r\n",
      "12000:12999 \t4\r\n",
      "13000:13999 \t0\r\n",
      "14000:14999 \t1\r\n",
      "15000:15999 \t2\r\n",
      "16000:16999 \t2\r\n",
      "17000:17999 \t1\r\n",
      "\r\n",
      "Total length of sequence:\t86228867 bp\r\n",
      "Total number of sequences:\t151320\r\n",
      "N25 stats:\t\t\t25% of total sequence length is contained in the 7864 sequences >= 1705 bp\r\n",
      "N50 stats:\t\t\t50% of total sequence length is contained in the 27130 sequences >= 774 bp\r\n",
      "N75 stats:\t\t\t75% of total sequence length is contained in the 69280 sequences >= 361 bp\r\n",
      "Total GC count:\t\t\t30534493 bp\r\n",
      "GC %:\t\t\t\t35.41 %\r\n",
      "\r\n"
     ]
    }
   ],
   "source": [
    "!perl ../scripts/count_fasta.pl \\\n",
    "-i 1000 \\\n",
    "../data/Moreira2015-Transcriptome.fa"
   ]
  },
  {
   "cell_type": "code",
   "execution_count": null,
   "metadata": {
    "collapsed": true,
    "run_control": {}
   },
   "outputs": [],
   "source": []
  }
 ],
 "metadata": {
  "kernelspec": {
   "display_name": "Python 3",
   "language": "python",
   "name": "python3"
  },
  "language_info": {
   "codemirror_mode": {
    "name": "ipython",
    "version": 3
   },
   "file_extension": ".py",
   "mimetype": "text/x-python",
   "name": "python",
   "nbconvert_exporter": "python",
   "pygments_lexer": "ipython3",
   "version": "3.5.0"
  }
 },
 "nbformat": 4,
 "nbformat_minor": 0
}
