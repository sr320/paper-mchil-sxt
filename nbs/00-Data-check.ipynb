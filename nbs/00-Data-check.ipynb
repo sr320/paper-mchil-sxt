{
 "cells": [
  {
   "cell_type": "markdown",
   "metadata": {},
   "source": [
    "```\n",
    "* Software : Illumina Pipeline (CASAVA) v1.8.2\t\t\t\t\t\t\n",
    "* Fastq Quality Encoding : Sanger Quality ( ASCII Character Code = Phred Quality Value + 33 )\t\t\t\t\t\t\n",
    "\t\t\t\t\t\t\n",
    "Sample\t Total Bases \t Read Count \t N (%) \t GC (%) \t Q20 (%) \t Q30 (%) \n",
    "C0\t 13,520,524,378 \t 133,866,578 \t0.034 \t37.44\t 95.90 \t 90.61 \n",
    "D1\t 15,059,213,726 \t 149,101,126 \t0.035 \t38.08\t 96.00 \t 90.65 \n",
    "D2\t 14,064,103,146 \t 139,248,546 \t0.034 \t38.5\t 95.80 \t 90.37 \n",
    "\t\t\t\t\t\t\n",
    "\t\t\t\t\t\t\n",
    "Sample\t Download (fastq) \t\tmd5sum\t\t\t\n",
    "C0\tC0_1.fastq.gz\t\tee2a8d05db1e20ee84f057f0ac7f86a2\t\t\t\n",
    "\tC0_2.fastq.gz\t\t1a560b6b54ae4f34b7eef65ee06a1150\t\t\t\n",
    "D1\tD1_1.fastq.gz\t\t5832296773ff4f147ecac05c321c9354\t\t\t\n",
    "\tD1_2.fastq.gz\t\ta6eef8c24b73e8590c9a068a6beb06cb\t\t\t\n",
    "D2\tD2_1.fastq.gz\t\t444743cb72c288c0738cdc5024adb835\t\t\t\n",
    "\tD2_2.fastq.gz\t\t248309c7ed2518361bcfda686322dd43\t\t\t\n",
    "\t\t\t\t\t\t\n",
    "```                        \n",
    "\t\t\t\t\t\t\n",
    "\t\t\t\t\t\t"
   ]
  },
  {
   "cell_type": "markdown",
   "metadata": {},
   "source": [
    "```\n",
    "* Software : Illumina Pipeline (CASAVA) v1.8.2\t\t\t\t\t\t\n",
    "* Fastq Quality Encoding : Sanger Quality ( ASCII Character Code = Phred Quality Value + 33 )\t\t\t\t\t\t\n",
    "\t\t\t\t\t\t\n",
    "Sample\t Total Bases \t Read Count \t N (%) \t GC (%) \t Q20 (%) \t Q30 (%) \n",
    "D3\t 14,251,268,468 \t 141,101,668 \t0.005 \t38.2\t 94.35 \t 87.05 \n",
    "D4\t 10,763,592,422 \t 106,570,222 \t0.005 \t37.57\t 93.73 \t 86.06 \n",
    "D5\t 13,131,156,854 \t 130,011,454 \t0.005 \t38.65\t 94.35 \t 86.76 \n",
    "\t\t\t\t\t\t\n",
    "\t\t\t\t\t\t\n",
    "Sample\t Download (fastq) \t\tmd5sum\t\t\t\n",
    "D3\tD3_1.fastq.gz\t\tb43a4c7cc8cd405665d8f22cc3d4d6e6\t\t\t\n",
    "\tD3_2.fastq.gz\t\tbcee6a0c3d84a20aa2c3173c89c605aa\t\t\t\n",
    "D4\tD4_1.fastq.gz\t\td96a751e56b91c1d5d01efbd960e14de\n",
    "\tD4_2.fastq.gz\t\tad09d4a291ccf4e8aa217c62d4485b36\n",
    "D5\tD5_1.fastq.gz\t\t04a706820710dbfd9515bfd534ca3550\n",
    "\tD5_2.fastq.gz\t\t0fc3077f1e9d595d97d4ed7ecda7a258\t\n",
    "\t\t\t\t\t\t\n",
    "```        \n",
    "        \n",
    "        "
   ]
  },
  {
   "cell_type": "code",
   "execution_count": 3,
   "metadata": {
    "collapsed": false
   },
   "outputs": [
    {
     "name": "stdout",
     "output_type": "stream",
     "text": [
      "/volumes/web-1/whale/SXT RNAseq/C0_1.fastq.gz\r\n",
      "/volumes/web-1/whale/SXT RNAseq/C0_2.fastq.gz\r\n",
      "/volumes/web-1/whale/SXT RNAseq/D1_1.fastq.gz\r\n",
      "/volumes/web-1/whale/SXT RNAseq/D1_2.fastq.gz\r\n",
      "/volumes/web-1/whale/SXT RNAseq/D2_1.fastq.gz\r\n",
      "/volumes/web-1/whale/SXT RNAseq/D2_2.fastq.gz\r\n",
      "/volumes/web-1/whale/SXT RNAseq/D3_1.fastq.gz\r\n",
      "/volumes/web-1/whale/SXT RNAseq/D3_2.fastq.gz\r\n",
      "/volumes/web-1/whale/SXT RNAseq/D4_1.fastq.gz\r\n",
      "/volumes/web-1/whale/SXT RNAseq/D4_2.fastq.gz\r\n",
      "/volumes/web-1/whale/SXT RNAseq/D5_1.fastq.gz\r\n",
      "/volumes/web-1/whale/SXT RNAseq/D5_2.fastq.gz\r\n"
     ]
    }
   ],
   "source": [
    "!ls -v /volumes/web-1/whale/SXT\\ RNAseq/*.gz"
   ]
  },
  {
   "cell_type": "code",
   "execution_count": 7,
   "metadata": {
    "collapsed": false
   },
   "outputs": [],
   "source": [
    "!cp /volumes/web-1/whale/SXT\\ RNAseq/D2_2.fastq.gz /Users/sr320/data-genomic/tentacle/mchil-sxt/raw/"
   ]
  },
  {
   "cell_type": "code",
   "execution_count": 8,
   "metadata": {
    "collapsed": true
   },
   "outputs": [],
   "source": [
    "!cp /volumes/web-1/whale/SXT\\ RNAseq/D3_1.fastq.gz /Users/sr320/data-genomic/tentacle/mchil-sxt/raw/"
   ]
  },
  {
   "cell_type": "code",
   "execution_count": 9,
   "metadata": {
    "collapsed": true
   },
   "outputs": [],
   "source": [
    "!cp /volumes/web-1/whale/SXT\\ RNAseq/D3_2.fastq.gz /Users/sr320/data-genomic/tentacle/mchil-sxt/raw/"
   ]
  },
  {
   "cell_type": "code",
   "execution_count": 10,
   "metadata": {
    "collapsed": true
   },
   "outputs": [],
   "source": [
    "!cp /volumes/web-1/whale/SXT\\ RNAseq/D4_1.fastq.gz /Users/sr320/data-genomic/tentacle/mchil-sxt/raw/"
   ]
  },
  {
   "cell_type": "code",
   "execution_count": 11,
   "metadata": {
    "collapsed": true
   },
   "outputs": [],
   "source": [
    "!cp /volumes/web-1/whale/SXT\\ RNAseq/D4_2.fastq.gz /Users/sr320/data-genomic/tentacle/mchil-sxt/raw/"
   ]
  },
  {
   "cell_type": "code",
   "execution_count": 12,
   "metadata": {
    "collapsed": true
   },
   "outputs": [],
   "source": [
    "!cp /volumes/web-1/whale/SXT\\ RNAseq/D5_1.fastq.gz /Users/sr320/data-genomic/tentacle/mchil-sxt/raw/"
   ]
  },
  {
   "cell_type": "code",
   "execution_count": 13,
   "metadata": {
    "collapsed": true
   },
   "outputs": [],
   "source": [
    "!cp /volumes/web-1/whale/SXT\\ RNAseq/D5_2.fastq.gz /Users/sr320/data-genomic/tentacle/mchil-sxt/raw/"
   ]
  },
  {
   "cell_type": "code",
   "execution_count": 18,
   "metadata": {
    "collapsed": false
   },
   "outputs": [
    {
     "name": "stdout",
     "output_type": "stream",
     "text": [
      "total 129350168\r\n",
      "-rw-r--r--  1 sr320  staff  5256624233 Nov 16 14:52 C0_1.fastq.gz\r\n",
      "-rw-r--r--  1 sr320  staff  5347716115 Nov 16 14:55 C0_2.fastq.gz\r\n",
      "-rw-r--r--  1 sr320  staff  5858662915 Nov 16 14:58 D1_1.fastq.gz\r\n",
      "-rw-r--r--  1 sr320  staff  5947396507 Nov 16 15:01 D1_2.fastq.gz\r\n",
      "-rw-r--r--  1 sr320  staff  5604453584 Nov 25 06:21 D2_1.fastq.gz\r\n",
      "-rw-r--r--  1 sr320  staff  5683547609 Nov 25 06:36 D2_2.fastq.gz\r\n",
      "-rw-r--r--  1 sr320  staff  6175098656 Nov 25 06:39 D3_1.fastq.gz\r\n",
      "-rw-r--r--  1 sr320  staff  6216744324 Nov 25 06:42 D3_2.fastq.gz\r\n",
      "-rw-r--r--  1 sr320  staff  4540499603 Nov 25 06:45 D4_1.fastq.gz\r\n",
      "-rw-r--r--  1 sr320  staff  4605797382 Nov 25 06:48 D4_2.fastq.gz\r\n",
      "-rw-r--r--  1 sr320  staff  5469127555 Nov 25 06:50 D5_1.fastq.gz\r\n",
      "-rw-r--r--  1 sr320  staff  5521593692 Nov 25 06:53 D5_2.fastq.gz\r\n"
     ]
    }
   ],
   "source": [
    "!ls -l /Users/sr320/data-genomic/tentacle/mchil-sxt/raw/"
   ]
  },
  {
   "cell_type": "code",
   "execution_count": 19,
   "metadata": {
    "collapsed": false
   },
   "outputs": [
    {
     "name": "stdout",
     "output_type": "stream",
     "text": [
      "MD5 (/Users/sr320/data-genomic/tentacle/mchil-sxt/raw/C0_1.fastq.gz) = ee2a8d05db1e20ee84f057f0ac7f86a2\n",
      "MD5 (/Users/sr320/data-genomic/tentacle/mchil-sxt/raw/C0_2.fastq.gz) = 1a560b6b54ae4f34b7eef65ee06a1150\n",
      "MD5 (/Users/sr320/data-genomic/tentacle/mchil-sxt/raw/D1_1.fastq.gz) = 5832296773ff4f147ecac05c321c9354\n",
      "MD5 (/Users/sr320/data-genomic/tentacle/mchil-sxt/raw/D1_2.fastq.gz) = a6eef8c24b73e8590c9a068a6beb06cb\n",
      "MD5 (/Users/sr320/data-genomic/tentacle/mchil-sxt/raw/D2_1.fastq.gz) = 444743cb72c288c0738cdc5024adb835\n",
      "MD5 (/Users/sr320/data-genomic/tentacle/mchil-sxt/raw/D2_2.fastq.gz) = 248309c7ed2518361bcfda686322dd43\n",
      "MD5 (/Users/sr320/data-genomic/tentacle/mchil-sxt/raw/D3_1.fastq.gz) = b43a4c7cc8cd405665d8f22cc3d4d6e6\n",
      "MD5 (/Users/sr320/data-genomic/tentacle/mchil-sxt/raw/D3_2.fastq.gz) = bcee6a0c3d84a20aa2c3173c89c605aa\n",
      "MD5 (/Users/sr320/data-genomic/tentacle/mchil-sxt/raw/D4_1.fastq.gz) = d96a751e56b91c1d5d01efbd960e14de\n",
      "MD5 (/Users/sr320/data-genomic/tentacle/mchil-sxt/raw/D4_2.fastq.gz) = ad09d4a291ccf4e8aa217c62d4485b36\n",
      "MD5 (/Users/sr320/data-genomic/tentacle/mchil-sxt/raw/D5_1.fastq.gz) = 04a706820710dbfd9515bfd534ca3550\n",
      "MD5 (/Users/sr320/data-genomic/tentacle/mchil-sxt/raw/D5_2.fastq.gz) = 0fc3077f1e9d595d97d4ed7ecda7a258\n"
     ]
    }
   ],
   "source": [
    "!md5 /Users/sr320/data-genomic/tentacle/mchil-sxt/raw/*"
   ]
  },
  {
   "cell_type": "code",
   "execution_count": 4,
   "metadata": {
    "collapsed": false
   },
   "outputs": [
    {
     "name": "stdout",
     "output_type": "stream",
     "text": [
      "/bin/sh: /Users/sr320/data-genomic/tentacle/mchil-sxt/fastq/: No such file or directory\r\n"
     ]
    }
   ],
   "source": [
    "#!gunzip -c  /Users/sr320/data-genomic/tentacle/mchil-sxt/raw/*.gz \\\n",
    "> /Users/sr320/data-genomic/tentacle/mchil-sxt/fastq/"
   ]
  },
  {
   "cell_type": "code",
   "execution_count": null,
   "metadata": {
    "collapsed": false
   },
   "outputs": [],
   "source": [
    "#!ls -l /Users/sr320/data-genomic/tentacle/mchil-sxt/raw/"
   ]
  },
  {
   "cell_type": "markdown",
   "metadata": {},
   "source": [
    "# Quality Check"
   ]
  },
  {
   "cell_type": "code",
   "execution_count": 23,
   "metadata": {
    "collapsed": false
   },
   "outputs": [
    {
     "name": "stdout",
     "output_type": "stream",
     "text": [
      "Started analysis of C0_1.fastq.gz\n",
      "Started analysis of C0_2.fastq.gz\n",
      "Started analysis of D1_1.fastq.gz\n",
      "Started analysis of D1_2.fastq.gz\n",
      "Started analysis of D2_1.fastq.gz\n",
      "Started analysis of D2_2.fastq.gz\n",
      "Approx 5% complete for D2_2.fastq.gz\n",
      "Approx 5% complete for D2_1.fastq.gz\n",
      "Approx 5% complete for C0_2.fastq.gz\n",
      "Approx 5% complete for C0_1.fastq.gz\n",
      "Approx 5% complete for D1_1.fastq.gz\n",
      "Approx 10% complete for D2_2.fastq.gz\n",
      "Approx 10% complete for D2_1.fastq.gz\n",
      "Approx 5% complete for D1_2.fastq.gz\n",
      "Approx 15% complete for D2_2.fastq.gz\n",
      "Approx 15% complete for D2_1.fastq.gz\n",
      "Approx 10% complete for C0_1.fastq.gz\n",
      "Approx 10% complete for C0_2.fastq.gz\n",
      "Approx 10% complete for D1_1.fastq.gz\n",
      "Approx 20% complete for D2_2.fastq.gz\n",
      "Approx 10% complete for D1_2.fastq.gz\n",
      "Approx 20% complete for D2_1.fastq.gz\n",
      "Approx 15% complete for C0_1.fastq.gz\n",
      "Approx 25% complete for D2_2.fastq.gz\n",
      "Approx 25% complete for D2_1.fastq.gz\n",
      "Approx 15% complete for C0_2.fastq.gz\n",
      "Approx 30% complete for D2_2.fastq.gz\n",
      "Approx 15% complete for D1_1.fastq.gz\n",
      "Approx 30% complete for D2_1.fastq.gz\n",
      "Approx 15% complete for D1_2.fastq.gz\n",
      "Approx 20% complete for C0_1.fastq.gz\n",
      "Approx 35% complete for D2_2.fastq.gz\n",
      "Approx 20% complete for C0_2.fastq.gz\n",
      "Approx 35% complete for D2_1.fastq.gz\n",
      "Approx 40% complete for D2_2.fastq.gz\n",
      "Approx 20% complete for D1_1.fastq.gz\n",
      "Approx 25% complete for C0_1.fastq.gz\n",
      "Approx 20% complete for D1_2.fastq.gz\n",
      "Approx 40% complete for D2_1.fastq.gz\n",
      "Approx 25% complete for C0_2.fastq.gz\n",
      "Approx 30% complete for C0_1.fastq.gz\n",
      "Approx 45% complete for D2_2.fastq.gz\n",
      "Approx 45% complete for D2_1.fastq.gz\n",
      "Approx 25% complete for D1_1.fastq.gz\n",
      "Approx 25% complete for D1_2.fastq.gz\n",
      "Approx 50% complete for D2_1.fastq.gz\n",
      "Approx 30% complete for C0_2.fastq.gz\n",
      "Approx 35% complete for C0_1.fastq.gz\n",
      "Approx 50% complete for D2_2.fastq.gz\n",
      "Approx 55% complete for D2_1.fastq.gz\n",
      "Approx 30% complete for D1_1.fastq.gz\n",
      "Approx 40% complete for C0_1.fastq.gz\n",
      "Approx 30% complete for D1_2.fastq.gz\n",
      "Approx 35% complete for C0_2.fastq.gz\n",
      "Approx 60% complete for D2_1.fastq.gz\n",
      "Approx 55% complete for D2_2.fastq.gz\n",
      "Approx 65% complete for D2_1.fastq.gz\n",
      "Approx 45% complete for C0_1.fastq.gz\n",
      "Approx 35% complete for D1_1.fastq.gz\n",
      "Approx 40% complete for C0_2.fastq.gz\n",
      "Approx 35% complete for D1_2.fastq.gz\n",
      "Approx 70% complete for D2_1.fastq.gz\n",
      "Approx 60% complete for D2_2.fastq.gz\n",
      "Approx 75% complete for D2_1.fastq.gz\n",
      "Approx 50% complete for C0_1.fastq.gz\n",
      "Approx 45% complete for C0_2.fastq.gz\n",
      "Approx 40% complete for D1_1.fastq.gz\n",
      "Approx 65% complete for D2_2.fastq.gz\n",
      "Approx 80% complete for D2_1.fastq.gz\n",
      "Approx 40% complete for D1_2.fastq.gz\n",
      "Approx 85% complete for D2_1.fastq.gz\n",
      "Approx 55% complete for C0_1.fastq.gz\n",
      "Approx 70% complete for D2_2.fastq.gz\n",
      "Approx 50% complete for C0_2.fastq.gz\n",
      "Approx 45% complete for D1_1.fastq.gz\n",
      "Approx 90% complete for D2_1.fastq.gz\n",
      "Approx 45% complete for D1_2.fastq.gz\n",
      "Approx 75% complete for D2_2.fastq.gz\n",
      "Approx 60% complete for C0_1.fastq.gz\n",
      "Approx 95% complete for D2_1.fastq.gz\n",
      "Approx 55% complete for C0_2.fastq.gz\n",
      "Approx 50% complete for D1_1.fastq.gz\n",
      "Analysis complete for D2_1.fastq.gz\n",
      "Approx 80% complete for D2_2.fastq.gz\n",
      "Approx 50% complete for D1_2.fastq.gz\n",
      "Approx 65% complete for C0_1.fastq.gz\n",
      "Approx 85% complete for D2_2.fastq.gz\n",
      "Approx 60% complete for C0_2.fastq.gz\n",
      "Approx 55% complete for D1_1.fastq.gz\n",
      "Approx 90% complete for D2_2.fastq.gz\n",
      "Approx 70% complete for C0_1.fastq.gz\n",
      "Approx 55% complete for D1_2.fastq.gz\n",
      "Approx 65% complete for C0_2.fastq.gz\n",
      "Approx 95% complete for D2_2.fastq.gz\n",
      "Approx 60% complete for D1_1.fastq.gz\n",
      "Approx 75% complete for C0_1.fastq.gz\n",
      "Approx 60% complete for D1_2.fastq.gz\n",
      "Analysis complete for D2_2.fastq.gz\n",
      "Approx 70% complete for C0_2.fastq.gz\n",
      "Approx 80% complete for C0_1.fastq.gz\n",
      "Approx 65% complete for D1_1.fastq.gz\n",
      "Approx 85% complete for C0_1.fastq.gz\n",
      "Approx 65% complete for D1_2.fastq.gz\n",
      "Approx 75% complete for C0_2.fastq.gz\n",
      "Approx 70% complete for D1_1.fastq.gz\n",
      "Approx 90% complete for C0_1.fastq.gz\n",
      "Approx 80% complete for C0_2.fastq.gz\n",
      "Approx 70% complete for D1_2.fastq.gz\n",
      "Approx 95% complete for C0_1.fastq.gz\n",
      "Approx 75% complete for D1_1.fastq.gz\n",
      "Approx 85% complete for C0_2.fastq.gz\n",
      "Analysis complete for C0_1.fastq.gz\n",
      "Approx 75% complete for D1_2.fastq.gz\n",
      "Approx 80% complete for D1_1.fastq.gz\n",
      "Approx 90% complete for C0_2.fastq.gz\n",
      "Approx 80% complete for D1_2.fastq.gz\n",
      "Started analysis of D3_1.fastq.gz\n",
      "Started analysis of D3_2.fastq.gz\n",
      "Started analysis of D4_1.fastq.gz\n",
      "Approx 85% complete for D1_1.fastq.gz\n",
      "Approx 95% complete for C0_2.fastq.gz\n",
      "Approx 5% complete for D3_1.fastq.gz\n",
      "Approx 5% complete for D4_1.fastq.gz\n",
      "Approx 85% complete for D1_2.fastq.gz\n",
      "Approx 5% complete for D3_2.fastq.gz\n",
      "Analysis complete for C0_2.fastq.gz\n",
      "Approx 10% complete for D3_1.fastq.gz\n",
      "Approx 90% complete for D1_1.fastq.gz\n",
      "Approx 10% complete for D4_1.fastq.gz\n",
      "Approx 90% complete for D1_2.fastq.gz\n",
      "Approx 10% complete for D3_2.fastq.gz\n",
      "Started analysis of D4_2.fastq.gz\n",
      "Approx 15% complete for D4_1.fastq.gz\n",
      "Approx 15% complete for D3_1.fastq.gz\n",
      "Approx 95% complete for D1_1.fastq.gz\n",
      "Approx 5% complete for D4_2.fastq.gz\n",
      "Approx 20% complete for D4_1.fastq.gz\n",
      "Approx 95% complete for D1_2.fastq.gz\n",
      "Approx 15% complete for D3_2.fastq.gz\n",
      "Approx 20% complete for D3_1.fastq.gz\n",
      "Analysis complete for D1_1.fastq.gz\n",
      "Approx 10% complete for D4_2.fastq.gz\n",
      "Approx 25% complete for D4_1.fastq.gz\n",
      "Analysis complete for D1_2.fastq.gz\n",
      "Approx 20% complete for D3_2.fastq.gz\n",
      "Approx 15% complete for D4_2.fastq.gz\n",
      "Approx 25% complete for D3_1.fastq.gz\n",
      "Started analysis of D5_1.fastq.gz\n",
      "Approx 30% complete for D4_1.fastq.gz\n",
      "Started analysis of D5_2.fastq.gz\n",
      "Approx 20% complete for D4_2.fastq.gz\n",
      "Approx 25% complete for D3_2.fastq.gz\n",
      "Approx 35% complete for D4_1.fastq.gz\n",
      "Approx 5% complete for D5_1.fastq.gz\n",
      "Approx 30% complete for D3_1.fastq.gz\n",
      "Approx 5% complete for D5_2.fastq.gz\n",
      "Approx 25% complete for D4_2.fastq.gz\n",
      "Approx 40% complete for D4_1.fastq.gz\n",
      "Approx 30% complete for D3_2.fastq.gz\n",
      "Approx 10% complete for D5_1.fastq.gz\n",
      "Approx 35% complete for D3_1.fastq.gz\n",
      "Approx 10% complete for D5_2.fastq.gz\n",
      "Approx 30% complete for D4_2.fastq.gz\n",
      "Approx 45% complete for D4_1.fastq.gz\n",
      "Approx 15% complete for D5_1.fastq.gz\n",
      "Approx 35% complete for D3_2.fastq.gz\n",
      "Approx 35% complete for D4_2.fastq.gz\n",
      "Approx 40% complete for D3_1.fastq.gz\n",
      "Approx 50% complete for D4_1.fastq.gz\n",
      "Approx 15% complete for D5_2.fastq.gz\n",
      "Approx 20% complete for D5_1.fastq.gz\n",
      "Approx 40% complete for D4_2.fastq.gz\n",
      "Approx 55% complete for D4_1.fastq.gz\n",
      "Approx 40% complete for D3_2.fastq.gz\n",
      "Approx 20% complete for D5_2.fastq.gz\n",
      "Approx 45% complete for D3_1.fastq.gz\n",
      "Approx 60% complete for D4_1.fastq.gz\n",
      "Approx 45% complete for D4_2.fastq.gz\n",
      "Approx 25% complete for D5_1.fastq.gz\n",
      "Approx 45% complete for D3_2.fastq.gz\n",
      "Approx 25% complete for D5_2.fastq.gz\n",
      "Approx 50% complete for D3_1.fastq.gz\n",
      "Approx 65% complete for D4_1.fastq.gz\n",
      "Approx 50% complete for D4_2.fastq.gz\n",
      "Approx 30% complete for D5_1.fastq.gz\n",
      "Approx 50% complete for D3_2.fastq.gz\n",
      "Approx 30% complete for D5_2.fastq.gz\n",
      "Approx 70% complete for D4_1.fastq.gz\n",
      "Approx 55% complete for D4_2.fastq.gz\n",
      "Approx 55% complete for D3_1.fastq.gz\n",
      "Approx 35% complete for D5_1.fastq.gz\n",
      "Approx 75% complete for D4_1.fastq.gz\n",
      "Approx 60% complete for D4_2.fastq.gz\n",
      "Approx 35% complete for D5_2.fastq.gz\n",
      "Approx 55% complete for D3_2.fastq.gz\n",
      "Approx 60% complete for D3_1.fastq.gz\n",
      "Approx 40% complete for D5_1.fastq.gz\n",
      "Approx 80% complete for D4_1.fastq.gz\n",
      "Approx 65% complete for D4_2.fastq.gz\n",
      "Approx 40% complete for D5_2.fastq.gz\n",
      "Approx 60% complete for D3_2.fastq.gz\n",
      "Approx 45% complete for D5_1.fastq.gz\n",
      "Approx 65% complete for D3_1.fastq.gz\n",
      "Approx 85% complete for D4_1.fastq.gz\n",
      "Approx 70% complete for D4_2.fastq.gz\n",
      "Approx 45% complete for D5_2.fastq.gz\n",
      "Approx 65% complete for D3_2.fastq.gz\n",
      "Approx 90% complete for D4_1.fastq.gz\n",
      "Approx 50% complete for D5_1.fastq.gz\n",
      "Approx 75% complete for D4_2.fastq.gz\n",
      "Approx 70% complete for D3_1.fastq.gz\n",
      "Approx 50% complete for D5_2.fastq.gz\n",
      "Approx 95% complete for D4_1.fastq.gz\n",
      "Approx 80% complete for D4_2.fastq.gz\n",
      "Approx 70% complete for D3_2.fastq.gz\n",
      "Approx 55% complete for D5_1.fastq.gz\n",
      "Approx 75% complete for D3_1.fastq.gz\n",
      "Approx 55% complete for D5_2.fastq.gz\n",
      "Analysis complete for D4_1.fastq.gz\n",
      "Approx 85% complete for D4_2.fastq.gz\n",
      "Approx 60% complete for D5_1.fastq.gz\n",
      "Approx 75% complete for D3_2.fastq.gz\n",
      "Approx 80% complete for D3_1.fastq.gz\n",
      "Approx 90% complete for D4_2.fastq.gz\n",
      "Approx 60% complete for D5_2.fastq.gz\n",
      "Approx 65% complete for D5_1.fastq.gz\n",
      "Approx 80% complete for D3_2.fastq.gz\n",
      "Approx 95% complete for D4_2.fastq.gz\n",
      "Approx 85% complete for D3_1.fastq.gz\n",
      "Approx 65% complete for D5_2.fastq.gz\n",
      "Approx 70% complete for D5_1.fastq.gz\n",
      "Analysis complete for D4_2.fastq.gz\n",
      "Approx 85% complete for D3_2.fastq.gz\n",
      "Approx 70% complete for D5_2.fastq.gz\n",
      "Approx 90% complete for D3_1.fastq.gz\n",
      "Approx 75% complete for D5_1.fastq.gz\n",
      "Approx 90% complete for D3_2.fastq.gz\n",
      "Approx 75% complete for D5_2.fastq.gz\n",
      "Approx 95% complete for D3_1.fastq.gz\n",
      "Approx 80% complete for D5_1.fastq.gz\n",
      "Approx 80% complete for D5_2.fastq.gz\n",
      "Approx 95% complete for D3_2.fastq.gz\n",
      "Analysis complete for D3_1.fastq.gz\n",
      "Approx 85% complete for D5_1.fastq.gz\n",
      "Approx 85% complete for D5_2.fastq.gz\n",
      "Analysis complete for D3_2.fastq.gz\n",
      "Approx 90% complete for D5_1.fastq.gz\n",
      "Approx 90% complete for D5_2.fastq.gz\n",
      "Approx 95% complete for D5_1.fastq.gz\n",
      "Approx 95% complete for D5_2.fastq.gz\n",
      "Analysis complete for D5_1.fastq.gz\n",
      "Analysis complete for D5_2.fastq.gz\n"
     ]
    }
   ],
   "source": [
    "!/Applications/bioinfo/FastQC/fastqc \\\n",
    "-o /Users/sr320/data-genomic/tentacle/mchil-sxt/fastqc \\\n",
    "-t 6 \\\n",
    "/Users/sr320/data-genomic/tentacle/mchil-sxt/raw/*\n",
    "\n",
    "\n"
   ]
  },
  {
   "cell_type": "code",
   "execution_count": null,
   "metadata": {
    "collapsed": true
   },
   "outputs": [],
   "source": []
  }
 ],
 "metadata": {
  "kernelspec": {
   "display_name": "Python 2",
   "language": "python",
   "name": "python2"
  },
  "language_info": {
   "codemirror_mode": {
    "name": "ipython",
    "version": 2
   },
   "file_extension": ".py",
   "mimetype": "text/x-python",
   "name": "python",
   "nbconvert_exporter": "python",
   "pygments_lexer": "ipython2",
   "version": "2.7.10"
  }
 },
 "nbformat": 4,
 "nbformat_minor": 0
}
