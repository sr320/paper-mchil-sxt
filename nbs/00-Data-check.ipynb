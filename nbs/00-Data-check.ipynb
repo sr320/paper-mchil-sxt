{
 "cells": [
  {
   "cell_type": "markdown",
   "metadata": {},
   "source": [
    "```\n",
    "* Software : Illumina Pipeline (CASAVA) v1.8.2\t\t\t\t\t\t\n",
    "* Fastq Quality Encoding : Sanger Quality ( ASCII Character Code = Phred Quality Value + 33 )\t\t\t\t\t\t\n",
    "\t\t\t\t\t\t\n",
    "Sample\t Total Bases \t Read Count \t N (%) \t GC (%) \t Q20 (%) \t Q30 (%) \n",
    "C0\t 13,520,524,378 \t 133,866,578 \t0.034 \t37.44\t 95.90 \t 90.61 \n",
    "D1\t 15,059,213,726 \t 149,101,126 \t0.035 \t38.08\t 96.00 \t 90.65 \n",
    "D2\t 14,064,103,146 \t 139,248,546 \t0.034 \t38.5\t 95.80 \t 90.37 \n",
    "\t\t\t\t\t\t\n",
    "\t\t\t\t\t\t\n",
    "Sample\t Download (fastq) \t\tmd5sum\t\t\t\n",
    "C0\tC0_1.fastq.gz\t\tee2a8d05db1e20ee84f057f0ac7f86a2\t\t\t\n",
    "\tC0_2.fastq.gz\t\t1a560b6b54ae4f34b7eef65ee06a1150\t\t\t\n",
    "D1\tD1_1.fastq.gz\t\t5832296773ff4f147ecac05c321c9354\t\t\t\n",
    "\tD1_2.fastq.gz\t\ta6eef8c24b73e8590c9a068a6beb06cb\t\t\t\n",
    "D2\tD2_1.fastq.gz\t\t444743cb72c288c0738cdc5024adb835\t\t\t\n",
    "\tD2_2.fastq.gz\t\t248309c7ed2518361bcfda686322dd43\t\t\t\n",
    "\t\t\t\t\t\t\n",
    "```                        \n",
    "\t\t\t\t\t\t\n",
    "\t\t\t\t\t\t"
   ]
  },
  {
   "cell_type": "code",
   "execution_count": 8,
   "metadata": {
    "collapsed": false
   },
   "outputs": [
    {
     "name": "stdout",
     "output_type": "stream",
     "text": [
      "/volumes/web/whale/SXT RNAseq/C0_1.fastq.gz\r\n",
      "/volumes/web/whale/SXT RNAseq/C0_2.fastq.gz\r\n",
      "/volumes/web/whale/SXT RNAseq/D1_1.fastq.gz\r\n",
      "/volumes/web/whale/SXT RNAseq/D1_2.fastq.gz\r\n",
      "/volumes/web/whale/SXT RNAseq/D2_1.fastq.gz\r\n"
     ]
    }
   ],
   "source": [
    "!ls -v /volumes/web/whale/SXT\\ RNAseq/*.gz"
   ]
  },
  {
   "cell_type": "code",
   "execution_count": 7,
   "metadata": {
    "collapsed": false
   },
   "outputs": [],
   "source": [
    "!cp /volumes/web/whale/SXT\\ RNAseq/D2_1.fastq.gz /Users/sr320/data-genomic/tentacle/mchil-sxt/raw/"
   ]
  },
  {
   "cell_type": "code",
   "execution_count": null,
   "metadata": {
    "collapsed": false
   },
   "outputs": [
    {
     "name": "stdout",
     "output_type": "stream",
     "text": [
      "MD5 (/Users/sr320/data-genomic/tentacle/mchil-sxt/raw/C0_1.fastq) = dc8d22fc382f898092d51ab58cefaf7b\n",
      "MD5 (/Users/sr320/data-genomic/tentacle/mchil-sxt/raw/C0_1.fastq.gz) = ee2a8d05db1e20ee84f057f0ac7f86a2\n",
      "MD5 (/Users/sr320/data-genomic/tentacle/mchil-sxt/raw/C0_2.fastq) = 3c14aa5a8af3710fb373a9a2acb7bdc4\n",
      "MD5 (/Users/sr320/data-genomic/tentacle/mchil-sxt/raw/C0_2.fastq.gz) = 1a560b6b54ae4f34b7eef65ee06a1150\n",
      "MD5 (/Users/sr320/data-genomic/tentacle/mchil-sxt/raw/D1_1.fastq) = 136985c59014bfeae86b386e7e5833e7\n",
      "MD5 (/Users/sr320/data-genomic/tentacle/mchil-sxt/raw/D1_1.fastq.gz) = 5832296773ff4f147ecac05c321c9354\n",
      "MD5 (/Users/sr320/data-genomic/tentacle/mchil-sxt/raw/D1_2.fastq.gz) = a6eef8c24b73e8590c9a068a6beb06cb\n"
     ]
    }
   ],
   "source": [
    "!md5 /Users/sr320/data-genomic/tentacle/mchil-sxt/raw/*"
   ]
  },
  {
   "cell_type": "code",
   "execution_count": 4,
   "metadata": {
    "collapsed": false
   },
   "outputs": [
    {
     "name": "stdout",
     "output_type": "stream",
     "text": [
      "/bin/sh: /Users/sr320/data-genomic/tentacle/mchil-sxt/fastq/: No such file or directory\r\n"
     ]
    }
   ],
   "source": [
    "!gunzip -c  /Users/sr320/data-genomic/tentacle/mchil-sxt/raw/*.gz \\\n",
    "> /Users/sr320/data-genomic/tentacle/mchil-sxt/fastq/"
   ]
  },
  {
   "cell_type": "code",
   "execution_count": null,
   "metadata": {
    "collapsed": false
   },
   "outputs": [],
   "source": [
    "!ls -l /Users/sr320/data-genomic/tentacle/mchil-sxt/raw/"
   ]
  },
  {
   "cell_type": "code",
   "execution_count": null,
   "metadata": {
    "collapsed": true
   },
   "outputs": [],
   "source": []
  }
 ],
 "metadata": {
  "kernelspec": {
   "display_name": "Python 2",
   "language": "python",
   "name": "python2"
  },
  "language_info": {
   "codemirror_mode": {
    "name": "ipython",
    "version": 2
   },
   "file_extension": ".py",
   "mimetype": "text/x-python",
   "name": "python",
   "nbconvert_exporter": "python",
   "pygments_lexer": "ipython2",
   "version": "2.7.10"
  }
 },
 "nbformat": 4,
 "nbformat_minor": 0
}
