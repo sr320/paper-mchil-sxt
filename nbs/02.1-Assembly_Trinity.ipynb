{
 "cells": [
  {
   "cell_type": "code",
   "execution_count": 5,
   "metadata": {
    "button": false,
    "collapsed": false,
    "deletable": true,
    "new_sheet": false,
    "run_control": {
     "read_only": false
    }
   },
   "outputs": [
    {
     "name": "stdout",
     "output_type": "stream",
     "text": [
      "184166\n",
      ">TR10000_c0_g1_i1\n",
      "CTCATCTTGATTTATCTTAATCTTTGAAAATGGCTTCAGCATTGGAATCGTATGTGAATCGTACAGTTTCTATAGTCACAGCAGATGGAAGAATAATTGTGGGAACATTGAAAGGATTTGATCAAACAATCAACTTAATTCTAGACGAGAGCCATGAGAGGGTATATAGTGCTACACAAGGAGTAGAACAAGTCATTTTGGGACTATACATCATCAGGGGAGATAATGTAGCTTTGATAGGAGAGATAGATGATGAAGCTGACCAGAGATTAGATTTTAATGACATTAAGGCTGAACCTTTGAATTCAGTTTTACATTGATGTAAAGGATAAAAAGACATGTTATGGCTTGGAAATAAATCTCAGCTTAGTTGAATTACAGGAATTTTAGGACTTACAACCAAAGAGAATGTACATTTAATTACATAAATAAATGCAAGCTGATCAAGAGAGAGAGGGAGATTTTCAATACTTGTGTATGGTTTTGTGCTTAATTAACATTTTTAAAGTGTTAAAAGTGTCATAATATATTTTGAAGAATGCCTCCCTAACCTGTAAAGGAAGATTGATTATTTATAGCAATTACTTAAGGAAAAATAATAAATATTCAACATGTTCAAACTAAATTCATTTTTATTAAGTTAAGATAATTGAATGAGATGTTTGATTGTTTCTGTTGGTTCACAATTCCATGTCTAGGTTCAACTGACCTAGACATGGAATTGTGAA\n"
     ]
    }
   ],
   "source": [
    "!fgrep -c \">\" ../data/Mytilus-SXT.trimmed.trinity.v3.fa\n",
    "!head -2 ../data/Mytilus-SXT.trimmed.trinity.v3.fa"
   ]
  },
  {
   "cell_type": "code",
   "execution_count": 6,
   "metadata": {
    "collapsed": false,
    "run_control": {}
   },
   "outputs": [
    {
     "name": "stdout",
     "output_type": "stream",
     "text": [
      "[ INFO] 2015-12-11 12:41:47 : Loading assembly: /Users/sr320/git-repos/paper-mchil-sxt/data/Mytilus-SXT.trimmed.trinity.v3.fa\n",
      "[ INFO] 2015-12-11 12:42:05 : Analysing assembly: /Users/sr320/git-repos/paper-mchil-sxt/data/Mytilus-SXT.trimmed.trinity.v3.fa\n",
      "[ INFO] 2015-12-11 12:42:05 : Results will be saved in /Users/sr320/git-repos/paper-mchil-sxt/nbs/analyses/Mytilus-SXT.trimmed.trinity.v3\n",
      "[ INFO] 2015-12-11 12:42:05 : Calculating contig metrics...\n",
      "[ INFO] 2015-12-11 12:42:40 : Contig metrics:\n",
      "[ INFO] 2015-12-11 12:42:40 : -----------------------------------\n",
      "[ INFO] 2015-12-11 12:42:40 : n seqs                       184166\n",
      "[ INFO] 2015-12-11 12:42:40 : smallest                        224\n",
      "[ INFO] 2015-12-11 12:42:40 : largest                       21486\n",
      "[ INFO] 2015-12-11 12:42:40 : n bases                   134270562\n",
      "[ INFO] 2015-12-11 12:42:40 : mean len                     729.07\n",
      "[ INFO] 2015-12-11 12:42:40 : n under 200                       0\n",
      "[ INFO] 2015-12-11 12:42:40 : n over 1k                     38651\n",
      "[ INFO] 2015-12-11 12:42:40 : n over 10k                        7\n",
      "[ INFO] 2015-12-11 12:42:40 : n with orf                    42761\n",
      "[ INFO] 2015-12-11 12:42:40 : mean orf percent              52.36\n",
      "[ INFO] 2015-12-11 12:42:40 : n90                             303\n",
      "[ INFO] 2015-12-11 12:42:40 : n70                             603\n",
      "[ INFO] 2015-12-11 12:42:40 : n50                            1077\n",
      "[ INFO] 2015-12-11 12:42:40 : n30                            1745\n",
      "[ INFO] 2015-12-11 12:42:40 : n10                            3161\n",
      "[ INFO] 2015-12-11 12:42:40 : gc                             0.33\n",
      "[ INFO] 2015-12-11 12:42:40 : gc skew                        0.02\n",
      "[ INFO] 2015-12-11 12:42:40 : at skew                        0.01\n",
      "[ INFO] 2015-12-11 12:42:40 : cpg ratio                      1.41\n",
      "[ INFO] 2015-12-11 12:42:40 : bases n                           0\n",
      "[ INFO] 2015-12-11 12:42:40 : proportion n                    0.0\n",
      "[ INFO] 2015-12-11 12:42:40 : linguistic complexity          0.13\n",
      "[ INFO] 2015-12-11 12:42:40 : Contig metrics done in 34 seconds\n",
      "[ INFO] 2015-12-11 12:42:40 : No reads provided, skipping read diagnostics\n",
      "[ INFO] 2015-12-11 12:42:40 : No reference provided, skipping comparative diagnostics\n",
      "[ INFO] 2015-12-11 12:42:40 : Writing contig metrics for each contig to /Users/sr320/git-repos/paper-mchil-sxt/nbs/analyses/Mytilus-SXT.trimmed.trinity.v3/contigs.csv\n",
      "[ INFO] 2015-12-11 12:43:12 : Writing analysis results to assemblies.csv\n"
     ]
    }
   ],
   "source": [
    "!/Applications/transrate-1.0.1-osx/transrate \\\n",
    "--assembly \\\n",
    "../data/Mytilus-SXT.trimmed.trinity.v3.fa \\\n",
    "--output analyses"
   ]
  },
  {
   "cell_type": "code",
   "execution_count": null,
   "metadata": {
    "collapsed": false,
    "run_control": {}
   },
   "outputs": [
    {
     "name": "stdout",
     "output_type": "stream",
     "text": [
      "[ INFO] 2015-12-11 13:10:55 : Loading assembly: /Users/sr320/git-repos/paper-mchil-sxt/data/Mytilus-SXT.trimmed.trinity.v3.fa\n",
      "[ INFO] 2015-12-11 13:11:22 : Analysing assembly: /Users/sr320/git-repos/paper-mchil-sxt/data/Mytilus-SXT.trimmed.trinity.v3.fa\n",
      "[ INFO] 2015-12-11 13:11:22 : Results will be saved in /Users/sr320/git-repos/paper-mchil-sxt/nbs/analyses/transrate-Cgigas-pep/Mytilus-SXT.trimmed.trinity.v3\n",
      "[ INFO] 2015-12-11 13:11:22 : Calculating contig metrics...\n",
      "[ INFO] 2015-12-11 13:12:04 : Contig metrics:\n",
      "[ INFO] 2015-12-11 13:12:04 : -----------------------------------\n",
      "[ INFO] 2015-12-11 13:12:04 : n seqs                       184166\n",
      "[ INFO] 2015-12-11 13:12:04 : smallest                        224\n",
      "[ INFO] 2015-12-11 13:12:04 : largest                       21486\n",
      "[ INFO] 2015-12-11 13:12:04 : n bases                   134270562\n",
      "[ INFO] 2015-12-11 13:12:04 : mean len                     729.07\n",
      "[ INFO] 2015-12-11 13:12:04 : n under 200                       0\n",
      "[ INFO] 2015-12-11 13:12:04 : n over 1k                     38651\n",
      "[ INFO] 2015-12-11 13:12:04 : n over 10k                        7\n",
      "[ INFO] 2015-12-11 13:12:04 : n with orf                    42761\n",
      "[ INFO] 2015-12-11 13:12:04 : mean orf percent              52.36\n",
      "[ INFO] 2015-12-11 13:12:04 : n90                             303\n",
      "[ INFO] 2015-12-11 13:12:04 : n70                             603\n",
      "[ INFO] 2015-12-11 13:12:04 : n50                            1077\n",
      "[ INFO] 2015-12-11 13:12:04 : n30                            1745\n",
      "[ INFO] 2015-12-11 13:12:04 : n10                            3161\n",
      "[ INFO] 2015-12-11 13:12:04 : gc                             0.33\n",
      "[ INFO] 2015-12-11 13:12:04 : gc skew                        0.02\n",
      "[ INFO] 2015-12-11 13:12:04 : at skew                        0.01\n",
      "[ INFO] 2015-12-11 13:12:04 : cpg ratio                      1.41\n",
      "[ INFO] 2015-12-11 13:12:04 : bases n                           0\n",
      "[ INFO] 2015-12-11 13:12:04 : proportion n                    0.0\n",
      "[ INFO] 2015-12-11 13:12:04 : linguistic complexity          0.13\n",
      "[ INFO] 2015-12-11 13:12:04 : Contig metrics done in 41 seconds\n",
      "[ INFO] 2015-12-11 13:12:04 : No reads provided, skipping read diagnostics\n",
      "[ INFO] 2015-12-11 13:12:04 : Calculating comparative metrics...\n"
     ]
    }
   ],
   "source": [
    "!/Applications/transrate-1.0.1-osx/transrate \\\n",
    "--assembly ../data/Mytilus-SXT.trimmed.trinity.v3.fa \\\n",
    "--reference ../data/Crassostrea_gigas.GCA_000297895.1.29.pep.all.fa \\\n",
    "--threads 4 \\\n",
    "--output analyses/transrate-Cgigas-pep"
   ]
  },
  {
   "cell_type": "code",
   "execution_count": null,
   "metadata": {
    "collapsed": true,
    "run_control": {}
   },
   "outputs": [],
   "source": []
  }
 ],
 "metadata": {
  "kernelspec": {
   "display_name": "Python 3",
   "language": "python",
   "name": "python3"
  },
  "language_info": {
   "codemirror_mode": {
    "name": "ipython",
    "version": 3
   },
   "file_extension": ".py",
   "mimetype": "text/x-python",
   "name": "python",
   "nbconvert_exporter": "python",
   "pygments_lexer": "ipython3",
   "version": "3.5.0"
  }
 },
 "nbformat": 4,
 "nbformat_minor": 0
}
