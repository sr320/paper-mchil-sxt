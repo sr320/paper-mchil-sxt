{
 "cells": [
  {
   "cell_type": "code",
   "execution_count": 5,
   "metadata": {
    "button": false,
    "collapsed": false,
    "deletable": true,
    "new_sheet": false,
    "run_control": {
     "read_only": false
    }
   },
   "outputs": [
    {
     "name": "stdout",
     "output_type": "stream",
     "text": [
      "184166\n",
      ">TR10000_c0_g1_i1\n",
      "CTCATCTTGATTTATCTTAATCTTTGAAAATGGCTTCAGCATTGGAATCGTATGTGAATCGTACAGTTTCTATAGTCACAGCAGATGGAAGAATAATTGTGGGAACATTGAAAGGATTTGATCAAACAATCAACTTAATTCTAGACGAGAGCCATGAGAGGGTATATAGTGCTACACAAGGAGTAGAACAAGTCATTTTGGGACTATACATCATCAGGGGAGATAATGTAGCTTTGATAGGAGAGATAGATGATGAAGCTGACCAGAGATTAGATTTTAATGACATTAAGGCTGAACCTTTGAATTCAGTTTTACATTGATGTAAAGGATAAAAAGACATGTTATGGCTTGGAAATAAATCTCAGCTTAGTTGAATTACAGGAATTTTAGGACTTACAACCAAAGAGAATGTACATTTAATTACATAAATAAATGCAAGCTGATCAAGAGAGAGAGGGAGATTTTCAATACTTGTGTATGGTTTTGTGCTTAATTAACATTTTTAAAGTGTTAAAAGTGTCATAATATATTTTGAAGAATGCCTCCCTAACCTGTAAAGGAAGATTGATTATTTATAGCAATTACTTAAGGAAAAATAATAAATATTCAACATGTTCAAACTAAATTCATTTTTATTAAGTTAAGATAATTGAATGAGATGTTTGATTGTTTCTGTTGGTTCACAATTCCATGTCTAGGTTCAACTGACCTAGACATGGAATTGTGAA\n"
     ]
    }
   ],
   "source": [
    "!fgrep -c \">\" ../data/Mytilus-SXT.trimmed.trinity.v3.fa\n",
    "!head -2 ../data/Mytilus-SXT.trimmed.trinity.v3.fa"
   ]
  },
  {
   "cell_type": "code",
   "execution_count": 6,
   "metadata": {
    "button": false,
    "collapsed": false,
    "deletable": true,
    "new_sheet": false,
    "run_control": {
     "read_only": false
    }
   },
   "outputs": [
    {
     "name": "stdout",
     "output_type": "stream",
     "text": [
      "[ INFO] 2015-12-11 12:41:47 : Loading assembly: /Users/sr320/git-repos/paper-mchil-sxt/data/Mytilus-SXT.trimmed.trinity.v3.fa\n",
      "[ INFO] 2015-12-11 12:42:05 : Analysing assembly: /Users/sr320/git-repos/paper-mchil-sxt/data/Mytilus-SXT.trimmed.trinity.v3.fa\n",
      "[ INFO] 2015-12-11 12:42:05 : Results will be saved in /Users/sr320/git-repos/paper-mchil-sxt/nbs/analyses/Mytilus-SXT.trimmed.trinity.v3\n",
      "[ INFO] 2015-12-11 12:42:05 : Calculating contig metrics...\n",
      "[ INFO] 2015-12-11 12:42:40 : Contig metrics:\n",
      "[ INFO] 2015-12-11 12:42:40 : -----------------------------------\n",
      "[ INFO] 2015-12-11 12:42:40 : n seqs                       184166\n",
      "[ INFO] 2015-12-11 12:42:40 : smallest                        224\n",
      "[ INFO] 2015-12-11 12:42:40 : largest                       21486\n",
      "[ INFO] 2015-12-11 12:42:40 : n bases                   134270562\n",
      "[ INFO] 2015-12-11 12:42:40 : mean len                     729.07\n",
      "[ INFO] 2015-12-11 12:42:40 : n under 200                       0\n",
      "[ INFO] 2015-12-11 12:42:40 : n over 1k                     38651\n",
      "[ INFO] 2015-12-11 12:42:40 : n over 10k                        7\n",
      "[ INFO] 2015-12-11 12:42:40 : n with orf                    42761\n",
      "[ INFO] 2015-12-11 12:42:40 : mean orf percent              52.36\n",
      "[ INFO] 2015-12-11 12:42:40 : n90                             303\n",
      "[ INFO] 2015-12-11 12:42:40 : n70                             603\n",
      "[ INFO] 2015-12-11 12:42:40 : n50                            1077\n",
      "[ INFO] 2015-12-11 12:42:40 : n30                            1745\n",
      "[ INFO] 2015-12-11 12:42:40 : n10                            3161\n",
      "[ INFO] 2015-12-11 12:42:40 : gc                             0.33\n",
      "[ INFO] 2015-12-11 12:42:40 : gc skew                        0.02\n",
      "[ INFO] 2015-12-11 12:42:40 : at skew                        0.01\n",
      "[ INFO] 2015-12-11 12:42:40 : cpg ratio                      1.41\n",
      "[ INFO] 2015-12-11 12:42:40 : bases n                           0\n",
      "[ INFO] 2015-12-11 12:42:40 : proportion n                    0.0\n",
      "[ INFO] 2015-12-11 12:42:40 : linguistic complexity          0.13\n",
      "[ INFO] 2015-12-11 12:42:40 : Contig metrics done in 34 seconds\n",
      "[ INFO] 2015-12-11 12:42:40 : No reads provided, skipping read diagnostics\n",
      "[ INFO] 2015-12-11 12:42:40 : No reference provided, skipping comparative diagnostics\n",
      "[ INFO] 2015-12-11 12:42:40 : Writing contig metrics for each contig to /Users/sr320/git-repos/paper-mchil-sxt/nbs/analyses/Mytilus-SXT.trimmed.trinity.v3/contigs.csv\n",
      "[ INFO] 2015-12-11 12:43:12 : Writing analysis results to assemblies.csv\n"
     ]
    }
   ],
   "source": [
    "!/Applications/transrate-1.0.1-osx/transrate \\\n",
    "--assembly \\\n",
    "../data/Mytilus-SXT.trimmed.trinity.v3.fa \\\n",
    "--output analyses"
   ]
  },
  {
   "cell_type": "code",
   "execution_count": null,
   "metadata": {
    "button": false,
    "collapsed": false,
    "deletable": true,
    "new_sheet": false,
    "run_control": {
     "read_only": false
    }
   },
   "outputs": [
    {
     "name": "stdout",
     "output_type": "stream",
     "text": [
      "[ INFO] 2015-12-11 13:10:55 : Loading assembly: /Users/sr320/git-repos/paper-mchil-sxt/data/Mytilus-SXT.trimmed.trinity.v3.fa\n",
      "[ INFO] 2015-12-11 13:11:22 : Analysing assembly: /Users/sr320/git-repos/paper-mchil-sxt/data/Mytilus-SXT.trimmed.trinity.v3.fa\n",
      "[ INFO] 2015-12-11 13:11:22 : Results will be saved in /Users/sr320/git-repos/paper-mchil-sxt/nbs/analyses/transrate-Cgigas-pep/Mytilus-SXT.trimmed.trinity.v3\n",
      "[ INFO] 2015-12-11 13:11:22 : Calculating contig metrics...\n",
      "[ INFO] 2015-12-11 13:12:04 : Contig metrics:\n",
      "[ INFO] 2015-12-11 13:12:04 : -----------------------------------\n",
      "[ INFO] 2015-12-11 13:12:04 : n seqs                       184166\n",
      "[ INFO] 2015-12-11 13:12:04 : smallest                        224\n",
      "[ INFO] 2015-12-11 13:12:04 : largest                       21486\n",
      "[ INFO] 2015-12-11 13:12:04 : n bases                   134270562\n",
      "[ INFO] 2015-12-11 13:12:04 : mean len                     729.07\n",
      "[ INFO] 2015-12-11 13:12:04 : n under 200                       0\n",
      "[ INFO] 2015-12-11 13:12:04 : n over 1k                     38651\n",
      "[ INFO] 2015-12-11 13:12:04 : n over 10k                        7\n",
      "[ INFO] 2015-12-11 13:12:04 : n with orf                    42761\n",
      "[ INFO] 2015-12-11 13:12:04 : mean orf percent              52.36\n",
      "[ INFO] 2015-12-11 13:12:04 : n90                             303\n",
      "[ INFO] 2015-12-11 13:12:04 : n70                             603\n",
      "[ INFO] 2015-12-11 13:12:04 : n50                            1077\n",
      "[ INFO] 2015-12-11 13:12:04 : n30                            1745\n",
      "[ INFO] 2015-12-11 13:12:04 : n10                            3161\n",
      "[ INFO] 2015-12-11 13:12:04 : gc                             0.33\n",
      "[ INFO] 2015-12-11 13:12:04 : gc skew                        0.02\n",
      "[ INFO] 2015-12-11 13:12:04 : at skew                        0.01\n",
      "[ INFO] 2015-12-11 13:12:04 : cpg ratio                      1.41\n",
      "[ INFO] 2015-12-11 13:12:04 : bases n                           0\n",
      "[ INFO] 2015-12-11 13:12:04 : proportion n                    0.0\n",
      "[ INFO] 2015-12-11 13:12:04 : linguistic complexity          0.13\n",
      "[ INFO] 2015-12-11 13:12:04 : Contig metrics done in 41 seconds\n",
      "[ INFO] 2015-12-11 13:12:04 : No reads provided, skipping read diagnostics\n",
      "[ INFO] 2015-12-11 13:12:04 : Calculating comparative metrics...\n"
     ]
    }
   ],
   "source": [
    "!/Applications/transrate-1.0.1-osx/transrate \\\n",
    "--assembly ../data/Mytilus-SXT.trimmed.trinity.v3.fa \\\n",
    "--reference ../data/Crassostrea_gigas.GCA_000297895.1.29.pep.all.fa \\\n",
    "--threads 4 \\\n",
    "--output analyses/transrate-Cgigas-pep"
   ]
  },
  {
   "cell_type": "code",
   "execution_count": 10,
   "metadata": {
    "button": false,
    "collapsed": false,
    "deletable": true,
    "new_sheet": false,
    "run_control": {
     "read_only": false
    }
   },
   "outputs": [
    {
     "ename": "SyntaxError",
     "evalue": "invalid syntax (<ipython-input-10-3139f914a4f4>, line 2)",
     "output_type": "error",
     "traceback": [
      "\u001b[0;36m  File \u001b[0;32m\"<ipython-input-10-3139f914a4f4>\"\u001b[0;36m, line \u001b[0;32m2\u001b[0m\n\u001b[0;31m    n_seqs\t184166\u001b[0m\n\u001b[0m          \t     ^\u001b[0m\n\u001b[0;31mSyntaxError\u001b[0m\u001b[0;31m:\u001b[0m invalid syntax\n"
     ]
    }
   ],
   "source": [
    "assembly\t/Users/sr320/git-repos/paper-mchil-sxt/data/Mytilus-SXT.trimmed.trinity.v3.fa\n",
    "n_seqs\t184166\n",
    "smallest\t224\n",
    "largest\t21486\n",
    "n_bases\t134270562\n",
    "mean_len\t729.07356\n",
    "n_under_200\t0\n",
    "n_over_1k\t38651\n",
    "n_over_10k\t7\n",
    "n_with_orf\t42761\n",
    "mean_orf_percent\t52.36376\n",
    "n90\t303\n",
    "n70\t603\n",
    "n50\t1077\n",
    "n30\t1745\n",
    "n10\t3161\n",
    "gc\t0.33357\n",
    "gc_skew\t0.01875\n",
    "at_skew\t0.0111\n",
    "cpg_ratio\t1.41025\n",
    "bases_n\t0\n",
    "proportion_n\t0\n",
    "linguistic_complexity\t0.1295\n",
    "CRBB_hits\t27302\n",
    "n_contigs_with_CRBB\t27302\n",
    "p_contigs_with_CRBB\t0.14825\n",
    "rbh_per_reference\t1.04649\n",
    "n_refs_with_CRBB\t10912\n",
    "p_refs_with_CRBB\t0.41826\n",
    "cov25\t9526\n",
    "p_cov25\t0.36513\n",
    "cov50\t7595\n",
    "p_cov50\t0.29112\n",
    "cov75\t5512\n",
    "p_cov75\t0.21128\n",
    "cov85\t4478\n",
    "p_cov85\t0.17164\n",
    "cov95\t2897\n",
    "p_cov95\t0.11104\n",
    "reference_coverage\t0.31688\n",
    "score\tNA\n",
    "optimal_score\tNA\n",
    "cutoff\tNA"
   ]
  },
  {
   "cell_type": "markdown",
   "metadata": {
    "button": false,
    "collapsed": true,
    "deletable": true,
    "new_sheet": false,
    "run_control": {
     "read_only": false
    }
   },
   "source": [
    "# Comparing to Moriera Transcriptome.."
   ]
  },
  {
   "cell_type": "code",
   "execution_count": 11,
   "metadata": {
    "button": false,
    "collapsed": false,
    "deletable": true,
    "new_sheet": false,
    "run_control": {
     "read_only": false
    }
   },
   "outputs": [
    {
     "name": "stdout",
     "output_type": "stream",
     "text": [
      ">CL1.Contig1_All    size  476    gap  0  0%\r\n",
      "GTGGCTGAAAAGTGTTAAAAAATCACATGGATCGGTGGAAGTTACTTCTC\r\n",
      "TGTCTCAAGCCGATGCTATTAATGAGATAGGCATCTACAAAATTGGAAAC\r\n",
      "TGGACAAAACGAAACATGAATGAAAACATGACAATTACAGACGTGTTGGA\r\n",
      "ACTGATCTTACCCGAAACGAAAGACGGTTCAATGAGGCGTTACACATTCC\r\n",
      "AGAAGCTTAATGACTTGCAGTCACGTTTAATGTTGGTAGCTGGCAAGGCA\r\n",
      "GATAAGGGAAAAGATAGTGTTGATAGATTTATGTTGATCCTCGATTCTGT\r\n",
      "TGTCCGTTTAGGCCAAATCTACATCAAACTGCTCACTGACGGTTGTGTAT\r\n",
      "TATTTTCAAAGTGGTATGTAAATTTACTCTGTGACAAAACAAGACCAGCA\r\n",
      "TGCGTTCATATTCACTTTGGGGAAGGAACAAACAAAGTAATATTGAAAGG\r\n"
     ]
    }
   ],
   "source": [
    "!head ../data/Moreira2015-Transcriptome.fa"
   ]
  },
  {
   "cell_type": "code",
   "execution_count": 18,
   "metadata": {
    "button": false,
    "collapsed": true,
    "deletable": true,
    "new_sheet": false,
    "run_control": {
     "read_only": false
    }
   },
   "outputs": [],
   "source": [
    "bbin=\"/Applications/ncbi-blast-2.2.31+/bin/\""
   ]
  },
  {
   "cell_type": "code",
   "execution_count": 21,
   "metadata": {
    "button": false,
    "collapsed": false,
    "deletable": true,
    "new_sheet": false,
    "run_control": {
     "read_only": false
    }
   },
   "outputs": [
    {
     "name": "stdout",
     "output_type": "stream",
     "text": [
      "\n",
      "\n",
      "Building a new DB, current time: 12/15/2015 14:33:38\n",
      "New DB name:   /Users/sr320/git-repos/paper-mchil-sxt/data/Moreira2015-Transcriptome\n",
      "New DB title:  ../data/Moreira2015-Transcriptome.fa\n",
      "Sequence type: Nucleotide\n",
      "Keep Linkouts: T\n",
      "Keep MBits: T\n",
      "Maximum file size: 1000000000B\n",
      "Adding sequences from FASTA; added 151320 sequences in 19.3898 seconds.\n"
     ]
    }
   ],
   "source": [
    "!{bbin}makeblastdb \\\n",
    "-in ../data/Moreira2015-Transcriptome.fa \\\n",
    "-dbtype nucl \\\n",
    "-out ../data/Moreira2015-Transcriptome\n"
   ]
  },
  {
   "cell_type": "code",
   "execution_count": 22,
   "metadata": {
    "button": false,
    "collapsed": true,
    "deletable": true,
    "new_sheet": false,
    "run_control": {
     "read_only": false
    }
   },
   "outputs": [],
   "source": [
    "!{bbin}blastn \\\n",
    "-query ../data/Mytilus-SXT.trimmed.trinity.v3.fa \\\n",
    "-db ../data/Moreira2015-Transcriptome \\\n",
    "-evalue 1e-40 \\\n",
    "-max_target_seqs 1 \\\n",
    "-max_hsps 1 \\\n",
    "-outfmt 6 \\\n",
    "-num_threads 1 \\\n",
    "-out analyses/Mytv3-blastn-Moreira2015-40.out"
   ]
  },
  {
   "cell_type": "code",
   "execution_count": 23,
   "metadata": {
    "button": false,
    "collapsed": false,
    "deletable": true,
    "new_sheet": false,
    "run_control": {
     "read_only": false
    }
   },
   "outputs": [
    {
     "name": "stdout",
     "output_type": "stream",
     "text": [
      "  131968 analyses/Mytv3-blastn-Moreira2015-40.out\r\n"
     ]
    }
   ],
   "source": [
    "!wc -l analyses/Mytv3-blastn-Moreira2015-40.out"
   ]
  },
  {
   "cell_type": "code",
   "execution_count": 36,
   "metadata": {
    "button": false,
    "collapsed": false,
    "deletable": true,
    "new_sheet": false,
    "run_control": {
     "read_only": false
    }
   },
   "outputs": [
    {
     "data": {
      "text/plain": [
       "0.7165709197137365"
      ]
     },
     "execution_count": 36,
     "metadata": {},
     "output_type": "execute_result"
    }
   ],
   "source": [
    "131968/184166\n"
   ]
  },
  {
   "cell_type": "code",
   "execution_count": 24,
   "metadata": {
    "button": false,
    "collapsed": true,
    "deletable": true,
    "new_sheet": false,
    "run_control": {
     "read_only": false
    }
   },
   "outputs": [],
   "source": [
    "!{bbin}blastn \\\n",
    "-query analyses/Mytilus-SXT.trimmed.trinity.v3.ANNOT.fa \\\n",
    "-db ../data/Moreira2015-Transcriptome \\\n",
    "-evalue 1e-20 \\\n",
    "-max_target_seqs 1 \\\n",
    "-max_hsps 1 \\\n",
    "-outfmt 6 \\\n",
    "-num_threads 1 \\\n",
    "-out analyses/Mytv3-annot-blastn-Moreira2015-20.out"
   ]
  },
  {
   "cell_type": "code",
   "execution_count": 25,
   "metadata": {
    "button": false,
    "collapsed": false,
    "deletable": true,
    "new_sheet": false,
    "run_control": {
     "read_only": false
    }
   },
   "outputs": [
    {
     "name": "stdout",
     "output_type": "stream",
     "text": [
      "   26540 analyses/Mytv3-annot-blastn-Moreira2015-20.out\r\n"
     ]
    }
   ],
   "source": [
    "!wc -l analyses/Mytv3-annot-blastn-Moreira2015-20.out"
   ]
  },
  {
   "cell_type": "code",
   "execution_count": 26,
   "metadata": {
    "button": false,
    "collapsed": false,
    "deletable": true,
    "new_sheet": false,
    "run_control": {
     "read_only": false
    }
   },
   "outputs": [
    {
     "name": "stdout",
     "output_type": "stream",
     "text": [
      "TR10000_c0_g2_i1\tCL7468.Contig2_All\t97.55\t817\t18\t2\t1\t817\t111\t925\t0.0\t1397\r\n",
      "TR10004_c0_g1_i1\tUnigene98643_All\t99.11\t112\t1\t0\t2\t113\t112\t1\t3e-51\t202\r\n",
      "TR10015_c0_g1_i1\tUnigene39304_All\t97.16\t352\t9\t1\t1\t352\t138\t488\t7e-169\t593\r\n",
      "TR10031_c0_g1_i1\tUnigene15873_All\t98.33\t478\t8\t0\t1\t478\t932\t455\t0.0\t839\r\n",
      "TR10047_c0_g1_i1\tUnigene36488_All\t99.48\t194\t1\t0\t1\t194\t1723\t1916\t7e-97\t353\r\n",
      "TR10050_c1_g1_i1\tUnigene21031_All\t100.00\t563\t0\t0\t108\t670\t2\t564\t0.0\t1040\r\n",
      "TR10059_c0_g1_i1\tUnigene18276_All\t98.63\t291\t4\t0\t483\t773\t1\t291\t3e-145\t516\r\n",
      "TR10059_c0_g2_i1\tUnigene18276_All\t98.63\t291\t4\t0\t483\t773\t1\t291\t3e-145\t516\r\n",
      "TR10068_c0_g2_i1\tUnigene15138_All\t97.42\t503\t7\t1\t13\t509\t1\t503\t0.0\t852\r\n",
      "TR1006_c0_g1_i1\tCL2907.Contig1_All\t98.24\t227\t4\t0\t1\t227\t759\t533\t2e-110\t398\r\n"
     ]
    }
   ],
   "source": [
    "!head analyses/Mytv3-annot-blastn-Moreira2015-20.out\n"
   ]
  },
  {
   "cell_type": "code",
   "execution_count": 28,
   "metadata": {
    "button": false,
    "collapsed": false,
    "deletable": true,
    "new_sheet": false,
    "run_control": {
     "read_only": false
    }
   },
   "outputs": [
    {
     "name": "stdout",
     "output_type": "stream",
     "text": [
      "TR10000_c0_g2_i1 CTCATCTTGATTTATCTTAATCTTTGAAAATGGCTTCAGCATTGGAATCGTATGTGAATCGTACAGTTTCTATAGTCACAGCAGATGGAAGAATAATTGTGGGAACATTGAAAGGATTTGATCAAACAATCAACTTAATTCTAGACGAGAGCCATGAGAGGGTATATAGTGCTACACAAGGAGTAGAACAAGTCATTTTGGGACTATACATCATCAGGGGAGATAATGTAGCTTTGATAGGAGAGATAGATGATGAAGCTGACCAGAGATTAGATTTTAATGACATTAAGGCTGAACCTTTGAATTCAGTTTTACATTGATGTAAAGGATAAAAAGACATGTTATGGCTTGGAAATAAATCTCAGCTTAGTTGAATTACAGGAATTTTAGGACTTACAACCAAAGAGAATGTACATTTAATTACATAAATAAATGCAAGCTGATCAAGAGAGAGAGGGAGATTTTCAATACTTGTGTATGGTTTTGTGCTTAATTAACATTTTTAAAGTGTTAAAAGTGTCATAATATATTTTGAAGAATGCCTCCCTAACCTGTAAAGGAAGATTGATTATTTATAGCAATTACTTAAGGAAAAATAATAAATATTCAACATGTTCAAACTAAATTCATTTTTATTAAGTTAAGATAATTGAATGAGATGTTTGATTGTTTCTGTTGGTTCACAATTCCATGTCTAGGTTCAACTGACCTAGAAAGAGAAAGCGTATGTGCATCATTTCATAAATATTCTTATTTGAACTTTAGATGTCTAATTTAGTCAACTAGCCTGATGGGTTCAATTGCTGTCTCATTGACCTTACTTTTTCCTTTTATTCTTTCTGCAATTAATTAAGAAATATTTTATTTCTATAGAAATATTGAAAGTGATAAATAAAAGTTGAAATAAAAGCATGACACATAATTTAGACAACTAGAGTTTAAAATACTTTTTCACAATAGGAAATTTTTAAATAATCAAACATCTAAAAAATTAGTCCACTAGTACTTTGTGTAATGACCTATAAAACAGATTCCAAGAAAATTTATTGTCAATTGAGTCAAGTCTGAAAGAAAATTAGTTCGTTCATTTCTACTTCATTAATTTTCAGATTTCATTTGTTTGGTTAACTAAAATTTGTTGTTTCGCACATCCTATAGAAAAGTCAAATGAACTAATGCATTCCATATAATATATGTAAAAAAATTAGTTTGTATTCACGACAAAATTGATTAGTATTCATGGAAACTTGTAACTCAGGACTGAAATCACTTCCATAGTTCATACTGATCCCACATACAGAGAAGCATGGTGTATTTATCTTCTTACCCAAAGTACAATTTGCACTTGTCATTTTATCATGTTTTAATTCATAAATGTACAAAGACACACG\r\n"
     ]
    }
   ],
   "source": [
    "!head -1 analyses/Mytilus-SXT-v3.annot.TAB"
   ]
  },
  {
   "cell_type": "code",
   "execution_count": 34,
   "metadata": {
    "button": false,
    "collapsed": false,
    "deletable": true,
    "new_sheet": false,
    "run_control": {
     "read_only": false
    }
   },
   "outputs": [],
   "source": [
    "!join -v 1 analyses/Mytilus-SXT-v3.annot.TAB \\\n",
    "analyses/Mytv3-annot-blastn-Moreira2015-20.out \\\n",
    "> analyses/Mytv3-annot-NOTMoreira.tab"
   ]
  },
  {
   "cell_type": "code",
   "execution_count": 32,
   "metadata": {
    "button": false,
    "collapsed": false,
    "deletable": true,
    "new_sheet": false,
    "run_control": {
     "read_only": false
    }
   },
   "outputs": [
    {
     "data": {
      "text/plain": [
       "29445"
      ]
     },
     "execution_count": 32,
     "metadata": {},
     "output_type": "execute_result"
    }
   ],
   "source": [
    "26540 + 2905"
   ]
  },
  {
   "cell_type": "code",
   "execution_count": 35,
   "metadata": {
    "button": false,
    "collapsed": false,
    "deletable": true,
    "new_sheet": false,
    "run_control": {
     "read_only": false
    }
   },
   "outputs": [
    {
     "name": "stdout",
     "output_type": "stream",
     "text": [
      "2905\n",
      ">TR10017_c1_g1_i1\n",
      "TGAGAAGATCCTCAGTGAAATGGGCGGAGAGGAGGTCCCGATTGACTGGAGAGGGGGTCTGAACATCACCTACAGACTGGGAGGAGCTCTGCAAAAGACAGGGTGGAAGATGCAAATAAAAATATCAACAAAGAATGAAATAAAAACTGCATATAATGTCATCGGTATCATCAAAGGATCGACAGAACCAGATCGCTACGTGATGGTCGGGAATCACAGAGATGCG\n",
      ">TR10028_c1_g1_i1\n",
      "TTTTTTTTATGTGTTCAATCCAACCATGGATTTATTGGCTTTCTCACAAGTTTGAATACAGAATTTTATTACACAAGTCAGATGAGAGAAAAAAACAAACACAAAGTAGCATAAACAGGATGAAATATTCTTAACACAGAACTAATTTAAAGCCTTGGTCGATTACTGATAGATATATGTCCCTTACCATGCTTACAGATGAATAGTGAAAAAAACTTAGATAATAAGTCACAATTTCATCACTTTAGTACAGTACCGGTGTTTCTGACCTGAATGTGTATTTGGCTTCAAGGTTGACCAGATATTTTCTGTAAAACACATAATAAGGGCAAACTGCAGCCTCCCTCTAGATGGTAAGATTTATAATAATCTAGGGGTGTCCAGAATGATACTGAATTACTCCGATTTCTCACAGTTCACACAGGATACCATTCATGTCATGGCCATGTTTTTGTTTAGTCATTGGTCTTCATCGATTTGAGGGCAACGACTATTTCATCATCCATCGCCTTCTGAACCGTCACCATAAAGTCTTCTCCCAAATCAGCCTTTTTCTGAATGTCTTGACCAATATCATTATCTGGGAGGCGCAGATCTTCCCGTGTTATGCTCTTATCGTCAAGCAGGGACAGATATCCGTCTTGTACACCTAAACACTGGTAATCCAATCGTGATATAGTCGGCACAATCATGTTGTGTGTTGAAGGGCATATATCCTCATACTTTTTCCCAGTGAAGATGTCTAGGCCCACAAGGTGAACCTTGGCGTGTCCATGTTTGCCGGTCTTGGATGTGGACATTTCAACAATCTTGCACGGCCTCGACTTGAGGAGGACATGGCCG\n",
      ">TR10041_c0_g1_i1\n",
      "CGACTGTCAACGTTTGGACCACCACAACCACAGTTGCAGGGTGAACAGGCCCGGTCTCGTGTCTGGACATGATTGTGACAATTTCCCCATGGTGCCCAAGGGGTCCATGCCCCCAGTTCCTCCTTCCAGGGGGTCAGGTCCACCGTCTCCAGGGAGCCGCAGGGCACCTTATCACCCTTGACGAAAGCATTCTCCTGTATACTGACAGTGTCGGTGTTATCGCAGAATATTCGGGACAAACTTGTCTTGCGGATTTCAGCCAGTTGATCGGGGGAGAATTTAGCGTAGTCATTGTCTTCTTCAAACCAGAATCGGTCTCCTTTCCTGAGAGCCTCAAATTGTCTCCCGAGGAGGCAGGCTAATGTTGGTCCGACGACTCCACCTGTTACAGGTTCTTCAGTCAGTCCCCCTGTCCACAGGTCAATGTCGTCCACATGCTCGTATGCTGCCGCAAGCTTGACAGTAGAGGCATTCGAATGGGTCGTCAACAAGCCGTCGAAATCAGTTGCACCAGGAAGCCCACAGAACGTCCTCCATTTAGTGTAGGCGG\n",
      ">TR10041_c0_g2_i1\n",
      "CTGGACTACTTAGACATAAAGTCCGTATGCCGTTAGATACACGCCGTGTGCCTGGATAGGTACAGGAGACCCGTAACAGGACTCAACAACGGCAGTAACGACTGTCAACGTTTGGACCATCACAACCACAGTTGCAGGGTGAACAGGCCCGGTCTCGTGTCTGGACATGATTGTGACAATTTCCCCATGGTGCCCAAGGGGTCCATGCCCCCAGTTCCTCCTTCCAGGGGGTCAGGTCCACCGTCTCCAGGGAGCCGCAGGGCACCTTATCACCCTTGACGAAAGCATTCTCCTGTATACTGACAGTGTCGGTGTTATCGCAGAATATTCGGGACAAACTTGTCTTGCGGATTTCAGCCAGTTGATCGGGGGAGAATTTAGCGTAGTCATTGTCTTCTTCAAACCAGAATCGGTCTCCTTTCCTGAGAGCCTCAAATTGTCTCCCGAGGAGGCAGGCTAATGTTGGTCCGACGACTCCACCTGTTACAGGTTCTTCAGTCAGTCCCCCTGTCCACAGGTCAATGTCGTCCACATGCTCGTATGCTGCCGCAAGCTTGACAGTAGAGGCATTCGAATGGGTCGTCAACAAGCCGTCGAAATCAGTTGCACCAGGAAGCCCACAGAACGTCCTCCATTTAGTGTAGGCGG\n",
      ">TR10052_c1_g1_i1\n",
      "TCTGTTCATAATGAGGATCACGGTGGAATTGATTCAACTTTAGCGAAGATTAGAAGCAGGTTTTGGATACCTGGTGTTAGGCGCACCATAAAACAGATCAAGGAGAAATGTGTGACATGTAGAAAAAGAAACAAAACTACTTTGACACAGCAGATGGGGAAGCTTCCGTCATATAGATTGAATCCATCGCCACCTTTTTACTACTGTGCAGTAGATTTATTCGGACCGTATACCATCCGTGATACAGTCAAAAGAAGGACATTTGGGAAAGCGTATGGAG\n"
     ]
    }
   ],
   "source": [
    "!awk '{print \">\"$1\"\\n\"$2}' \\\n",
    "analyses/Mytv3-annot-NOTMoreira.tab \\\n",
    "> analyses/Mytv3-annot-NOTMoreira.fa\n",
    "!fgrep -c \">\" analyses/Mytv3-annot-NOTMoreira.fa\n",
    "!head analyses/Mytv3-annot-NOTMoreira.fa"
   ]
  },
  {
   "cell_type": "code",
   "execution_count": null,
   "metadata": {
    "button": false,
    "collapsed": true,
    "deletable": true,
    "new_sheet": false,
    "run_control": {
     "read_only": false
    }
   },
   "outputs": [],
   "source": []
  }
 ],
 "metadata": {
  "kernelspec": {
   "display_name": "Python 3",
   "language": "python",
   "name": "python3"
  },
  "language_info": {
   "codemirror_mode": {
    "name": "ipython",
    "version": 3
   },
   "file_extension": ".py",
   "mimetype": "text/x-python",
   "name": "python",
   "nbconvert_exporter": "python",
   "pygments_lexer": "ipython3",
   "version": "3.5.0"
  }
 },
 "nbformat": 4,
 "nbformat_minor": 0
}
