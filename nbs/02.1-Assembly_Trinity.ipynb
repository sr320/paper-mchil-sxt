{
 "cells": [
  {
   "cell_type": "code",
   "execution_count": 5,
   "metadata": {
    "button": false,
    "collapsed": false,
    "deletable": true,
    "new_sheet": false,
    "run_control": {
     "read_only": false
    }
   },
   "outputs": [
    {
     "name": "stdout",
     "output_type": "stream",
     "text": [
      "184166\n",
      ">TR10000_c0_g1_i1\n",
      "CTCATCTTGATTTATCTTAATCTTTGAAAATGGCTTCAGCATTGGAATCGTATGTGAATCGTACAGTTTCTATAGTCACAGCAGATGGAAGAATAATTGTGGGAACATTGAAAGGATTTGATCAAACAATCAACTTAATTCTAGACGAGAGCCATGAGAGGGTATATAGTGCTACACAAGGAGTAGAACAAGTCATTTTGGGACTATACATCATCAGGGGAGATAATGTAGCTTTGATAGGAGAGATAGATGATGAAGCTGACCAGAGATTAGATTTTAATGACATTAAGGCTGAACCTTTGAATTCAGTTTTACATTGATGTAAAGGATAAAAAGACATGTTATGGCTTGGAAATAAATCTCAGCTTAGTTGAATTACAGGAATTTTAGGACTTACAACCAAAGAGAATGTACATTTAATTACATAAATAAATGCAAGCTGATCAAGAGAGAGAGGGAGATTTTCAATACTTGTGTATGGTTTTGTGCTTAATTAACATTTTTAAAGTGTTAAAAGTGTCATAATATATTTTGAAGAATGCCTCCCTAACCTGTAAAGGAAGATTGATTATTTATAGCAATTACTTAAGGAAAAATAATAAATATTCAACATGTTCAAACTAAATTCATTTTTATTAAGTTAAGATAATTGAATGAGATGTTTGATTGTTTCTGTTGGTTCACAATTCCATGTCTAGGTTCAACTGACCTAGACATGGAATTGTGAA\n"
     ]
    }
   ],
   "source": [
    "!fgrep -c \">\" ../data/Mytilus-SXT.trimmed.trinity.v3.fa\n",
    "!head -2 ../data/Mytilus-SXT.trimmed.trinity.v3.fa"
   ]
  },
  {
   "cell_type": "code",
   "execution_count": null,
   "metadata": {
    "collapsed": true,
    "run_control": {}
   },
   "outputs": [],
   "source": []
  }
 ],
 "metadata": {
  "kernelspec": {
   "display_name": "Python 3",
   "language": "python",
   "name": "python3"
  },
  "language_info": {
   "codemirror_mode": {
    "name": "ipython",
    "version": 3
   },
   "file_extension": ".py",
   "mimetype": "text/x-python",
   "name": "python",
   "nbconvert_exporter": "python",
   "pygments_lexer": "ipython3",
   "version": "3.5.0"
  }
 },
 "nbformat": 4,
 "nbformat_minor": 0
}
