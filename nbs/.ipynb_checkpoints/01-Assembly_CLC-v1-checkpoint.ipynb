{
 "cells": [
  {
   "cell_type": "markdown",
   "metadata": {
    "button": false,
    "collapsed": true,
    "deletable": true,
    "new_sheet": false,
    "run_control": {
     "read_only": false
    }
   },
   "source": [
    "# CLC Assembly"
   ]
  },
  {
   "cell_type": "code",
   "execution_count": 3,
   "metadata": {
    "button": false,
    "collapsed": false,
    "deletable": true,
    "new_sheet": false,
    "run_control": {
     "read_only": false
    }
   },
   "outputs": [
    {
     "name": "stdout",
     "output_type": "stream",
     "text": [
      ">Control_contig_1_(0)_consensus\r\n",
      "AAAAGATACATGCAGACCTAAAAAAAAACAGTGCATTGCCTTTAGACTGCCTTTGTAGGG\r\n",
      "CTCAAGGTAGCCTTGCTTATGGAAATTCCTATGCAAGGTTAAACCAGACTTTAAAATTGG\r\n",
      "CGTTGGCTGCATTTAAACTAAACACGTGTCATTTTGGAGAAAGAGCATCTGAATCAGAAT\r\n",
      "AGTATTTGTTTAGGATAACACCATTGACATGTCTTCCTAACGACTCATTCTTTGAGCTAG\r\n",
      "AACGTTCAAAATGAGACTCAGAGAATAGGTTTAGTATAAAATATGGTTGTTATGCATATC\r\n",
      "ACAAATTGATCTGGGCTTGACGAAGGTTGAAATATAAGCTATTGATCATTTCAAAATAAA\r\n",
      "TCCATCCATCATCTCTTTACTTTCAGGTTGGCTCTTACATCAATTTCGAAAATGACAGAT\r\n",
      "GTATTGGATCCATCTATATTTTTTGTATTTTTTAAGTTACAAGAAATTGATCCGCAGTTT\r\n",
      "TCGGGATTTTGTCTGGACTGATATATGTGCAATTACATCACAGCTATTAAATTCCTGTTC\r\n",
      "ACAAATACACGGATTCCACTGTACCCTCGCAGCTCTCGAGTGGTGCTCAGAAGGAGGAAT\r\n",
      "CTACCAGTACATACATTCTTTCTGAAGTATTTGACAATGTTGTTCAAATAGAAAGACAAC\r\n",
      "AATATTATCATCGTGGTAATTTTATTATAATGTCACAGGAGAACATGACATAAATATATT\r\n",
      "TGGAACTCTTTATAAATTATCATTGTTATACAACATTTGCTCTGAGAATTTATTGTGGTC\r\n",
      "TTCCCAAATTAACAAAATACAACTACGTTAAGAAACATCACCAATTATCTGCATGAGTCT\r\n",
      "CTGGAATTCTAAGGTGGAATTACAAGCATTCTGATTGGTGCAATATGTTCATCATGAAAT\r\n",
      "ATTCAACTAATCAAAATTTAACTCATAATGCATCTTGATTGGTCAAAATTATAAATTAAA\r",
      "\r\n",
      "AAGGTATTTTGACCAATAAGATGC\r\n",
      ">Control_contig_1_(1)_consensus\r\n",
      "TTCATATATATTAAAAAGCATTAGTAAAAGATTTCGTGCGAATTTTCTGCAGTACTTGTT\r\n",
      "CATGCAAAGTGCATCGTTCTGTGTTTAAGATGTGAAATTATTTTGGTGCAATTATTAAGT\r\n",
      "AGATTTCTATCACTGATAATTAAACGCCAAGCATCAAATGGCATGGTTAATTCAGCTTAA\r\n",
      "ATTGGATATACAAAATGCAATTTTTATTGGAACATGAAGACTTTTAATACATACAAGTGA\r\n",
      "AAATGGTTGATGT\r\n",
      ">Control_contig_1_(2)_consensus\r\n",
      "TCGTGTTAGTAATTATTCTAGATAACTCCTTTACCCTTTAAACTGTTCGGTAAACAACTG\r\n",
      "AATTTCAATCATTCAACAAGTAACCAAAAATTGTGTATGAAAATTTTCAATTTTTCTGTG\r\n",
      "AAAAGGAAAAAGAAACAATCCGATTCAATTAGATGTAATTGACGTTAAATGTTTTAAAAA\r\n",
      "TATACATCAATCTCAGAGAACCAATTTAAATCTATTCGAAATATTCCGTTTCCATGGAAC\r\n",
      "GTCGAATTAAGTGGCAAGGATTTTTTTCTCCATCGTCTGGCTCAACCCATCATCAGTGTA\r\n",
      "TAAAACTCTGGAATTAATAGAAGAAATAATATATTTCAGCAGCGCCAAAGACAAGCTGCA\r\n",
      "GATAACGCTGGATAGACTAGCTTGACAATG\r\n",
      ">Control_contig_1_(3)_consensus\r\n",
      "GATACGGAATCTGCCGATGAGTATCATTCATGTTAATTTATTTTGTATATATTACACTAG\r\n",
      "TCAGTGTCAAGCAATTATTAACTTGTTAGCTCATAATGCAAAAAGCAATAGTAGACTTTC\r\n",
      "TAACAGACATATAGAGCAAGAAATGAAGCAGGCAGTTAGTGCGCATGTTAAATATGGAAT\r\n",
      "GATGGGAAGACACAATCATCTTAAAGATATAAACATCGACTTTTTCTCATACAAAAGGTA\r\n",
      "GATTGTTTGAAATACATGAGGATGGGGCACGCAGCAGTGTCTCTAGCTGACAATTGCTCA\r\n",
      "AATATGACGTGGGATATTTTTACTGATCAGGATGACTTCCTTCTACGAAATATTGATATA\r\n",
      "TGGCGACCAGTTGGAATCACGCATGCGTGCATGTGTAGCAAACAACCGGAACTTGTACCC\r\n"
     ]
    }
   ],
   "source": [
    "#from Gustavo\n",
    "!head -40 ../data/Myt-sxt-contigs_CLC.fa"
   ]
  },
  {
   "cell_type": "code",
   "execution_count": 4,
   "metadata": {
    "button": false,
    "collapsed": false,
    "deletable": true,
    "new_sheet": false,
    "run_control": {
     "read_only": false
    }
   },
   "outputs": [
    {
     "name": "stdout",
     "output_type": "stream",
     "text": [
      "[ INFO] 2015-12-11 16:49:08 : Loading assembly: /Users/sr320/git-repos/paper-mchil-sxt/data/Myt-sxt-contigs_CLC.fa\n",
      "[ INFO] 2015-12-11 16:49:38 : Analysing assembly: /Users/sr320/git-repos/paper-mchil-sxt/data/Myt-sxt-contigs_CLC.fa\n",
      "[ INFO] 2015-12-11 16:49:38 : Results will be saved in /Users/sr320/git-repos/paper-mchil-sxt/nbs/analyses/Myt-sxt-CLC-transrate/Myt-sxt-contigs_CLC\n",
      "[ INFO] 2015-12-11 16:49:38 : Calculating contig metrics...\n",
      "[ INFO] 2015-12-11 16:50:26 : Contig metrics:\n",
      "[ INFO] 2015-12-11 16:50:26 : -----------------------------------\n",
      "[ INFO] 2015-12-11 16:50:26 : n seqs                       138883\n",
      "[ INFO] 2015-12-11 16:50:26 : smallest                         54\n",
      "[ INFO] 2015-12-11 16:50:26 : largest                       12602\n",
      "[ INFO] 2015-12-11 16:50:26 : n bases                    72930134\n",
      "[ INFO] 2015-12-11 16:50:26 : mean len                     481.79\n",
      "[ INFO] 2015-12-11 16:50:26 : n under 200                   38556\n",
      "[ INFO] 2015-12-11 16:50:26 : n over 1k                     16777\n",
      "[ INFO] 2015-12-11 16:50:26 : n over 10k                        9\n",
      "[ INFO] 2015-12-11 16:50:26 : n with orf                    22343\n",
      "[ INFO] 2015-12-11 16:50:26 : mean orf percent              55.68\n",
      "[ INFO] 2015-12-11 16:50:26 : n90                             311\n",
      "[ INFO] 2015-12-11 16:50:26 : n70                             558\n",
      "[ INFO] 2015-12-11 16:50:26 : n50                            1013\n",
      "[ INFO] 2015-12-11 16:50:26 : n30                            1839\n",
      "[ INFO] 2015-12-11 16:50:26 : n10                            5601\n",
      "[ INFO] 2015-12-11 16:50:26 : gc                             0.34\n",
      "[ INFO] 2015-12-11 16:50:26 : gc skew                         0.0\n",
      "[ INFO] 2015-12-11 16:50:26 : at skew                         0.0\n",
      "[ INFO] 2015-12-11 16:50:26 : cpg ratio                      1.44\n",
      "[ INFO] 2015-12-11 16:50:26 : bases n                           4\n",
      "[ INFO] 2015-12-11 16:50:26 : proportion n                    0.0\n",
      "[ INFO] 2015-12-11 16:50:26 : linguistic complexity           0.1\n",
      "[ INFO] 2015-12-11 16:50:26 : Contig metrics done in 48 seconds\n",
      "[ INFO] 2015-12-11 16:50:26 : No reads provided, skipping read diagnostics\n",
      "[ INFO] 2015-12-11 16:50:26 : No reference provided, skipping comparative diagnostics\n",
      "[ INFO] 2015-12-11 16:50:26 : Writing contig metrics for each contig to /Users/sr320/git-repos/paper-mchil-sxt/nbs/analyses/Myt-sxt-CLC-transrate/Myt-sxt-contigs_CLC/contigs.csv\n",
      "[ INFO] 2015-12-11 16:51:16 : Writing analysis results to assemblies.csv\n"
     ]
    }
   ],
   "source": [
    "!/Applications/transrate-1.0.1-osx/transrate \\\n",
    "--assembly \\\n",
    "../data/Myt-sxt-contigs_CLC.fa \\\n",
    "--output analyses/Myt-sxt-CLC-transrate"
   ]
  },
  {
   "cell_type": "code",
   "execution_count": 5,
   "metadata": {
    "button": false,
    "collapsed": false,
    "deletable": true,
    "new_sheet": false,
    "run_control": {
     "read_only": false
    }
   },
   "outputs": [
    {
     "name": "stdout",
     "output_type": "stream",
     "text": [
      "contig_name,length,prop_gc,gc_skew,at_skew,cpg_count,cpg_ratio,orf_length,linguistic_complexity_6\r\n",
      "Control_contig_1_(0)_consensus,984,0.333333,0.0,0.012195,42,1.536585,68,0.194824\r\n",
      "Control_contig_1_(1)_consensus,253,0.29249,0.189189,-0.01676,15,2.875,34,0.056152\r\n",
      "Control_contig_1_(2)_consensus,390,0.323077,-0.063492,0.083333,20,1.973185,47,0.086182\r\n",
      "Control_contig_1_(3)_consensus,2025,0.38321,-0.028351,0.036029,122,1.642369,294,0.3396\r\n",
      "Control_contig_2_consensus,812,0.346059,-0.16726,-0.077213,41,1.735043,150,0.166748\r\n",
      "Control_contig_3_consensus,629,0.343402,0.009259,-0.084746,31,1.671868,89,0.133545\r\n",
      "Control_contig_4_(0)_consensus,2114,0.516083,-0.103575,-0.020528,272,1.953298,113,0.391113\r\n",
      "Control_contig_4_(1)_consensus,1642,0.563337,-0.094054,-0.079498,237,1.835511,77,0.315918\r\n",
      "Control_contig_4_(2)_consensus,731,0.53078,0.015464,0.014577,120,2.331305,99,0.158203\r\n"
     ]
    }
   ],
   "source": [
    "!head /Users/sr320/git-repos/paper-mchil-sxt/nbs/analyses/Myt-sxt-CLC-transrate/Myt-sxt-contigs_CLC/contigs.csv"
   ]
  },
  {
   "cell_type": "markdown",
   "metadata": {
    "button": false,
    "deletable": true,
    "new_sheet": false,
    "run_control": {
     "read_only": false
    }
   },
   "source": [
    "<img src=\"http://eagle.fish.washington.edu/cnidarian/skitch/contigs_1C1B65BE.png\" alt=\"contigs_1C1B65BE.png\"/>"
   ]
  },
  {
   "cell_type": "markdown",
   "metadata": {
    "button": false,
    "deletable": true,
    "new_sheet": false,
    "run_control": {
     "read_only": false
    }
   },
   "source": [
    "```\n",
    "name\texplanation\n",
    "n_seqs\tthe number of contigs in the assembly\n",
    "smallest\tthe size of the smallest contig\n",
    "largest\tthe size of the largest contig\n",
    "n_bases\tthe number of bases included in the assembly\n",
    "mean_len\tthe mean length of the contigs\n",
    "n under 200\tthe number of contigs shorter than 200 bases\n",
    "n over 1k\tthe number of contigs greater than 1,000 bases long\n",
    "n over 10k\tthe number of contigs greater than 10,000 bases long\n",
    "n with orf\tthe number of contigs that had an open reading frame\n",
    "mean orf percent\tfor contigs with an ORF, the mean % of the contig covered by the ORF\n",
    "NX (e.g. N50)\tthe largest contig size at which at least X% of bases are contained in contigs at least this length\n",
    "gc\t% of bases that are G or C\n",
    "gc skew\thttp://en.wikipedia.org/wiki/GC_skew\n",
    "at skew\tsee GC skew\n",
    "cpg ratio\tcount of CpG sites relative to expected number (only valid for stranded assemblies)\n",
    "bases n\tthe number of bases that are N\n",
    "proportion n\tthe proportion of bases that are N\n",
    "linguistic complexity\tthe total linguistic complexity of the assembly\n",
    "```"
   ]
  },
  {
   "cell_type": "code",
   "execution_count": null,
   "metadata": {
    "button": false,
    "collapsed": false,
    "deletable": true,
    "new_sheet": false,
    "run_control": {
     "read_only": false
    }
   },
   "outputs": [
    {
     "name": "stdout",
     "output_type": "stream",
     "text": [
      "[ INFO] 2015-12-14 16:05:01 : Loading assembly: /Users/sr320/git-repos/paper-mchil-sxt/data/Myt-sxt-contigs_CLC.fa\n",
      "[ INFO] 2015-12-14 16:09:23 : Analysing assembly: /Users/sr320/git-repos/paper-mchil-sxt/data/Myt-sxt-contigs_CLC.fa\n",
      "[ INFO] 2015-12-14 16:09:23 : Results will be saved in /Users/sr320/git-repos/paper-mchil-sxt/nbs/analyses/transrate-CLC-Cgigas-pep/Myt-sxt-contigs_CLC\n",
      "[ INFO] 2015-12-14 16:09:23 : Calculating contig metrics...\n",
      "[ INFO] 2015-12-14 16:13:40 : Contig metrics:\n",
      "[ INFO] 2015-12-14 16:13:40 : -----------------------------------\n",
      "[ INFO] 2015-12-14 16:13:40 : n seqs                       138883\n",
      "[ INFO] 2015-12-14 16:13:40 : smallest                         54\n",
      "[ INFO] 2015-12-14 16:13:40 : largest                       12602\n",
      "[ INFO] 2015-12-14 16:13:40 : n bases                    72930134\n",
      "[ INFO] 2015-12-14 16:13:40 : mean len                     481.79\n",
      "[ INFO] 2015-12-14 16:13:40 : n under 200                   38556\n",
      "[ INFO] 2015-12-14 16:13:40 : n over 1k                     16777\n",
      "[ INFO] 2015-12-14 16:13:40 : n over 10k                        9\n",
      "[ INFO] 2015-12-14 16:13:40 : n with orf                    22343\n",
      "[ INFO] 2015-12-14 16:13:40 : mean orf percent              55.68\n",
      "[ INFO] 2015-12-14 16:13:40 : n90                             311\n",
      "[ INFO] 2015-12-14 16:13:40 : n70                             558\n",
      "[ INFO] 2015-12-14 16:13:40 : n50                            1013\n",
      "[ INFO] 2015-12-14 16:13:40 : n30                            1839\n",
      "[ INFO] 2015-12-14 16:13:40 : n10                            5601\n",
      "[ INFO] 2015-12-14 16:13:40 : gc                             0.34\n",
      "[ INFO] 2015-12-14 16:13:40 : gc skew                         0.0\n",
      "[ INFO] 2015-12-14 16:13:40 : at skew                         0.0\n",
      "[ INFO] 2015-12-14 16:13:40 : cpg ratio                      1.44\n",
      "[ INFO] 2015-12-14 16:13:40 : bases n                           4\n",
      "[ INFO] 2015-12-14 16:13:40 : proportion n                    0.0\n",
      "[ INFO] 2015-12-14 16:13:40 : linguistic complexity           0.1\n",
      "[ INFO] 2015-12-14 16:13:40 : Contig metrics done in 257 seconds\n",
      "[ INFO] 2015-12-14 16:13:40 : No reads provided, skipping read diagnostics\n",
      "[ INFO] 2015-12-14 16:13:40 : Calculating comparative metrics...\n"
     ]
    }
   ],
   "source": [
    "!/Applications/transrate-1.0.1-osx/transrate \\\n",
    "--assembly ../data/Myt-sxt-contigs_CLC.fa \\\n",
    "--reference ../data/Crassostrea_gigas.GCA_000297895.1.29.pep.all.fa \\\n",
    "--threads 2 \\\n",
    "--output analyses/transrate-CLC-Cgigas-pep"
   ]
  },
  {
   "cell_type": "code",
   "execution_count": null,
   "metadata": {
    "collapsed": true,
    "run_control": {}
   },
   "outputs": [],
   "source": []
  }
 ],
 "metadata": {
  "kernelspec": {
   "display_name": "Python 3",
   "language": "python",
   "name": "python3"
  },
  "language_info": {
   "codemirror_mode": {
    "name": "ipython",
    "version": 3
   },
   "file_extension": ".py",
   "mimetype": "text/x-python",
   "name": "python",
   "nbconvert_exporter": "python",
   "pygments_lexer": "ipython3",
   "version": "3.5.0"
  }
 },
 "nbformat": 4,
 "nbformat_minor": 0
}
