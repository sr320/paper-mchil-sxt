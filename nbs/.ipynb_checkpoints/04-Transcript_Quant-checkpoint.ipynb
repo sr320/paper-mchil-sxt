{
 "cells": [
  {
   "cell_type": "markdown",
   "metadata": {
    "button": false,
    "deletable": true,
    "new_sheet": false,
    "run_control": {
     "read_only": false
    }
   },
   "source": [
    "# Transcript Quantification"
   ]
  },
  {
   "cell_type": "code",
   "execution_count": 1,
   "metadata": {
    "button": false,
    "collapsed": true,
    "deletable": true,
    "new_sheet": false,
    "run_control": {
     "read_only": false
    }
   },
   "outputs": [],
   "source": [
    "TRINITY_HOME=\"/Volumes/air_clone/Applications/trinityrnaseq-2.1.1\""
   ]
  },
  {
   "cell_type": "code",
   "execution_count": 2,
   "metadata": {
    "button": false,
    "collapsed": false,
    "deletable": true,
    "new_sheet": false,
    "run_control": {
     "read_only": false
    }
   },
   "outputs": [
    {
     "name": "stdout",
     "output_type": "stream",
     "text": [
      "\r\n",
      "#########################################################################\r\n",
      "#\r\n",
      "#  --transcripts <string>           transcript fasta file\r\n",
      "#  --seqType <string>               fq|fa\r\n",
      "# \r\n",
      "#  If Paired-end:\r\n",
      "#\r\n",
      "#  --left <string>\r\n",
      "#  --right <string>\r\n",
      "#  \r\n",
      "#    or Single-end:\r\n",
      "#\r\n",
      "#  --single <string>\r\n",
      "#\r\n",
      "#  --est_method <string>           abundance estimation method.\r\n",
      "#                                        alignment_based:  RSEM|eXpress       \r\n",
      "#                                        alignment_free: kallisto\r\n",
      "#  \r\n",
      "# --output_dir <string>            write all files to output directory\r\n",
      "#  \r\n",
      "#\r\n",
      "#  if alignment_based est_method:\r\n",
      "#       --aln_method <string>            bowtie|bowtie2|(path to bam file) alignment method.  (note: RSEM requires bowtie)\r\n",
      "#                                       (if you already have a bam file, you can use it here instead of rerunning bowtie)\r\n",
      "#\r\n",
      "# Optional:\r\n",
      "# \r\n",
      "# --SS_lib_type <string>           strand-specific library type:  paired('RF' or 'FR'), single('F' or 'R').\r\n",
      "#\r\n",
      "# --thread_count                   number of threads to use (default = 4)\r\n",
      "#\r\n",
      "# --max_ins_size <int>             maximum insert size (bowtie -X parameter, default: 800)\r\n",
      "#\r\n",
      "# --debug                          retain intermediate files\r\n",
      "#\r\n",
      "#\r\n",
      "#  --gene_trans_map <string>        file containing 'gene(tab)transcript' identifiers per line.\r\n",
      "#     or  \r\n",
      "#  --trinity_mode                   Setting --trinity_mode will automatically generate the gene_trans_map and use it.\r\n",
      "#\r\n",
      "#\r\n",
      "#  --prep_reference                 prep reference set for eXpress (builds bowtie index, etc)\r\n",
      "#\r\n",
      "#  --output_prefix <string>         prefix for output files.  Defaults to --est_method setting.\r\n",
      "#\r\n",
      "#\r\n",
      "#  if alignment_based method:\r\n",
      "#        --coordsort_bam                  provide coord-sorted bam in addition to the default (unsorted) bam.\r\n",
      "#\r\n",
      "#  --show_full_usage_info           provide more detailed usage info for customizing the alignment or abundance estimation parameters.\r\n",
      "#\r\n",
      "#############################\r\n",
      "#  RSEM opts:\r\n",
      "#  --fragment_length <int>         optionally specify fragment length (not seq length, but frag size ie. 300) for SE reads.\r\n",
      "#\r\n",
      "#  --include_rsem_bam              provide the RSEM enhanced bam file including posterior probabilities of read assignments.\r\n",
      "#\r\n",
      "#########################################################################\r\n",
      "#\r\n",
      "#  Example usage:\r\n",
      "#\r\n",
      "#   ## Just prepare the reference for alignment and abundance estimation\r\n",
      "#\r\n",
      "#    /Volumes/air_clone/Applications/trinityrnaseq-2.1.1/util/align_and_estimate_abundance.pl --transcripts Trinity.fasta --est_method RSEM --aln_method bowtie --trinity_mode --prep_reference\r\n",
      "#\r\n",
      "#   ## Run the alignment and abundance estimation (assumes reference has already been prepped, errors-out if prepped reference not located.)\r\n",
      "#\r\n",
      "#    /Volumes/air_clone/Applications/trinityrnaseq-2.1.1/util/align_and_estimate_abundance.pl --transcripts Trinity.fasta --seqType fq --left reads_1.fq --right reads_2.fq --est_method RSEM --aln_method bowtie --trinity_mode \r\n",
      "#\r\n",
      "##  ## prep the reference and run the alignment/estimation\r\n",
      "#\r\n",
      "#    /Volumes/air_clone/Applications/trinityrnaseq-2.1.1/util/align_and_estimate_abundance.pl --transcripts Trinity.fasta --seqType fq --left reads_1.fq --right reads_2.fq --est_method RSEM --aln_method bowtie --trinity_mode --prep_reference\r\n",
      "#\r\n",
      "#########################################################################\r\n",
      "\r\n",
      "\r\n"
     ]
    }
   ],
   "source": [
    "!{TRINITY_HOME}/util/align_and_estimate_abundance.pl \n"
   ]
  },
  {
   "cell_type": "code",
   "execution_count": 8,
   "metadata": {
    "button": false,
    "collapsed": false,
    "deletable": true,
    "new_sheet": false,
    "run_control": {
     "read_only": false
    }
   },
   "outputs": [
    {
     "name": "stdout",
     "output_type": "stream",
     "text": [
      "ERROR, cannot find samtools in PATH setting: /Volumes/air_clone/Applications/trinityrnaseq-2.1.1/util/../trinity-plugins/rsem:/usr/bin:/bin:/usr/sbin:/sbin\r\n",
      "\r\n",
      "ERROR, cannot find kallisto in PATH setting: /Volumes/air_clone/Applications/trinityrnaseq-2.1.1/util/../trinity-plugins/rsem:/usr/bin:/bin:/usr/sbin:/sbin\r\n",
      "\r\n",
      "Please be sure bowtie and express are installed and the utilities samtools kallisto are available via your PATH setting.\r\n"
     ]
    }
   ],
   "source": [
    "#running in terminal\n",
    "\n",
    "/Volumes/air_clone/Applications/trinityrnaseq-2.1.1/util/align_and_estimate_abundance.pl \\\n",
    "--transcripts /Users/sr320/git-repos/paper-mchil-sxt/data/Mytilus-SXT.trimmed.trinity.fa \\\n",
    "--prep_reference \\\n",
    "--seqType fq \\\n",
    "--left /Volumes/Monarch/mchil-stx/fq/C0_1.fastq \\\n",
    "--right /Volumes/Monarch/mchil-stx/fq/C0_2.fastq \\\n",
    "--output_dir /Users/sr320/Desktop/align-est-C01 \\\n",
    "--est_method kallisto \n"
   ]
  },
  {
   "cell_type": "markdown",
   "metadata": {
    "button": false,
    "collapsed": true,
    "deletable": true,
    "new_sheet": false,
    "run_control": {
     "read_only": false
    }
   },
   "source": [
    "```\n",
    "Stevens-MacBook-Air:samtools-1.2 sr320$ /Volumes/air_clone/Applications/trinityrnaseq-2.1.1/util/align_and_estimate_abundance.pl \\\n",
    "> --transcripts /Users/sr320/git-repos/paper-mchil-sxt/data/Mytilus-SXT.trimmed.trinity.fa \\\n",
    "> --prep_reference \\\n",
    "> --seqType fq \\\n",
    "> --left /Volumes/Monarch/mchil-stx/fq/C0_1.fastq \\\n",
    "> --right /Volumes/Monarch/mchil-stx/fq/C0_2.fastq \\\n",
    "> --output_dir /Users/sr320/Desktop/align-est-C01 \\\n",
    "> --est_method kallisto \n",
    "CMD: kallisto index -i /Users/sr320/git-repos/paper-mchil-sxt/data/Mytilus-SXT.trimmed.trinity.fa.kallisto_idx /Users/sr320/git-repos/paper-mchil-sxt/data/Mytilus-SXT.trimmed.trinity.fa\n",
    "\n",
    "[build] loading fasta file /Users/sr320/git-repos/paper-mchil-sxt/data/Mytilus-SXT.trimmed.trinity.fa\n",
    "[build] k-mer length: 31\n",
    "[build] warning: clipped off poly-A tail (longer than 10)\n",
    "        from 832 target sequences\n",
    "[build] counting k-mers ... done.\n",
    "[build] building target de Bruijn graph ...  done \n",
    "[build] creating equivalence classes ...  done\n",
    "[build] target de Bruijn graph has 801756 contigs and contains 71719229 k-mers \n",
    "\n",
    "CMD: kallisto quant -i /Users/sr320/git-repos/paper-mchil-sxt/data/Mytilus-SXT.trimmed.trinity.fa.kallisto_idx  -o /Users/sr320/Desktop/align-est-C01 /Volumes/Monarch/mchil-stx/fq/C0_1.fastq /Volumes/Monarch/mchil-stx/fq/C0_2.fastq\n",
    "\n",
    "[quant] fragment length distribution will be estimated from the data\n",
    "[index] k-mer length: 31\n",
    "[index] number of targets: 184,834\n",
    "[index] number of k-mers: 71,719,229\n",
    "[index] number of equivalence classes: 423,948\n",
    "[quant] running in paired-end mode\n",
    "[quant] will process pair 1: /Volumes/Monarch/mchil-stx/fq/C0_1.fastq\n",
    "                             /Volumes/Monarch/mchil-stx/fq/C0_2.fastq\n",
    "[quant] finding pseudoalignments for the reads ... done\n",
    "[quant] processed 66,933,289 reads, 55,006,858 reads pseudoaligned\n",
    "[quant] estimated average fragment length: 306.133\n",
    "[   em] quantifying the abundances ... done\n",
    "[   em] the Expectation-Maximization algorithm ran for 1,207 rounds\n",
    "\n",
    "Stevens-MacBook-Air:samtools-1.2 sr320$ \n",
    "```    "
   ]
  },
  {
   "cell_type": "code",
   "execution_count": null,
   "metadata": {
    "button": false,
    "collapsed": false,
    "deletable": true,
    "new_sheet": false,
    "run_control": {
     "read_only": false
    }
   },
   "outputs": [],
   "source": []
  },
  {
   "cell_type": "code",
   "execution_count": 10,
   "metadata": {
    "button": false,
    "collapsed": false,
    "deletable": true,
    "new_sheet": false,
    "run_control": {
     "read_only": false
    }
   },
   "outputs": [
    {
     "name": "stdout",
     "output_type": "stream",
     "text": [
      "target_id\tlength\teff_length\test_counts\ttpm\r\n",
      "TR1_c0_g1_i1\t249\t58.089\t0\t0\r\n",
      "TR2_c0_g1_i1\t243\t57.269\t3\t0.523804\r\n",
      "TR3_c0_g1_i1\t225\t53.0756\t0\t0\r\n",
      "TR4_c0_g1_i1\t230\t53.3161\t0\t0\r\n",
      "TR5_c0_g1_i1\t359\t59.0318\t0\t0\r\n",
      "TR5_c0_g2_i1\t355\t55.8421\t0\t0\r\n",
      "TR6_c0_g1_i1\t284\t64.306\t2.0089\t0.312373\r\n",
      "TR7_c0_g1_i1\t444\t139.094\t21\t1.50966\r\n",
      "TR8_c0_g1_i1\t267\t61.156\t10\t1.63504\r\n"
     ]
    }
   ],
   "source": [
    "!head analyses/align-est-C01/abundance.tsv"
   ]
  },
  {
   "cell_type": "code",
   "execution_count": null,
   "metadata": {
    "button": false,
    "collapsed": true,
    "deletable": true,
    "new_sheet": false,
    "run_control": {
     "read_only": false
    }
   },
   "outputs": [],
   "source": [
    "#in termnal \n",
    "/Volumes/air_clone/Applications/trinityrnaseq-2.1.1/util/align_and_estimate_abundance.pl \\\n",
    "--transcripts /Users/sr320/git-repos/paper-mchil-sxt/data/Mytilus-SXT.trimmed.trinity.fa \\\n",
    "--seqType fq \\\n",
    "--left /Volumes/Monarch/mchil-stx/fq/D1_1.fastq \\\n",
    "--right /Volumes/Monarch/mchil-stx/fq/D1_2.fastq \\\n",
    "--output_dir /Users/sr320/Desktop/align-est-D1 \\\n",
    "--est_method kallisto \n",
    "\n"
   ]
  },
  {
   "cell_type": "markdown",
   "metadata": {
    "run_control": {}
   },
   "source": [
    "```\n",
    "[quant] fragment length distribution will be estimated from the data\n",
    "[index] k-mer length: 31\n",
    "[index] number of targets: 184,834\n",
    "[index] number of k-mers: 71,719,229\n",
    "[index] number of equivalence classes: 423,948\n",
    "[quant] running in paired-end mode\n",
    "[quant] will process pair 1: /Volumes/Monarch/mchil-stx/fq/D1_1.fastq\n",
    "                             /Volumes/Monarch/mchil-stx/fq/D1_2.fastq\n",
    "[quant] finding pseudoalignments for the reads ... done\n",
    "[quant] processed 74,550,563 reads, 65,462,753 reads pseudoaligned\n",
    "[quant] estimated average fragment length: 294.073\n",
    "[   em] quantifying the abundances ... done\n",
    "[   em] the Expectation-Maximization algorithm ran for 1,049 rounds\n",
    "```"
   ]
  },
  {
   "cell_type": "code",
   "execution_count": null,
   "metadata": {
    "collapsed": true,
    "run_control": {}
   },
   "outputs": [],
   "source": [
    "/Volumes/air_clone/Applications/trinityrnaseq-2.1.1/util/align_and_estimate_abundance.pl \\\n",
    "--transcripts /Users/sr320/git-repos/paper-mchil-sxt/data/Mytilus-SXT.trimmed.trinity.fa \\\n",
    "--seqType fq \\\n",
    "--left /Volumes/Monarch/mchil-stx/fq/D2_1.fastq \\\n",
    "--right /Volumes/Monarch/mchil-stx/fq/D2_2.fastq \\\n",
    "--output_dir /Users/sr320/Desktop/align-est-D2 \\\n",
    "--est_method kallisto "
   ]
  },
  {
   "cell_type": "code",
   "execution_count": null,
   "metadata": {
    "collapsed": true
   },
   "outputs": [],
   "source": [
    "[quant] fragment length distribution will be estimated from the data\n",
    "[index] k-mer length: 31\n",
    "[index] number of targets: 184,834\n",
    "[index] number of k-mers: 71,719,229\n",
    "[index] number of equivalence classes: 423,948\n",
    "[quant] running in paired-end mode\n",
    "[quant] will process pair 1: /Volumes/Monarch/mchil-stx/fq/D2_1.fastq\n",
    "                             /Volumes/Monarch/mchil-stx/fq/D2_2.fastq\n",
    "[quant] finding pseudoalignments for the reads ... done\n",
    "[quant] processed 69,624,273 reads, 58,631,467 reads pseudoaligned\n",
    "[quant] estimated average fragment length: 294.52\n",
    "[   em] quantifying the abundances ... done\n",
    "[   em] the Expectation-Maximization algorithm ran for 1,367 rounds\n"
   ]
  },
  {
   "cell_type": "code",
   "execution_count": null,
   "metadata": {
    "collapsed": true
   },
   "outputs": [],
   "source": [
    "/Volumes/air_clone/Applications/trinityrnaseq-2.1.1/util/align_and_estimate_abundance.pl \\\n",
    "--transcripts /Users/sr320/git-repos/paper-mchil-sxt/data/Mytilus-SXT.trimmed.trinity.fa \\\n",
    "--seqType fq \\\n",
    "--left /Volumes/Monarch/mchil-stx/fq/D5_1.fastq \\\n",
    "--right /Volumes/Monarch/mchil-stx/fq/D5_2.fastq \\\n",
    "--output_dir /Users/sr320/Desktop/align-est-D5 \\\n",
    "--est_method kallisto "
   ]
  },
  {
   "cell_type": "code",
   "execution_count": null,
   "metadata": {
    "collapsed": true
   },
   "outputs": [],
   "source": [
    "\n",
    "[quant] fragment length distribution will be estimated from the data\n",
    "[index] k-mer length: 31\n",
    "[index] number of targets: 184,834\n",
    "[index] number of k-mers: 71,719,229\n",
    "[index] number of equivalence classes: 423,948\n",
    "[quant] running in paired-end mode\n",
    "[quant] will process pair 1: /Volumes/Monarch/mchil-stx/fq/D5_1.fastq\n",
    "                             /Volumes/Monarch/mchil-stx/fq/D5_2.fastq\n",
    "[quant] finding pseudoalignments for the reads ... done\n",
    "[quant] processed 65,005,727 reads, 54,292,210 reads pseudoaligned\n",
    "[quant] estimated average fragment length: 309.143\n",
    "[   em] quantifying the abundances ... done\n",
    "[   em] the Expectation-Maximization algorithm ran for 1,162 rounds\n"
   ]
  },
  {
   "cell_type": "code",
   "execution_count": null,
   "metadata": {
    "collapsed": true
   },
   "outputs": [],
   "source": [
    "### Moving output from Desktop to analyses"
   ]
  }
 ],
 "metadata": {
  "kernelspec": {
   "display_name": "Python 3",
   "language": "python",
   "name": "python3"
  },
  "language_info": {
   "codemirror_mode": {
    "name": "ipython",
    "version": 3
   },
   "file_extension": ".py",
   "mimetype": "text/x-python",
   "name": "python",
   "nbconvert_exporter": "python",
   "pygments_lexer": "ipython3",
   "version": "3.5.0"
  }
 },
 "nbformat": 4,
 "nbformat_minor": 0
}
