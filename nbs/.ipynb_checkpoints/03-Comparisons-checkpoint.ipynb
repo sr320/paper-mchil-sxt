{
 "cells": [
  {
   "cell_type": "markdown",
   "metadata": {
    "button": false,
    "collapsed": true,
    "deletable": true,
    "new_sheet": false,
    "run_control": {
     "read_only": false
    }
   },
   "source": [
    "# Comparing with other transcriptomes"
   ]
  },
  {
   "cell_type": "markdown",
   "metadata": {
    "run_control": {}
   },
   "source": [
    "<img src=\"http://eagle.fish.washington.edu/cnidarian/skitch/BMC_Genomics___Full_text___RNA-Seq_in__it_Mytilus_galloprovincialis__it___comparative_transcriptomics_and_expression_profiles_among_different_tissues_1C11D3DC.png\" alt=\"BMC_Genomics___Full_text___RNA-Seq_in__it_Mytilus_galloprovincialis__it___comparative_transcriptomics_and_expression_profiles_among_different_tissues_1C11D3DC.png\"/>"
   ]
  },
  {
   "cell_type": "code",
   "execution_count": null,
   "metadata": {
    "collapsed": true,
    "run_control": {}
   },
   "outputs": [],
   "source": []
  }
 ],
 "metadata": {
  "kernelspec": {
   "display_name": "Python 3",
   "language": "python",
   "name": "python3"
  },
  "language_info": {
   "codemirror_mode": {
    "name": "ipython",
    "version": 3
   },
   "file_extension": ".py",
   "mimetype": "text/x-python",
   "name": "python",
   "nbconvert_exporter": "python",
   "pygments_lexer": "ipython3",
   "version": "3.5.0"
  }
 },
 "nbformat": 4,
 "nbformat_minor": 0
}
