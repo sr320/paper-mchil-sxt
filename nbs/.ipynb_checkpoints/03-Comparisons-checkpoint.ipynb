{
 "cells": [
  {
   "cell_type": "markdown",
   "metadata": {
    "button": false,
    "deletable": true,
    "new_sheet": false,
    "run_control": {
     "read_only": false
    }
   },
   "source": [
    "# Comparing Assemblies"
   ]
  },
  {
   "cell_type": "code",
   "execution_count": null,
   "metadata": {
    "button": false,
    "collapsed": false,
    "deletable": true,
    "new_sheet": false,
    "run_control": {
     "read_only": false
    }
   },
   "outputs": [
    {
     "name": "stdout",
     "output_type": "stream",
     "text": [
      "[ INFO] 2015-12-14 15:25:33 : Loading assembly: /Users/sr320/git-repos/paper-mchil-sxt/data/Mytilus-SXT.trimmed.trinity.v3.fa\n",
      "[ INFO] 2015-12-14 15:25:52 : Analysing assembly: /Users/sr320/git-repos/paper-mchil-sxt/data/Mytilus-SXT.trimmed.trinity.v3.fa\n",
      "[ INFO] 2015-12-14 15:25:52 : Results will be saved in /Users/sr320/git-repos/paper-mchil-sxt/nbs/analyses/transrate-test_Comparing-2-assemblies/Mytilus-SXT.trimmed.trinity.v3\n",
      "[ INFO] 2015-12-14 15:25:52 : Calculating contig metrics...\n",
      "[ INFO] 2015-12-14 15:26:32 : Contig metrics:\n",
      "[ INFO] 2015-12-14 15:26:32 : -----------------------------------\n",
      "[ INFO] 2015-12-14 15:26:32 : n seqs                       184166\n",
      "[ INFO] 2015-12-14 15:26:32 : smallest                        224\n",
      "[ INFO] 2015-12-14 15:26:32 : largest                       21486\n",
      "[ INFO] 2015-12-14 15:26:32 : n bases                   134270562\n",
      "[ INFO] 2015-12-14 15:26:32 : mean len                     729.07\n",
      "[ INFO] 2015-12-14 15:26:32 : n under 200                       0\n",
      "[ INFO] 2015-12-14 15:26:32 : n over 1k                     38651\n",
      "[ INFO] 2015-12-14 15:26:32 : n over 10k                        7\n",
      "[ INFO] 2015-12-14 15:26:32 : n with orf                    42761\n",
      "[ INFO] 2015-12-14 15:26:32 : mean orf percent              52.36\n",
      "[ INFO] 2015-12-14 15:26:32 : n90                             303\n",
      "[ INFO] 2015-12-14 15:26:32 : n70                             603\n",
      "[ INFO] 2015-12-14 15:26:32 : n50                            1077\n",
      "[ INFO] 2015-12-14 15:26:32 : n30                            1745\n",
      "[ INFO] 2015-12-14 15:26:32 : n10                            3161\n",
      "[ INFO] 2015-12-14 15:26:32 : gc                             0.33\n",
      "[ INFO] 2015-12-14 15:26:32 : gc skew                        0.02\n",
      "[ INFO] 2015-12-14 15:26:32 : at skew                        0.01\n",
      "[ INFO] 2015-12-14 15:26:32 : cpg ratio                      1.41\n",
      "[ INFO] 2015-12-14 15:26:32 : bases n                           0\n",
      "[ INFO] 2015-12-14 15:26:32 : proportion n                    0.0\n",
      "[ INFO] 2015-12-14 15:26:32 : linguistic complexity          0.13\n",
      "[ INFO] 2015-12-14 15:26:32 : Contig metrics done in 39 seconds\n",
      "[ INFO] 2015-12-14 15:26:32 : Calculating read diagnostics...\n",
      "[ERROR] 2015-12-14 18:12:18 : Version Info: A newer version of Salmon with important new features is availaible. \n",
      "Please check https://github.com/COMBINE-lab/salmon/releases, for the latest release.\n",
      "# salmon (alignment-based) v0.4.2\n",
      "# [ program ] => salmon \n",
      "# [ command ] => quant \n",
      "# [ libType ] => { IU }\n",
      "# [ alignments ] => { /Users/sr320/git-repos/paper-mchil-sxt/nbs/analyses/transrate-test_Comparing-2-assemblies/Mytilus-SXT.trimmed.trinity.v3/C0_1.fastq.C0_2.fastq.Mytilus-SXT.trimmed.trinity.v3.bam }\n",
      "# [ targets ] => { /Users/sr320/git-repos/paper-mchil-sxt/data/Mytilus-SXT.trimmed.trinity.v3.fa }\n",
      "# [ threads ] => { 4 }\n",
      "# [ sampleOut ] => { }\n",
      "# [ sampleUnaligned ] => { }\n",
      "# [ output ] => { . }\n",
      "# [ useVBOpt ] => { }\n",
      "# [ useErrorModel ] => { }\n",
      "Library format { type:paired end, relative orientation:inward, strandedness:unstranded }\n",
      "Logs will be written to ./logs\n",
      "numQuantThreads = 2\n",
      "parseThreads = 2\n",
      "Checking that provided alignment files have consistent headers . . . done\n",
      "Populating targets from aln = \"/Users/sr320/git-repos/paper-mchil-sxt/nbs/analyses/transrate-test_Comparing-2-assemblies/Mytilus-SXT.trimmed.trinity.v3/C0_1.fastq.C0_2.fastq.Mytilus-SXT.trimmed.trinity.v3.bam\", fasta = \"/Users/sr320/git-repos/paper-mchil-sxt/data/Mytilus-SXT.trimmed.trinity.v3.fa\" . . .done\n",
      "\n",
      "\n",
      "\n",
      "\n",
      "\u001b[0;32mprocessed\u001b[0;31m 2000000 \u001b[0;32mreads in current round\u001b[0;0m[2015-12-14 17:49:15.272] [jointLog] [info] \n",
      "\n",
      "The alignment group queue pool has been exhausted.  3493680 extra fragments were allocated on the heap to saturate the pool.  No new fragments will be allocated\n",
      "\n",
      "\n",
      "\u001b[0;32mprocessed\u001b[0;31m 9000000 \u001b[0;32mreads in current round\u001b[0;0mZlib magic number failure\n",
      "Zlib magic number failure\n",
      "\u001b[0;32mprocessed\u001b[0;31m 9417713 \u001b[0;32mreads in current round\u001b[0;0m\n",
      "killing thread 1 . . . done\n",
      "\n",
      "# observed = 9417713 / # required = 50000000\u001b[A\u001b[A\u001b[A\u001b[A\u001b[A[2015-12-14 18:11:05.346] [jointLog] [info] \n",
      "\n",
      "\n",
      "Completed first pass through the alignment file.\n",
      "Total # of mapped reads : 9417713\n",
      "# of uniquely mapped reads : 2985724\n",
      "# ambiguously mapped reads : 6431989\n",
      "\n",
      "\n",
      "\n",
      "\n",
      "\n",
      "\n",
      "\n",
      "[2015-12-14 18:12:08.717] [jointLog] [info] Computed 220810 rich equivalence classes for further processing\n",
      "[2015-12-14 18:12:08.768] [jointLog] [info] starting optimizer\n",
      "[2015-12-14 18:12:17.154] [jointLog] [info] \n",
      "Dropping weighted eq class\n",
      "============================\n",
      "denom = 0, count = 1\n",
      "class = { 100934 100934 100935 100935 }\n",
      "alphas = { 0 0 0 0 }\n",
      "weights = { 4.34267e-71 0.999973 4.42064e-71 2.73721e-05 }\n",
      "============================\n",
      "\n",
      "\n",
      "[2015-12-14 18:12:17.171] [jointLog] [info] \n",
      "Dropping weighted eq class\n",
      "============================\n",
      "denom = 0, count = 1\n",
      "class = { 172083 172091 }\n",
      "alphas = { 0 0 }\n",
      "weights = { 0.707564 0.292436 }\n",
      "============================\n",
      "\n",
      "\n",
      "[2015-12-14 18:12:17.179] [jointLog] [info] \n",
      "Dropping weighted eq class\n",
      "============================\n",
      "denom = 0, count = 1\n",
      "class = { 100932 100933 100934 100935 }\n",
      "alphas = { 0 0 0 0 }\n",
      "weights = { 1 3.16735e-08 8.18195e-63 8.32887e-63 }\n",
      "============================\n",
      "\n",
      "\n",
      "[2015-12-14 18:12:17.186] [jointLog] [info] \n",
      "Dropping weighted eq class\n",
      "============================\n",
      "denom = 0, count = 1\n",
      "class = { 100934 100935 }\n",
      "alphas = { 0 0 }\n",
      "weights = { 0.495551 0.504449 }\n",
      "============================\n",
      "\n",
      "\n",
      "[2015-12-14 18:12:17.192] [jointLog] [info] \n",
      "Dropping weighted eq class\n",
      "============================\n",
      "denom = 0, count = 2\n",
      "class = { 141698 141700 }\n",
      "alphas = { 0 0 }\n",
      "weights = { 0.587795 0.412205 }\n",
      "============================\n",
      "\n",
      "\n",
      "[2015-12-14 18:12:17.209] [jointLog] [info] \n",
      "Dropping weighted eq class\n",
      "============================\n",
      "denom = 0, count = 2\n",
      "class = { 100941 100942 100942 100943 100950 }\n",
      "alphas = { 0 0 0 0 0 }\n",
      "weights = { 1.28168e-09 0.5 0.5 4.1126e-09 2.75062e-67 }\n",
      "============================\n",
      "\n",
      "\n",
      "[2015-12-14 18:12:17.210] [jointLog] [info] \n",
      "Dropping weighted eq class\n",
      "============================\n",
      "denom = 0, count = 2\n",
      "class = { 118177 118181 118182 118182 }\n",
      "alphas = { 0 0 0 0 }\n",
      "weights = { 4.37102e-135 1 4.85716e-63 4.37102e-135 }\n",
      "============================\n",
      "\n",
      "\n",
      "[2015-12-14 18:12:17.215] [jointLog] [info] \n",
      "Dropping weighted eq class\n",
      "============================\n",
      "denom = 0, count = 1\n",
      "class = { 115801 115802 }\n",
      "alphas = { 0 0 }\n",
      "weights = { 0.515082 0.484918 }\n",
      "============================\n",
      "\n",
      "\n",
      "[2015-12-14 18:12:17.229] [jointLog] [info] \n",
      "Dropping weighted eq class\n",
      "============================\n",
      "denom = 0, count = 1\n",
      "class = { 100933 100934 100935 }\n",
      "alphas = { 0 0 0 }\n",
      "weights = { 2.0257e-14 0.495551 0.504449 }\n",
      "============================\n",
      "\n",
      "\n",
      "[2015-12-14 18:12:17.237] [jointLog] [info] \n",
      "Dropping weighted eq class\n",
      "============================\n",
      "denom = 0, count = 1\n",
      "class = { 147394 147394 147395 }\n",
      "alphas = { 0 0 0 }\n",
      "weights = { 0.147 0.294 0.559 }\n",
      "============================\n",
      "\n",
      "\n",
      "[2015-12-14 18:12:17.258] [jointLog] [info] \n",
      "Dropping weighted eq class\n",
      "============================\n",
      "denom = 0, count = 1\n",
      "class = { 147393 147394 }\n",
      "alphas = { 0 0 }\n",
      "weights = { 3.66519e-13 1 }\n",
      "============================\n",
      "\n",
      "\n",
      "[2015-12-14 18:12:17.277] [jointLog] [info] \n",
      "Dropping weighted eq class\n",
      "============================\n",
      "denom = 0, count = 1\n",
      "class = { 118177 118181 118181 118182 118182 }\n",
      "alphas = { 0 0 0 0 0 }\n",
      "weights = { 7.62207e-68 4.95929e-60 1 5.71722e-08 1.0099e-70 }\n",
      "============================\n",
      "\n",
      "\n",
      "[2015-12-14 18:12:17.282] [jointLog] [info] Marked 12 weighted equivalence classes as degenerate\n",
      "[2015-12-14 18:12:17.368] [jointLog] [info] iteration = 0 | max rel diff. = 509.599\n",
      "\n",
      "[ERROR] 2015-12-14 18:12:19 : Salmon failed\n"
     ]
    }
   ],
   "source": [
    "!/Applications/transrate-1.0.1-osx/transrate \\\n",
    "--assembly ../data/Mytilus-SXT.trimmed.trinity.v3.fa, ../data/Myt-sxt-contigs_CLC.fa  \\\n",
    "--left /Volumes/Monarch/mchil-stx/fq/C0_1.fastq \\\n",
    "--right /Volumes/Monarch/mchil-stx/fq/C0_2.fastq \\\n",
    "--threads 4 \\\n",
    "--output analyses/transrate-test_Comparing-2-assemblies"
   ]
  },
  {
   "cell_type": "code",
   "execution_count": null,
   "metadata": {
    "button": false,
    "collapsed": true,
    "deletable": true,
    "new_sheet": false,
    "run_control": {
     "read_only": false
    }
   },
   "outputs": [],
   "source": []
  },
  {
   "cell_type": "code",
   "execution_count": null,
   "metadata": {
    "button": false,
    "collapsed": true,
    "deletable": true,
    "new_sheet": false,
    "run_control": {
     "read_only": false
    }
   },
   "outputs": [],
   "source": []
  },
  {
   "cell_type": "code",
   "execution_count": null,
   "metadata": {
    "button": false,
    "collapsed": true,
    "deletable": true,
    "new_sheet": false,
    "run_control": {
     "read_only": false
    }
   },
   "outputs": [],
   "source": []
  },
  {
   "cell_type": "markdown",
   "metadata": {
    "button": false,
    "collapsed": true,
    "deletable": true,
    "new_sheet": false,
    "run_control": {
     "read_only": false
    }
   },
   "source": [
    "# Comparing with other transcriptomes"
   ]
  },
  {
   "cell_type": "markdown",
   "metadata": {
    "button": false,
    "deletable": true,
    "new_sheet": false,
    "run_control": {
     "read_only": false
    }
   },
   "source": [
    "<img src=\"http://eagle.fish.washington.edu/cnidarian/skitch/BMC_Genomics___Full_text___RNA-Seq_in__it_Mytilus_galloprovincialis__it___comparative_transcriptomics_and_expression_profiles_among_different_tissues_1C11D3DC.png\" alt=\"BMC_Genomics___Full_text___RNA-Seq_in__it_Mytilus_galloprovincialis__it___comparative_transcriptomics_and_expression_profiles_among_different_tissues_1C11D3DC.png\"/>"
   ]
  },
  {
   "cell_type": "code",
   "execution_count": 1,
   "metadata": {
    "button": false,
    "collapsed": false,
    "deletable": true,
    "new_sheet": false,
    "run_control": {
     "read_only": false
    }
   },
   "outputs": [
    {
     "name": "stdout",
     "output_type": "stream",
     "text": [
      ">CL1.Contig1_All    size  476    gap  0  0%\r\n",
      "GTGGCTGAAAAGTGTTAAAAAATCACATGGATCGGTGGAAGTTACTTCTC\r\n",
      "TGTCTCAAGCCGATGCTATTAATGAGATAGGCATCTACAAAATTGGAAAC\r\n",
      "TGGACAAAACGAAACATGAATGAAAACATGACAATTACAGACGTGTTGGA\r\n",
      "ACTGATCTTACCCGAAACGAAAGACGGTTCAATGAGGCGTTACACATTCC\r\n",
      "AGAAGCTTAATGACTTGCAGTCACGTTTAATGTTGGTAGCTGGCAAGGCA\r\n",
      "GATAAGGGAAAAGATAGTGTTGATAGATTTATGTTGATCCTCGATTCTGT\r\n",
      "TGTCCGTTTAGGCCAAATCTACATCAAACTGCTCACTGACGGTTGTGTAT\r\n",
      "TATTTTCAAAGTGGTATGTAAATTTACTCTGTGACAAAACAAGACCAGCA\r\n",
      "TGCGTTCATATTCACTTTGGGGAAGGAACAAACAAAGTAATATTGAAAGG\r\n"
     ]
    }
   ],
   "source": [
    "!head ../data/Moreira2015-Transcriptome.fa"
   ]
  },
  {
   "cell_type": "code",
   "execution_count": 2,
   "metadata": {
    "button": false,
    "collapsed": false,
    "deletable": true,
    "new_sheet": false,
    "run_control": {
     "read_only": false
    }
   },
   "outputs": [
    {
     "name": "stdout",
     "output_type": "stream",
     "text": [
      "151320\r\n"
     ]
    }
   ],
   "source": [
    "!fgrep -c \">\" ../data/Moreira2015-Transcriptome.fa"
   ]
  },
  {
   "cell_type": "code",
   "execution_count": 3,
   "metadata": {
    "button": false,
    "collapsed": false,
    "deletable": true,
    "new_sheet": false,
    "run_control": {
     "read_only": false
    }
   },
   "outputs": [
    {
     "name": "stdout",
     "output_type": "stream",
     "text": [
      "\r\n",
      "0:999 \t132168\r\n",
      "1000:1999 \t13534\r\n",
      "2000:2999 \t3559\r\n",
      "3000:3999 \t1178\r\n",
      "4000:4999 \t462\r\n",
      "5000:5999 \t193\r\n",
      "6000:6999 \t97\r\n",
      "7000:7999 \t50\r\n",
      "8000:8999 \t37\r\n",
      "9000:9999 \t17\r\n",
      "10000:10999 \t10\r\n",
      "11000:11999 \t5\r\n",
      "12000:12999 \t4\r\n",
      "13000:13999 \t0\r\n",
      "14000:14999 \t1\r\n",
      "15000:15999 \t2\r\n",
      "16000:16999 \t2\r\n",
      "17000:17999 \t1\r\n",
      "\r\n",
      "Total length of sequence:\t86228867 bp\r\n",
      "Total number of sequences:\t151320\r\n",
      "N25 stats:\t\t\t25% of total sequence length is contained in the 7864 sequences >= 1705 bp\r\n",
      "N50 stats:\t\t\t50% of total sequence length is contained in the 27130 sequences >= 774 bp\r\n",
      "N75 stats:\t\t\t75% of total sequence length is contained in the 69280 sequences >= 361 bp\r\n",
      "Total GC count:\t\t\t30534493 bp\r\n",
      "GC %:\t\t\t\t35.41 %\r\n",
      "\r\n"
     ]
    }
   ],
   "source": [
    "!perl ../scripts/count_fasta.pl \\\n",
    "-i 1000 \\\n",
    "../data/Moreira2015-Transcriptome.fa"
   ]
  },
  {
   "cell_type": "code",
   "execution_count": 4,
   "metadata": {
    "button": false,
    "collapsed": false,
    "deletable": true,
    "new_sheet": false,
    "run_control": {
     "read_only": false
    }
   },
   "outputs": [
    {
     "name": "stdout",
     "output_type": "stream",
     "text": [
      "\r\n",
      "200:299 \t63166\r\n",
      "300:399 \t27048\r\n",
      "400:499 \t14543\r\n",
      "500:599 \t9130\r\n",
      "600:699 \t6594\r\n",
      "700:799 \t4883\r\n",
      "800:899 \t3768\r\n",
      "900:999 \t3036\r\n",
      "1000:1099 \t2488\r\n",
      "1100:1199 \t2090\r\n",
      "1200:1299 \t1689\r\n",
      "1300:1399 \t1521\r\n",
      "1400:1499 \t1307\r\n",
      "1500:1599 \t1139\r\n",
      "1600:1699 \t1007\r\n",
      "1700:1799 \t883\r\n",
      "1800:1899 \t743\r\n",
      "1900:1999 \t667\r\n",
      "2000:2099 \t593\r\n",
      "2100:2199 \t552\r\n",
      "2200:2299 \t451\r\n",
      "2300:2399 \t402\r\n",
      "2400:2499 \t354\r\n",
      "2500:2599 \t311\r\n",
      "2600:2699 \t253\r\n",
      "2700:2799 \t238\r\n",
      "2800:2899 \t211\r\n",
      "2900:2999 \t194\r\n",
      "3000:3099 \t171\r\n",
      "3100:3199 \t144\r\n",
      "3200:3299 \t153\r\n",
      "3300:3399 \t132\r\n",
      "3400:3499 \t119\r\n",
      "3500:3599 \t106\r\n",
      "3600:3699 \t96\r\n",
      "3700:3799 \t80\r\n",
      "3800:3899 \t91\r\n",
      "3900:3999 \t86\r\n",
      "4000:4099 \t68\r\n",
      "4100:4199 \t66\r\n",
      "4200:4299 \t62\r\n",
      "4300:4399 \t43\r\n",
      "4400:4499 \t60\r\n",
      "4500:4599 \t47\r\n",
      "4600:4699 \t34\r\n",
      "4700:4799 \t30\r\n",
      "4800:4899 \t28\r\n",
      "4900:4999 \t24\r\n",
      "5000:5099 \t23\r\n",
      "5100:5199 \t21\r\n",
      "5200:5299 \t26\r\n",
      "5300:5399 \t35\r\n",
      "5400:5499 \t17\r\n",
      "5500:5599 \t16\r\n",
      "5600:5699 \t13\r\n",
      "5700:5799 \t12\r\n",
      "5800:5899 \t15\r\n",
      "5900:5999 \t15\r\n",
      "6000:6099 \t16\r\n",
      "6100:6199 \t8\r\n",
      "6200:6299 \t12\r\n",
      "6300:6399 \t8\r\n",
      "6400:6499 \t11\r\n",
      "6500:6599 \t8\r\n",
      "6600:6699 \t6\r\n",
      "6700:6799 \t6\r\n",
      "6800:6899 \t10\r\n",
      "6900:6999 \t12\r\n",
      "7000:7099 \t8\r\n",
      "7100:7199 \t4\r\n",
      "7200:7299 \t7\r\n",
      "7300:7399 \t5\r\n",
      "7400:7499 \t5\r\n",
      "7500:7599 \t5\r\n",
      "7600:7699 \t3\r\n",
      "7700:7799 \t4\r\n",
      "7800:7899 \t2\r\n",
      "7900:7999 \t7\r\n",
      "8000:8099 \t3\r\n",
      "8100:8199 \t7\r\n",
      "8200:8299 \t4\r\n",
      "8300:8399 \t3\r\n",
      "8400:8499 \t6\r\n",
      "8500:8599 \t1\r\n",
      "8600:8699 \t4\r\n",
      "8700:8799 \t2\r\n",
      "8800:8899 \t4\r\n",
      "8900:8999 \t3\r\n",
      "9000:9099 \t3\r\n",
      "9100:9199 \t2\r\n",
      "9200:9299 \t3\r\n",
      "9300:9399 \t0\r\n",
      "9400:9499 \t1\r\n",
      "9500:9599 \t0\r\n",
      "9600:9699 \t0\r\n",
      "9700:9799 \t3\r\n",
      "9800:9899 \t4\r\n",
      "9900:9999 \t1\r\n",
      "10000:10099 \t1\r\n",
      "10100:10199 \t1\r\n",
      "10200:10299 \t1\r\n",
      "10300:10399 \t1\r\n",
      "10400:10499 \t1\r\n",
      "10500:10599 \t0\r\n",
      "10600:10699 \t3\r\n",
      "10700:10799 \t0\r\n",
      "10800:10899 \t1\r\n",
      "10900:10999 \t1\r\n",
      "11000:11099 \t1\r\n",
      "11100:11199 \t0\r\n",
      "11200:11299 \t0\r\n",
      "11300:11399 \t0\r\n",
      "11400:11499 \t0\r\n",
      "11500:11599 \t0\r\n",
      "11600:11699 \t0\r\n",
      "11700:11799 \t1\r\n",
      "11800:11899 \t1\r\n",
      "11900:11999 \t2\r\n",
      "12000:12099 \t0\r\n",
      "12100:12199 \t2\r\n",
      "12200:12299 \t0\r\n",
      "12300:12399 \t0\r\n",
      "12400:12499 \t0\r\n",
      "12500:12599 \t1\r\n",
      "12600:12699 \t0\r\n",
      "12700:12799 \t0\r\n",
      "12800:12899 \t1\r\n",
      "12900:12999 \t0\r\n",
      "13000:13099 \t0\r\n",
      "13100:13199 \t0\r\n",
      "13200:13299 \t0\r\n",
      "13300:13399 \t0\r\n",
      "13400:13499 \t0\r\n",
      "13500:13599 \t0\r\n",
      "13600:13699 \t0\r\n",
      "13700:13799 \t0\r\n",
      "13800:13899 \t0\r\n",
      "13900:13999 \t0\r\n",
      "14000:14099 \t0\r\n",
      "14100:14199 \t0\r\n",
      "14200:14299 \t1\r\n",
      "14300:14399 \t0\r\n",
      "14400:14499 \t0\r\n",
      "14500:14599 \t0\r\n",
      "14600:14699 \t0\r\n",
      "14700:14799 \t0\r\n",
      "14800:14899 \t0\r\n",
      "14900:14999 \t0\r\n",
      "15000:15099 \t0\r\n",
      "15100:15199 \t0\r\n",
      "15200:15299 \t0\r\n",
      "15300:15399 \t0\r\n",
      "15400:15499 \t0\r\n",
      "15500:15599 \t1\r\n",
      "15600:15699 \t1\r\n",
      "15700:15799 \t0\r\n",
      "15800:15899 \t0\r\n",
      "15900:15999 \t0\r\n",
      "16000:16099 \t0\r\n",
      "16100:16199 \t0\r\n",
      "16200:16299 \t1\r\n",
      "16300:16399 \t0\r\n",
      "16400:16499 \t0\r\n",
      "16500:16599 \t0\r\n",
      "16600:16699 \t0\r\n",
      "16700:16799 \t0\r\n",
      "16800:16899 \t1\r\n",
      "16900:16999 \t0\r\n",
      "17000:17099 \t0\r\n",
      "17100:17199 \t0\r\n",
      "17200:17299 \t0\r\n",
      "17300:17399 \t0\r\n",
      "17400:17499 \t0\r\n",
      "17500:17599 \t0\r\n",
      "17600:17699 \t1\r\n",
      "\r\n",
      "Total length of sequence:\t86228867 bp\r\n",
      "Total number of sequences:\t151320\r\n",
      "N25 stats:\t\t\t25% of total sequence length is contained in the 7864 sequences >= 1705 bp\r\n",
      "N50 stats:\t\t\t50% of total sequence length is contained in the 27130 sequences >= 774 bp\r\n",
      "N75 stats:\t\t\t75% of total sequence length is contained in the 69280 sequences >= 361 bp\r\n",
      "Total GC count:\t\t\t30534493 bp\r\n",
      "GC %:\t\t\t\t35.41 %\r\n",
      "\r\n"
     ]
    }
   ],
   "source": [
    "!perl ../scripts/count_fasta.pl \\\n",
    "-i 100 \\\n",
    "../data/Moreira2015-Transcriptome.fa"
   ]
  },
  {
   "cell_type": "code",
   "execution_count": 8,
   "metadata": {
    "button": false,
    "collapsed": false,
    "deletable": true,
    "new_sheet": false,
    "run_control": {
     "read_only": false
    }
   },
   "outputs": [],
   "source": []
  },
  {
   "cell_type": "code",
   "execution_count": null,
   "metadata": {
    "button": false,
    "collapsed": true,
    "deletable": true,
    "new_sheet": false,
    "run_control": {
     "read_only": false
    }
   },
   "outputs": [],
   "source": []
  },
  {
   "cell_type": "code",
   "execution_count": null,
   "metadata": {
    "button": false,
    "collapsed": true,
    "deletable": true,
    "new_sheet": false,
    "run_control": {
     "read_only": false
    }
   },
   "outputs": [],
   "source": []
  },
  {
   "cell_type": "code",
   "execution_count": 13,
   "metadata": {
    "button": false,
    "collapsed": false,
    "deletable": true,
    "new_sheet": false,
    "run_control": {
     "read_only": false
    }
   },
   "outputs": [
    {
     "name": "stdout",
     "output_type": "stream",
     "text": [
      "/bin/sh: transrate: command not found\r\n"
     ]
    }
   ],
   "source": []
  },
  {
   "cell_type": "code",
   "execution_count": null,
   "metadata": {
    "button": false,
    "collapsed": true,
    "deletable": true,
    "new_sheet": false,
    "run_control": {
     "read_only": false
    }
   },
   "outputs": [],
   "source": []
  }
 ],
 "metadata": {
  "kernelspec": {
   "display_name": "Python 3",
   "language": "python",
   "name": "python3"
  },
  "language_info": {
   "codemirror_mode": {
    "name": "ipython",
    "version": 3
   },
   "file_extension": ".py",
   "mimetype": "text/x-python",
   "name": "python",
   "nbconvert_exporter": "python",
   "pygments_lexer": "ipython3",
   "version": "3.5.0"
  }
 },
 "nbformat": 4,
 "nbformat_minor": 0
}
