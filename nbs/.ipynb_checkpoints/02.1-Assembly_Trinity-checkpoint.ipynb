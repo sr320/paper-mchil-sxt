{
 "cells": [
  {
   "cell_type": "code",
   "execution_count": 5,
   "metadata": {
    "button": false,
    "collapsed": false,
    "deletable": true,
    "new_sheet": false,
    "run_control": {
     "read_only": false
    }
   },
   "outputs": [
    {
     "name": "stdout",
     "output_type": "stream",
     "text": [
      "184166\n",
      ">TR10000_c0_g1_i1\n",
      "CTCATCTTGATTTATCTTAATCTTTGAAAATGGCTTCAGCATTGGAATCGTATGTGAATCGTACAGTTTCTATAGTCACAGCAGATGGAAGAATAATTGTGGGAACATTGAAAGGATTTGATCAAACAATCAACTTAATTCTAGACGAGAGCCATGAGAGGGTATATAGTGCTACACAAGGAGTAGAACAAGTCATTTTGGGACTATACATCATCAGGGGAGATAATGTAGCTTTGATAGGAGAGATAGATGATGAAGCTGACCAGAGATTAGATTTTAATGACATTAAGGCTGAACCTTTGAATTCAGTTTTACATTGATGTAAAGGATAAAAAGACATGTTATGGCTTGGAAATAAATCTCAGCTTAGTTGAATTACAGGAATTTTAGGACTTACAACCAAAGAGAATGTACATTTAATTACATAAATAAATGCAAGCTGATCAAGAGAGAGAGGGAGATTTTCAATACTTGTGTATGGTTTTGTGCTTAATTAACATTTTTAAAGTGTTAAAAGTGTCATAATATATTTTGAAGAATGCCTCCCTAACCTGTAAAGGAAGATTGATTATTTATAGCAATTACTTAAGGAAAAATAATAAATATTCAACATGTTCAAACTAAATTCATTTTTATTAAGTTAAGATAATTGAATGAGATGTTTGATTGTTTCTGTTGGTTCACAATTCCATGTCTAGGTTCAACTGACCTAGACATGGAATTGTGAA\n"
     ]
    }
   ],
   "source": [
    "!fgrep -c \">\" ../data/Mytilus-SXT.trimmed.trinity.v3.fa\n",
    "!head -2 ../data/Mytilus-SXT.trimmed.trinity.v3.fa"
   ]
  },
  {
   "cell_type": "code",
   "execution_count": 6,
   "metadata": {
    "button": false,
    "collapsed": false,
    "deletable": true,
    "new_sheet": false,
    "run_control": {
     "read_only": false
    }
   },
   "outputs": [
    {
     "name": "stdout",
     "output_type": "stream",
     "text": [
      "[ INFO] 2015-12-11 12:41:47 : Loading assembly: /Users/sr320/git-repos/paper-mchil-sxt/data/Mytilus-SXT.trimmed.trinity.v3.fa\n",
      "[ INFO] 2015-12-11 12:42:05 : Analysing assembly: /Users/sr320/git-repos/paper-mchil-sxt/data/Mytilus-SXT.trimmed.trinity.v3.fa\n",
      "[ INFO] 2015-12-11 12:42:05 : Results will be saved in /Users/sr320/git-repos/paper-mchil-sxt/nbs/analyses/Mytilus-SXT.trimmed.trinity.v3\n",
      "[ INFO] 2015-12-11 12:42:05 : Calculating contig metrics...\n",
      "[ INFO] 2015-12-11 12:42:40 : Contig metrics:\n",
      "[ INFO] 2015-12-11 12:42:40 : -----------------------------------\n",
      "[ INFO] 2015-12-11 12:42:40 : n seqs                       184166\n",
      "[ INFO] 2015-12-11 12:42:40 : smallest                        224\n",
      "[ INFO] 2015-12-11 12:42:40 : largest                       21486\n",
      "[ INFO] 2015-12-11 12:42:40 : n bases                   134270562\n",
      "[ INFO] 2015-12-11 12:42:40 : mean len                     729.07\n",
      "[ INFO] 2015-12-11 12:42:40 : n under 200                       0\n",
      "[ INFO] 2015-12-11 12:42:40 : n over 1k                     38651\n",
      "[ INFO] 2015-12-11 12:42:40 : n over 10k                        7\n",
      "[ INFO] 2015-12-11 12:42:40 : n with orf                    42761\n",
      "[ INFO] 2015-12-11 12:42:40 : mean orf percent              52.36\n",
      "[ INFO] 2015-12-11 12:42:40 : n90                             303\n",
      "[ INFO] 2015-12-11 12:42:40 : n70                             603\n",
      "[ INFO] 2015-12-11 12:42:40 : n50                            1077\n",
      "[ INFO] 2015-12-11 12:42:40 : n30                            1745\n",
      "[ INFO] 2015-12-11 12:42:40 : n10                            3161\n",
      "[ INFO] 2015-12-11 12:42:40 : gc                             0.33\n",
      "[ INFO] 2015-12-11 12:42:40 : gc skew                        0.02\n",
      "[ INFO] 2015-12-11 12:42:40 : at skew                        0.01\n",
      "[ INFO] 2015-12-11 12:42:40 : cpg ratio                      1.41\n",
      "[ INFO] 2015-12-11 12:42:40 : bases n                           0\n",
      "[ INFO] 2015-12-11 12:42:40 : proportion n                    0.0\n",
      "[ INFO] 2015-12-11 12:42:40 : linguistic complexity          0.13\n",
      "[ INFO] 2015-12-11 12:42:40 : Contig metrics done in 34 seconds\n",
      "[ INFO] 2015-12-11 12:42:40 : No reads provided, skipping read diagnostics\n",
      "[ INFO] 2015-12-11 12:42:40 : No reference provided, skipping comparative diagnostics\n",
      "[ INFO] 2015-12-11 12:42:40 : Writing contig metrics for each contig to /Users/sr320/git-repos/paper-mchil-sxt/nbs/analyses/Mytilus-SXT.trimmed.trinity.v3/contigs.csv\n",
      "[ INFO] 2015-12-11 12:43:12 : Writing analysis results to assemblies.csv\n"
     ]
    }
   ],
   "source": [
    "!/Applications/transrate-1.0.1-osx/transrate \\\n",
    "--assembly \\\n",
    "../data/Mytilus-SXT.trimmed.trinity.v3.fa \\\n",
    "--output analyses"
   ]
  },
  {
   "cell_type": "code",
   "execution_count": null,
   "metadata": {
    "button": false,
    "collapsed": false,
    "deletable": true,
    "new_sheet": false,
    "run_control": {
     "read_only": false
    }
   },
   "outputs": [
    {
     "name": "stdout",
     "output_type": "stream",
     "text": [
      "[ INFO] 2015-12-11 13:10:55 : Loading assembly: /Users/sr320/git-repos/paper-mchil-sxt/data/Mytilus-SXT.trimmed.trinity.v3.fa\n",
      "[ INFO] 2015-12-11 13:11:22 : Analysing assembly: /Users/sr320/git-repos/paper-mchil-sxt/data/Mytilus-SXT.trimmed.trinity.v3.fa\n",
      "[ INFO] 2015-12-11 13:11:22 : Results will be saved in /Users/sr320/git-repos/paper-mchil-sxt/nbs/analyses/transrate-Cgigas-pep/Mytilus-SXT.trimmed.trinity.v3\n",
      "[ INFO] 2015-12-11 13:11:22 : Calculating contig metrics...\n",
      "[ INFO] 2015-12-11 13:12:04 : Contig metrics:\n",
      "[ INFO] 2015-12-11 13:12:04 : -----------------------------------\n",
      "[ INFO] 2015-12-11 13:12:04 : n seqs                       184166\n",
      "[ INFO] 2015-12-11 13:12:04 : smallest                        224\n",
      "[ INFO] 2015-12-11 13:12:04 : largest                       21486\n",
      "[ INFO] 2015-12-11 13:12:04 : n bases                   134270562\n",
      "[ INFO] 2015-12-11 13:12:04 : mean len                     729.07\n",
      "[ INFO] 2015-12-11 13:12:04 : n under 200                       0\n",
      "[ INFO] 2015-12-11 13:12:04 : n over 1k                     38651\n",
      "[ INFO] 2015-12-11 13:12:04 : n over 10k                        7\n",
      "[ INFO] 2015-12-11 13:12:04 : n with orf                    42761\n",
      "[ INFO] 2015-12-11 13:12:04 : mean orf percent              52.36\n",
      "[ INFO] 2015-12-11 13:12:04 : n90                             303\n",
      "[ INFO] 2015-12-11 13:12:04 : n70                             603\n",
      "[ INFO] 2015-12-11 13:12:04 : n50                            1077\n",
      "[ INFO] 2015-12-11 13:12:04 : n30                            1745\n",
      "[ INFO] 2015-12-11 13:12:04 : n10                            3161\n",
      "[ INFO] 2015-12-11 13:12:04 : gc                             0.33\n",
      "[ INFO] 2015-12-11 13:12:04 : gc skew                        0.02\n",
      "[ INFO] 2015-12-11 13:12:04 : at skew                        0.01\n",
      "[ INFO] 2015-12-11 13:12:04 : cpg ratio                      1.41\n",
      "[ INFO] 2015-12-11 13:12:04 : bases n                           0\n",
      "[ INFO] 2015-12-11 13:12:04 : proportion n                    0.0\n",
      "[ INFO] 2015-12-11 13:12:04 : linguistic complexity          0.13\n",
      "[ INFO] 2015-12-11 13:12:04 : Contig metrics done in 41 seconds\n",
      "[ INFO] 2015-12-11 13:12:04 : No reads provided, skipping read diagnostics\n",
      "[ INFO] 2015-12-11 13:12:04 : Calculating comparative metrics...\n"
     ]
    }
   ],
   "source": [
    "!/Applications/transrate-1.0.1-osx/transrate \\\n",
    "--assembly ../data/Mytilus-SXT.trimmed.trinity.v3.fa \\\n",
    "--reference ../data/Crassostrea_gigas.GCA_000297895.1.29.pep.all.fa \\\n",
    "--threads 4 \\\n",
    "--output analyses/transrate-Cgigas-pep"
   ]
  },
  {
   "cell_type": "code",
   "execution_count": 10,
   "metadata": {
    "collapsed": false
   },
   "outputs": [
    {
     "ename": "SyntaxError",
     "evalue": "invalid syntax (<ipython-input-10-3139f914a4f4>, line 2)",
     "output_type": "error",
     "traceback": [
      "\u001b[0;36m  File \u001b[0;32m\"<ipython-input-10-3139f914a4f4>\"\u001b[0;36m, line \u001b[0;32m2\u001b[0m\n\u001b[0;31m    n_seqs\t184166\u001b[0m\n\u001b[0m          \t     ^\u001b[0m\n\u001b[0;31mSyntaxError\u001b[0m\u001b[0;31m:\u001b[0m invalid syntax\n"
     ]
    }
   ],
   "source": [
    "assembly\t/Users/sr320/git-repos/paper-mchil-sxt/data/Mytilus-SXT.trimmed.trinity.v3.fa\n",
    "n_seqs\t184166\n",
    "smallest\t224\n",
    "largest\t21486\n",
    "n_bases\t134270562\n",
    "mean_len\t729.07356\n",
    "n_under_200\t0\n",
    "n_over_1k\t38651\n",
    "n_over_10k\t7\n",
    "n_with_orf\t42761\n",
    "mean_orf_percent\t52.36376\n",
    "n90\t303\n",
    "n70\t603\n",
    "n50\t1077\n",
    "n30\t1745\n",
    "n10\t3161\n",
    "gc\t0.33357\n",
    "gc_skew\t0.01875\n",
    "at_skew\t0.0111\n",
    "cpg_ratio\t1.41025\n",
    "bases_n\t0\n",
    "proportion_n\t0\n",
    "linguistic_complexity\t0.1295\n",
    "CRBB_hits\t27302\n",
    "n_contigs_with_CRBB\t27302\n",
    "p_contigs_with_CRBB\t0.14825\n",
    "rbh_per_reference\t1.04649\n",
    "n_refs_with_CRBB\t10912\n",
    "p_refs_with_CRBB\t0.41826\n",
    "cov25\t9526\n",
    "p_cov25\t0.36513\n",
    "cov50\t7595\n",
    "p_cov50\t0.29112\n",
    "cov75\t5512\n",
    "p_cov75\t0.21128\n",
    "cov85\t4478\n",
    "p_cov85\t0.17164\n",
    "cov95\t2897\n",
    "p_cov95\t0.11104\n",
    "reference_coverage\t0.31688\n",
    "score\tNA\n",
    "optimal_score\tNA\n",
    "cutoff\tNA"
   ]
  },
  {
   "cell_type": "code",
   "execution_count": null,
   "metadata": {
    "collapsed": true,
    "run_control": {}
   },
   "outputs": [],
   "source": []
  }
 ],
 "metadata": {
  "kernelspec": {
   "display_name": "Python 3",
   "language": "python",
   "name": "python3"
  },
  "language_info": {
   "codemirror_mode": {
    "name": "ipython",
    "version": 3
   },
   "file_extension": ".py",
   "mimetype": "text/x-python",
   "name": "python",
   "nbconvert_exporter": "python",
   "pygments_lexer": "ipython3",
   "version": "3.5.0"
  }
 },
 "nbformat": 4,
 "nbformat_minor": 0
}
