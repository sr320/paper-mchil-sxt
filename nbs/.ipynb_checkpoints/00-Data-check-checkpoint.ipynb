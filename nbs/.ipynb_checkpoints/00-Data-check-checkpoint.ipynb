{
 "cells": [
  {
   "cell_type": "markdown",
   "metadata": {},
   "source": [
    "```\n",
    "* Software : Illumina Pipeline (CASAVA) v1.8.2\t\t\t\t\t\t\n",
    "* Fastq Quality Encoding : Sanger Quality ( ASCII Character Code = Phred Quality Value + 33 )\t\t\t\t\t\t\n",
    "\t\t\t\t\t\t\n",
    "Sample\t Total Bases \t Read Count \t N (%) \t GC (%) \t Q20 (%) \t Q30 (%) \n",
    "C0\t 13,520,524,378 \t 133,866,578 \t0.034 \t37.44\t 95.90 \t 90.61 \n",
    "D1\t 15,059,213,726 \t 149,101,126 \t0.035 \t38.08\t 96.00 \t 90.65 \n",
    "D2\t 14,064,103,146 \t 139,248,546 \t0.034 \t38.5\t 95.80 \t 90.37 \n",
    "\t\t\t\t\t\t\n",
    "\t\t\t\t\t\t\n",
    "Sample\t Download (fastq) \t\tmd5sum\t\t\t\n",
    "C0\tC0_1.fastq.gz\t\tee2a8d05db1e20ee84f057f0ac7f86a2\t\t\t\n",
    "\tC0_2.fastq.gz\t\t1a560b6b54ae4f34b7eef65ee06a1150\t\t\t\n",
    "D1\tD1_1.fastq.gz\t\t5832296773ff4f147ecac05c321c9354\t\t\t\n",
    "\tD1_2.fastq.gz\t\ta6eef8c24b73e8590c9a068a6beb06cb\t\t\t\n",
    "D2\tD2_1.fastq.gz\t\t444743cb72c288c0738cdc5024adb835\t\t\t\n",
    "\tD2_2.fastq.gz\t\t248309c7ed2518361bcfda686322dd43\t\t\t\n",
    "\t\t\t\t\t\t\n",
    "```                        \n",
    "\t\t\t\t\t\t\n",
    "\t\t\t\t\t\t"
   ]
  },
  {
   "cell_type": "markdown",
   "metadata": {},
   "source": [
    "```\n",
    "* Software : Illumina Pipeline (CASAVA) v1.8.2\t\t\t\t\t\t\n",
    "* Fastq Quality Encoding : Sanger Quality ( ASCII Character Code = Phred Quality Value + 33 )\t\t\t\t\t\t\n",
    "\t\t\t\t\t\t\n",
    "Sample\t Total Bases \t Read Count \t N (%) \t GC (%) \t Q20 (%) \t Q30 (%) \n",
    "D3\t 14,251,268,468 \t 141,101,668 \t0.005 \t38.2\t 94.35 \t 87.05 \n",
    "D4\t 10,763,592,422 \t 106,570,222 \t0.005 \t37.57\t 93.73 \t 86.06 \n",
    "D5\t 13,131,156,854 \t 130,011,454 \t0.005 \t38.65\t 94.35 \t 86.76 \n",
    "\t\t\t\t\t\t\n",
    "\t\t\t\t\t\t\n",
    "Sample\t Download (fastq) \t\tmd5sum\t\t\t\n",
    "D3\tD3_1.fastq.gz\t\tb43a4c7cc8cd405665d8f22cc3d4d6e6\t\t\t\n",
    "\tD3_2.fastq.gz\t\tbcee6a0c3d84a20aa2c3173c89c605aa\t\t\t\n",
    "D4\tD4_1.fastq.gz\t\td96a751e56b91c1d5d01efbd960e14de\n",
    "\tD4_2.fastq.gz\t\tad09d4a291ccf4e8aa217c62d4485b36\n",
    "D5\tD5_1.fastq.gz\t\t04a706820710dbfd9515bfd534ca3550\n",
    "\tD5_2.fastq.gz\t\t0fc3077f1e9d595d97d4ed7ecda7a258\t\n",
    "\t\t\t\t\t\t\n",
    "```        \n",
    "        \n",
    "        "
   ]
  },
  {
   "cell_type": "code",
   "execution_count": 3,
   "metadata": {
    "collapsed": false
   },
   "outputs": [
    {
     "name": "stdout",
     "output_type": "stream",
     "text": [
      "/volumes/web-1/whale/SXT RNAseq/C0_1.fastq.gz\r\n",
      "/volumes/web-1/whale/SXT RNAseq/C0_2.fastq.gz\r\n",
      "/volumes/web-1/whale/SXT RNAseq/D1_1.fastq.gz\r\n",
      "/volumes/web-1/whale/SXT RNAseq/D1_2.fastq.gz\r\n",
      "/volumes/web-1/whale/SXT RNAseq/D2_1.fastq.gz\r\n",
      "/volumes/web-1/whale/SXT RNAseq/D2_2.fastq.gz\r\n",
      "/volumes/web-1/whale/SXT RNAseq/D3_1.fastq.gz\r\n",
      "/volumes/web-1/whale/SXT RNAseq/D3_2.fastq.gz\r\n",
      "/volumes/web-1/whale/SXT RNAseq/D4_1.fastq.gz\r\n",
      "/volumes/web-1/whale/SXT RNAseq/D4_2.fastq.gz\r\n",
      "/volumes/web-1/whale/SXT RNAseq/D5_1.fastq.gz\r\n",
      "/volumes/web-1/whale/SXT RNAseq/D5_2.fastq.gz\r\n"
     ]
    }
   ],
   "source": [
    "!ls -v /volumes/web-1/whale/SXT\\ RNAseq/*.gz"
   ]
  },
  {
   "cell_type": "code",
   "execution_count": 7,
   "metadata": {
    "collapsed": false
   },
   "outputs": [],
   "source": [
    "!cp /volumes/web-1/whale/SXT\\ RNAseq/D2_2.fastq.gz /Users/sr320/data-genomic/tentacle/mchil-sxt/raw/"
   ]
  },
  {
   "cell_type": "code",
   "execution_count": 8,
   "metadata": {
    "collapsed": true
   },
   "outputs": [],
   "source": [
    "!cp /volumes/web-1/whale/SXT\\ RNAseq/D3_1.fastq.gz /Users/sr320/data-genomic/tentacle/mchil-sxt/raw/"
   ]
  },
  {
   "cell_type": "code",
   "execution_count": 9,
   "metadata": {
    "collapsed": true
   },
   "outputs": [],
   "source": [
    "!cp /volumes/web-1/whale/SXT\\ RNAseq/D3_2.fastq.gz /Users/sr320/data-genomic/tentacle/mchil-sxt/raw/"
   ]
  },
  {
   "cell_type": "code",
   "execution_count": 10,
   "metadata": {
    "collapsed": true
   },
   "outputs": [],
   "source": [
    "!cp /volumes/web-1/whale/SXT\\ RNAseq/D4_1.fastq.gz /Users/sr320/data-genomic/tentacle/mchil-sxt/raw/"
   ]
  },
  {
   "cell_type": "code",
   "execution_count": 11,
   "metadata": {
    "collapsed": true
   },
   "outputs": [],
   "source": [
    "!cp /volumes/web-1/whale/SXT\\ RNAseq/D4_2.fastq.gz /Users/sr320/data-genomic/tentacle/mchil-sxt/raw/"
   ]
  },
  {
   "cell_type": "code",
   "execution_count": 12,
   "metadata": {
    "collapsed": true
   },
   "outputs": [],
   "source": [
    "!cp /volumes/web-1/whale/SXT\\ RNAseq/D5_1.fastq.gz /Users/sr320/data-genomic/tentacle/mchil-sxt/raw/"
   ]
  },
  {
   "cell_type": "code",
   "execution_count": 13,
   "metadata": {
    "collapsed": true
   },
   "outputs": [],
   "source": [
    "!cp /volumes/web-1/whale/SXT\\ RNAseq/D5_2.fastq.gz /Users/sr320/data-genomic/tentacle/mchil-sxt/raw/"
   ]
  },
  {
   "cell_type": "code",
   "execution_count": 18,
   "metadata": {
    "collapsed": false
   },
   "outputs": [
    {
     "name": "stdout",
     "output_type": "stream",
     "text": [
      "total 129350168\r\n",
      "-rw-r--r--  1 sr320  staff  5256624233 Nov 16 14:52 C0_1.fastq.gz\r\n",
      "-rw-r--r--  1 sr320  staff  5347716115 Nov 16 14:55 C0_2.fastq.gz\r\n",
      "-rw-r--r--  1 sr320  staff  5858662915 Nov 16 14:58 D1_1.fastq.gz\r\n",
      "-rw-r--r--  1 sr320  staff  5947396507 Nov 16 15:01 D1_2.fastq.gz\r\n",
      "-rw-r--r--  1 sr320  staff  5604453584 Nov 25 06:21 D2_1.fastq.gz\r\n",
      "-rw-r--r--  1 sr320  staff  5683547609 Nov 25 06:36 D2_2.fastq.gz\r\n",
      "-rw-r--r--  1 sr320  staff  6175098656 Nov 25 06:39 D3_1.fastq.gz\r\n",
      "-rw-r--r--  1 sr320  staff  6216744324 Nov 25 06:42 D3_2.fastq.gz\r\n",
      "-rw-r--r--  1 sr320  staff  4540499603 Nov 25 06:45 D4_1.fastq.gz\r\n",
      "-rw-r--r--  1 sr320  staff  4605797382 Nov 25 06:48 D4_2.fastq.gz\r\n",
      "-rw-r--r--  1 sr320  staff  5469127555 Nov 25 06:50 D5_1.fastq.gz\r\n",
      "-rw-r--r--  1 sr320  staff  5521593692 Nov 25 06:53 D5_2.fastq.gz\r\n"
     ]
    }
   ],
   "source": [
    "!ls -l /Users/sr320/data-genomic/tentacle/mchil-sxt/raw/"
   ]
  },
  {
   "cell_type": "code",
   "execution_count": 19,
   "metadata": {
    "collapsed": false
   },
   "outputs": [
    {
     "name": "stdout",
     "output_type": "stream",
     "text": [
      "MD5 (/Users/sr320/data-genomic/tentacle/mchil-sxt/raw/C0_1.fastq.gz) = ee2a8d05db1e20ee84f057f0ac7f86a2\n",
      "MD5 (/Users/sr320/data-genomic/tentacle/mchil-sxt/raw/C0_2.fastq.gz) = 1a560b6b54ae4f34b7eef65ee06a1150\n",
      "MD5 (/Users/sr320/data-genomic/tentacle/mchil-sxt/raw/D1_1.fastq.gz) = 5832296773ff4f147ecac05c321c9354\n",
      "MD5 (/Users/sr320/data-genomic/tentacle/mchil-sxt/raw/D1_2.fastq.gz) = a6eef8c24b73e8590c9a068a6beb06cb\n",
      "MD5 (/Users/sr320/data-genomic/tentacle/mchil-sxt/raw/D2_1.fastq.gz) = 444743cb72c288c0738cdc5024adb835\n",
      "MD5 (/Users/sr320/data-genomic/tentacle/mchil-sxt/raw/D2_2.fastq.gz) = 248309c7ed2518361bcfda686322dd43\n",
      "MD5 (/Users/sr320/data-genomic/tentacle/mchil-sxt/raw/D3_1.fastq.gz) = b43a4c7cc8cd405665d8f22cc3d4d6e6\n",
      "MD5 (/Users/sr320/data-genomic/tentacle/mchil-sxt/raw/D3_2.fastq.gz) = bcee6a0c3d84a20aa2c3173c89c605aa\n",
      "MD5 (/Users/sr320/data-genomic/tentacle/mchil-sxt/raw/D4_1.fastq.gz) = d96a751e56b91c1d5d01efbd960e14de\n",
      "MD5 (/Users/sr320/data-genomic/tentacle/mchil-sxt/raw/D4_2.fastq.gz) = ad09d4a291ccf4e8aa217c62d4485b36\n",
      "MD5 (/Users/sr320/data-genomic/tentacle/mchil-sxt/raw/D5_1.fastq.gz) = 04a706820710dbfd9515bfd534ca3550\n",
      "MD5 (/Users/sr320/data-genomic/tentacle/mchil-sxt/raw/D5_2.fastq.gz) = 0fc3077f1e9d595d97d4ed7ecda7a258\n"
     ]
    }
   ],
   "source": [
    "!md5 /Users/sr320/data-genomic/tentacle/mchil-sxt/raw/*"
   ]
  },
  {
   "cell_type": "code",
   "execution_count": 4,
   "metadata": {
    "collapsed": false
   },
   "outputs": [
    {
     "name": "stdout",
     "output_type": "stream",
     "text": [
      "/bin/sh: /Users/sr320/data-genomic/tentacle/mchil-sxt/fastq/: No such file or directory\r\n"
     ]
    }
   ],
   "source": [
    "#!gunzip -c  /Users/sr320/data-genomic/tentacle/mchil-sxt/raw/*.gz \\\n",
    "> /Users/sr320/data-genomic/tentacle/mchil-sxt/fastq/"
   ]
  },
  {
   "cell_type": "code",
   "execution_count": null,
   "metadata": {
    "collapsed": false
   },
   "outputs": [],
   "source": [
    "#!ls -l /Users/sr320/data-genomic/tentacle/mchil-sxt/raw/"
   ]
  },
  {
   "cell_type": "markdown",
   "metadata": {},
   "source": [
    "# Quality Check"
   ]
  },
  {
   "cell_type": "code",
   "execution_count": 23,
   "metadata": {
    "collapsed": false
   },
   "outputs": [
    {
     "name": "stdout",
     "output_type": "stream",
     "text": [
      "Started analysis of C0_1.fastq.gz\n",
      "Started analysis of C0_2.fastq.gz\n",
      "Started analysis of D1_1.fastq.gz\n",
      "Started analysis of D1_2.fastq.gz\n",
      "Started analysis of D2_1.fastq.gz\n",
      "Started analysis of D2_2.fastq.gz\n",
      "Approx 5% complete for D2_2.fastq.gz\n",
      "Approx 5% complete for D2_1.fastq.gz\n",
      "Approx 5% complete for C0_2.fastq.gz\n",
      "Approx 5% complete for C0_1.fastq.gz\n",
      "Approx 5% complete for D1_1.fastq.gz\n",
      "Approx 10% complete for D2_2.fastq.gz\n",
      "Approx 10% complete for D2_1.fastq.gz\n",
      "Approx 5% complete for D1_2.fastq.gz\n",
      "Approx 15% complete for D2_2.fastq.gz\n",
      "Approx 15% complete for D2_1.fastq.gz\n",
      "Approx 10% complete for C0_1.fastq.gz\n",
      "Approx 10% complete for C0_2.fastq.gz\n",
      "Approx 10% complete for D1_1.fastq.gz\n",
      "Approx 20% complete for D2_2.fastq.gz\n",
      "Approx 10% complete for D1_2.fastq.gz\n",
      "Approx 20% complete for D2_1.fastq.gz\n",
      "Approx 15% complete for C0_1.fastq.gz\n",
      "Approx 25% complete for D2_2.fastq.gz\n",
      "Approx 25% complete for D2_1.fastq.gz\n",
      "Approx 15% complete for C0_2.fastq.gz\n",
      "Approx 30% complete for D2_2.fastq.gz\n",
      "Approx 15% complete for D1_1.fastq.gz\n",
      "Approx 30% complete for D2_1.fastq.gz\n",
      "Approx 15% complete for D1_2.fastq.gz\n",
      "Approx 20% complete for C0_1.fastq.gz\n",
      "Approx 35% complete for D2_2.fastq.gz\n",
      "Approx 20% complete for C0_2.fastq.gz\n",
      "Approx 35% complete for D2_1.fastq.gz\n",
      "Approx 40% complete for D2_2.fastq.gz\n",
      "Approx 20% complete for D1_1.fastq.gz\n",
      "Approx 25% complete for C0_1.fastq.gz\n",
      "Approx 20% complete for D1_2.fastq.gz\n",
      "Approx 40% complete for D2_1.fastq.gz\n",
      "Approx 25% complete for C0_2.fastq.gz\n",
      "Approx 30% complete for C0_1.fastq.gz\n",
      "Approx 45% complete for D2_2.fastq.gz\n",
      "Approx 45% complete for D2_1.fastq.gz\n",
      "Approx 25% complete for D1_1.fastq.gz\n",
      "Approx 25% complete for D1_2.fastq.gz\n",
      "Approx 50% complete for D2_1.fastq.gz\n",
      "Approx 30% complete for C0_2.fastq.gz\n",
      "Approx 35% complete for C0_1.fastq.gz\n",
      "Approx 50% complete for D2_2.fastq.gz\n",
      "Approx 55% complete for D2_1.fastq.gz\n",
      "Approx 30% complete for D1_1.fastq.gz\n",
      "Approx 40% complete for C0_1.fastq.gz\n",
      "Approx 30% complete for D1_2.fastq.gz\n",
      "Approx 35% complete for C0_2.fastq.gz\n",
      "Approx 60% complete for D2_1.fastq.gz\n",
      "Approx 55% complete for D2_2.fastq.gz\n",
      "Approx 65% complete for D2_1.fastq.gz\n",
      "Approx 45% complete for C0_1.fastq.gz\n",
      "Approx 35% complete for D1_1.fastq.gz\n",
      "Approx 40% complete for C0_2.fastq.gz\n",
      "Approx 35% complete for D1_2.fastq.gz\n",
      "Approx 70% complete for D2_1.fastq.gz\n",
      "Approx 60% complete for D2_2.fastq.gz\n",
      "Approx 75% complete for D2_1.fastq.gz\n",
      "Approx 50% complete for C0_1.fastq.gz\n",
      "Approx 45% complete for C0_2.fastq.gz\n",
      "Approx 40% complete for D1_1.fastq.gz\n",
      "Approx 65% complete for D2_2.fastq.gz\n",
      "Approx 80% complete for D2_1.fastq.gz\n",
      "Approx 40% complete for D1_2.fastq.gz\n",
      "Approx 85% complete for D2_1.fastq.gz\n",
      "Approx 55% complete for C0_1.fastq.gz\n",
      "Approx 70% complete for D2_2.fastq.gz\n",
      "Approx 50% complete for C0_2.fastq.gz\n",
      "Approx 45% complete for D1_1.fastq.gz\n",
      "Approx 90% complete for D2_1.fastq.gz\n",
      "Approx 45% complete for D1_2.fastq.gz\n",
      "Approx 75% complete for D2_2.fastq.gz\n",
      "Approx 60% complete for C0_1.fastq.gz\n",
      "Approx 95% complete for D2_1.fastq.gz\n",
      "Approx 55% complete for C0_2.fastq.gz\n",
      "Approx 50% complete for D1_1.fastq.gz\n",
      "Analysis complete for D2_1.fastq.gz\n",
      "Approx 80% complete for D2_2.fastq.gz\n",
      "Approx 50% complete for D1_2.fastq.gz\n",
      "Approx 65% complete for C0_1.fastq.gz\n",
      "Approx 85% complete for D2_2.fastq.gz\n",
      "Approx 60% complete for C0_2.fastq.gz\n",
      "Approx 55% complete for D1_1.fastq.gz\n",
      "Approx 90% complete for D2_2.fastq.gz\n",
      "Approx 70% complete for C0_1.fastq.gz\n",
      "Approx 55% complete for D1_2.fastq.gz\n",
      "Approx 65% complete for C0_2.fastq.gz\n",
      "Approx 95% complete for D2_2.fastq.gz\n",
      "Approx 60% complete for D1_1.fastq.gz\n",
      "Approx 75% complete for C0_1.fastq.gz\n",
      "Approx 60% complete for D1_2.fastq.gz\n",
      "Analysis complete for D2_2.fastq.gz\n",
      "Approx 70% complete for C0_2.fastq.gz\n",
      "Approx 80% complete for C0_1.fastq.gz\n",
      "Approx 65% complete for D1_1.fastq.gz\n",
      "Approx 85% complete for C0_1.fastq.gz\n",
      "Approx 65% complete for D1_2.fastq.gz\n",
      "Approx 75% complete for C0_2.fastq.gz\n",
      "Approx 70% complete for D1_1.fastq.gz\n",
      "Approx 90% complete for C0_1.fastq.gz\n",
      "Approx 80% complete for C0_2.fastq.gz\n",
      "Approx 70% complete for D1_2.fastq.gz\n",
      "Approx 95% complete for C0_1.fastq.gz\n",
      "Approx 75% complete for D1_1.fastq.gz\n",
      "Approx 85% complete for C0_2.fastq.gz\n",
      "Analysis complete for C0_1.fastq.gz\n",
      "Approx 75% complete for D1_2.fastq.gz\n",
      "Approx 80% complete for D1_1.fastq.gz\n",
      "Approx 90% complete for C0_2.fastq.gz\n",
      "Approx 80% complete for D1_2.fastq.gz\n",
      "Started analysis of D3_1.fastq.gz\n",
      "Started analysis of D3_2.fastq.gz\n",
      "Started analysis of D4_1.fastq.gz\n",
      "Approx 85% complete for D1_1.fastq.gz\n",
      "Approx 95% complete for C0_2.fastq.gz\n",
      "Approx 5% complete for D3_1.fastq.gz\n",
      "Approx 5% complete for D4_1.fastq.gz\n",
      "Approx 85% complete for D1_2.fastq.gz\n",
      "Approx 5% complete for D3_2.fastq.gz\n",
      "Analysis complete for C0_2.fastq.gz\n",
      "Approx 10% complete for D3_1.fastq.gz\n",
      "Approx 90% complete for D1_1.fastq.gz\n",
      "Approx 10% complete for D4_1.fastq.gz\n",
      "Approx 90% complete for D1_2.fastq.gz\n",
      "Approx 10% complete for D3_2.fastq.gz\n",
      "Started analysis of D4_2.fastq.gz\n",
      "Approx 15% complete for D4_1.fastq.gz\n",
      "Approx 15% complete for D3_1.fastq.gz\n",
      "Approx 95% complete for D1_1.fastq.gz\n",
      "Approx 5% complete for D4_2.fastq.gz\n",
      "Approx 20% complete for D4_1.fastq.gz\n",
      "Approx 95% complete for D1_2.fastq.gz\n",
      "Approx 15% complete for D3_2.fastq.gz\n",
      "Approx 20% complete for D3_1.fastq.gz\n",
      "Analysis complete for D1_1.fastq.gz\n",
      "Approx 10% complete for D4_2.fastq.gz\n",
      "Approx 25% complete for D4_1.fastq.gz\n",
      "Analysis complete for D1_2.fastq.gz\n",
      "Approx 20% complete for D3_2.fastq.gz\n",
      "Approx 15% complete for D4_2.fastq.gz\n",
      "Approx 25% complete for D3_1.fastq.gz\n",
      "Started analysis of D5_1.fastq.gz\n",
      "Approx 30% complete for D4_1.fastq.gz\n",
      "Started analysis of D5_2.fastq.gz\n",
      "Approx 20% complete for D4_2.fastq.gz\n",
      "Approx 25% complete for D3_2.fastq.gz\n",
      "Approx 35% complete for D4_1.fastq.gz\n",
      "Approx 5% complete for D5_1.fastq.gz\n",
      "Approx 30% complete for D3_1.fastq.gz\n",
      "Approx 5% complete for D5_2.fastq.gz\n",
      "Approx 25% complete for D4_2.fastq.gz\n",
      "Approx 40% complete for D4_1.fastq.gz\n",
      "Approx 30% complete for D3_2.fastq.gz\n",
      "Approx 10% complete for D5_1.fastq.gz\n",
      "Approx 35% complete for D3_1.fastq.gz\n",
      "Approx 10% complete for D5_2.fastq.gz\n",
      "Approx 30% complete for D4_2.fastq.gz\n",
      "Approx 45% complete for D4_1.fastq.gz\n",
      "Approx 15% complete for D5_1.fastq.gz\n",
      "Approx 35% complete for D3_2.fastq.gz\n",
      "Approx 35% complete for D4_2.fastq.gz\n",
      "Approx 40% complete for D3_1.fastq.gz\n",
      "Approx 50% complete for D4_1.fastq.gz\n",
      "Approx 15% complete for D5_2.fastq.gz\n",
      "Approx 20% complete for D5_1.fastq.gz\n",
      "Approx 40% complete for D4_2.fastq.gz\n",
      "Approx 55% complete for D4_1.fastq.gz\n",
      "Approx 40% complete for D3_2.fastq.gz\n",
      "Approx 20% complete for D5_2.fastq.gz\n",
      "Approx 45% complete for D3_1.fastq.gz\n",
      "Approx 60% complete for D4_1.fastq.gz\n",
      "Approx 45% complete for D4_2.fastq.gz\n",
      "Approx 25% complete for D5_1.fastq.gz\n",
      "Approx 45% complete for D3_2.fastq.gz\n",
      "Approx 25% complete for D5_2.fastq.gz\n",
      "Approx 50% complete for D3_1.fastq.gz\n",
      "Approx 65% complete for D4_1.fastq.gz\n",
      "Approx 50% complete for D4_2.fastq.gz\n",
      "Approx 30% complete for D5_1.fastq.gz\n",
      "Approx 50% complete for D3_2.fastq.gz\n",
      "Approx 30% complete for D5_2.fastq.gz\n",
      "Approx 70% complete for D4_1.fastq.gz\n",
      "Approx 55% complete for D4_2.fastq.gz\n",
      "Approx 55% complete for D3_1.fastq.gz\n",
      "Approx 35% complete for D5_1.fastq.gz\n",
      "Approx 75% complete for D4_1.fastq.gz\n",
      "Approx 60% complete for D4_2.fastq.gz\n",
      "Approx 35% complete for D5_2.fastq.gz\n",
      "Approx 55% complete for D3_2.fastq.gz\n",
      "Approx 60% complete for D3_1.fastq.gz\n",
      "Approx 40% complete for D5_1.fastq.gz\n",
      "Approx 80% complete for D4_1.fastq.gz\n",
      "Approx 65% complete for D4_2.fastq.gz\n",
      "Approx 40% complete for D5_2.fastq.gz\n",
      "Approx 60% complete for D3_2.fastq.gz\n",
      "Approx 45% complete for D5_1.fastq.gz\n",
      "Approx 65% complete for D3_1.fastq.gz\n",
      "Approx 85% complete for D4_1.fastq.gz\n",
      "Approx 70% complete for D4_2.fastq.gz\n",
      "Approx 45% complete for D5_2.fastq.gz\n",
      "Approx 65% complete for D3_2.fastq.gz\n",
      "Approx 90% complete for D4_1.fastq.gz\n",
      "Approx 50% complete for D5_1.fastq.gz\n",
      "Approx 75% complete for D4_2.fastq.gz\n",
      "Approx 70% complete for D3_1.fastq.gz\n",
      "Approx 50% complete for D5_2.fastq.gz\n",
      "Approx 95% complete for D4_1.fastq.gz\n",
      "Approx 80% complete for D4_2.fastq.gz\n",
      "Approx 70% complete for D3_2.fastq.gz\n",
      "Approx 55% complete for D5_1.fastq.gz\n",
      "Approx 75% complete for D3_1.fastq.gz\n",
      "Approx 55% complete for D5_2.fastq.gz\n",
      "Analysis complete for D4_1.fastq.gz\n",
      "Approx 85% complete for D4_2.fastq.gz\n",
      "Approx 60% complete for D5_1.fastq.gz\n",
      "Approx 75% complete for D3_2.fastq.gz\n",
      "Approx 80% complete for D3_1.fastq.gz\n",
      "Approx 90% complete for D4_2.fastq.gz\n",
      "Approx 60% complete for D5_2.fastq.gz\n",
      "Approx 65% complete for D5_1.fastq.gz\n",
      "Approx 80% complete for D3_2.fastq.gz\n",
      "Approx 95% complete for D4_2.fastq.gz\n",
      "Approx 85% complete for D3_1.fastq.gz\n",
      "Approx 65% complete for D5_2.fastq.gz\n",
      "Approx 70% complete for D5_1.fastq.gz\n",
      "Analysis complete for D4_2.fastq.gz\n",
      "Approx 85% complete for D3_2.fastq.gz\n",
      "Approx 70% complete for D5_2.fastq.gz\n",
      "Approx 90% complete for D3_1.fastq.gz\n",
      "Approx 75% complete for D5_1.fastq.gz\n",
      "Approx 90% complete for D3_2.fastq.gz\n",
      "Approx 75% complete for D5_2.fastq.gz\n",
      "Approx 95% complete for D3_1.fastq.gz\n",
      "Approx 80% complete for D5_1.fastq.gz\n",
      "Approx 80% complete for D5_2.fastq.gz\n",
      "Approx 95% complete for D3_2.fastq.gz\n",
      "Analysis complete for D3_1.fastq.gz\n",
      "Approx 85% complete for D5_1.fastq.gz\n",
      "Approx 85% complete for D5_2.fastq.gz\n",
      "Analysis complete for D3_2.fastq.gz\n",
      "Approx 90% complete for D5_1.fastq.gz\n",
      "Approx 90% complete for D5_2.fastq.gz\n",
      "Approx 95% complete for D5_1.fastq.gz\n",
      "Approx 95% complete for D5_2.fastq.gz\n",
      "Analysis complete for D5_1.fastq.gz\n",
      "Analysis complete for D5_2.fastq.gz\n"
     ]
    }
   ],
   "source": [
    "!/Applications/bioinfo/FastQC/fastqc \\\n",
    "-o /Users/sr320/data-genomic/tentacle/mchil-sxt/fastqc \\\n",
    "-t 6 \\\n",
    "/Users/sr320/data-genomic/tentacle/mchil-sxt/raw/*\n",
    "\n",
    "\n"
   ]
  },
  {
   "cell_type": "code",
   "execution_count": 24,
   "metadata": {
    "collapsed": false
   },
   "outputs": [
    {
     "name": "stdout",
     "output_type": "stream",
     "text": [
      "C0_1_fastqc.html D1_2_fastqc.html D3_1_fastqc.html D4_2_fastqc.html\r\n",
      "C0_1_fastqc.zip  D1_2_fastqc.zip  D3_1_fastqc.zip  D4_2_fastqc.zip\r\n",
      "C0_2_fastqc.html D2_1_fastqc.html D3_2_fastqc.html D5_1_fastqc.html\r\n",
      "C0_2_fastqc.zip  D2_1_fastqc.zip  D3_2_fastqc.zip  D5_1_fastqc.zip\r\n",
      "D1_1_fastqc.html D2_2_fastqc.html D4_1_fastqc.html D5_2_fastqc.html\r\n",
      "D1_1_fastqc.zip  D2_2_fastqc.zip  D4_1_fastqc.zip  D5_2_fastqc.zip\r\n"
     ]
    }
   ],
   "source": [
    "!ls analyses/fastqc/"
   ]
  },
  {
   "cell_type": "markdown",
   "metadata": {},
   "source": [
    "# Trim"
   ]
  },
  {
   "cell_type": "code",
   "execution_count": 30,
   "metadata": {
    "collapsed": false
   },
   "outputs": [
    {
     "name": "stdout",
     "output_type": "stream",
     "text": [
      "/Users/sr320/data-genomic/tentacle/mchil-sxt/fq\n"
     ]
    }
   ],
   "source": [
    "cd /Users/sr320/data-genomic/tentacle/mchil-sxt/fq/"
   ]
  },
  {
   "cell_type": "markdown",
   "metadata": {},
   "source": [
    "# unzip\n",
    "\n",
    "!gunzip -c /Users/sr320/data-genomic/tentacle/mchil-sxt/raw/* -"
   ]
  },
  {
   "cell_type": "code",
   "execution_count": 25,
   "metadata": {
    "collapsed": false
   },
   "outputs": [
    {
     "name": "stdout",
     "output_type": "stream",
     "text": [
      "No quality encoding type selected. Assuming that the data provided uses Sanger encoded Phred scores (default)\n",
      "\n",
      "Path to Cutadapt set as: '/Users/sr320/.local/bin/cutadapt' (user defined)\n",
      "1.8.1\n",
      "Cutadapt seems to be working fine (tested command '/Users/sr320/.local/bin/cutadapt --version')\n",
      "\n",
      "\n",
      "AUTO-DETECTING ADAPTER TYPE\n",
      "===========================\n",
      "Attempting to auto-detect adapter type from the first 1 million sequences of the first file (>> /Users/sr320/data-genomic/tentacle/mchil-sxt/raw/C0_1.fastq.gz <<)\n",
      "\n",
      "zcat: can't stat: /Users/sr320/data-genomic/tentacle/mchil-sxt/raw/C0_1.fastq.gz (/Users/sr320/data-genomic/tentacle/mchil-sxt/raw/C0_1.fastq.gz.Z): No such file or directory\n",
      "Found perfect matches for the following adapter sequences:\n",
      "Adapter type\tCount\tSequence\tSequences analysed\tPercentage\n",
      "Illegal division by zero at /Applications/bioinfo/trim_galore_zip/trim_galore line 127.\n"
     ]
    }
   ],
   "source": [
    "!/Applications/bioinfo/trim_galore_zip/trim_galore \\\n",
    "--paired \\\n",
    "--retain_unpaired \\\n",
    "--path_to_cutadapt /Users/sr320/.local/bin/cutadapt \\\n",
    "/Users/sr320/data-genomic/tentacle/mchil-sxt/raw/*"
   ]
  },
  {
   "cell_type": "code",
   "execution_count": 26,
   "metadata": {
    "collapsed": false
   },
   "outputs": [
    {
     "name": "stdout",
     "output_type": "stream",
     "text": [
      "\n",
      " USAGE:\n",
      "\n",
      "trim_galore [options] <filename(s)>\n",
      "\n",
      "\n",
      "-h/--help               Print this help message and exits.\n",
      "\n",
      "-v/--version            Print the version information and exits.\n",
      "\n",
      "-q/--quality <INT>      Trim low-quality ends from reads in addition to adapter removal. For\n",
      "                        RRBS samples, quality trimming will be performed first, and adapter\n",
      "                        trimming is carried in a second round. Other files are quality and adapter\n",
      "                        trimmed in a single pass. The algorithm is the same as the one used by BWA\n",
      "                        (Subtract INT from all qualities; compute partial sums from all indices\n",
      "                        to the end of the sequence; cut sequence at the index at which the sum is\n",
      "                        minimal). Default Phred score: 20.\n",
      "\n",
      "--phred33               Instructs Cutadapt to use ASCII+33 quality scores as Phred scores\n",
      "                        (Sanger/Illumina 1.9+ encoding) for quality trimming. Default: ON.\n",
      "\n",
      "--phred64               Instructs Cutadapt to use ASCII+64 quality scores as Phred scores\n",
      "                        (Illumina 1.5 encoding) for quality trimming.\n",
      "\n",
      "--fastqc                Run FastQC in the default mode on the FastQ file once trimming is complete.\n",
      "\n",
      "--fastqc_args \"<ARGS>\"  Passes extra arguments to FastQC. If more than one argument is to be passed\n",
      "                        to FastQC they must be in the form \"arg1 arg2 etc.\". An example would be:\n",
      "                        --fastqc_args \"--nogroup --outdir /home/\". Passing extra arguments will\n",
      "                        automatically invoke FastQC, so --fastqc does not have to be specified\n",
      "                        separately.\n",
      "\n",
      "-a/--adapter <STRING>   Adapter sequence to be trimmed. If not specified explicitly, Trim Galore will\n",
      "                        try to auto-detect whether the Illumina universal, Nextera transposase or Illumina\n",
      "                        small RNA adapter sequence was used. Also see '--illumina', '--nextera' and\n",
      "                        '--small_rna'. If no adapter can be detected within the first 1 million sequences\n",
      "                        of the first file specified Trim Galore defaults to '--illumina'.\n",
      "\n",
      "-a2/--adapter2 <STRING> Optional adapter sequence to be trimmed off read 2 of paired-end files. This\n",
      "                        option requires '--paired' to be specified as well.\n",
      "\n",
      "--illumina              Adapter sequence to be trimmed is the first 13bp of the Illumina universal adapter\n",
      "                        'AGATCGGAAGAGC' instead of the default auto-detection of adapter sequence.\n",
      "\n",
      "--nextera               Adapter sequence to be trimmed is the first 12bp of the Nextera adapter\n",
      "                        'CTGTCTCTTATA' instead of the default auto-detection of adapter sequence.\n",
      "\n",
      "--small_rna             Adapter sequence to be trimmed is the first 12bp of the Illumina Small RNA Adapter\n",
      "                        'ATGGAATTCTCG' instead of the default auto-detection of adapter sequence.\n",
      "\n",
      "\n",
      "--stringency <INT>      Overlap with adapter sequence required to trim a sequence. Defaults to a\n",
      "                        very stringent setting of 1, i.e. even a single bp of overlapping sequence\n",
      "                        will be trimmed off from the 3' end of any read.\n",
      "\n",
      "-e <ERROR RATE>         Maximum allowed error rate (no. of errors divided by the length of the matching\n",
      "                        region) (default: 0.1)\n",
      "\n",
      "--gzip                  Compress the output file with GZIP. If the input files are GZIP-compressed\n",
      "                        the output files will automatically be GZIP compressed as well. As of v0.2.8 the\n",
      "                        compression will take place on the fly.\n",
      "\n",
      "--dont_gzip             Output files won't be compressed with GZIP. This option overrides --gzip.\n",
      "\n",
      "--length <INT>          Discard reads that became shorter than length INT because of either\n",
      "                        quality or adapter trimming. A value of '0' effectively disables\n",
      "                        this behaviour. Default: 20 bp.\n",
      "\n",
      "                        For paired-end files, both reads of a read-pair need to be longer than\n",
      "                        <INT> bp to be printed out to validated paired-end files (see option --paired).\n",
      "                        If only one read became too short there is the possibility of keeping such\n",
      "                        unpaired single-end reads (see --retain_unpaired). Default pair-cutoff: 20 bp.\n",
      "\n",
      "-o/--output_dir <DIR>   If specified all output will be written to this directory instead of the current\n",
      "                        directory.\n",
      "\n",
      "--no_report_file        If specified no report file will be generated.\n",
      "\n",
      "--suppress_warn         If specified any output to STDOUT or STDERR will be suppressed.\n",
      "\n",
      "--clip_R1 <int>         Instructs Trim Galore to remove <int> bp from the 5' end of read 1 (or single-end\n",
      "                        reads). This may be useful if the qualities were very poor, or if there is some\n",
      "                        sort of unwanted bias at the 5' end. Default: OFF.\n",
      "\n",
      "--clip_R2 <int>         Instructs Trim Galore to remove <int> bp from the 5' end of read 2 (paired-end reads\n",
      "                        only). This may be useful if the qualities were very poor, or if there is some sort\n",
      "                        of unwanted bias at the 5' end. For paired-end BS-Seq, it is recommended to remove\n",
      "                        the first few bp because the end-repair reaction may introduce a bias towards low\n",
      "                        methylation. Please refer to the M-bias plot section in the Bismark User Guide for\n",
      "                        some examples. Default: OFF.\n",
      "\n",
      "--three_prime_clip_R1 <int>     Instructs Trim Galore to remove <int> bp from the 3' end of read 1 (or single-end\n",
      "                        reads) AFTER adapter/quality trimming has been performed. This may remove some unwanted\n",
      "                        bias from the 3' end that is not directly related to adapter sequence or basecall quality.\n",
      "                        Default: OFF.\n",
      "\n",
      "--three_prime_clip_R2 <int>     Instructs Trim Galore to remove <int> bp from the 3' end of read 2 AFTER\n",
      "                        adapter/quality trimming has been performed. This may remove some unwanted bias from\n",
      "                        the 3' end that is not directly related to adapter sequence or basecall quality.\n",
      "                        Default: OFF.\n",
      "\n",
      "--path_to_cutadapt </path/to/cutadapt>     You may use this option to specify a path to the Cutadapt executable,\n",
      "                        e.g. /my/home/cutadapt-1.7.1/bin/cutadapt. Else it is assumed that Cutadapt is in\n",
      "                        the PATH.\n",
      "\n",
      "\n",
      "RRBS-specific options (MspI digested material):\n",
      "\n",
      "--rrbs                  Specifies that the input file was an MspI digested RRBS sample (recognition\n",
      "                        site: CCGG). Sequences which were adapter-trimmed will have a further 2 bp\n",
      "                        removed from their 3' end. This is to avoid that the filled-in C close to the\n",
      "                        second MspI site in a sequence is used for methylation calls. Sequences which\n",
      "                        were merely trimmed because of poor quality will not be shortened further.\n",
      "\n",
      "--non_directional       Selecting this option for non-directional RRBS libraries will screen\n",
      "                        quality-trimmed sequences for 'CAA' or 'CGA' at the start of the read\n",
      "                        and, if found, removes the first two basepairs. Like with the option\n",
      "                        '--rrbs' this avoids using cytosine positions that were filled-in\n",
      "                        during the end-repair step. '--non_directional' requires '--rrbs' to\n",
      "                        be specified as well.\n",
      "\n",
      "--keep                  Keep the quality trimmed intermediate file. Default: off, which means\n",
      "                        the temporary file is being deleted after adapter trimming. Only has\n",
      "                        an effect for RRBS samples since other FastQ files are not trimmed\n",
      "                        for poor qualities separately.\n",
      "\n",
      "\n",
      "Note for RRBS using MseI:\n",
      "\n",
      "If your DNA material was digested with MseI (recognition motif: TTAA) instead of MspI it is NOT necessary\n",
      "to specify --rrbs or --non_directional since virtually all reads should start with the sequence\n",
      "'TAA', and this holds true for both directional and non-directional libraries. As the end-repair of 'TAA'\n",
      "restricted sites does not involve any cytosines it does not need to be treated especially. Instead, simply\n",
      "run Trim Galore! in the standard (i.e. non-RRBS) mode.\n",
      "\n",
      "\n",
      "Paired-end specific options:\n",
      "\n",
      "--paired                This option performs length trimming of quality/adapter/RRBS trimmed reads for\n",
      "                        paired-end files. To pass the validation test, both sequences of a sequence pair\n",
      "                        are required to have a certain minimum length which is governed by the option\n",
      "                        --length (see above). If only one read passes this length threshold the\n",
      "                        other read can be rescued (see option --retain_unpaired). Using this option lets\n",
      "                        you discard too short read pairs without disturbing the sequence-by-sequence order\n",
      "                        of FastQ files which is required by many aligners.\n",
      "\n",
      "                        Trim Galore! expects paired-end files to be supplied in a pairwise fashion, e.g.\n",
      "                        file1_1.fq file1_2.fq SRR2_1.fq.gz SRR2_2.fq.gz ... .\n",
      "\n",
      "-t/--trim1              Trims 1 bp off every read from its 3' end. This may be needed for FastQ files that\n",
      "                        are to be aligned as paired-end data with Bowtie. This is because Bowtie (1) regards\n",
      "                        alignments like this:\n",
      "\n",
      "                          R1 --------------------------->     or this:    ----------------------->  R1\n",
      "                          R2 <---------------------------                       <-----------------  R2\n",
      "\n",
      "                        as invalid (whenever a start/end coordinate is contained within the other read).\n",
      "\n",
      "--retain_unpaired       If only one of the two paired-end reads became too short, the longer\n",
      "                        read will be written to either '.unpaired_1.fq' or '.unpaired_2.fq'\n",
      "                        output files. The length cutoff for unpaired single-end reads is\n",
      "                        governed by the parameters -r1/--length_1 and -r2/--length_2. Default: OFF.\n",
      "\n",
      "-r1/--length_1 <INT>    Unpaired single-end read length cutoff needed for read 1 to be written to\n",
      "                        '.unpaired_1.fq' output file. These reads may be mapped in single-end mode.\n",
      "                        Default: 35 bp.\n",
      "\n",
      "-r2/--length_2 <INT>    Unpaired single-end read length cutoff needed for read 2 to be written to\n",
      "                        '.unpaired_2.fq' output file. These reads may be mapped in single-end mode.\n",
      "                        Default: 35 bp.\n",
      "\n",
      "\n",
      "Last modified on 06 May 2015.\n",
      "\n"
     ]
    }
   ],
   "source": [
    "!/Applications/bioinfo/trim_galore_zip/trim_galore --help"
   ]
  },
  {
   "cell_type": "code",
   "execution_count": null,
   "metadata": {
    "collapsed": true
   },
   "outputs": [],
   "source": []
  }
 ],
 "metadata": {
  "kernelspec": {
   "display_name": "Python 2",
   "language": "python",
   "name": "python2"
  },
  "language_info": {
   "codemirror_mode": {
    "name": "ipython",
    "version": 2
   },
   "file_extension": ".py",
   "mimetype": "text/x-python",
   "name": "python",
   "nbconvert_exporter": "python",
   "pygments_lexer": "ipython2",
   "version": "2.7.10"
  }
 },
 "nbformat": 4,
 "nbformat_minor": 0
}
