{
 "cells": [
  {
   "cell_type": "markdown",
   "metadata": {
    "button": false,
    "deletable": true,
    "new_sheet": false,
    "run_control": {
     "read_only": false
    }
   },
   "source": [
    "# Comparing CLC lncRNA "
   ]
  },
  {
   "cell_type": "code",
   "execution_count": 2,
   "metadata": {
    "collapsed": false,
    "run_control": {}
   },
   "outputs": [
    {
     "name": "stdout",
     "output_type": "stream",
     "text": [
      ">Control_contig_1_(1)_consensus \r\n",
      "TTCATATATATTAAAAAGCATTAGTAAAAGATTTCGTGCGAATTTTCTGCAGTACTTGTT\r\n",
      "CATGCAAAGTGCATCGTTCTGTGTTTAAGATGTGAAATTATTTTGGTGCAATTATTAAGT\r\n",
      "AGATTTCTATCACTGATAATTAAACGCCAAGCATCAAATGGCATGGTTAATTCAGCTTAA\r\n",
      "ATTGGATATACAAAATGCAATTTTTATTGGAACATGAAGACTTTTAATACATACAAGTGA\r\n",
      "AAATGGTTGATGT\r\n",
      ">Control_contig_1_(2)_consensus \r\n",
      "TCGTGTTAGTAATTATTCTAGATAACTCCTTTACCCTTTAAACTGTTCGGTAAACAACTG\r\n",
      "AATTTCAATCATTCAACAAGTAACCAAAAATTGTGTATGAAAATTTTCAATTTTTCTGTG\r\n",
      "AAAAGGAAAAAGAAACAATCCGATTCAATTAGATGTAATTGACGTTAAATGTTTTAAAAA\r\n"
     ]
    }
   ],
   "source": [
    "!head ../data/lncRNA-mytilus-CLC.fa"
   ]
  },
  {
   "cell_type": "code",
   "execution_count": 3,
   "metadata": {
    "collapsed": false,
    "run_control": {}
   },
   "outputs": [
    {
     "name": "stdout",
     "output_type": "stream",
     "text": [
      "8505\r\n"
     ]
    }
   ],
   "source": [
    "!fgrep -c \">\" ../data/lncRNA-mytilus-CLC.fa"
   ]
  },
  {
   "cell_type": "code",
   "execution_count": 6,
   "metadata": {
    "collapsed": true
   },
   "outputs": [],
   "source": [
    "bbin=\"/Applications/ncbi-blast-2.2.31+/bin/\""
   ]
  },
  {
   "cell_type": "code",
   "execution_count": 7,
   "metadata": {
    "collapsed": false,
    "run_control": {}
   },
   "outputs": [],
   "source": [
    "!{bbin}blastn \\\n",
    "-task blastn \\\n",
    "-evalue 1e-5 \\\n",
    "-outfmt 6 \\\n",
    "-num_threads 3 \\\n",
    "-query ../data/lncRNA-mytilus-CLC.fa \\\n",
    "-db analyses/transrate-Cgigas-pep/Mytilus-SXT.trimmed.trinity.v3/Mytilus-SXT.trimmed.trinity.v3 \\\n",
    "-out analyses/lncRNA-CLC-blastn-Trinity-v3-05.out"
   ]
  },
  {
   "cell_type": "code",
   "execution_count": 8,
   "metadata": {
    "collapsed": false
   },
   "outputs": [
    {
     "name": "stdout",
     "output_type": "stream",
     "text": [
      "  391197 analyses/lncRNA-CLC-blastn-Trinity-v3-05.out\r\n"
     ]
    }
   ],
   "source": [
    "!wc -l analyses/lncRNA-CLC-blastn-Trinity-v3-05.out"
   ]
  },
  {
   "cell_type": "code",
   "execution_count": 9,
   "metadata": {
    "collapsed": true,
    "run_control": {}
   },
   "outputs": [],
   "source": [
    "!{bbin}blastn \\\n",
    "-task blastn \\\n",
    "-evalue 1e-60 \\\n",
    "-outfmt 6 \\\n",
    "-num_threads 3 \\\n",
    "-query ../data/lncRNA-mytilus-CLC.fa \\\n",
    "-db analyses/transrate-Cgigas-pep/Mytilus-SXT.trimmed.trinity.v3/Mytilus-SXT.trimmed.trinity.v3 \\\n",
    "-out analyses/lncRNA-CLC-blastn-Trinity-v3-60.out"
   ]
  },
  {
   "cell_type": "code",
   "execution_count": 10,
   "metadata": {
    "collapsed": false,
    "run_control": {}
   },
   "outputs": [
    {
     "name": "stdout",
     "output_type": "stream",
     "text": [
      "   43683 analyses/lncRNA-CLC-blastn-Trinity-v3-60.out\r\n"
     ]
    }
   ],
   "source": [
    "!wc -l analyses/lncRNA-CLC-blastn-Trinity-v3-60.out"
   ]
  },
  {
   "cell_type": "code",
   "execution_count": 13,
   "metadata": {
    "collapsed": false,
    "run_control": {}
   },
   "outputs": [
    {
     "name": "stdout",
     "output_type": "stream",
     "text": [
      "\n",
      "\n",
      "Building a new DB, current time: 12/16/2015 16:29:35\n",
      "New DB name:   /Volumes/Monarch/trilo/Crassostrea_gigas.GCA_000297895.1.30.dna_sm.toplevel\n",
      "New DB title:  /Volumes/Monarch/trilo/Crassostrea_gigas.GCA_000297895.1.30.dna_sm.toplevel.fa\n",
      "Sequence type: Nucleotide\n",
      "Keep Linkouts: T\n",
      "Keep MBits: T\n",
      "Maximum file size: 1000000000B\n",
      "Adding sequences from FASTA; added 7658 sequences in 22.6515 seconds.\n"
     ]
    }
   ],
   "source": [
    "!{bbin}makeblastdb \\\n",
    "-in /Volumes/Monarch/trilo/Crassostrea_gigas.GCA_000297895.1.30.dna_sm.toplevel.fa \\\n",
    "-out /Volumes/Monarch/trilo/Crassostrea_gigas.GCA_000297895.1.30.dna_sm.toplevel \\\n",
    "-dbtype nucl"
   ]
  },
  {
   "cell_type": "code",
   "execution_count": 14,
   "metadata": {
    "collapsed": false,
    "run_control": {}
   },
   "outputs": [],
   "source": [
    "!{bbin}blastn \\\n",
    "-task blastn \\\n",
    "-evalue 1e-60 \\\n",
    "-outfmt 6 \\\n",
    "-num_threads 3 \\\n",
    "-query ../data/lncRNA-mytilus-CLC.fa \\\n",
    "-db /Volumes/Monarch/trilo/Crassostrea_gigas.GCA_000297895.1.30.dna_sm.toplevel \\\n",
    "-out analyses/lncRNA-CLC-blastn-Cgigas-genome-60.out"
   ]
  },
  {
   "cell_type": "code",
   "execution_count": 15,
   "metadata": {
    "collapsed": true,
    "run_control": {}
   },
   "outputs": [],
   "source": [
    "!{bbin}blastn \\\n",
    "-task blastn \\\n",
    "-evalue 1e-100 \\\n",
    "-outfmt 6 \\\n",
    "-num_threads 3 \\\n",
    "-query ../data/lncRNA-mytilus-CLC.fa \\\n",
    "-db analyses/transrate-Cgigas-pep/Mytilus-SXT.trimmed.trinity.v3/Mytilus-SXT.trimmed.trinity.v3 \\\n",
    "-out analyses/lncRNA-CLC-blastn-Trinity-v3-100.out"
   ]
  },
  {
   "cell_type": "code",
   "execution_count": 17,
   "metadata": {
    "collapsed": false
   },
   "outputs": [
    {
     "name": "stdout",
     "output_type": "stream",
     "text": [
      "USAGE\r\n",
      "  blastn [-h] [-help] [-import_search_strategy filename]\r\n",
      "    [-export_search_strategy filename] [-task task_name] [-db database_name]\r\n",
      "    [-dbsize num_letters] [-gilist filename] [-seqidlist filename]\r\n",
      "    [-negative_gilist filename] [-entrez_query entrez_query]\r\n",
      "    [-db_soft_mask filtering_algorithm] [-db_hard_mask filtering_algorithm]\r\n",
      "    [-subject subject_input_file] [-subject_loc range] [-query input_file]\r\n",
      "    [-out output_file] [-evalue evalue] [-word_size int_value]\r\n",
      "    [-gapopen open_penalty] [-gapextend extend_penalty]\r\n",
      "    [-perc_identity float_value] [-qcov_hsp_perc float_value]\r\n",
      "    [-max_hsps int_value] [-xdrop_ungap float_value] [-xdrop_gap float_value]\r\n",
      "    [-xdrop_gap_final float_value] [-searchsp int_value]\r\n",
      "    [-sum_stats bool_value] [-penalty penalty] [-reward reward] [-no_greedy]\r\n",
      "    [-min_raw_gapped_score int_value] [-template_type type]\r\n",
      "    [-template_length int_value] [-dust DUST_options]\r\n",
      "    [-filtering_db filtering_database]\r\n",
      "    [-window_masker_taxid window_masker_taxid]\r\n",
      "    [-window_masker_db window_masker_db] [-soft_masking soft_masking]\r\n",
      "    [-ungapped] [-culling_limit int_value] [-best_hit_overhang float_value]\r\n",
      "    [-best_hit_score_edge float_value] [-window_size int_value]\r\n",
      "    [-off_diagonal_range int_value] [-use_index boolean] [-index_name string]\r\n",
      "    [-lcase_masking] [-query_loc range] [-strand strand] [-parse_deflines]\r\n",
      "    [-outfmt format] [-show_gis] [-num_descriptions int_value]\r\n",
      "    [-num_alignments int_value] [-line_length line_length] [-html]\r\n",
      "    [-max_target_seqs num_sequences] [-num_threads int_value] [-remote]\r\n",
      "    [-version]\r\n",
      "\r\n",
      "DESCRIPTION\r\n",
      "   Nucleotide-Nucleotide BLAST 2.2.31+\r\n",
      "\r\n",
      "OPTIONAL ARGUMENTS\r\n",
      " -h\r\n",
      "   Print USAGE and DESCRIPTION;  ignore all other parameters\r\n",
      " -help\r\n",
      "   Print USAGE, DESCRIPTION and ARGUMENTS; ignore all other parameters\r\n",
      " -version\r\n",
      "   Print version number;  ignore other arguments\r\n",
      "\r\n",
      " *** Input query options\r\n",
      " -query <File_In>\r\n",
      "   Input file name\r\n",
      "   Default = `-'\r\n",
      " -query_loc <String>\r\n",
      "   Location on the query sequence in 1-based offsets (Format: start-stop)\r\n",
      " -strand <String, `both', `minus', `plus'>\r\n",
      "   Query strand(s) to search against database/subject\r\n",
      "   Default = `both'\r\n",
      "\r\n",
      " *** General search options\r\n",
      " -task <String, Permissible values: 'blastn' 'blastn-short' 'dc-megablast'\r\n",
      "                'megablast' 'rmblastn' >\r\n",
      "   Task to execute\r\n",
      "   Default = `megablast'\r\n",
      " -db <String>\r\n",
      "   BLAST database name\r\n",
      "    * Incompatible with:  subject, subject_loc\r\n",
      " -out <File_Out>\r\n",
      "   Output file name\r\n",
      "   Default = `-'\r\n",
      " -evalue <Real>\r\n",
      "   Expectation value (E) threshold for saving hits \r\n",
      "   Default = `10'\r\n",
      " -word_size <Integer, >=4>\r\n",
      "   Word size for wordfinder algorithm (length of best perfect match)\r\n",
      " -gapopen <Integer>\r\n",
      "   Cost to open a gap\r\n",
      " -gapextend <Integer>\r\n",
      "   Cost to extend a gap\r\n",
      " -penalty <Integer, <=0>\r\n",
      "   Penalty for a nucleotide mismatch\r\n",
      " -reward <Integer, >=0>\r\n",
      "   Reward for a nucleotide match\r\n",
      " -use_index <Boolean>\r\n",
      "   Use MegaBLAST database index\r\n",
      "   Default = `false'\r\n",
      " -index_name <String>\r\n",
      "   MegaBLAST database index name\r\n",
      "\r\n",
      " *** BLAST-2-Sequences options\r\n",
      " -subject <File_In>\r\n",
      "   Subject sequence(s) to search\r\n",
      "    * Incompatible with:  db, gilist, seqidlist, negative_gilist,\r\n",
      "   db_soft_mask, db_hard_mask\r\n",
      " -subject_loc <String>\r\n",
      "   Location on the subject sequence in 1-based offsets (Format: start-stop)\r\n",
      "    * Incompatible with:  db, gilist, seqidlist, negative_gilist,\r\n",
      "   db_soft_mask, db_hard_mask, remote\r\n",
      "\r\n",
      " *** Formatting options\r\n",
      " -outfmt <String>\r\n",
      "   alignment view options:\r\n",
      "     0 = pairwise,\r\n",
      "     1 = query-anchored showing identities,\r\n",
      "     2 = query-anchored no identities,\r\n",
      "     3 = flat query-anchored, show identities,\r\n",
      "     4 = flat query-anchored, no identities,\r\n",
      "     5 = XML Blast output,\r\n",
      "     6 = tabular,\r\n",
      "     7 = tabular with comment lines,\r\n",
      "     8 = Text ASN.1,\r\n",
      "     9 = Binary ASN.1,\r\n",
      "    10 = Comma-separated values,\r\n",
      "    11 = BLAST archive format (ASN.1),\r\n",
      "    12 = JSON Seqalign output,\r\n",
      "    13 = JSON Blast output,\r\n",
      "    14 = XML2 Blast output\r\n",
      "   \r\n",
      "   Options 6, 7, and 10 can be additionally configured to produce\r\n",
      "   a custom format specified by space delimited format specifiers.\r\n",
      "   The supported format specifiers are:\r\n",
      "   \t    qseqid means Query Seq-id\r\n",
      "   \t       qgi means Query GI\r\n",
      "   \t      qacc means Query accesion\r\n",
      "   \t   qaccver means Query accesion.version\r\n",
      "   \t      qlen means Query sequence length\r\n",
      "   \t    sseqid means Subject Seq-id\r\n",
      "   \t sallseqid means All subject Seq-id(s), separated by a ';'\r\n",
      "   \t       sgi means Subject GI\r\n",
      "   \t    sallgi means All subject GIs\r\n",
      "   \t      sacc means Subject accession\r\n",
      "   \t   saccver means Subject accession.version\r\n",
      "   \t   sallacc means All subject accessions\r\n",
      "   \t      slen means Subject sequence length\r\n",
      "   \t    qstart means Start of alignment in query\r\n",
      "   \t      qend means End of alignment in query\r\n",
      "   \t    sstart means Start of alignment in subject\r\n",
      "   \t      send means End of alignment in subject\r\n",
      "   \t      qseq means Aligned part of query sequence\r\n",
      "   \t      sseq means Aligned part of subject sequence\r\n",
      "   \t    evalue means Expect value\r\n",
      "   \t  bitscore means Bit score\r\n",
      "   \t     score means Raw score\r\n",
      "   \t    length means Alignment length\r\n",
      "   \t    pident means Percentage of identical matches\r\n",
      "   \t    nident means Number of identical matches\r\n",
      "   \t  mismatch means Number of mismatches\r\n",
      "   \t  positive means Number of positive-scoring matches\r\n",
      "   \t   gapopen means Number of gap openings\r\n",
      "   \t      gaps means Total number of gaps\r\n",
      "   \t      ppos means Percentage of positive-scoring matches\r\n",
      "   \t    frames means Query and subject frames separated by a '/'\r\n",
      "   \t    qframe means Query frame\r\n",
      "   \t    sframe means Subject frame\r\n",
      "   \t      btop means Blast traceback operations (BTOP)\r\n",
      "   \t   staxids means unique Subject Taxonomy ID(s), separated by a ';'\r\n",
      "   \t\t\t (in numerical order)\r\n",
      "   \t sscinames means unique Subject Scientific Name(s), separated by a ';'\r\n",
      "   \t scomnames means unique Subject Common Name(s), separated by a ';'\r\n",
      "   \tsblastnames means unique Subject Blast Name(s), separated by a ';'\r\n",
      "   \t\t\t (in alphabetical order)\r\n",
      "   \tsskingdoms means unique Subject Super Kingdom(s), separated by a ';'\r\n",
      "   \t\t\t (in alphabetical order) \r\n",
      "   \t    stitle means Subject Title\r\n",
      "   \tsalltitles means All Subject Title(s), separated by a '<>'\r\n",
      "   \t   sstrand means Subject Strand\r\n",
      "   \t     qcovs means Query Coverage Per Subject\r\n",
      "   \t   qcovhsp means Query Coverage Per HSP\r\n",
      "   When not provided, the default value is:\r\n",
      "   'qseqid sseqid pident length mismatch gapopen qstart qend sstart send\r\n",
      "   evalue bitscore', which is equivalent to the keyword 'std'\r\n",
      "   Default = `0'\r\n",
      " -show_gis\r\n",
      "   Show NCBI GIs in deflines?\r\n",
      " -num_descriptions <Integer, >=0>\r\n",
      "   Number of database sequences to show one-line descriptions for\r\n",
      "   Not applicable for outfmt > 4\r\n",
      "   Default = `500'\r\n",
      "    * Incompatible with:  max_target_seqs\r\n",
      " -num_alignments <Integer, >=0>\r\n",
      "   Number of database sequences to show alignments for\r\n",
      "   Default = `250'\r\n",
      "    * Incompatible with:  max_target_seqs\r\n",
      " -line_length <Integer, >=1>\r\n",
      "   Line length for formatting alignments\r\n",
      "   Not applicable for outfmt > 4\r\n",
      "   Default = `60'\r\n",
      " -html\r\n",
      "   Produce HTML output?\r\n",
      "\r\n",
      " *** Query filtering options\r\n",
      " -dust <String>\r\n",
      "   Filter query sequence with DUST (Format: 'yes', 'level window linker', or\r\n",
      "   'no' to disable)\r\n",
      "   Default = `20 64 1'\r\n",
      " -filtering_db <String>\r\n",
      "   BLAST database containing filtering elements (i.e.: repeats)\r\n",
      " -window_masker_taxid <Integer>\r\n",
      "   Enable WindowMasker filtering using a Taxonomic ID\r\n",
      " -window_masker_db <String>\r\n",
      "   Enable WindowMasker filtering using this repeats database.\r\n",
      " -soft_masking <Boolean>\r\n",
      "   Apply filtering locations as soft masks\r\n",
      "   Default = `true'\r\n",
      " -lcase_masking\r\n",
      "   Use lower case filtering in query and subject sequence(s)?\r\n",
      "\r\n",
      " *** Restrict search or results\r\n",
      " -gilist <String>\r\n",
      "   Restrict search of database to list of GI's\r\n",
      "    * Incompatible with:  negative_gilist, seqidlist, remote, subject,\r\n",
      "   subject_loc\r\n",
      " -seqidlist <String>\r\n",
      "   Restrict search of database to list of SeqId's\r\n",
      "    * Incompatible with:  gilist, negative_gilist, remote, subject,\r\n",
      "   subject_loc\r\n",
      " -negative_gilist <String>\r\n",
      "   Restrict search of database to everything except the listed GIs\r\n",
      "    * Incompatible with:  gilist, seqidlist, remote, subject, subject_loc\r\n",
      " -entrez_query <String>\r\n",
      "   Restrict search with the given Entrez query\r\n",
      "    * Requires:  remote\r\n",
      " -db_soft_mask <String>\r\n",
      "   Filtering algorithm ID to apply to the BLAST database as soft masking\r\n",
      "    * Incompatible with:  db_hard_mask, subject, subject_loc\r\n",
      " -db_hard_mask <String>\r\n",
      "   Filtering algorithm ID to apply to the BLAST database as hard masking\r\n",
      "    * Incompatible with:  db_soft_mask, subject, subject_loc\r\n",
      " -perc_identity <Real, 0..100>\r\n",
      "   Percent identity\r\n",
      " -qcov_hsp_perc <Real, 0..100>\r\n",
      "   Percent query coverage per hsp\r\n",
      " -max_hsps <Integer, >=1>\r\n",
      "   Set maximum number of HSPs per subject sequence to save for each query\r\n",
      " -culling_limit <Integer, >=0>\r\n",
      "   If the query range of a hit is enveloped by that of at least this many\r\n",
      "   higher-scoring hits, delete the hit\r\n",
      "    * Incompatible with:  best_hit_overhang, best_hit_score_edge\r\n",
      " -best_hit_overhang <Real, (>0 and <0.5)>\r\n",
      "   Best Hit algorithm overhang value (recommended value: 0.1)\r\n",
      "    * Incompatible with:  culling_limit\r\n",
      " -best_hit_score_edge <Real, (>0 and <0.5)>\r\n",
      "   Best Hit algorithm score edge value (recommended value: 0.1)\r\n",
      "    * Incompatible with:  culling_limit\r\n",
      " -max_target_seqs <Integer, >=1>\r\n",
      "   Maximum number of aligned sequences to keep \r\n",
      "   Not applicable for outfmt <= 4\r\n",
      "   Default = `500'\r\n",
      "    * Incompatible with:  num_descriptions, num_alignments\r\n",
      "\r\n",
      " *** Discontiguous MegaBLAST options\r\n",
      " -template_type <String, `coding', `coding_and_optimal', `optimal'>\r\n",
      "   Discontiguous MegaBLAST template type\r\n",
      "    * Requires:  template_length\r\n",
      " -template_length <Integer, Permissible values: '16' '18' '21' >\r\n",
      "   Discontiguous MegaBLAST template length\r\n",
      "    * Requires:  template_type\r\n",
      "\r\n",
      " *** Statistical options\r\n",
      " -dbsize <Int8>\r\n",
      "   Effective length of the database \r\n",
      " -searchsp <Int8, >=0>\r\n",
      "   Effective length of the search space\r\n",
      " -sum_stats <Boolean>\r\n",
      "   Use sum statistics\r\n",
      "\r\n",
      " *** Search strategy options\r\n",
      " -import_search_strategy <File_In>\r\n",
      "   Search strategy to use\r\n",
      "    * Incompatible with:  export_search_strategy\r\n",
      " -export_search_strategy <File_Out>\r\n",
      "   File name to record the search strategy used\r\n",
      "    * Incompatible with:  import_search_strategy\r\n",
      "\r\n",
      " *** Extension options\r\n",
      " -xdrop_ungap <Real>\r\n",
      "   X-dropoff value (in bits) for ungapped extensions\r\n",
      " -xdrop_gap <Real>\r\n",
      "   X-dropoff value (in bits) for preliminary gapped extensions\r\n",
      " -xdrop_gap_final <Real>\r\n",
      "   X-dropoff value (in bits) for final gapped alignment\r\n",
      " -no_greedy\r\n",
      "   Use non-greedy dynamic programming extension\r\n",
      " -min_raw_gapped_score <Integer>\r\n",
      "   Minimum raw gapped score to keep an alignment in the preliminary gapped and\r\n",
      "   traceback stages\r\n",
      " -ungapped\r\n",
      "   Perform ungapped alignment only?\r\n",
      " -window_size <Integer, >=0>\r\n",
      "   Multiple hits window size, use 0 to specify 1-hit algorithm\r\n",
      " -off_diagonal_range <Integer, >=0>\r\n",
      "   Number of off-diagonals to search for the 2nd hit, use 0 to turn off\r\n",
      "   Default = `0'\r\n",
      "\r\n",
      " *** Miscellaneous options\r\n",
      " -parse_deflines\r\n",
      "   Should the query and subject defline(s) be parsed?\r\n",
      " -num_threads <Integer, >=1>\r\n",
      "   Number of threads (CPUs) to use in the BLAST search\r\n",
      "   Default = `1'\r\n",
      "    * Incompatible with:  remote\r\n",
      " -remote\r\n",
      "   Execute search remotely?\r\n",
      "    * Incompatible with:  gilist, seqidlist, negative_gilist, subject_loc,\r\n",
      "   num_threads\r\n",
      "\r\n"
     ]
    }
   ],
   "source": [
    "!{bbin}blastn -help\n"
   ]
  },
  {
   "cell_type": "code",
   "execution_count": 21,
   "metadata": {
    "collapsed": false,
    "run_control": {}
   },
   "outputs": [],
   "source": [
    "!{bbin}blastn \\\n",
    "-task blastn \\\n",
    "-evalue 1e-20 \\\n",
    "-outfmt 6 \\\n",
    "-word_size 10 \\\n",
    "-gapopen 0 \\\n",
    "-gapextend 4 \\\n",
    "-num_threads 4 \\\n",
    "-query ../data/lncRNA-mytilus-CLC.fa \\\n",
    "-db /Volumes/Monarch/trilo/Crassostrea_gigas.GCA_000297895.1.30.dna_sm.toplevel \\\n",
    "-out analyses/lncRNA-CLC-blastn-Cgigas-genome-20-0-blastn.out"
   ]
  },
  {
   "cell_type": "code",
   "execution_count": 22,
   "metadata": {
    "collapsed": false
   },
   "outputs": [
    {
     "name": "stdout",
     "output_type": "stream",
     "text": [
      "     689 analyses/lncRNA-CLC-blastn-Cgigas-genome-20-0-blastn.out\r\n"
     ]
    }
   ],
   "source": [
    "!wc -l analyses/lncRNA-CLC-blastn-Cgigas-genome-20-0-blastn.out"
   ]
  },
  {
   "cell_type": "code",
   "execution_count": 19,
   "metadata": {
    "collapsed": false,
    "run_control": {}
   },
   "outputs": [
    {
     "name": "stdout",
     "output_type": "stream",
     "text": [
      "      45 analyses/lncRNA-CLC-blastn-Cgigas-genome-40-dc-mega.out\r\n"
     ]
    }
   ],
   "source": [
    "!wc -l analyses/lncRNA-CLC-blastn-Cgigas-genome-40-dc-mega.out"
   ]
  },
  {
   "cell_type": "code",
   "execution_count": 23,
   "metadata": {
    "collapsed": false,
    "run_control": {}
   },
   "outputs": [
    {
     "name": "stdout",
     "output_type": "stream",
     "text": [
      "   10069 analyses/lncRNA-CLC-blastn-Cgigas-genome-10-0-blastn.out\r\n"
     ]
    }
   ],
   "source": [
    "!{bbin}blastn \\\n",
    "-task blastn \\\n",
    "-evalue 1e-10 \\\n",
    "-outfmt 6 \\\n",
    "-word_size 10 \\\n",
    "-gapopen 0 \\\n",
    "-gapextend 4 \\\n",
    "-num_threads 4 \\\n",
    "-query ../data/lncRNA-mytilus-CLC.fa \\\n",
    "-db /Volumes/Monarch/trilo/Crassostrea_gigas.GCA_000297895.1.30.dna_sm.toplevel \\\n",
    "-out analyses/lncRNA-CLC-blastn-Cgigas-genome-10-0-blastn.out\n",
    "!wc -l analyses/lncRNA-CLC-blastn-Cgigas-genome-10-0-blastn.out"
   ]
  },
  {
   "cell_type": "code",
   "execution_count": null,
   "metadata": {
    "collapsed": true,
    "run_control": {}
   },
   "outputs": [],
   "source": []
  }
 ],
 "metadata": {
  "kernelspec": {
   "display_name": "Python 3",
   "language": "python",
   "name": "python3"
  },
  "language_info": {
   "codemirror_mode": {
    "name": "ipython",
    "version": 3
   },
   "file_extension": ".py",
   "mimetype": "text/x-python",
   "name": "python",
   "nbconvert_exporter": "python",
   "pygments_lexer": "ipython3",
   "version": "3.5.0"
  }
 },
 "nbformat": 4,
 "nbformat_minor": 0
}
