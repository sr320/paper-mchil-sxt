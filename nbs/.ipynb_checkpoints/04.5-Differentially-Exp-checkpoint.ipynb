{
 "cells": [
  {
   "cell_type": "markdown",
   "metadata": {
    "button": false,
    "deletable": true,
    "new_sheet": false,
    "run_control": {
     "read_only": false
    }
   },
   "source": [
    "# Differentially Expressed"
   ]
  },
  {
   "cell_type": "markdown",
   "metadata": {
    "run_control": {}
   },
   "source": [
    "### Annotations"
   ]
  },
  {
   "cell_type": "code",
   "execution_count": 4,
   "metadata": {
    "collapsed": false,
    "run_control": {}
   },
   "outputs": [
    {
     "name": "stdout",
     "output_type": "stream",
     "text": [
      "TR10000_c0_g2_i1\tQ5RCP3\tNAA38_PONAB\t1.00E-45\tGO:0003723; GO:0008380; GO:0006397; GO:0005681\t\t\tRNA binding; RNA splicing; mRNA processing; spliceosomal complex\tIPR010920; IPR001163; IPR006649;\t\t\"N-alpha-acetyltransferase 38, NatC auxiliary subunit (U6 snRNA-associated Sm-like protein LSm8)\"\tNAA38 LSM8\tPongo abelii (Sumatran orangutan) (Pongo pygmaeus abelii)\r\n",
      "TR10004_c0_g1_i1\tQ6P2X9\tMOT12_XENTR\t2.00E-15\tGO:0016021; GO:0005886; GO:0015293\t\t\tintegral to membrane; plasma membrane; symporter activity\tIPR011701; IPR020846; IPR016196;\t\tMonocarboxylate transporter 12 (MCT 12) (Solute carrier family 16 member 12)\tslc16a12 TGas051g14.1\tXenopus tropicalis (Western clawed frog) (Silurana tropicalis)\r\n",
      "TR10015_c0_g1_i1\tP86963\tKCP2_PINMA\t3.00E-21\tGO:0005576; GO:0004867\t\t\textracellular region; serine-type endopeptidase inhibitor activity\tIPR002223;\t\tBPTI/Kunitz domain-containing protein 2 (Nacre serine protease inhibitor 1) (NSPI1)\t\tPinctada maxima (Silver-lipped pearl oyster) (White-lipped pearl oyster)\r\n"
     ]
    }
   ],
   "source": [
    "!head -3 analyses/Myt-SXT-blast-descriptions.txt"
   ]
  },
  {
   "cell_type": "code",
   "execution_count": null,
   "metadata": {
    "collapsed": true,
    "run_control": {}
   },
   "outputs": [],
   "source": []
  }
 ],
 "metadata": {
  "kernelspec": {
   "display_name": "Python 3",
   "language": "python",
   "name": "python3"
  },
  "language_info": {
   "codemirror_mode": {
    "name": "ipython",
    "version": 3
   },
   "file_extension": ".py",
   "mimetype": "text/x-python",
   "name": "python",
   "nbconvert_exporter": "python",
   "pygments_lexer": "ipython3",
   "version": "3.5.0"
  }
 },
 "nbformat": 4,
 "nbformat_minor": 0
}
