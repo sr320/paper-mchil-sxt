{
 "cells": [
  {
   "cell_type": "markdown",
   "metadata": {
    "button": false,
    "deletable": true,
    "new_sheet": false,
    "run_control": {
     "read_only": false
    }
   },
   "source": [
    "# Trinity Assembly"
   ]
  },
  {
   "cell_type": "code",
   "execution_count": 1,
   "metadata": {
    "collapsed": false,
    "run_control": {}
   },
   "outputs": [
    {
     "name": "stdout",
     "output_type": "stream",
     "text": [
      "#!/bin/sh\r\n",
      "\r\n",
      "KMER=2\r\n",
      "\r\n",
      "LD_LIBRARY_PATH=/share/bioinformatics/gcc/lib64:/share/bioinformatics/gcc/lib\r\n",
      "\r\n",
      "TRIN=/data/ggoetz/trinityrnaseq-2.0.6\r\n",
      "SAMTOOLS=/share/bioinformatics/samtools/bin\r\n",
      "BOWTIE=/share/bioinformatics/bowtie\r\n",
      "\r\n",
      "PATH=${SAMTOOLS}:${BOWTIE}:${PATH}\r\n",
      "\r\n",
      "${TRIN}/Trinity \\\r\n",
      "\t--seqType fq \\\r\n",
      "\t--max_memory 400G \\\r\n",
      "\t--left mchil-sxt_1.fastq \\\r\n",
      "\t--right mchil-sxt_2.fastq \\\r\n",
      "\t--CPU 8 \\\r\n",
      "\t--bflyCalculateCPU \\\r\n",
      "\t--bflyHeapSpaceMax 16G \\\r\n",
      "\t--bflyHeapSpaceInit 8G \\\r\n",
      "\t--normalize_reads \\\r\n",
      "\t--min_kmer_cov ${KMER} \\\r\n",
      "\t--output trinity_All.kmer${KMER} \\\r\n",
      "\t> trinity_output.All.kmer${KMER}.log\r\n"
     ]
    }
   ],
   "source": [
    "!cat ../data/run.All.kmer2.untrimmed.sh"
   ]
  },
  {
   "cell_type": "code",
   "execution_count": 2,
   "metadata": {
    "collapsed": false,
    "run_control": {}
   },
   "outputs": [
    {
     "name": "stdout",
     "output_type": "stream",
     "text": [
      ">TR1|c0_g1_i1 len=239 path=[437:0-84 438:85-238] [-1, 437, 438, -2]\r\n",
      "CCTAGCACTGTCTCCGTGGCTACAAACCACAGATTAGAATTTCAGCATTGAATGGTTGGT\r\n",
      "ATTCCACCGATGACTCCGATACAGCTAGCGCCATATCATCATAGTCTCCCAACTATCCTA\r\n",
      "TACATGCAATGCCAAAACCCAATACCAAGCTACAGTAAAGCTCCATGGGGTCTTTCCGTC\r\n",
      "CTACTGTAGGTAACCGGTATCTTCACCGGTAATACAATTTCACCAGGCCTCCCGTCAAG\r\n",
      ">TR2|c0_g1_i1 len=251 path=[577:0-200 578:201-250] [-1, 577, 578, -2]\r\n",
      "GTCGCTTTTTCATGCCCTGCTGGTGAGAACAGGGTCTTTTTTTAAATAAAGTATTTGTCT\r\n",
      "AGAACAGGATCGCTTATTTAACTGTTTAAGATATAGTCTAGAACCCGGGTCTAGAACTGC\r\n",
      "ATTCATTTTACACTATCTAGAACATGGTATACATTTTCTGAGCGTGTATAGAACAGGGTA\r\n",
      "TGATTTTCAATATTTTTGTTTAGAACAGGGTATGTTTTTCAATGTTTTCTTGTTAGAACA\r\n"
     ]
    }
   ],
   "source": [
    "!head ../data/trinity.untrimmed.kmer2.fa"
   ]
  },
  {
   "cell_type": "code",
   "execution_count": null,
   "metadata": {
    "collapsed": true,
    "run_control": {}
   },
   "outputs": [],
   "source": []
  }
 ],
 "metadata": {
  "kernelspec": {
   "display_name": "Python 3",
   "language": "python",
   "name": "python3"
  },
  "language_info": {
   "codemirror_mode": {
    "name": "ipython",
    "version": 3
   },
   "file_extension": ".py",
   "mimetype": "text/x-python",
   "name": "python",
   "nbconvert_exporter": "python",
   "pygments_lexer": "ipython3",
   "version": "3.5.0"
  }
 },
 "nbformat": 4,
 "nbformat_minor": 0
}
