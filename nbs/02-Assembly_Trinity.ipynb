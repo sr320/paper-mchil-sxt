{
 "cells": [
  {
   "cell_type": "markdown",
   "metadata": {
    "button": false,
    "deletable": true,
    "new_sheet": false,
    "run_control": {
     "read_only": false
    }
   },
   "source": [
    "# Trinity Assembly"
   ]
  },
  {
   "cell_type": "markdown",
   "metadata": {
    "run_control": {}
   },
   "source": [
    "# Untrimmed"
   ]
  },
  {
   "cell_type": "code",
   "execution_count": 1,
   "metadata": {
    "button": false,
    "collapsed": false,
    "deletable": true,
    "new_sheet": false,
    "run_control": {
     "read_only": false
    }
   },
   "outputs": [
    {
     "name": "stdout",
     "output_type": "stream",
     "text": [
      "#!/bin/sh\r\n",
      "\r\n",
      "KMER=2\r\n",
      "\r\n",
      "LD_LIBRARY_PATH=/share/bioinformatics/gcc/lib64:/share/bioinformatics/gcc/lib\r\n",
      "\r\n",
      "TRIN=/data/ggoetz/trinityrnaseq-2.0.6\r\n",
      "SAMTOOLS=/share/bioinformatics/samtools/bin\r\n",
      "BOWTIE=/share/bioinformatics/bowtie\r\n",
      "\r\n",
      "PATH=${SAMTOOLS}:${BOWTIE}:${PATH}\r\n",
      "\r\n",
      "${TRIN}/Trinity \\\r\n",
      "\t--seqType fq \\\r\n",
      "\t--max_memory 400G \\\r\n",
      "\t--left mchil-sxt_1.fastq \\\r\n",
      "\t--right mchil-sxt_2.fastq \\\r\n",
      "\t--CPU 8 \\\r\n",
      "\t--bflyCalculateCPU \\\r\n",
      "\t--bflyHeapSpaceMax 16G \\\r\n",
      "\t--bflyHeapSpaceInit 8G \\\r\n",
      "\t--normalize_reads \\\r\n",
      "\t--min_kmer_cov ${KMER} \\\r\n",
      "\t--output trinity_All.kmer${KMER} \\\r\n",
      "\t> trinity_output.All.kmer${KMER}.log\r\n"
     ]
    }
   ],
   "source": [
    "!cat ../data/run.All.kmer2.untrimmed.sh"
   ]
  },
  {
   "cell_type": "code",
   "execution_count": 2,
   "metadata": {
    "button": false,
    "collapsed": false,
    "deletable": true,
    "new_sheet": false,
    "run_control": {
     "read_only": false
    }
   },
   "outputs": [
    {
     "name": "stdout",
     "output_type": "stream",
     "text": [
      ">TR1|c0_g1_i1 len=239 path=[437:0-84 438:85-238] [-1, 437, 438, -2]\r\n",
      "CCTAGCACTGTCTCCGTGGCTACAAACCACAGATTAGAATTTCAGCATTGAATGGTTGGT\r\n",
      "ATTCCACCGATGACTCCGATACAGCTAGCGCCATATCATCATAGTCTCCCAACTATCCTA\r\n",
      "TACATGCAATGCCAAAACCCAATACCAAGCTACAGTAAAGCTCCATGGGGTCTTTCCGTC\r\n",
      "CTACTGTAGGTAACCGGTATCTTCACCGGTAATACAATTTCACCAGGCCTCCCGTCAAG\r\n",
      ">TR2|c0_g1_i1 len=251 path=[577:0-200 578:201-250] [-1, 577, 578, -2]\r\n",
      "GTCGCTTTTTCATGCCCTGCTGGTGAGAACAGGGTCTTTTTTTAAATAAAGTATTTGTCT\r\n",
      "AGAACAGGATCGCTTATTTAACTGTTTAAGATATAGTCTAGAACCCGGGTCTAGAACTGC\r\n",
      "ATTCATTTTACACTATCTAGAACATGGTATACATTTTCTGAGCGTGTATAGAACAGGGTA\r\n",
      "TGATTTTCAATATTTTTGTTTAGAACAGGGTATGTTTTTCAATGTTTTCTTGTTAGAACA\r\n"
     ]
    }
   ],
   "source": [
    "!head ../data/trinity.untrimmed.kmer2.fa"
   ]
  },
  {
   "cell_type": "code",
   "execution_count": 5,
   "metadata": {
    "button": false,
    "collapsed": false,
    "deletable": true,
    "new_sheet": false,
    "run_control": {
     "read_only": false
    }
   },
   "outputs": [
    {
     "name": "stdout",
     "output_type": "stream",
     "text": [
      "\r\n",
      "0:999 \t149467\r\n",
      "1000:1999 \t27620\r\n",
      "2000:2999 \t7346\r\n",
      "3000:3999 \t2251\r\n",
      "4000:4999 \t808\r\n",
      "5000:5999 \t302\r\n",
      "6000:6999 \t126\r\n",
      "7000:7999 \t44\r\n",
      "8000:8999 \t23\r\n",
      "9000:9999 \t7\r\n",
      "10000:10999 \t7\r\n",
      "11000:11999 \t3\r\n",
      "12000:12999 \t1\r\n",
      "13000:13999 \t2\r\n",
      "\r\n",
      "Total length of sequence:\t135026875 bp\r\n",
      "Total number of sequences:\t188007\r\n",
      "N25 stats:\t\t\t25% of total sequence length is contained in the 11785 sequences >= 1938 bp\r\n",
      "N50 stats:\t\t\t50% of total sequence length is contained in the 35885 sequences >= 1052 bp\r\n",
      "N75 stats:\t\t\t75% of total sequence length is contained in the 82701 sequences >= 506 bp\r\n",
      "Total GC count:\t\t\t45082839 bp\r\n",
      "GC %:\t\t\t\t33.39 %\r\n",
      "\r\n"
     ]
    }
   ],
   "source": [
    "!perl ../scripts/count_fasta.pl \\\n",
    "-i 1000 \\\n",
    "../data/trinity.untrimmed.kmer2.fa"
   ]
  },
  {
   "cell_type": "code",
   "execution_count": 6,
   "metadata": {
    "button": false,
    "collapsed": false,
    "deletable": true,
    "new_sheet": false,
    "run_control": {
     "read_only": false
    }
   },
   "outputs": [
    {
     "name": "stdout",
     "output_type": "stream",
     "text": [
      "[ INFO] 2015-12-04 17:55:50 : Loading assembly: /Users/sr320/git-repos/paper-mchil-sxt/data/trinity.untrimmed.kmer2.fa\r\n",
      "[ERROR] 2015-12-04 17:55:50 : Non unique fasta identifier found\r\n",
      "[ERROR] 2015-12-04 17:55:50 : >TR2\r\n",
      "[ERROR] 2015-12-04 17:55:50 : Please make sure there are no duplicate entries in the assembly\r\n",
      "[ERROR] 2015-12-04 17:55:50 : Contig name is taken from before the first | or space\r\n",
      "[ERROR] 2015-12-04 17:55:50 : If you used Trinity, there is a known bug that breakscontig names to make them non-unique.\r\n",
      "[ERROR] 2015-12-04 17:55:50 : You can fix your Trinity assembly by replacing | with _\r\n",
      "[ERROR] 2015-12-04 17:55:50 : e.g. `sed 's/\\|/_/' Trinity.fa > Trinity.fixed.fa`\r\n",
      "[ERROR] 2015-12-04 17:55:50 : Transrate::AssemblyError\r\n"
     ]
    }
   ],
   "source": [
    "!/Applications/transrate-1.0.1-osx/transrate \\\n",
    "--assembly \\\n",
    "../data/trinity.untrimmed.kmer2.fa \\\n",
    "--output /Users/sr320/git-repos/paper-mchil-sxt/nbs/analyses "
   ]
  },
  {
   "cell_type": "code",
   "execution_count": 7,
   "metadata": {
    "button": false,
    "collapsed": true,
    "deletable": true,
    "new_sheet": false,
    "run_control": {
     "read_only": false
    }
   },
   "outputs": [],
   "source": [
    "!sed 's/\\|/_/' ../data/trinity.untrimmed.kmer2.fa > ../data/trinity.untrimmed.kmer2.fixed.fa"
   ]
  },
  {
   "cell_type": "code",
   "execution_count": 8,
   "metadata": {
    "button": false,
    "collapsed": false,
    "deletable": true,
    "new_sheet": false,
    "run_control": {
     "read_only": false
    }
   },
   "outputs": [
    {
     "name": "stdout",
     "output_type": "stream",
     "text": [
      "[ INFO] 2015-12-04 17:56:45 : Loading assembly: /Users/sr320/git-repos/paper-mchil-sxt/data/trinity.untrimmed.kmer2.fixed.fa\n",
      "[ INFO] 2015-12-04 17:57:54 : Analysing assembly: /Users/sr320/git-repos/paper-mchil-sxt/data/trinity.untrimmed.kmer2.fixed.fa\n",
      "[ INFO] 2015-12-04 17:57:54 : Results will be saved in /Users/sr320/git-repos/paper-mchil-sxt/nbs/analyses/trinity.untrimmed.kmer2.fixed\n",
      "[ INFO] 2015-12-04 17:57:54 : Calculating contig metrics...\n",
      "[ INFO] 2015-12-04 17:58:54 : Contig metrics:\n",
      "[ INFO] 2015-12-04 17:58:54 : -----------------------------------\n",
      "[ INFO] 2015-12-04 17:58:54 : n seqs                       188007\n",
      "[ INFO] 2015-12-04 17:58:54 : smallest                        224\n",
      "[ INFO] 2015-12-04 17:58:54 : largest                       13896\n",
      "[ INFO] 2015-12-04 17:58:54 : n bases                   135026875\n",
      "[ INFO] 2015-12-04 17:58:54 : mean len                      718.2\n",
      "[ INFO] 2015-12-04 17:58:54 : n under 200                       0\n",
      "[ INFO] 2015-12-04 17:58:54 : n over 1k                     38495\n",
      "[ INFO] 2015-12-04 17:58:54 : n over 10k                       13\n",
      "[ INFO] 2015-12-04 17:58:54 : n with orf                    42857\n",
      "[ INFO] 2015-12-04 17:58:54 : mean orf percent              52.54\n",
      "[ INFO] 2015-12-04 17:58:54 : n90                             301\n",
      "[ INFO] 2015-12-04 17:58:54 : n70                             590\n",
      "[ INFO] 2015-12-04 17:58:54 : n50                            1052\n",
      "[ INFO] 2015-12-04 17:58:54 : n30                            1704\n",
      "[ INFO] 2015-12-04 17:58:54 : n10                            3088\n",
      "[ INFO] 2015-12-04 17:58:54 : gc                             0.33\n",
      "[ INFO] 2015-12-04 17:58:54 : gc skew                        0.02\n",
      "[ INFO] 2015-12-04 17:58:54 : at skew                        0.01\n",
      "[ INFO] 2015-12-04 17:58:54 : cpg ratio                      1.41\n",
      "[ INFO] 2015-12-04 17:58:54 : bases n                           0\n",
      "[ INFO] 2015-12-04 17:58:54 : proportion n                    0.0\n",
      "[ INFO] 2015-12-04 17:58:54 : linguistic complexity          0.13\n",
      "[ INFO] 2015-12-04 17:58:54 : Contig metrics done in 60 seconds\n",
      "[ INFO] 2015-12-04 17:58:54 : No reads provided, skipping read diagnostics\n",
      "[ INFO] 2015-12-04 17:58:54 : No reference provided, skipping comparative diagnostics\n",
      "[ INFO] 2015-12-04 17:58:54 : Writing contig metrics for each contig to /Users/sr320/git-repos/paper-mchil-sxt/nbs/analyses/trinity.untrimmed.kmer2.fixed/contigs.csv\n",
      "[ INFO] 2015-12-04 17:59:53 : Writing analysis results to assemblies.csv\n"
     ]
    }
   ],
   "source": [
    "!/Applications/transrate-1.0.1-osx/transrate \\\n",
    "--assembly \\\n",
    "../data/trinity.untrimmed.kmer2.fixed.fa \\\n",
    "--output /Users/sr320/git-repos/paper-mchil-sxt/nbs/analyses "
   ]
  },
  {
   "cell_type": "code",
   "execution_count": null,
   "metadata": {
    "button": false,
    "collapsed": true,
    "deletable": true,
    "new_sheet": false,
    "run_control": {
     "read_only": false
    }
   },
   "outputs": [],
   "source": []
  },
  {
   "cell_type": "code",
   "execution_count": null,
   "metadata": {
    "button": false,
    "collapsed": true,
    "deletable": true,
    "new_sheet": false,
    "run_control": {
     "read_only": false
    }
   },
   "outputs": [],
   "source": []
  },
  {
   "cell_type": "code",
   "execution_count": 4,
   "metadata": {
    "button": false,
    "collapsed": false,
    "deletable": true,
    "new_sheet": false,
    "run_control": {
     "read_only": false
    }
   },
   "outputs": [
    {
     "name": "stdout",
     "output_type": "stream",
     "text": [
      "  % Total    % Received % Xferd  Average Speed   Time    Time     Time  Current\n",
      "                                 Dload  Upload   Total   Spent    Left  Speed\n",
      "  0 97.9G    0  100M    0     0   306k      0 93:03:07  0:05:35 92:57:32  238k^C\n"
     ]
    }
   ],
   "source": [
    "!curl http://owl.fish.washington.edu/halfshell/mchil-sxt_1.fastq \\\n",
    "> /Volumes/Monarch/mchil-stx/raw/mchil-sxt_1.fastq    "
   ]
  },
  {
   "cell_type": "code",
   "execution_count": null,
   "metadata": {
    "button": false,
    "collapsed": true,
    "deletable": true,
    "new_sheet": false,
    "run_control": {
     "read_only": false
    }
   },
   "outputs": [],
   "source": [
    "!curl http://owl.fish.washington.edu/halfshell/mchil-sxt_2.fastq \\\n",
    "> /Volumes/Monarch/mchil-stx/raw/mchil-sxt_2.fastq "
   ]
  },
  {
   "cell_type": "code",
   "execution_count": 10,
   "metadata": {
    "collapsed": false
   },
   "outputs": [
    {
     "name": "stdout",
     "output_type": "stream",
     "text": [
      "TR10_c0_g1_i1\tsp|P82595|PLS_HALLA\t39.34\t61\t37\t0\t4\t186\t22\t82\t5e-11\t58.2\r\n",
      "TR16_c0_g1_i1\tsp|P80912|HINT1_RABIT\t61.79\t123\t47\t0\t461\t93\t4\t126\t1e-52\t  170\r\n",
      "TR17_c0_g1_i1\tsp|Q96MM6|HS12B_HUMAN\t48.31\t89\t41\t2\t267\t1\t61\t144\t6e-10\t60.5\r\n",
      "TR18_c0_g1_i1\tsp|P08991|H2AV_STRPU\t100.00\t102\t0\t0\t134\t439\t23\t124\t3e-65\t  204\r\n",
      "TR19_c0_g1_i1\tsp|P41115|RS11_XENLA\t79.87\t154\t29\t1\t7\t462\t5\t158\t1e-80\t  242\r\n",
      "TR19_c0_g2_i1\tsp|O26120|RS17_METTH\t42.70\t89\t50\t1\t92\t358\t15\t102\t8e-21\t86.7\r\n",
      "TR48_c0_g1_i1\tsp|Q62189|SNRPA_MOUSE\t60.00\t50\t16\t1\t293\t156\t83\t132\t5e-10\t58.2\r\n",
      "TR57_c0_g1_i1\tsp|O43315|AQP9_HUMAN\t43.09\t123\t70\t0\t372\t4\t4\t126\t1e-32\t  122\r\n",
      "TR66_c0_g2_i1\tsp|Q5EAR5|TRPT1_DANRE\t58.33\t48\t20\t0\t2\t145\t169\t216\t2e-11\t60.8\r\n",
      "TR67_c0_g1_i1\tsp|Q9P2K1|C2D2A_HUMAN\t45.85\t229\t121\t2\t3\t686\t817\t1043\t2e-46\t  171\r\n"
     ]
    }
   ],
   "source": [
    "#blast output\n",
    "!head /Users/sr320/Dropbox/hummingbird-ipython-nbs/data/Myt-sxt-trinity1/blastout_query.part-01.fasta_sp"
   ]
  },
  {
   "cell_type": "code",
   "execution_count": 11,
   "metadata": {
    "collapsed": true
   },
   "outputs": [],
   "source": [
    "!cat \\\n",
    "/Users/sr320/Dropbox/hummingbird-ipython-nbs/data/Myt-sxt-trinity1/blastout_query.part-01.fasta_sp \\\n",
    "/Users/sr320/Dropbox/hummingbird-ipython-nbs/data/Myt-sxt-trinity1/blastout_query.part-02.fasta_sp \\\n",
    "/Users/sr320/Dropbox/hummingbird-ipython-nbs/data/Myt-sxt-trinity1/blastout_query.part-03.fasta_sp \\\n",
    "/Users/sr320/Dropbox/hummingbird-ipython-nbs/data/Myt-sxt-trinity1/blastout_query.part-04.fasta_sp \\\n",
    "/Users/sr320/Dropbox/hummingbird-ipython-nbs/data/Myt-sxt-trinity1/blastout_query.part-05.fasta_sp \\\n",
    "/Users/sr320/Dropbox/hummingbird-ipython-nbs/data/Myt-sxt-trinity1/blastout_query.part-06.fasta_sp \\\n",
    "/Users/sr320/Dropbox/hummingbird-ipython-nbs/data/Myt-sxt-trinity1/blastout_query.part-07.fasta_sp \\\n",
    "/Users/sr320/Dropbox/hummingbird-ipython-nbs/data/Myt-sxt-trinity1/blastout_query.part-08.fasta_sp \\\n",
    "/Users/sr320/Dropbox/hummingbird-ipython-nbs/data/Myt-sxt-trinity1/blastout_query.part-09.fasta_sp \\\n",
    "/Users/sr320/Dropbox/hummingbird-ipython-nbs/data/Myt-sxt-trinity1/blastout_query.part-10.fasta_sp \\\n",
    "> analyses/Myt-sxt-trinity1_blastx_sp.out\n",
    "\n",
    "\n"
   ]
  },
  {
   "cell_type": "code",
   "execution_count": 12,
   "metadata": {
    "collapsed": false
   },
   "outputs": [
    {
     "name": "stdout",
     "output_type": "stream",
     "text": [
      "   29605 analyses/Myt-sxt-trinity1_blastx_sp.out\r\n"
     ]
    }
   ],
   "source": [
    "!wc -l analyses/Myt-sxt-trinity1_blastx_sp.out"
   ]
  },
  {
   "cell_type": "code",
   "execution_count": 16,
   "metadata": {
    "collapsed": false
   },
   "outputs": [
    {
     "data": {
      "text/plain": [
       "'/Users/sr320/git-repos/paper-mchil-sxt/nbs'"
      ]
     },
     "execution_count": 16,
     "metadata": {},
     "output_type": "execute_result"
    }
   ],
   "source": [
    "pwd"
   ]
  },
  {
   "cell_type": "code",
   "execution_count": 18,
   "metadata": {
    "collapsed": false,
    "run_control": {}
   },
   "outputs": [
    {
     "name": "stdout",
     "output_type": "stream",
     "text": [
      "#hit_pct_cov_bin\tcount_in_bin\t>bin_below\r\n",
      "100\t3510\t3510\r\n",
      "90\t1752\t5262\r\n",
      "80\t1449\t6711\r\n",
      "70\t1280\t7991\r\n",
      "60\t1475\t9466\r\n",
      "50\t1611\t11077\r\n",
      "40\t1883\t12960\r\n",
      "30\t2234\t15194\r\n",
      "20\t2591\t17785\r\n",
      "10\t1456\t19241\r\n"
     ]
    }
   ],
   "source": [
    "!/Volumes/air_clone/Applications/trinityrnaseq-2.1.1/util/analyze_blastPlus_topHit_coverage.pl \\\n",
    "analyses/Myt-sxt-trinity1_blastx_sp.out \\\n",
    "../data/trinity.untrimmed.kmer2.fixed.fa \\\n",
    "/Users/sr320/Dropbox/CLC-databases/uniprot_sprot.fasta\n"
   ]
  },
  {
   "cell_type": "markdown",
   "metadata": {
    "run_control": {}
   },
   "source": [
    "```\n",
    "Only the single best matching Trinity transcript is reported for each top matching database entry; in other words, target database entries are counted uniquely. If a target protein matches multiple Trinity transcripts as their best hits, that target protein is counted only once along with that Trinity transcript that provides the highest BLAST bit score and longest match length.\n",
    "```"
   ]
  },
  {
   "cell_type": "code",
   "execution_count": 21,
   "metadata": {
    "collapsed": false,
    "run_control": {}
   },
   "outputs": [
    {
     "name": "stdout",
     "output_type": "stream",
     "text": [
      "usage: /Volumes/air_clone/Applications/trinityrnaseq-2.1.1/util/analyze_blastPlus_topHit_coverage.pl blast+.outfmt6.txt query.fasta search_db.fasta [output_prefix=NameOfBlastFileHere] [verbose=0]\r\n",
      "\r\n"
     ]
    }
   ],
   "source": [
    "!/Volumes/air_clone/Applications/trinityrnaseq-2.1.1/util/analyze_blastPlus_topHit_coverage.pl"
   ]
  },
  {
   "cell_type": "markdown",
   "metadata": {
    "button": false,
    "collapsed": true,
    "deletable": true,
    "new_sheet": false,
    "run_control": {
     "read_only": false
    }
   },
   "source": [
    "# Trimmed\n",
    "\n"
   ]
  },
  {
   "cell_type": "markdown",
   "metadata": {
    "button": false,
    "collapsed": true,
    "deletable": true,
    "new_sheet": false,
    "run_control": {
     "read_only": false
    }
   },
   "source": [
    "```\n",
    "\n",
    "################################\n",
    "## Counts of transcripts, etc.\n",
    "################################\n",
    "Total trinity 'genes':    110409\n",
    "Total trinity transcripts:    184834\n",
    "…\n",
    "\n",
    "Percent GC: 33.39\n",
    "\n",
    "########################################\n",
    "Stats based on ALL transcript contigs:\n",
    "########################################\n",
    "\n",
    "    Contig N10: 3159\n",
    "    Contig N20: 2268\n",
    "    Contig N30: 1744\n",
    "    Contig N40: 1372\n",
    "    Contig N50: 1075\n",
    "\n",
    "    Median contig length: 447\n",
    "    Average contig: 728.10\n",
    "    Total assembled bases: 134577298\n",
    "…\n",
    "\n",
    "\n",
    "\n",
    "#####################################################\n",
    "## Stats based on ONLY LONGEST ISOFORM per 'GENE':\n",
    "#####################################################\n",
    "\n",
    "    Contig N10: 2891\n",
    "    Contig N20: 2051\n",
    "    Contig N30: 1551\n",
    "    Contig N40: 1184\n",
    "    Contig N50: 889\n",
    "\n",
    "    Median contig length: 382\n",
    "    Average contig: 633.27\n",
    "    Total assembled bases: 69918710\n",
    "```"
   ]
  },
  {
   "cell_type": "markdown",
   "metadata": {
    "run_control": {}
   },
   "source": [
    "```\n",
    "#!/bin/sh\n",
    "\n",
    "KMER=2\n",
    "\n",
    "LD_LIBRARY_PATH=/share/bioinformatics/gcc/lib64:/share/bioinformatics/gcc/lib\n",
    "\n",
    "TRIN=/data/ggoetz/trinityrnaseq-2.0.6\n",
    "SAMTOOLS=/share/bioinformatics/samtools/bin\n",
    "BOWTIE=/share/bioinformatics/bowtie\n",
    "\n",
    "PATH=${SAMTOOLS}:${BOWTIE}:${PATH}\n",
    "\n",
    "${TRIN}/Trinity \\\n",
    "\t--seqType fq \\\n",
    "\t--max_memory 400G \\\n",
    "\t--left mchil-sxt_1.fastq \\\n",
    "\t--right mchil-sxt_2.fastq \\\n",
    "\t--CPU 8 \\\n",
    "\t--bflyCalculateCPU \\\n",
    "\t--bflyHeapSpaceMax 16G \\\n",
    "\t--bflyHeapSpaceInit 8G \\\n",
    "\t--normalize_reads \\\n",
    "\t--min_kmer_cov ${KMER} \\\n",
    "    --trimmomatic \\\n",
    "\t--output trinity_All.kmer${KMER}.w_trimming \\\n",
    "\t> trinity_output.All.kmer${KMER}.w_trimming.log\n",
    "```"
   ]
  },
  {
   "cell_type": "code",
   "execution_count": 2,
   "metadata": {
    "collapsed": false,
    "run_control": {}
   },
   "outputs": [
    {
     "name": "stdout",
     "output_type": "stream",
     "text": [
      ">TR1|c0_g1_i1 len=249 path=[453:0-248] [-1, 453, -2]\r\n",
      "GGCTTATCTGTCATAGTCCGCGGAAATACTTTATTTAGAATTTCAACCTGAAAACATGCG\r\n",
      "AAACAATACTATACATGCATTATGTATCAAGTGCATAAAACAGCAGTGGGGAAACAACAA\r\n",
      "AAGAAAAATGCATTAAACAGAATAAAAATAAATTGCATAAACAAAACTGTATACTTACTT\r\n",
      "AAACACTAAAATAATTGAAAAAAGATAATTGAACCTGCATTGGTTGCAACGTAAACATGT\r\n",
      "ACTTACCAG\r\n",
      ">TR2|c0_g1_i1 len=243 path=[457:0-118 458:119-242] [-1, 457, 458, -2]\r\n",
      "CAATAAGTCCTTACGTAAAAATTAAATTGATGCCGCGTTCCAAAATGGGACATAAAAGGC\r\n",
      "TTCTCTTTTAGTGAATAATTTGTTGTTACAGCATTAAAAAAAAAATCACTCACTTATAAC\r\n",
      "TATATATTTATTAAAGTATATTTCTAAGGAAAATGTTCTATCATAGCAAAATATCAGAAA\r\n"
     ]
    }
   ],
   "source": [
    "!head ../data/trinity.untrimmed.w_trimming.kmer2.fa"
   ]
  },
  {
   "cell_type": "code",
   "execution_count": 4,
   "metadata": {
    "collapsed": false,
    "run_control": {}
   },
   "outputs": [],
   "source": [
    "!sed 's/\\|/_/' ../data/trinity.untrimmed.w_trimming.kmer2.fa \\\n",
    "> ../data/Mytilus-SXT.trimmed.trinity.fa"
   ]
  },
  {
   "cell_type": "code",
   "execution_count": 5,
   "metadata": {
    "collapsed": false,
    "run_control": {}
   },
   "outputs": [
    {
     "name": "stdout",
     "output_type": "stream",
     "text": [
      ">TR1_c0_g1_i1 len=249 path=[453:0-248] [-1, 453, -2]\r\n",
      "GGCTTATCTGTCATAGTCCGCGGAAATACTTTATTTAGAATTTCAACCTGAAAACATGCG\r\n",
      "AAACAATACTATACATGCATTATGTATCAAGTGCATAAAACAGCAGTGGGGAAACAACAA\r\n",
      "AAGAAAAATGCATTAAACAGAATAAAAATAAATTGCATAAACAAAACTGTATACTTACTT\r\n",
      "AAACACTAAAATAATTGAAAAAAGATAATTGAACCTGCATTGGTTGCAACGTAAACATGT\r\n",
      "ACTTACCAG\r\n",
      ">TR2_c0_g1_i1 len=243 path=[457:0-118 458:119-242] [-1, 457, 458, -2]\r\n",
      "CAATAAGTCCTTACGTAAAAATTAAATTGATGCCGCGTTCCAAAATGGGACATAAAAGGC\r\n",
      "TTCTCTTTTAGTGAATAATTTGTTGTTACAGCATTAAAAAAAAAATCACTCACTTATAAC\r\n",
      "TATATATTTATTAAAGTATATTTCTAAGGAAAATGTTCTATCATAGCAAAATATCAGAAA\r\n"
     ]
    }
   ],
   "source": [
    "!head ../data/Mytilus-SXT.trimmed.trinity.fa"
   ]
  },
  {
   "cell_type": "code",
   "execution_count": 6,
   "metadata": {
    "collapsed": false,
    "run_control": {}
   },
   "outputs": [
    {
     "name": "stdout",
     "output_type": "stream",
     "text": [
      "184834\r\n"
     ]
    }
   ],
   "source": [
    "!fgrep -c \">\" ../data/Mytilus-SXT.trimmed.trinity.fa"
   ]
  },
  {
   "cell_type": "code",
   "execution_count": 7,
   "metadata": {
    "collapsed": false,
    "run_control": {}
   },
   "outputs": [
    {
     "name": "stdout",
     "output_type": "stream",
     "text": [
      "[ INFO] 2015-12-09 12:27:18 : Loading assembly: /Users/sr320/git-repos/paper-mchil-sxt/data/Mytilus-SXT.trimmed.trinity.fa\n",
      "[ INFO] 2015-12-09 12:27:55 : Analysing assembly: /Users/sr320/git-repos/paper-mchil-sxt/data/Mytilus-SXT.trimmed.trinity.fa\n",
      "[ INFO] 2015-12-09 12:27:55 : Results will be saved in /Users/sr320/git-repos/paper-mchil-sxt/nbs/analyses/Mytilus-SXT.trimmed.trinity\n",
      "[ INFO] 2015-12-09 12:27:55 : Calculating contig metrics...\n",
      "[ INFO] 2015-12-09 12:28:29 : Contig metrics:\n",
      "[ INFO] 2015-12-09 12:28:29 : -----------------------------------\n",
      "[ INFO] 2015-12-09 12:28:29 : n seqs                       184834\n",
      "[ INFO] 2015-12-09 12:28:29 : smallest                        224\n",
      "[ INFO] 2015-12-09 12:28:29 : largest                       21486\n",
      "[ INFO] 2015-12-09 12:28:29 : n bases                   134577298\n",
      "[ INFO] 2015-12-09 12:28:29 : mean len                      728.1\n",
      "[ INFO] 2015-12-09 12:28:29 : n under 200                       0\n",
      "[ INFO] 2015-12-09 12:28:29 : n over 1k                     38682\n",
      "[ INFO] 2015-12-09 12:28:29 : n over 10k                        7\n",
      "[ INFO] 2015-12-09 12:28:29 : n with orf                    42806\n",
      "[ INFO] 2015-12-09 12:28:29 : mean orf percent              52.37\n",
      "[ INFO] 2015-12-09 12:28:29 : n90                             302\n",
      "[ INFO] 2015-12-09 12:28:29 : n70                             602\n",
      "[ INFO] 2015-12-09 12:28:29 : n50                            1075\n",
      "[ INFO] 2015-12-09 12:28:29 : n30                            1744\n",
      "[ INFO] 2015-12-09 12:28:29 : n10                            3159\n",
      "[ INFO] 2015-12-09 12:28:29 : gc                             0.33\n",
      "[ INFO] 2015-12-09 12:28:29 : gc skew                        0.02\n",
      "[ INFO] 2015-12-09 12:28:29 : at skew                        0.01\n",
      "[ INFO] 2015-12-09 12:28:29 : cpg ratio                      1.41\n",
      "[ INFO] 2015-12-09 12:28:29 : bases n                           0\n",
      "[ INFO] 2015-12-09 12:28:29 : proportion n                    0.0\n",
      "[ INFO] 2015-12-09 12:28:29 : linguistic complexity          0.13\n",
      "[ INFO] 2015-12-09 12:28:29 : Contig metrics done in 34 seconds\n",
      "[ INFO] 2015-12-09 12:28:29 : No reads provided, skipping read diagnostics\n",
      "[ INFO] 2015-12-09 12:28:29 : No reference provided, skipping comparative diagnostics\n",
      "[ INFO] 2015-12-09 12:28:29 : Writing contig metrics for each contig to /Users/sr320/git-repos/paper-mchil-sxt/nbs/analyses/Mytilus-SXT.trimmed.trinity/contigs.csv\n",
      "[ INFO] 2015-12-09 12:28:52 : Writing analysis results to assemblies.csv\n"
     ]
    }
   ],
   "source": [
    "!/Applications/transrate-1.0.1-osx/transrate \\\n",
    "--assembly \\\n",
    "../data/Mytilus-SXT.trimmed.trinity.fa \\\n",
    "--output /Users/sr320/git-repos/paper-mchil-sxt/nbs/analyses "
   ]
  },
  {
   "cell_type": "code",
   "execution_count": 8,
   "metadata": {
    "collapsed": false,
    "run_control": {}
   },
   "outputs": [
    {
     "name": "stdout",
     "output_type": "stream",
     "text": [
      "/bin/sh: trinity: command not found\r\n"
     ]
    }
   ],
   "source": [
    "!trinity"
   ]
  },
  {
   "cell_type": "code",
   "execution_count": 9,
   "metadata": {
    "collapsed": false,
    "run_control": {}
   },
   "outputs": [
    {
     "name": "stdout",
     "output_type": "stream",
     "text": [
      "\r\n",
      "\r\n",
      "\r\n",
      "###############################################################################\r\n",
      "#\r\n",
      "#     ______  ____   ____  ____   ____  ______  __ __\r\n",
      "#    |      ||    \\ |    ||    \\ |    ||      ||  |  |\r\n",
      "#    |      ||  D  ) |  | |  _  | |  | |      ||  |  |\r\n",
      "#    |_|  |_||    /  |  | |  |  | |  | |_|  |_||  ~  |\r\n",
      "#      |  |  |    \\  |  | |  |  | |  |   |  |  |___, |\r\n",
      "#      |  |  |  .  \\ |  | |  |  | |  |   |  |  |     |\r\n",
      "#      |__|  |__|\\_||____||__|__||____|  |__|  |____/\r\n",
      "#\r\n",
      "###############################################################################\r\n",
      "#\r\n",
      "# Required:\r\n",
      "#\r\n",
      "#  --seqType <string>      :type of reads: ( fa, or fq )\r\n",
      "#\r\n",
      "#  --max_memory <string>      :suggested max memory to use by Trinity where limiting can be enabled. (jellyfish, sorting, etc)\r\n",
      "#                            provied in Gb of RAM, ie.  '--max_memory 10G'\r\n",
      "#\r\n",
      "#  If paired reads:\r\n",
      "#      --left  <string>    :left reads, one or more file names (separated by commas, no spaces)\r\n",
      "#      --right <string>    :right reads, one or more file names (separated by commas, no spaces)\r\n",
      "#\r\n",
      "#  Or, if unpaired reads:\r\n",
      "#      --single <string>   :single reads, one or more file names, comma-delimited (note, if single file contains pairs, can use flag: --run_as_paired )\r\n",
      "#\r\n",
      "####################################\r\n",
      "##  Misc:  #########################\r\n",
      "#\r\n",
      "#  --SS_lib_type <string>          :Strand-specific RNA-Seq read orientation.\r\n",
      "#                                   if paired: RF or FR,\r\n",
      "#                                   if single: F or R.   (dUTP method = RF)\r\n",
      "#                                   See web documentation.\r\n",
      "#\r\n",
      "#  --CPU <int>                     :number of CPUs to use, default: 2\r\n",
      "#  --min_contig_length <int>       :minimum assembled contig length to report\r\n",
      "#                                   (def=200)\r\n",
      "#\r\n",
      "#  --long_reads <string>           :fasta file containing error-corrected or circular consensus (CCS) pac bio reads\r\n",
      "#\r\n",
      "#  --genome_guided_bam <string>    :genome guided mode, provide path to coordinate-sorted bam file.\r\n",
      "#                                   (see genome-guided param section under --show_full_usage_info)\r\n",
      "#\r\n",
      "#  --jaccard_clip                  :option, set if you have paired reads and\r\n",
      "#                                   you expect high gene density with UTR\r\n",
      "#                                   overlap (use FASTQ input file format\r\n",
      "#                                   for reads).\r\n",
      "#                                   (note: jaccard_clip is an expensive\r\n",
      "#                                   operation, so avoid using it unless\r\n",
      "#                                   necessary due to finding excessive fusion\r\n",
      "#                                   transcripts w/o it.)\r\n",
      "#\r\n",
      "#  --trimmomatic                   :run Trimmomatic to quality trim reads\r\n",
      "#                                        see '--quality_trimming_params' under full usage info for tailored settings.\r\n",
      "#                                  \r\n",
      "#\r\n",
      "#  --normalize_reads               :run in silico normalization of reads. Defaults to max. read coverage of 50.\r\n",
      "#                                       see '--normalize_max_read_cov' under full usage info for tailored settings.\r\n",
      "#     \r\n",
      "#  --no_distributed_trinity_exec   :do not run Trinity phase 2 (assembly of partitioned reads), and stop after generating command list.\r\n",
      "#\r\n",
      "#\r\n",
      "#  --output <string>               :name of directory for output (will be\r\n",
      "#                                   created if it doesn't already exist)\r\n",
      "#                                   default( your current working directory: \"/Users/sr320/git-repos/paper-mchil-sxt/nbs/trinity_out_dir\" \r\n",
      "#                                    note: must include 'trinity' in the name as a safety precaution! )\r\n",
      "#  \r\n",
      "#  --full_cleanup                  :only retain the Trinity fasta file, rename as ${output_dir}.Trinity.fasta\r\n",
      "#\r\n",
      "#  --cite                          :show the Trinity literature citation\r\n",
      "#\r\n",
      "#  --verbose                       :provide additional job status info during the run.\r\n",
      "#\r\n",
      "#  --version                       :reports Trinity version (v2.1.1) and exits.\r\n",
      "#\r\n",
      "#  --show_full_usage_info          :show the many many more options available for running Trinity (expert usage).\r\n",
      "#\r\n",
      "#\r\n",
      "###############################################################################\r\n",
      "#\r\n",
      "#  *Note, a typical Trinity command might be:\r\n",
      "#\r\n",
      "#        Trinity --seqType fq --max_memory 50G --left reads_1.fq  --right reads_2.fq --CPU 6\r\n",
      "#\r\n",
      "#\r\n",
      "#    and for Genome-guided Trinity:\r\n",
      "#\r\n",
      "#        Trinity --genome_guided_bam rnaseq_alignments.csorted.bam --max_memory 50G\r\n",
      "#                --genome_guided_max_intron 10000 --CPU 6\r\n",
      "#\r\n",
      "#     see: /Volumes/air_clone/Applications/trinityrnaseq-2.1.1/sample_data/test_Trinity_Assembly/\r\n",
      "#          for sample data and 'runMe.sh' for example Trinity execution\r\n",
      "#\r\n",
      "#     For more details, visit: http://trinityrnaseq.github.io\r\n",
      "#\r\n",
      "###############################################################################\r\n",
      "\r\n",
      "\r\n",
      "    \r\n"
     ]
    }
   ],
   "source": [
    "!/Volumes/air_clone/Applications/trinityrnaseq-2.1.1/Trinity"
   ]
  },
  {
   "cell_type": "code",
   "execution_count": null,
   "metadata": {
    "collapsed": true,
    "run_control": {}
   },
   "outputs": [],
   "source": [
    "!/Volumes/air_clone/Applications/trinityrnaseq-2.1.1/Trinity"
   ]
  }
 ],
 "metadata": {
  "kernelspec": {
   "display_name": "Python 3",
   "language": "python",
   "name": "python3"
  },
  "language_info": {
   "codemirror_mode": {
    "name": "ipython",
    "version": 3
   },
   "file_extension": ".py",
   "mimetype": "text/x-python",
   "name": "python",
   "nbconvert_exporter": "python",
   "pygments_lexer": "ipython3",
   "version": "3.5.0"
  }
 },
 "nbformat": 4,
 "nbformat_minor": 0
}
