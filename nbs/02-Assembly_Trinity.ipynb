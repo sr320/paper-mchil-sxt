{
 "cells": [
  {
   "cell_type": "markdown",
   "metadata": {
    "button": false,
    "deletable": true,
    "new_sheet": false,
    "run_control": {
     "read_only": false
    }
   },
   "source": [
    "# Trinity Assembly"
   ]
  },
  {
   "cell_type": "markdown",
   "metadata": {
    "run_control": {}
   },
   "source": [
    "# Untrimmed"
   ]
  },
  {
   "cell_type": "code",
   "execution_count": 1,
   "metadata": {
    "button": false,
    "collapsed": false,
    "deletable": true,
    "new_sheet": false,
    "run_control": {
     "read_only": false
    }
   },
   "outputs": [
    {
     "name": "stdout",
     "output_type": "stream",
     "text": [
      "#!/bin/sh\r\n",
      "\r\n",
      "KMER=2\r\n",
      "\r\n",
      "LD_LIBRARY_PATH=/share/bioinformatics/gcc/lib64:/share/bioinformatics/gcc/lib\r\n",
      "\r\n",
      "TRIN=/data/ggoetz/trinityrnaseq-2.0.6\r\n",
      "SAMTOOLS=/share/bioinformatics/samtools/bin\r\n",
      "BOWTIE=/share/bioinformatics/bowtie\r\n",
      "\r\n",
      "PATH=${SAMTOOLS}:${BOWTIE}:${PATH}\r\n",
      "\r\n",
      "${TRIN}/Trinity \\\r\n",
      "\t--seqType fq \\\r\n",
      "\t--max_memory 400G \\\r\n",
      "\t--left mchil-sxt_1.fastq \\\r\n",
      "\t--right mchil-sxt_2.fastq \\\r\n",
      "\t--CPU 8 \\\r\n",
      "\t--bflyCalculateCPU \\\r\n",
      "\t--bflyHeapSpaceMax 16G \\\r\n",
      "\t--bflyHeapSpaceInit 8G \\\r\n",
      "\t--normalize_reads \\\r\n",
      "\t--min_kmer_cov ${KMER} \\\r\n",
      "\t--output trinity_All.kmer${KMER} \\\r\n",
      "\t> trinity_output.All.kmer${KMER}.log\r\n"
     ]
    }
   ],
   "source": [
    "!cat ../data/run.All.kmer2.untrimmed.sh"
   ]
  },
  {
   "cell_type": "code",
   "execution_count": 2,
   "metadata": {
    "button": false,
    "collapsed": false,
    "deletable": true,
    "new_sheet": false,
    "run_control": {
     "read_only": false
    }
   },
   "outputs": [
    {
     "name": "stdout",
     "output_type": "stream",
     "text": [
      ">TR1|c0_g1_i1 len=239 path=[437:0-84 438:85-238] [-1, 437, 438, -2]\r\n",
      "CCTAGCACTGTCTCCGTGGCTACAAACCACAGATTAGAATTTCAGCATTGAATGGTTGGT\r\n",
      "ATTCCACCGATGACTCCGATACAGCTAGCGCCATATCATCATAGTCTCCCAACTATCCTA\r\n",
      "TACATGCAATGCCAAAACCCAATACCAAGCTACAGTAAAGCTCCATGGGGTCTTTCCGTC\r\n",
      "CTACTGTAGGTAACCGGTATCTTCACCGGTAATACAATTTCACCAGGCCTCCCGTCAAG\r\n",
      ">TR2|c0_g1_i1 len=251 path=[577:0-200 578:201-250] [-1, 577, 578, -2]\r\n",
      "GTCGCTTTTTCATGCCCTGCTGGTGAGAACAGGGTCTTTTTTTAAATAAAGTATTTGTCT\r\n",
      "AGAACAGGATCGCTTATTTAACTGTTTAAGATATAGTCTAGAACCCGGGTCTAGAACTGC\r\n",
      "ATTCATTTTACACTATCTAGAACATGGTATACATTTTCTGAGCGTGTATAGAACAGGGTA\r\n",
      "TGATTTTCAATATTTTTGTTTAGAACAGGGTATGTTTTTCAATGTTTTCTTGTTAGAACA\r\n"
     ]
    }
   ],
   "source": [
    "!head ../data/trinity.untrimmed.kmer2.fa"
   ]
  },
  {
   "cell_type": "code",
   "execution_count": 5,
   "metadata": {
    "button": false,
    "collapsed": false,
    "deletable": true,
    "new_sheet": false,
    "run_control": {
     "read_only": false
    }
   },
   "outputs": [
    {
     "name": "stdout",
     "output_type": "stream",
     "text": [
      "\r\n",
      "0:999 \t149467\r\n",
      "1000:1999 \t27620\r\n",
      "2000:2999 \t7346\r\n",
      "3000:3999 \t2251\r\n",
      "4000:4999 \t808\r\n",
      "5000:5999 \t302\r\n",
      "6000:6999 \t126\r\n",
      "7000:7999 \t44\r\n",
      "8000:8999 \t23\r\n",
      "9000:9999 \t7\r\n",
      "10000:10999 \t7\r\n",
      "11000:11999 \t3\r\n",
      "12000:12999 \t1\r\n",
      "13000:13999 \t2\r\n",
      "\r\n",
      "Total length of sequence:\t135026875 bp\r\n",
      "Total number of sequences:\t188007\r\n",
      "N25 stats:\t\t\t25% of total sequence length is contained in the 11785 sequences >= 1938 bp\r\n",
      "N50 stats:\t\t\t50% of total sequence length is contained in the 35885 sequences >= 1052 bp\r\n",
      "N75 stats:\t\t\t75% of total sequence length is contained in the 82701 sequences >= 506 bp\r\n",
      "Total GC count:\t\t\t45082839 bp\r\n",
      "GC %:\t\t\t\t33.39 %\r\n",
      "\r\n"
     ]
    }
   ],
   "source": [
    "!perl ../scripts/count_fasta.pl \\\n",
    "-i 1000 \\\n",
    "../data/trinity.untrimmed.kmer2.fa"
   ]
  },
  {
   "cell_type": "code",
   "execution_count": 6,
   "metadata": {
    "button": false,
    "collapsed": false,
    "deletable": true,
    "new_sheet": false,
    "run_control": {
     "read_only": false
    }
   },
   "outputs": [
    {
     "name": "stdout",
     "output_type": "stream",
     "text": [
      "[ INFO] 2015-12-04 17:55:50 : Loading assembly: /Users/sr320/git-repos/paper-mchil-sxt/data/trinity.untrimmed.kmer2.fa\r\n",
      "[ERROR] 2015-12-04 17:55:50 : Non unique fasta identifier found\r\n",
      "[ERROR] 2015-12-04 17:55:50 : >TR2\r\n",
      "[ERROR] 2015-12-04 17:55:50 : Please make sure there are no duplicate entries in the assembly\r\n",
      "[ERROR] 2015-12-04 17:55:50 : Contig name is taken from before the first | or space\r\n",
      "[ERROR] 2015-12-04 17:55:50 : If you used Trinity, there is a known bug that breakscontig names to make them non-unique.\r\n",
      "[ERROR] 2015-12-04 17:55:50 : You can fix your Trinity assembly by replacing | with _\r\n",
      "[ERROR] 2015-12-04 17:55:50 : e.g. `sed 's/\\|/_/' Trinity.fa > Trinity.fixed.fa`\r\n",
      "[ERROR] 2015-12-04 17:55:50 : Transrate::AssemblyError\r\n"
     ]
    }
   ],
   "source": [
    "!/Applications/transrate-1.0.1-osx/transrate \\\n",
    "--assembly \\\n",
    "../data/trinity.untrimmed.kmer2.fa \\\n",
    "--output /Users/sr320/git-repos/paper-mchil-sxt/nbs/analyses "
   ]
  },
  {
   "cell_type": "code",
   "execution_count": 7,
   "metadata": {
    "button": false,
    "collapsed": true,
    "deletable": true,
    "new_sheet": false,
    "run_control": {
     "read_only": false
    }
   },
   "outputs": [],
   "source": [
    "!sed 's/\\|/_/' ../data/trinity.untrimmed.kmer2.fa > ../data/trinity.untrimmed.kmer2.fixed.fa"
   ]
  },
  {
   "cell_type": "code",
   "execution_count": 8,
   "metadata": {
    "button": false,
    "collapsed": false,
    "deletable": true,
    "new_sheet": false,
    "run_control": {
     "read_only": false
    }
   },
   "outputs": [
    {
     "name": "stdout",
     "output_type": "stream",
     "text": [
      "[ INFO] 2015-12-04 17:56:45 : Loading assembly: /Users/sr320/git-repos/paper-mchil-sxt/data/trinity.untrimmed.kmer2.fixed.fa\n",
      "[ INFO] 2015-12-04 17:57:54 : Analysing assembly: /Users/sr320/git-repos/paper-mchil-sxt/data/trinity.untrimmed.kmer2.fixed.fa\n",
      "[ INFO] 2015-12-04 17:57:54 : Results will be saved in /Users/sr320/git-repos/paper-mchil-sxt/nbs/analyses/trinity.untrimmed.kmer2.fixed\n",
      "[ INFO] 2015-12-04 17:57:54 : Calculating contig metrics...\n",
      "[ INFO] 2015-12-04 17:58:54 : Contig metrics:\n",
      "[ INFO] 2015-12-04 17:58:54 : -----------------------------------\n",
      "[ INFO] 2015-12-04 17:58:54 : n seqs                       188007\n",
      "[ INFO] 2015-12-04 17:58:54 : smallest                        224\n",
      "[ INFO] 2015-12-04 17:58:54 : largest                       13896\n",
      "[ INFO] 2015-12-04 17:58:54 : n bases                   135026875\n",
      "[ INFO] 2015-12-04 17:58:54 : mean len                      718.2\n",
      "[ INFO] 2015-12-04 17:58:54 : n under 200                       0\n",
      "[ INFO] 2015-12-04 17:58:54 : n over 1k                     38495\n",
      "[ INFO] 2015-12-04 17:58:54 : n over 10k                       13\n",
      "[ INFO] 2015-12-04 17:58:54 : n with orf                    42857\n",
      "[ INFO] 2015-12-04 17:58:54 : mean orf percent              52.54\n",
      "[ INFO] 2015-12-04 17:58:54 : n90                             301\n",
      "[ INFO] 2015-12-04 17:58:54 : n70                             590\n",
      "[ INFO] 2015-12-04 17:58:54 : n50                            1052\n",
      "[ INFO] 2015-12-04 17:58:54 : n30                            1704\n",
      "[ INFO] 2015-12-04 17:58:54 : n10                            3088\n",
      "[ INFO] 2015-12-04 17:58:54 : gc                             0.33\n",
      "[ INFO] 2015-12-04 17:58:54 : gc skew                        0.02\n",
      "[ INFO] 2015-12-04 17:58:54 : at skew                        0.01\n",
      "[ INFO] 2015-12-04 17:58:54 : cpg ratio                      1.41\n",
      "[ INFO] 2015-12-04 17:58:54 : bases n                           0\n",
      "[ INFO] 2015-12-04 17:58:54 : proportion n                    0.0\n",
      "[ INFO] 2015-12-04 17:58:54 : linguistic complexity          0.13\n",
      "[ INFO] 2015-12-04 17:58:54 : Contig metrics done in 60 seconds\n",
      "[ INFO] 2015-12-04 17:58:54 : No reads provided, skipping read diagnostics\n",
      "[ INFO] 2015-12-04 17:58:54 : No reference provided, skipping comparative diagnostics\n",
      "[ INFO] 2015-12-04 17:58:54 : Writing contig metrics for each contig to /Users/sr320/git-repos/paper-mchil-sxt/nbs/analyses/trinity.untrimmed.kmer2.fixed/contigs.csv\n",
      "[ INFO] 2015-12-04 17:59:53 : Writing analysis results to assemblies.csv\n"
     ]
    }
   ],
   "source": [
    "!/Applications/transrate-1.0.1-osx/transrate \\\n",
    "--assembly \\\n",
    "../data/trinity.untrimmed.kmer2.fixed.fa \\\n",
    "--output /Users/sr320/git-repos/paper-mchil-sxt/nbs/analyses "
   ]
  },
  {
   "cell_type": "code",
   "execution_count": null,
   "metadata": {
    "button": false,
    "collapsed": true,
    "deletable": true,
    "new_sheet": false,
    "run_control": {
     "read_only": false
    }
   },
   "outputs": [],
   "source": []
  },
  {
   "cell_type": "code",
   "execution_count": null,
   "metadata": {
    "button": false,
    "collapsed": true,
    "deletable": true,
    "new_sheet": false,
    "run_control": {
     "read_only": false
    }
   },
   "outputs": [],
   "source": []
  },
  {
   "cell_type": "code",
   "execution_count": 4,
   "metadata": {
    "button": false,
    "collapsed": false,
    "deletable": true,
    "new_sheet": false,
    "run_control": {
     "read_only": false
    }
   },
   "outputs": [
    {
     "name": "stdout",
     "output_type": "stream",
     "text": [
      "  % Total    % Received % Xferd  Average Speed   Time    Time     Time  Current\n",
      "                                 Dload  Upload   Total   Spent    Left  Speed\n",
      "  0 97.9G    0  100M    0     0   306k      0 93:03:07  0:05:35 92:57:32  238k^C\n"
     ]
    }
   ],
   "source": [
    "!curl http://owl.fish.washington.edu/halfshell/mchil-sxt_1.fastq \\\n",
    "> /Volumes/Monarch/mchil-stx/raw/mchil-sxt_1.fastq    "
   ]
  },
  {
   "cell_type": "code",
   "execution_count": null,
   "metadata": {
    "button": false,
    "collapsed": true,
    "deletable": true,
    "new_sheet": false,
    "run_control": {
     "read_only": false
    }
   },
   "outputs": [],
   "source": [
    "!curl http://owl.fish.washington.edu/halfshell/mchil-sxt_2.fastq \\\n",
    "> /Volumes/Monarch/mchil-stx/raw/mchil-sxt_2.fastq "
   ]
  },
  {
   "cell_type": "markdown",
   "metadata": {
    "button": false,
    "collapsed": true,
    "deletable": true,
    "new_sheet": false,
    "run_control": {
     "read_only": false
    }
   },
   "source": [
    "# Trimmed\n",
    "\n"
   ]
  },
  {
   "cell_type": "markdown",
   "metadata": {
    "button": false,
    "collapsed": true,
    "deletable": true,
    "new_sheet": false,
    "run_control": {
     "read_only": false
    }
   },
   "source": [
    "```\n",
    "\n",
    "################################\n",
    "## Counts of transcripts, etc.\n",
    "################################\n",
    "Total trinity 'genes':    110409\n",
    "Total trinity transcripts:    184834\n",
    "…\n",
    "\n",
    "Percent GC: 33.39\n",
    "\n",
    "########################################\n",
    "Stats based on ALL transcript contigs:\n",
    "########################################\n",
    "\n",
    "    Contig N10: 3159\n",
    "    Contig N20: 2268\n",
    "    Contig N30: 1744\n",
    "    Contig N40: 1372\n",
    "    Contig N50: 1075\n",
    "\n",
    "    Median contig length: 447\n",
    "    Average contig: 728.10\n",
    "    Total assembled bases: 134577298\n",
    "…\n",
    "\n",
    "\n",
    "\n",
    "#####################################################\n",
    "## Stats based on ONLY LONGEST ISOFORM per 'GENE':\n",
    "#####################################################\n",
    "\n",
    "    Contig N10: 2891\n",
    "    Contig N20: 2051\n",
    "    Contig N30: 1551\n",
    "    Contig N40: 1184\n",
    "    Contig N50: 889\n",
    "\n",
    "    Median contig length: 382\n",
    "    Average contig: 633.27\n",
    "    Total assembled bases: 69918710\n",
    "```"
   ]
  },
  {
   "cell_type": "code",
   "execution_count": null,
   "metadata": {
    "collapsed": true,
    "run_control": {}
   },
   "outputs": [],
   "source": []
  }
 ],
 "metadata": {
  "kernelspec": {
   "display_name": "Python 3",
   "language": "python",
   "name": "python3"
  },
  "language_info": {
   "codemirror_mode": {
    "name": "ipython",
    "version": 3
   },
   "file_extension": ".py",
   "mimetype": "text/x-python",
   "name": "python",
   "nbconvert_exporter": "python",
   "pygments_lexer": "ipython3",
   "version": "3.5.0"
  }
 },
 "nbformat": 4,
 "nbformat_minor": 0
}
